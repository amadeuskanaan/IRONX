{
 "cells": [
  {
   "cell_type": "code",
   "execution_count": 16,
   "metadata": {
    "collapsed": true
   },
   "outputs": [],
   "source": [
    "%matplotlib inline \n",
    "import os \n",
    "import pandas as pd \n",
    "import networkx as nx\n",
    "import numpy as np \n",
    "import itertools "
   ]
  },
  {
   "cell_type": "code",
   "execution_count": 17,
   "metadata": {
    "collapsed": true
   },
   "outputs": [],
   "source": [
    "vtk = '/Users/kanaan/SCR/Github/GluIRON/atlases/STR/MAKE_ATA_MASKS/vtk_motor_pview.vtk'\n"
   ]
  },
  {
   "cell_type": "code",
   "execution_count": 87,
   "metadata": {
    "collapsed": true
   },
   "outputs": [],
   "source": [
    "def map_vtk(vtk_fname):\n",
    "    index_pts = [i for i, line in enumerate(open(vtk_fname)) if all(x in line for x in ['POINTS'])][0] +1\n",
    "    index_mtd = [i for i, line in enumerate(open(vtk_fname)) if all(x in line for x in ['METADATA'])][0] +1\n",
    "    index_pol = [i for i, line in enumerate(open(vtk_fname)) if all(x in line for x in ['POLYGONS'])][0] +1\n",
    "    index_end = [i for i, line in enumerate(open(vtk_fname)) if all(x in line for x in ['POINT_DATA'])][0]\n",
    "\n",
    "    points = [np.array(line.split()) for i, line in enumerate(open(vtk_fname)) if i in xrange(index_pts, index_mtd - 1)]\n",
    "    points = np.array(map(float, np.asarray(list(itertools.chain.from_iterable(points)))))\n",
    "    x = points[0::3]\n",
    "    y = points[1::3]\n",
    "    z = points[2::3]\n",
    "    polygons = [np.array(line.split()) for i, line in enumerate(open(vtk_fname)) if\n",
    "                i in xrange(index_pol, index_end )]\n",
    "    polygons = pd.DataFrame(polygons)\n",
    "    f = np.array(polygons.drop([0], axis=1).convert_objects(convert_numeric=True))[0:-1]\n",
    "\n",
    "    return x, y, z, f"
   ]
  },
  {
   "cell_type": "code",
   "execution_count": 88,
   "metadata": {},
   "outputs": [
    {
     "name": "stderr",
     "output_type": "stream",
     "text": [
      "/Users/kanaan/anaconda/lib/python2.7/site-packages/ipykernel_launcher.py:15: FutureWarning: convert_objects is deprecated.  Use the data-type specific converters pd.to_datetime, pd.to_timedelta and pd.to_numeric.\n",
      "  from ipykernel import kernelapp as app\n"
     ]
    }
   ],
   "source": [
    "x, y, z, f = map_vtk(vtk)"
   ]
  },
  {
   "cell_type": "code",
   "execution_count": 89,
   "metadata": {},
   "outputs": [
    {
     "data": {
      "text/plain": [
       "9390"
      ]
     },
     "execution_count": 89,
     "metadata": {},
     "output_type": "execute_result"
    }
   ],
   "source": [
    "len(x) *2"
   ]
  },
  {
   "cell_type": "code",
   "execution_count": 90,
   "metadata": {},
   "outputs": [
    {
     "data": {
      "text/plain": [
       "9374"
      ]
     },
     "execution_count": 90,
     "metadata": {},
     "output_type": "execute_result"
    }
   ],
   "source": [
    "len(f) "
   ]
  },
  {
   "cell_type": "code",
   "execution_count": 91,
   "metadata": {},
   "outputs": [],
   "source": [
    "index_pts = [i for i, line in enumerate(open(vtk_fname)) if all(x in line for x in ['POINTS'])][0] +1\n",
    "index_mtd = [i for i, line in enumerate(open(vtk_fname)) if all(x in line for x in ['METADATA'])][0] +1\n",
    "index_pol = [i for i, line in enumerate(open(vtk_fname)) if all(x in line for x in ['POLYGONS'])][0]  +1\n",
    "index_end = [i for i, line in enumerate(open(vtk_fname)) if all(x in line for x in ['POINT_DATA'])][0]    "
   ]
  },
  {
   "cell_type": "code",
   "execution_count": 92,
   "metadata": {},
   "outputs": [
    {
     "data": {
      "text/plain": [
       "1577"
      ]
     },
     "execution_count": 92,
     "metadata": {},
     "output_type": "execute_result"
    }
   ],
   "source": [
    "index_pol\n"
   ]
  },
  {
   "cell_type": "code",
   "execution_count": 93,
   "metadata": {},
   "outputs": [
    {
     "data": {
      "text/plain": [
       "10952"
      ]
     },
     "execution_count": 93,
     "metadata": {},
     "output_type": "execute_result"
    }
   ],
   "source": [
    "index_end"
   ]
  },
  {
   "cell_type": "code",
   "execution_count": 94,
   "metadata": {},
   "outputs": [
    {
     "data": {
      "text/plain": [
       "522"
      ]
     },
     "execution_count": 94,
     "metadata": {},
     "output_type": "execute_result"
    }
   ],
   "source": [
    "x = points[0::3]\n",
    "len(x)"
   ]
  },
  {
   "cell_type": "code",
   "execution_count": null,
   "metadata": {
    "collapsed": true
   },
   "outputs": [],
   "source": []
  }
 ],
 "metadata": {
  "kernelspec": {
   "display_name": "Python 2",
   "language": "python",
   "name": "python2"
  },
  "language_info": {
   "codemirror_mode": {
    "name": "ipython",
    "version": 2
   },
   "file_extension": ".py",
   "mimetype": "text/x-python",
   "name": "python",
   "nbconvert_exporter": "python",
   "pygments_lexer": "ipython2",
   "version": "2.7.13"
  }
 },
 "nbformat": 4,
 "nbformat_minor": 2
}
