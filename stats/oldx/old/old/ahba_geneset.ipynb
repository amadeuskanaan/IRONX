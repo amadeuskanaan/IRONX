{
 "cells": [
  {
   "cell_type": "code",
   "execution_count": 9,
   "metadata": {
    "collapsed": true
   },
   "outputs": [],
   "source": [
    "%matplotlib inline\n",
    "import json\n",
    "import urllib2\n",
    "import os\n",
    "from tables import open_file\n",
    "import pandas as pd\n",
    "import numpy as np\n",
    "import seaborn as sns \n",
    "import matplotlib.pyplot as plt \n",
    "from alleninf.api import get_probes_from_genes\n",
    "from alleninf.data import get_values_at_locations\n",
    "from alleninf.api import get_mni_coordinates_from_wells#\n",
    "from alleninf.analysis import fixed_effects, approximate_random_effects, bayesian_random_effects\n",
    "\n",
    "pd.options.display.max_rows = 2000\n",
    "pd.options.display.max_columns = 999\n",
    "\n",
    "api_url   = \"http://api.brain-map.org/api/v2/data/query.json\"\n",
    "ahba_dir  = '/Users/kanaan/Google Drive/TS-EUROTRAIN/RESULTS_QSMv3/JULY29/AHBA'\n"
   ]
  },
  {
   "cell_type": "code",
   "execution_count": 10,
   "metadata": {
    "collapsed": true
   },
   "outputs": [],
   "source": [
    "down_regulated_genes = { # Clardy et al. (2006). Acute and chronic effects of developmental iron deficiency \n",
    "                         # on mRNA expression patterns in the brain. Journal of Neural Transmission, 71, 173–96. \n",
    "                         # http://www.ncbi.nlm.nih.gov/pubmed/17447428\n",
    "                    'THRSP'      :  'thyroid hormone responsive protein',\n",
    "                    #''          :  'Rattus norvegicus Nclone10 mRNA',\n",
    "                    'TF'         :  'transferrin',\n",
    "                    'MAL'        :  'mal, T-cell differentiation protein',\n",
    "                    'KLK6'       :  'kallikrein-related peptidase 6', \n",
    "                    'HOMER1'     :  'homer homolog 1 (Drosophila), neuronal immediate early gene',\n",
    "                    'MOBP'       :  'myelin-associated oligodendrocytic basic protein',\n",
    "                    'APOD'       :  'apolipoprotein D',\n",
    "                    #''          :  'Rat troponin-c mRNA'\n",
    "                    'MOG'        :  'myelin oligodendrocyte glycoprotein',\n",
    "                    'CRYAB'      :  'crystallin, alpha B',\n",
    "                    #'Af6'       :  'afadin',\n",
    "                    #''           :  'Rattus norvegicus retroviral-like ovarian specific transcript 30-1 mRNA',\n",
    "                    'APOC1'      :  'apolipoprotein C-I',\n",
    "                    'CA2'        :  'carbonic anhydrase II',\n",
    "                    'RASGRP1'    :  'RAS guanyl releasing protein 1',\n",
    "                    'STMN4'      :  'stathmin-like 4',\n",
    "                    #'Rnf28'      :  'ring finger protein 28',\n",
    "                    'LYZ'        :  'lysozyme', \n",
    "                    #'LOC309574' :  'olfactory receptor',\n",
    "                    'GSTM1'      :  'glutathione S-transferase mu 1', \n",
    "                    'CTSS'       :  'cathepsin S', \n",
    "                    'DCK'        :  'deoxycytidine kinase',\n",
    "                    #''           :  'Rattus norvegicus similar to S-100 protein, alpha chain (LOC295214), mRNA',\n",
    "                    #''           :  'Rat PMSG-induced ovarian mRNA, 3’sequence, N1'\n",
    "                       }\n",
    "\n",
    "iron_homeostasis_gene_set = { # http://amp.pharm.mssm.edu/Harmonizome/gene_set/Iron+Homeostasis(Mus+musculus)/Wikipathways+Pathways\n",
    "                    'FTH1': 'ferritin heavy polypeptide 1',\n",
    "                    'FTL' : 'ferritin light polypeptide',\n",
    "                    'HFE' :'hemochromatosis',\n",
    "                    'HFE2' :'hemochromatosis type 2 (juvenile)',\n",
    "                    'IL1A' :'interleukin 1, alpha',\n",
    "                    'IL6' :'interleukin 6',\n",
    "                    'IL6R' :'interleukin 6 receptor',\n",
    "                    'IREB2':'iron-responsive element binding protein 2',\n",
    "                    'SLC40A1':'solute carrier family 40 (iron-regulated transporter), member 1',\n",
    "                    'TF':'transferrin',\n",
    "                    'TFR2':'transferrin receptor 2',\n",
    "                    'TNF' : 'tumor necrosis factor',\n",
    "}\n",
    "\n",
    "\n",
    "DA_metabolism_gene_set = { # http://amp.pharm.mssm.edu/Harmonizome/gene_set/Dopamine+metabolism(Homo+sapiens)/Wikipathways+Pathways\n",
    "                    'COMT': 'catechol-O-methyltransferase',\n",
    "                    'DDC': 'dopa decarboxylase (aromatic L-amino acid decarboxylase)',\n",
    "                    'MAOA': 'monoamine oxidase A',\n",
    "                    'MAOB': 'monoamine oxidase B',\n",
    "                    'NQO1': 'NAD(P)H dehydrogenase, quinone 1',\n",
    "                    'PPP2CA': 'protein phosphatase 2, catalytic subunit, alpha isozyme',\n",
    "                    'PPP2CB': 'protein phosphatase 2, catalytic subunit, beta isozyme',\n",
    "                    'PRKACA': 'protein kinase, cAMP-dependent, catalytic, alpha',\n",
    "                    'PRKACB': 'protein kinase, cAMP-dependent, catalytic, beta',\n",
    "                    'PRKACG': 'protein kinase, cAMP-dependent, catalytic, gamma',\n",
    "                    #'SOD1': 'superoxide dismutase 1, soluble',\n",
    "                    'TH': 'tyrosine hydroxylase',\n",
    "                    'TYR': 'tyrosinase ',\n",
    "                }\n",
    "\n",
    "glu_metabolism_gene_set =  { #http://software.broadinstitute.org/gsea/msigdb/cards/REACTOME_GLUTAMATE_NEUROTRANSMITTER_RELEASE_CYCLE\n",
    "                'UNC13B' : 'unc-13 homolog B (C. elegans)',\n",
    "                'RIMS1' : 'regulating synaptic membrane exocytosis 1',\n",
    "                'GLS2' : 'glutaminase 2 (liver, mitochondrial)',\n",
    "                'GLS' : 'glutaminase',\n",
    "                'SLC38A2' : 'solute carrier family 38, member 2',\n",
    "                'SLC17A7' : 'solute carrier family 17 (sodium-dependent in...',\n",
    "                'RAB3A' : 'RAB3A, member RAS oncogene family',\n",
    "                'SLC1A1' : 'solute carrier family 1 (neuronal/epithelial ...',\n",
    "                'SLC1A6' : 'solute carrier family 1 (high affinity aspart...',\n",
    "                'SLC1A7' : 'solute carrier family 1 (glutamate transporte...',\n",
    "                'SNAP25' : 'synaptosomal-associated protein, 25kDa',\n",
    "                'STX1A' : 'syntaxin 1A (brain)',\n",
    "                'STXBP1' : 'syntaxin binding protein 1',\n",
    "                'VAMP2' : 'vesicle-associated membrane protein 2 (synapt...',\n",
    "                'SYT1' : 'synaptotagmin I'}\n",
    "\n",
    "gaba_metabolism_gene_set =  { #http://software.broadinstitute.org/gsea/msigdb/cards/BIOCARTA_GABA_PATHWAY\n",
    "                'GPHN': 'gephyrin',\n",
    "                'GABARAP': 'GABA(A) receptor-associated protein',\n",
    "                'DNM1': 'dynamin 1',\n",
    "                'GABRA1': 'gamma-aminobutyric acid (GABA) A receptor, al...',\n",
    "                'GABRA2': 'gamma-aminobutyric acid (GABA) A receptor, al...',\n",
    "                'GABRA3': 'gamma-aminobutyric acid (GABA) A receptor, al...',\n",
    "                'GABRA4': 'gamma-aminobutyric acid (GABA) A receptor, al...',\n",
    "                'GABRA5': 'gamma-aminobutyric acid (GABA) A receptor, al...',\n",
    "                'GABRA6': 'gamma-aminobutyric acid (GABA) A receptor, al...',\n",
    "                'SRC': 'v-src sarcoma (Schmidt-Ruppin A-2) viral onco...'\n",
    "                }\n",
    "\n",
    "astrocyte_neuron_metabolic_gene_set = [ # de Leeuw, C.,etal (2015). Involvement of astrocyte metabolic coupling \n",
    "                                        # in Tourette syndrome pathogenesis. European Journal of Human Genetics, \n",
    "                                        # 23(August 2014), 1–4. https://doi.org/10.1038/ejhg.2015.22\n",
    "                                       'ME1', 'ALDH5A1', 'GBE1', 'GALM', 'PYGL', 'CPS1','PFKFB3', \n",
    "                                       'PYGB', 'IDH2', 'ENO1','PPP1R1A', 'MDH2', 'CS','PYGM', 'PGM3',\n",
    "                                       'PHKG1', 'SLC3A2', 'PFKFB4', 'KHK','LDHB', 'PCK2','SLC2A8', \n",
    "                                       'PGM2', 'GPT','AKR1B1', 'NANS', 'PDK4','OGDHL','DHTKD1', \n",
    "                                       'PFKM', 'PGM1', 'PC','AGL'\n",
    "                                      ]\n",
    "\n",
    "glu_synpase_gene_set = [ # Lennington, et.al (2016). Transcriptome Analysis of the Human Striatum in Tourette Syndrome. \n",
    "                        # Biological Psychiatry, 79(5), 372–382. https://doi.org/10.1016/j.biopsych.2014.07.018# \n",
    "                        # Tuquoise module Glutamatergic synapse - Homo sapiens (human)\n",
    "                        'PPP3R1', 'GRIA2', 'GNAO1', 'GRIA1', 'GRIK5', 'GLUL', 'GLS', 'DLG4', 'CACNA1A', \n",
    "                        'CACNA1D', 'SHANK2', 'DLGAP1', 'GRM8', 'GRIA3', 'HOMER1', 'GRM5', 'GRIN1', 'GRM7', \n",
    "                        'GRM1', 'MAPK1', 'PLCB1', 'SLC38A1', 'GNB5', 'PRKCB', 'GNB1', 'PRKCG', 'GRM4', 'ITPR1', \n",
    "                        'SHANK3', 'PPP3CB', 'ADCY5', 'ADCY1', 'ADCY3', 'GRIK4', 'ADCY9', 'GNG7', 'GNG4', 'GRIN2A', \n",
    "                        'PRKACA', 'GNG3', 'PPP3CA', 'SLC1A6', 'GLS2'\n",
    "                       ]\n",
    "\n",
    "hse_gene_set = ['BEND5', 'C1QL2', 'CACNA1E', 'COL24A1', 'COL6A1', 'CRYM', 'KCNC3', 'KCNH4', 'LGALS1', \n",
    "                'MFGE8', 'NEFH', 'PRSS12', 'SCN3B', 'SCN4B', 'SNCG', 'SV2C', 'SYT2', 'TPBG', 'VAMP1']\n"
   ]
  },
  {
   "cell_type": "code",
   "execution_count": 11,
   "metadata": {
    "collapsed": true
   },
   "outputs": [],
   "source": [
    "def return_probe_expression(gene_probes_dict, geneset_name):\n",
    "    \n",
    "    dfs   = []\n",
    "    genes = gene_probes_dict.keys()\n",
    "    \n",
    "    if not os.path.isfile(os.path.join(ahba_dir, 'AHBA_%s.csv'%geneset_name)):\n",
    "    \n",
    "        print 'Fetching normalized gene expression values for:', genes\n",
    "        print ''\n",
    "        for gene in genes:\n",
    "            probe_ids = [\"'%s'\" % probe_id for probe_id in gene_probes_dict[gene].keys()]\n",
    "            print 'Probe IDs for Gene %s = %s' % (gene, probe_ids)\n",
    "\n",
    "            api_query = api_url + \"?criteria=service::human_microarray_expression[probes$in%s]\" % (','.join(probe_ids))\n",
    "            data = json.load(urllib2.urlopen(api_query))\n",
    "            print api_query\n",
    "\n",
    "            cols = ['top_struct','struct_name','struct_id', 'donor_names', 'coords_native']\n",
    "            probe_cols = ['%s_'%gene + str(i) for i in gene_probes_dict[gene].values()]\n",
    "            cols = cols + probe_cols\n",
    "            well_ids = [str(sample[\"sample\"][\"well\"]) for sample in data[\"msg\"][\"samples\"]]\n",
    "            df   = pd.DataFrame(index = well_ids, columns = cols)\n",
    "\n",
    "            df['top_struct']     = [sample[\"top_level_structure\"][\"name\"] for sample in data[\"msg\"][\"samples\"]]\n",
    "            df['struct_id']      = [sample[\"structure\"][\"id\"] for sample in data[\"msg\"][\"samples\"]]\n",
    "            df['struct_name']    = [sample[\"structure\"][\"name\"] for sample in data[\"msg\"][\"samples\"]]\n",
    "            df['donor_names']    = [sample[\"donor\"][\"name\"]for sample in data[\"msg\"][\"samples\"]]\n",
    "            df['coords_native']  = [sample[\"sample\"][\"mri\"] for sample in data[\"msg\"][\"samples\"]]\n",
    "\n",
    "            for i, probe_id in enumerate(gene_probes_dict[gene].values()):\n",
    "                df['%s_%s'%(gene,probe_id)] = [float(expression_value) for expression_value in data[\"msg\"][\"probes\"][i][\"expression_level\"]]\n",
    "\n",
    "            dfs.append(df)\n",
    "\n",
    "        # concat all probe expression dataframes\n",
    "        df = pd.concat(dfs,axis =1).T.groupby(level=0).first().T\n",
    "\n",
    "        # decompose probe expression values\n",
    "        all_probes =  ['%s_'%gene + str(i) for gene in gene_probes_dict.keys() for i in gene_probes_dict[gene].values()]\n",
    "\n",
    "        df['Mean'] = df[all_probes].mean(axis=1)\n",
    "        df['Median'] = df[all_probes].median(axis=1)\n",
    "\n",
    "        from sklearn.decomposition import TruncatedSVD\n",
    "        pca = TruncatedSVD(n_components=1)\n",
    "        pca.fit(np.array(np.asarray([df[probe] for probe in all_probes])))\n",
    "        df['PCA'] = pca.components_[0,:]\n",
    "\n",
    "        package_directory = '/Users/kanaan/SCR/Github/alleninf/alleninf'\n",
    "        #package_directory = '/scr/malta1/Software/anaconda/envs/awesome/lib/python2.7/site-packages/alleninf'\n",
    "        mni = pd.read_csv(os.path.join(package_directory, \"data\", \"corrected_mni_coordinates.csv\"), \n",
    "                            header=0, index_col=0)\n",
    "        mni.index = mni.index.map(unicode) \n",
    "        df_concat = pd.concat([df,mni], axis = 1 ).to_csv(os.path.join(ahba_dir, 'AHBA_%s.csv'%geneset_name))\n",
    "    \n",
    "    return pd.read_csv(os.path.join(ahba_dir, 'AHBA_%s.csv'%geneset_name),index_col=0)\n",
    "\n",
    "\n",
    "def get_expression_df(genes, geneset_name):\n",
    "    gene_probes = {}\n",
    "    for gene in genes:\n",
    "        gene_probes[gene] = get_probes_from_genes(gene)\n",
    "        \n",
    "    df = return_probe_expression(gene_probes,geneset_name)\n",
    "    return df \n",
    "    \n"
   ]
  },
  {
   "cell_type": "markdown",
   "metadata": {},
   "source": [
    "# Iron Homeostasis-Geneset"
   ]
  },
  {
   "cell_type": "code",
   "execution_count": 12,
   "metadata": {
    "scrolled": true
   },
   "outputs": [
    {
     "name": "stdout",
     "output_type": "stream",
     "text": [
      "Fetching normalized gene expression values for: ['TFR2', 'SLC40A1', 'HFE2', 'IL6R', 'IL6', 'TNF', 'TF', 'IL1A', 'FTH1', 'HFE', 'FTL', 'IREB2']\n",
      "\n",
      "Probe IDs for Gene TFR2 = [\"'1050833'\", \"'1050834'\"]\n",
      "http://api.brain-map.org/api/v2/data/query.json?criteria=service::human_microarray_expression[probes$in'1050833','1050834']\n",
      "Probe IDs for Gene SLC40A1 = [\"'1044074'\", \"'1044075'\"]\n",
      "http://api.brain-map.org/api/v2/data/query.json?criteria=service::human_microarray_expression[probes$in'1044074','1044075']\n",
      "Probe IDs for Gene HFE2 = [\"'1030891'\", \"'1030889'\", \"'1030890'\", \"'1034511'\", \"'1023305'\"]\n",
      "http://api.brain-map.org/api/v2/data/query.json?criteria=service::human_microarray_expression[probes$in'1030891','1030889','1030890','1034511','1023305']\n",
      "Probe IDs for Gene IL6R = [\"'1055070'\", \"'1055071'\"]\n",
      "http://api.brain-map.org/api/v2/data/query.json?criteria=service::human_microarray_expression[probes$in'1055070','1055071']\n",
      "Probe IDs for Gene IL6 = [\"'1055072'\", \"'1055073'\"]\n",
      "http://api.brain-map.org/api/v2/data/query.json?criteria=service::human_microarray_expression[probes$in'1055072','1055073']\n",
      "Probe IDs for Gene TNF = [\"'1050713'\", \"'1050714'\"]\n",
      "http://api.brain-map.org/api/v2/data/query.json?criteria=service::human_microarray_expression[probes$in'1050713','1050714']\n",
      "Probe IDs for Gene TF = [\"'1050864'\", \"'1050862'\", \"'1050863'\"]\n",
      "http://api.brain-map.org/api/v2/data/query.json?criteria=service::human_microarray_expression[probes$in'1050864','1050862','1050863']\n",
      "Probe IDs for Gene IL1A = [\"'1055101'\", \"'1055102'\"]\n",
      "http://api.brain-map.org/api/v2/data/query.json?criteria=service::human_microarray_expression[probes$in'1055101','1055102']\n",
      "Probe IDs for Gene FTH1 = [\"'1056869'\", \"'1056870'\", \"'1056871'\"]\n",
      "http://api.brain-map.org/api/v2/data/query.json?criteria=service::human_microarray_expression[probes$in'1056869','1056870','1056871']\n",
      "Probe IDs for Gene HFE = [\"'1030849'\", \"'1030850'\", \"'1030851'\", \"'1030852'\", \"'1030788'\", \"'1030809'\"]\n",
      "http://api.brain-map.org/api/v2/data/query.json?criteria=service::human_microarray_expression[probes$in'1030849','1030850','1030851','1030852','1030788','1030809']\n",
      "Probe IDs for Gene FTL = [\"'1056864'\", \"'1056865'\", \"'1056866'\", \"'1056867'\", \"'1056868'\"]\n",
      "http://api.brain-map.org/api/v2/data/query.json?criteria=service::human_microarray_expression[probes$in'1056864','1056865','1056866','1056867','1056868']\n",
      "Probe IDs for Gene IREB2 = [\"'1054968'\", \"'1054969'\", \"'1063802'\"]\n",
      "http://api.brain-map.org/api/v2/data/query.json?criteria=service::human_microarray_expression[probes$in'1054968','1054969','1063802']\n"
     ]
    }
   ],
   "source": [
    "df_iron = get_expression_df(iron_homeostasis_gene_set.keys(), 'iron_homeostasis')"
   ]
  },
  {
   "cell_type": "markdown",
   "metadata": {},
   "source": [
    "# Iron-deficiency downregulated geneset (Clardy, 2006)"
   ]
  },
  {
   "cell_type": "code",
   "execution_count": 13,
   "metadata": {},
   "outputs": [
    {
     "name": "stdout",
     "output_type": "stream",
     "text": [
      "Fetching normalized gene expression values for: ['STMN4', 'APOD', 'RASGRP1', 'DCK', 'CA2', 'CRYAB', 'LYZ', 'TF', 'KLK6', 'APOC1', 'HOMER1', 'MOBP', 'CTSS', 'MOG', 'MAL', 'THRSP', 'GSTM1']\n",
      "\n",
      "Probe IDs for Gene STMN4 = [\"'1038344'\", \"'1038345'\"]\n",
      "http://api.brain-map.org/api/v2/data/query.json?criteria=service::human_microarray_expression[probes$in'1038344','1038345']\n",
      "Probe IDs for Gene APOD = [\"'1059134'\", \"'1059135'\"]\n",
      "http://api.brain-map.org/api/v2/data/query.json?criteria=service::human_microarray_expression[probes$in'1059134','1059135']\n",
      "Probe IDs for Gene RASGRP1 = [\"'1020208'\", \"'1010857'\", \"'1015234'\"]\n",
      "http://api.brain-map.org/api/v2/data/query.json?criteria=service::human_microarray_expression[probes$in'1020208','1010857','1015234']\n",
      "Probe IDs for Gene DCK = [\"'1057706'\", \"'1057707'\"]\n",
      "http://api.brain-map.org/api/v2/data/query.json?criteria=service::human_microarray_expression[probes$in'1057706','1057707']\n",
      "Probe IDs for Gene CA2 = [\"'1058656'\", \"'1058657'\"]\n",
      "http://api.brain-map.org/api/v2/data/query.json?criteria=service::human_microarray_expression[probes$in'1058656','1058657']\n",
      "Probe IDs for Gene CRYAB = [\"'1057941'\", \"'1057942'\"]\n",
      "http://api.brain-map.org/api/v2/data/query.json?criteria=service::human_microarray_expression[probes$in'1057941','1057942']\n",
      "Probe IDs for Gene LYZ = [\"'1054466'\", \"'1054467'\"]\n",
      "http://api.brain-map.org/api/v2/data/query.json?criteria=service::human_microarray_expression[probes$in'1054466','1054467']\n",
      "Probe IDs for Gene TF = [\"'1050864'\", \"'1050862'\", \"'1050863'\"]\n",
      "http://api.brain-map.org/api/v2/data/query.json?criteria=service::human_microarray_expression[probes$in'1050864','1050862','1050863']\n",
      "Probe IDs for Gene KLK6 = [\"'1026864'\", \"'1026865'\", \"'1026866'\", \"'1026863'\"]\n",
      "http://api.brain-map.org/api/v2/data/query.json?criteria=service::human_microarray_expression[probes$in'1026864','1026865','1026866','1026863']\n",
      "Probe IDs for Gene APOC1 = [\"'1059144'\", \"'1059145'\", \"'1059146'\"]\n",
      "http://api.brain-map.org/api/v2/data/query.json?criteria=service::human_microarray_expression[probes$in'1059144','1059145','1059146']\n",
      "Probe IDs for Gene HOMER1 = [\"'1048570'\", \"'1048571'\"]\n",
      "http://api.brain-map.org/api/v2/data/query.json?criteria=service::human_microarray_expression[probes$in'1048570','1048571']\n",
      "Probe IDs for Gene MOBP = [\"'1021249'\", \"'1021267'\", \"'1021268'\"]\n",
      "http://api.brain-map.org/api/v2/data/query.json?criteria=service::human_microarray_expression[probes$in'1021249','1021267','1021268']\n",
      "Probe IDs for Gene CTSS = [\"'1057827'\", \"'1057828'\"]\n",
      "http://api.brain-map.org/api/v2/data/query.json?criteria=service::human_microarray_expression[probes$in'1057827','1057828']\n",
      "Probe IDs for Gene MOG = [\"'1024662'\", \"'1024663'\", \"'1024634'\", \"'1024731'\", \"'1024732'\", \"'1024575'\"]\n",
      "http://api.brain-map.org/api/v2/data/query.json?criteria=service::human_microarray_expression[probes$in'1024662','1024663','1024634','1024731','1024732','1024575']\n",
      "Probe IDs for Gene MAL = [\"'1029201'\", \"'1029012'\", \"'1030757'\", \"'1054398'\"]\n",
      "http://api.brain-map.org/api/v2/data/query.json?criteria=service::human_microarray_expression[probes$in'1029201','1029012','1030757','1054398']\n",
      "Probe IDs for Gene THRSP = [\"'1050790'\", \"'1050791'\"]\n",
      "http://api.brain-map.org/api/v2/data/query.json?criteria=service::human_microarray_expression[probes$in'1050790','1050791']\n",
      "Probe IDs for Gene GSTM1 = [\"'1055888'\", \"'1029348'\"]\n",
      "http://api.brain-map.org/api/v2/data/query.json?criteria=service::human_microarray_expression[probes$in'1055888','1029348']\n"
     ]
    }
   ],
   "source": [
    "df_iron_down = get_expression_df(down_regulated_genes.keys(), 'iron_downreg')"
   ]
  },
  {
   "cell_type": "markdown",
   "metadata": {},
   "source": [
    "# Dopamine Geneset"
   ]
  },
  {
   "cell_type": "code",
   "execution_count": 14,
   "metadata": {
    "scrolled": true
   },
   "outputs": [
    {
     "name": "stdout",
     "output_type": "stream",
     "text": [
      "Fetching normalized gene expression values for: ['PPP2CA', 'PPP2CB', 'COMT', 'NQO1', 'MAOB', 'PRKACG', 'PRKACA', 'TH', 'PRKACB', 'DDC', 'MAOA', 'TYR']\n",
      "\n",
      "Probe IDs for Gene PPP2CA = [\"'1052780'\", \"'1052781'\"]\n",
      "http://api.brain-map.org/api/v2/data/query.json?criteria=service::human_microarray_expression[probes$in'1052780','1052781']\n",
      "Probe IDs for Gene PPP2CB = [\"'1027952'\", \"'1027953'\"]\n",
      "http://api.brain-map.org/api/v2/data/query.json?criteria=service::human_microarray_expression[probes$in'1027952','1027953']\n",
      "Probe IDs for Gene COMT = [\"'1014375'\", \"'1028969'\", \"'1028970'\", \"'1028978'\", \"'1028980'\", \"'1028989'\"]\n",
      "http://api.brain-map.org/api/v2/data/query.json?criteria=service::human_microarray_expression[probes$in'1014375','1028969','1028970','1028978','1028980','1028989']\n",
      "Probe IDs for Gene NQO1 = [\"'1028569'\", \"'1028674'\", \"'1028570'\"]\n",
      "http://api.brain-map.org/api/v2/data/query.json?criteria=service::human_microarray_expression[probes$in'1028569','1028674','1028570']\n",
      "Probe IDs for Gene MAOB = [\"'1054307'\", \"'1054310'\", \"'1054312'\", \"'1054318'\", \"'1054320'\", \"'1054321'\", \"'1054322'\", \"'1054328'\", \"'1054329'\", \"'1054301'\", \"'1054302'\"]\n",
      "http://api.brain-map.org/api/v2/data/query.json?criteria=service::human_microarray_expression[probes$in'1054307','1054310','1054312','1054318','1054320','1054321','1054322','1054328','1054329','1054301','1054302']\n",
      "Probe IDs for Gene PRKACG = [\"'1052712'\", \"'1052711'\"]\n",
      "http://api.brain-map.org/api/v2/data/query.json?criteria=service::human_microarray_expression[probes$in'1052712','1052711']\n",
      "Probe IDs for Gene PRKACA = [\"'1023227'\", \"'1023228'\"]\n",
      "http://api.brain-map.org/api/v2/data/query.json?criteria=service::human_microarray_expression[probes$in'1023227','1023228']\n",
      "Probe IDs for Gene TH = [\"'1026626'\", \"'1026642'\", \"'1026629'\"]\n",
      "http://api.brain-map.org/api/v2/data/query.json?criteria=service::human_microarray_expression[probes$in'1026626','1026642','1026629']\n",
      "Probe IDs for Gene PRKACB = [\"'1029768'\", \"'1052713'\", \"'1052714'\", \"'1052715'\", \"'1052716'\"]\n",
      "http://api.brain-map.org/api/v2/data/query.json?criteria=service::human_microarray_expression[probes$in'1029768','1052713','1052714','1052715','1052716']\n",
      "Probe IDs for Gene DDC = [\"'1011395'\", \"'1010582'\", \"'1013383'\", \"'1012040'\", \"'1011160'\", \"'1010963'\", \"'1010774'\", \"'1012696'\", \"'1012825'\", \"'1010523'\", \"'1012029'\"]\n",
      "http://api.brain-map.org/api/v2/data/query.json?criteria=service::human_microarray_expression[probes$in'1011395','1010582','1013383','1012040','1011160','1010963','1010774','1012696','1012825','1010523','1012029']\n",
      "Probe IDs for Gene MAOA = [\"'1054336'\", \"'1054337'\", \"'1054338'\", \"'1054339'\", \"'1054340'\", \"'1054341'\", \"'1054342'\", \"'1054343'\", \"'1054344'\", \"'1054345'\", \"'1054347'\", \"'1054348'\", \"'1054349'\", \"'1054350'\", \"'1054352'\", \"'1054353'\", \"'1054357'\", \"'1054358'\", \"'1054359'\", \"'1054360'\", \"'1054362'\", \"'1054364'\", \"'1054368'\", \"'1054369'\", \"'1054370'\", \"'1054372'\", \"'1054375'\", \"'1054379'\", \"'1054380'\", \"'1054334'\", \"'1054335'\"]\n",
      "http://api.brain-map.org/api/v2/data/query.json?criteria=service::human_microarray_expression[probes$in'1054336','1054337','1054338','1054339','1054340','1054341','1054342','1054343','1054344','1054345','1054347','1054348','1054349','1054350','1054352','1054353','1054357','1054358','1054359','1054360','1054362','1054364','1054368','1054369','1054370','1054372','1054375','1054379','1054380','1054334','1054335']\n",
      "Probe IDs for Gene TYR = [\"'1050522'\", \"'1050523'\", \"'1050524'\"]\n",
      "http://api.brain-map.org/api/v2/data/query.json?criteria=service::human_microarray_expression[probes$in'1050522','1050523','1050524']\n"
     ]
    }
   ],
   "source": [
    "df_da = get_expression_df(DA_metabolism_gene_set.keys(), 'dopamine')"
   ]
  },
  {
   "cell_type": "markdown",
   "metadata": {},
   "source": [
    "# Glutamate Geneset "
   ]
  },
  {
   "cell_type": "code",
   "execution_count": 15,
   "metadata": {
    "scrolled": true
   },
   "outputs": [
    {
     "name": "stdout",
     "output_type": "stream",
     "text": [
      "Fetching normalized gene expression values for: ['STX1A', 'SNAP25', 'VAMP2', 'SLC38A2', 'SYT1', 'SLC17A7', 'RIMS1', 'STXBP1', 'UNC13B', 'RAB3A', 'SLC1A6', 'GLS', 'SLC1A1', 'GLS2', 'SLC1A7']\n",
      "\n",
      "Probe IDs for Gene STX1A = [\"'1020968'\", \"'1020966'\", \"'1020967'\"]\n",
      "http://api.brain-map.org/api/v2/data/query.json?criteria=service::human_microarray_expression[probes$in'1020968','1020966','1020967']\n",
      "Probe IDs for Gene SNAP25 = [\"'1051288'\", \"'1027587'\", \"'1027588'\", \"'1027589'\"]\n",
      "http://api.brain-map.org/api/v2/data/query.json?criteria=service::human_microarray_expression[probes$in'1051288','1027587','1027588','1027589']\n",
      "Probe IDs for Gene VAMP2 = [\"'1051014'\", \"'1051015'\"]\n",
      "http://api.brain-map.org/api/v2/data/query.json?criteria=service::human_microarray_expression[probes$in'1051014','1051015']\n",
      "Probe IDs for Gene SLC38A2 = [\"'1042953'\", \"'1042954'\", \"'1042955'\", \"'1042956'\"]\n",
      "http://api.brain-map.org/api/v2/data/query.json?criteria=service::human_microarray_expression[probes$in'1042953','1042954','1042955','1042956']\n",
      "Probe IDs for Gene SYT1 = [\"'1014201'\", \"'1014909'\", \"'1020478'\"]\n",
      "http://api.brain-map.org/api/v2/data/query.json?criteria=service::human_microarray_expression[probes$in'1014201','1014909','1020478']\n",
      "Probe IDs for Gene SLC17A7 = [\"'1040962'\", \"'1040965'\", \"'1040972'\", \"'1040984'\", \"'1040958'\", \"'1040959'\"]\n",
      "http://api.brain-map.org/api/v2/data/query.json?criteria=service::human_microarray_expression[probes$in'1040962','1040965','1040972','1040984','1040958','1040959']\n",
      "Probe IDs for Gene RIMS1 = [\"'1046115'\", \"'1046116'\"]\n",
      "http://api.brain-map.org/api/v2/data/query.json?criteria=service::human_microarray_expression[probes$in'1046115','1046116']\n",
      "Probe IDs for Gene STXBP1 = [\"'1051040'\", \"'1051038'\", \"'1051039'\"]\n",
      "http://api.brain-map.org/api/v2/data/query.json?criteria=service::human_microarray_expression[probes$in'1051040','1051038','1051039']\n",
      "Probe IDs for Gene UNC13B = [\"'1047329'\", \"'1047330'\"]\n",
      "http://api.brain-map.org/api/v2/data/query.json?criteria=service::human_microarray_expression[probes$in'1047329','1047330']\n",
      "Probe IDs for Gene RAB3A = [\"'1052376'\", \"'1052377'\"]\n",
      "http://api.brain-map.org/api/v2/data/query.json?criteria=service::human_microarray_expression[probes$in'1052376','1052377']\n",
      "Probe IDs for Gene SLC1A6 = [\"'1051576'\", \"'1051575'\"]\n",
      "http://api.brain-map.org/api/v2/data/query.json?criteria=service::human_microarray_expression[probes$in'1051576','1051575']\n",
      "Probe IDs for Gene GLS = [\"'1056380'\", \"'1061748'\", \"'1056381'\"]\n",
      "http://api.brain-map.org/api/v2/data/query.json?criteria=service::human_microarray_expression[probes$in'1056380','1061748','1056381']\n",
      "Probe IDs for Gene SLC1A1 = [\"'1025608'\", \"'1025609'\"]\n",
      "http://api.brain-map.org/api/v2/data/query.json?criteria=service::human_microarray_expression[probes$in'1025608','1025609']\n",
      "Probe IDs for Gene GLS2 = [\"'1044598'\", \"'1044599'\"]\n",
      "http://api.brain-map.org/api/v2/data/query.json?criteria=service::human_microarray_expression[probes$in'1044598','1044599']\n",
      "Probe IDs for Gene SLC1A7 = [\"'1067387'\", \"'1051572'\", \"'1051573'\", \"'1051574'\"]\n",
      "http://api.brain-map.org/api/v2/data/query.json?criteria=service::human_microarray_expression[probes$in'1067387','1051572','1051573','1051574']\n"
     ]
    }
   ],
   "source": [
    "df_glu = get_expression_df(glu_metabolism_gene_set.keys(), 'glutamate')"
   ]
  },
  {
   "cell_type": "markdown",
   "metadata": {},
   "source": [
    "# GABA geneset "
   ]
  },
  {
   "cell_type": "code",
   "execution_count": 16,
   "metadata": {
    "scrolled": true
   },
   "outputs": [
    {
     "name": "stdout",
     "output_type": "stream",
     "text": [
      "Fetching normalized gene expression values for: ['SRC', 'GPHN', 'GABARAP', 'DNM1', 'GABRA5', 'GABRA4', 'GABRA6', 'GABRA1', 'GABRA3', 'GABRA2']\n",
      "\n",
      "Probe IDs for Gene SRC = [\"'1030192'\", \"'1030193'\", \"'1030191'\"]\n",
      "http://api.brain-map.org/api/v2/data/query.json?criteria=service::human_microarray_expression[probes$in'1030192','1030193','1030191']\n",
      "Probe IDs for Gene GPHN = [\"'1028644'\", \"'1028645'\", \"'1028646'\"]\n",
      "http://api.brain-map.org/api/v2/data/query.json?criteria=service::human_microarray_expression[probes$in'1028644','1028645','1028646']\n",
      "Probe IDs for Gene GABARAP = [\"'1046328'\", \"'1046329'\"]\n",
      "http://api.brain-map.org/api/v2/data/query.json?criteria=service::human_microarray_expression[probes$in'1046328','1046329']\n",
      "Probe IDs for Gene DNM1 = [\"'1067945'\", \"'1030572'\", \"'1030573'\", \"'1030574'\"]\n",
      "http://api.brain-map.org/api/v2/data/query.json?criteria=service::human_microarray_expression[probes$in'1067945','1030572','1030573','1030574']\n",
      "Probe IDs for Gene GABRA5 = [\"'1056618'\", \"'1056620'\", \"'1056621'\", \"'1056622'\", \"'1056626'\", \"'1056628'\", \"'1056633'\", \"'1056634'\"]\n",
      "http://api.brain-map.org/api/v2/data/query.json?criteria=service::human_microarray_expression[probes$in'1056618','1056620','1056621','1056622','1056626','1056628','1056633','1056634']\n",
      "Probe IDs for Gene GABRA4 = [\"'1056769'\", \"'1056773'\", \"'1056646'\", \"'1056651'\", \"'1056652'\", \"'1056653'\", \"'1056654'\", \"'1056657'\", \"'1056658'\", \"'1056662'\", \"'1056664'\", \"'1056666'\", \"'1056670'\", \"'1056645'\", \"'1056672'\", \"'1056676'\", \"'1056690'\", \"'1056693'\", \"'1056694'\", \"'1056695'\", \"'1056671'\", \"'1056700'\", \"'1056702'\", \"'1056703'\", \"'1056706'\", \"'1056708'\", \"'1056709'\", \"'1056713'\", \"'1056715'\", \"'1056718'\", \"'1056719'\", \"'1056720'\", \"'1056723'\", \"'1056728'\", \"'1056729'\", \"'1056734'\", \"'1056735'\", \"'1056736'\", \"'1056738'\", \"'1056740'\", \"'1056741'\", \"'1056743'\", \"'1056745'\", \"'1056754'\", \"'1056755'\", \"'1056756'\", \"'1056762'\", \"'1056763'\", \"'1056766'\", \"'1056639'\"]\n",
      "http://api.brain-map.org/api/v2/data/query.json?criteria=service::human_microarray_expression[probes$in'1056769','1056773','1056646','1056651','1056652','1056653','1056654','1056657','1056658','1056662','1056664','1056666','1056670','1056645','1056672','1056676','1056690','1056693','1056694','1056695','1056671','1056700','1056702','1056703','1056706','1056708','1056709','1056713','1056715','1056718','1056719','1056720','1056723','1056728','1056729','1056734','1056735','1056736','1056738','1056740','1056741','1056743','1056745','1056754','1056755','1056756','1056762','1056763','1056766','1056639']\n",
      "Probe IDs for Gene GABRA6 = [\"'1056616'\", \"'1056614'\", \"'1056615'\"]\n",
      "http://api.brain-map.org/api/v2/data/query.json?criteria=service::human_microarray_expression[probes$in'1056616','1056614','1056615']\n",
      "Probe IDs for Gene GABRA1 = [\"'1014789'\", \"'1013767'\", \"'1013640'\", \"'1015049'\", \"'1011466'\", \"'1015179'\", \"'1014919'\", \"'1015181'\", \"'1012496'\", \"'1011900'\", \"'1013014'\", \"'1014149'\", \"'1012129'\", \"'1014562'\", \"'1019697'\", \"'1014313'\", \"'1014443'\", \"'1010988'\", \"'1011502'\", \"'1056815'\", \"'1056816'\", \"'1013553'\", \"'1014706'\", \"'1014711'\", \"'1013432'\", \"'1014943'\", \"'1013180'\", \"'1013311'\", \"'1012684'\", \"'1011662'\", \"'1014607'\", \"'1015096'\", \"'1013151'\", \"'1014606'\", \"'1013974'\", \"'1013852'\", \"'1010786'\", \"'1012325'\", \"'1014246'\", \"'1014503'\", \"'1011433'\", \"'1020011'\", \"'1012845'\", \"'1014382'\", \"'1014064'\", \"'1010545'\", \"'1013878'\", \"'1015034'\", \"'1011198'\"]\n",
      "http://api.brain-map.org/api/v2/data/query.json?criteria=service::human_microarray_expression[probes$in'1014789','1013767','1013640','1015049','1011466','1015179','1014919','1015181','1012496','1011900','1013014','1014149','1012129','1014562','1019697','1014313','1014443','1010988','1011502','1056815','1056816','1013553','1014706','1014711','1013432','1014943','1013180','1013311','1012684','1011662','1014607','1015096','1013151','1014606','1013974','1013852','1010786','1012325','1014246','1014503','1011433','1020011','1012845','1014382','1014064','1010545','1013878','1015034','1011198']\n",
      "Probe IDs for Gene GABRA3 = [\"'1056800'\", \"'1056802'\", \"'1056803'\", \"'1056805'\", \"'1056774'\", \"'1056775'\", \"'1056777'\", \"'1056778'\", \"'1056788'\", \"'1056789'\", \"'1056797'\"]\n",
      "http://api.brain-map.org/api/v2/data/query.json?criteria=service::human_microarray_expression[probes$in'1056800','1056802','1056803','1056805','1056774','1056775','1056777','1056778','1056788','1056789','1056797']\n",
      "Probe IDs for Gene GABRA2 = [\"'1013504'\", \"'1014400'\", \"'1056811'\", \"'1012361'\", \"'1013901'\", \"'1014338'\", \"'1010971'\", \"'1017515'\", \"'1012911'\", \"'1014068'\", \"'1012535'\", \"'1013690'\", \"'1014331'\", \"'1012161'\", \"'1014466'\", \"'1013059'\", \"'1011190'\", \"'1010767'\", \"'1011931'\", \"'1011676'\", \"'1013601'\", \"'1010491'\", \"'1013990'\", \"'1011435'\", \"'1013108'\", \"'1014262'\"]\n",
      "http://api.brain-map.org/api/v2/data/query.json?criteria=service::human_microarray_expression[probes$in'1013504','1014400','1056811','1012361','1013901','1014338','1010971','1017515','1012911','1014068','1012535','1013690','1014331','1012161','1014466','1013059','1011190','1010767','1011931','1011676','1013601','1010491','1013990','1011435','1013108','1014262']\n"
     ]
    }
   ],
   "source": [
    "df_gaba = get_expression_df(gaba_metabolism_gene_set.keys(), 'gaba')"
   ]
  },
  {
   "cell_type": "markdown",
   "metadata": {},
   "source": [
    "# Astrocyte-Metabolic Coupling Gene-set (Tourette Implicated)"
   ]
  },
  {
   "cell_type": "code",
   "execution_count": 17,
   "metadata": {
    "scrolled": true
   },
   "outputs": [
    {
     "name": "stdout",
     "output_type": "stream",
     "text": [
      "Fetching normalized gene expression values for: ['PCK2', 'AGL', 'DHTKD1', 'GPT', 'ME1', 'MDH2', 'PPP1R1A', 'PFKM', 'PC', 'PYGB', 'KHK', 'GBE1', 'NANS', 'OGDHL', 'PYGL', 'PYGM', 'LDHB', 'PDK4', 'IDH2', 'PGM1', 'PGM2', 'PGM3', 'ENO1', 'CS', 'GALM', 'AKR1B1', 'SLC2A8', 'SLC3A2', 'PFKFB3', 'PFKFB4', 'PHKG1', 'ALDH5A1', 'CPS1']\n",
      "\n",
      "Probe IDs for Gene PCK2 = [\"'1053320'\", \"'1029369'\", \"'1029370'\", \"'1053321'\"]\n",
      "http://api.brain-map.org/api/v2/data/query.json?criteria=service::human_microarray_expression[probes$in'1053320','1029369','1029370','1053321']\n",
      "Probe IDs for Gene AGL = [\"'1028732'\", \"'1028733'\", \"'1028734'\"]\n",
      "http://api.brain-map.org/api/v2/data/query.json?criteria=service::human_microarray_expression[probes$in'1028732','1028733','1028734']\n",
      "Probe IDs for Gene DHTKD1 = [\"'1041858'\", \"'1041859'\", \"'1041860'\"]\n",
      "http://api.brain-map.org/api/v2/data/query.json?criteria=service::human_microarray_expression[probes$in'1041858','1041859','1041860']\n",
      "Probe IDs for Gene GPT = [\"'1056204'\", \"'1056205'\"]\n",
      "http://api.brain-map.org/api/v2/data/query.json?criteria=service::human_microarray_expression[probes$in'1056204','1056205']\n",
      "Probe IDs for Gene ME1 = [\"'1059693'\", \"'1054230'\", \"'1054231'\"]\n",
      "http://api.brain-map.org/api/v2/data/query.json?criteria=service::human_microarray_expression[probes$in'1059693','1054230','1054231']\n",
      "Probe IDs for Gene MDH2 = [\"'1054235'\"]\n",
      "http://api.brain-map.org/api/v2/data/query.json?criteria=service::human_microarray_expression[probes$in'1054235']\n",
      "Probe IDs for Gene PPP1R1A = [\"'1052795'\", \"'1052796'\"]\n",
      "http://api.brain-map.org/api/v2/data/query.json?criteria=service::human_microarray_expression[probes$in'1052795','1052796']\n",
      "Probe IDs for Gene PFKM = [\"'1053160'\", \"'1053161'\"]\n",
      "http://api.brain-map.org/api/v2/data/query.json?criteria=service::human_microarray_expression[probes$in'1053160','1053161']\n",
      "Probe IDs for Gene PC = [\"'1021070'\", \"'1021071'\"]\n",
      "http://api.brain-map.org/api/v2/data/query.json?criteria=service::human_microarray_expression[probes$in'1021070','1021071']\n",
      "Probe IDs for Gene PYGB = [\"'1052395'\", \"'1052396'\"]\n",
      "http://api.brain-map.org/api/v2/data/query.json?criteria=service::human_microarray_expression[probes$in'1052395','1052396']\n",
      "Probe IDs for Gene KHK = [\"'1054766'\", \"'1054767'\"]\n",
      "http://api.brain-map.org/api/v2/data/query.json?criteria=service::human_microarray_expression[probes$in'1054766','1054767']\n",
      "Probe IDs for Gene GBE1 = [\"'1056491'\", \"'1056492'\"]\n",
      "http://api.brain-map.org/api/v2/data/query.json?criteria=service::human_microarray_expression[probes$in'1056491','1056492']\n",
      "Probe IDs for Gene NANS = [\"'1042985'\", \"'1042986'\"]\n",
      "http://api.brain-map.org/api/v2/data/query.json?criteria=service::human_microarray_expression[probes$in'1042985','1042986']\n",
      "Probe IDs for Gene OGDHL = [\"'1012369'\", \"'1016213'\"]\n",
      "http://api.brain-map.org/api/v2/data/query.json?criteria=service::human_microarray_expression[probes$in'1012369','1016213']\n",
      "Probe IDs for Gene PYGL = [\"'1052393'\", \"'1052394'\"]\n",
      "http://api.brain-map.org/api/v2/data/query.json?criteria=service::human_microarray_expression[probes$in'1052393','1052394']\n",
      "Probe IDs for Gene PYGM = [\"'1052392'\", \"'1052391'\"]\n",
      "http://api.brain-map.org/api/v2/data/query.json?criteria=service::human_microarray_expression[probes$in'1052392','1052391']\n",
      "Probe IDs for Gene LDHB = [\"'1054608'\", \"'1054606'\", \"'1054607'\"]\n",
      "http://api.brain-map.org/api/v2/data/query.json?criteria=service::human_microarray_expression[probes$in'1054608','1054606','1054607']\n",
      "Probe IDs for Gene PDK4 = [\"'1053252'\", \"'1053253'\"]\n",
      "http://api.brain-map.org/api/v2/data/query.json?criteria=service::human_microarray_expression[probes$in'1053252','1053253']\n",
      "Probe IDs for Gene IDH2 = [\"'1055208'\"]\n",
      "http://api.brain-map.org/api/v2/data/query.json?criteria=service::human_microarray_expression[probes$in'1055208']\n",
      "Probe IDs for Gene PGM1 = [\"'1053131'\", \"'1053132'\"]\n",
      "http://api.brain-map.org/api/v2/data/query.json?criteria=service::human_microarray_expression[probes$in'1053131','1053132']\n",
      "Probe IDs for Gene PGM2 = [\"'1042054'\", \"'1042055'\"]\n",
      "http://api.brain-map.org/api/v2/data/query.json?criteria=service::human_microarray_expression[probes$in'1042054','1042055']\n",
      "Probe IDs for Gene PGM3 = [\"'1053129'\", \"'1053130'\", \"'1061171'\"]\n",
      "http://api.brain-map.org/api/v2/data/query.json?criteria=service::human_microarray_expression[probes$in'1053129','1053130','1061171']\n",
      "Probe IDs for Gene ENO1 = [\"'1057256'\", \"'1057255'\"]\n",
      "http://api.brain-map.org/api/v2/data/query.json?criteria=service::human_microarray_expression[probes$in'1057256','1057255']\n",
      "Probe IDs for Gene CS = [\"'1057920'\", \"'1057919'\"]\n",
      "http://api.brain-map.org/api/v2/data/query.json?criteria=service::human_microarray_expression[probes$in'1057920','1057919']\n",
      "Probe IDs for Gene GALM = [\"'1035338'\", \"'1035339'\"]\n",
      "http://api.brain-map.org/api/v2/data/query.json?criteria=service::human_microarray_expression[probes$in'1035338','1035339']\n",
      "Probe IDs for Gene AKR1B1 = [\"'1059256'\", \"'1059257'\"]\n",
      "http://api.brain-map.org/api/v2/data/query.json?criteria=service::human_microarray_expression[probes$in'1059256','1059257']\n",
      "Probe IDs for Gene SLC2A8 = [\"'1044105'\", \"'1044106'\", \"'1044107'\"]\n",
      "http://api.brain-map.org/api/v2/data/query.json?criteria=service::human_microarray_expression[probes$in'1044105','1044106','1044107']\n",
      "Probe IDs for Gene SLC3A2 = [\"'1028070'\", \"'1028071'\"]\n",
      "http://api.brain-map.org/api/v2/data/query.json?criteria=service::human_microarray_expression[probes$in'1028070','1028071']\n",
      "Probe IDs for Gene PFKFB3 = [\"'1020129'\", \"'1014779'\", \"'1014675'\", \"'1011447'\"]\n",
      "http://api.brain-map.org/api/v2/data/query.json?criteria=service::human_microarray_expression[probes$in'1020129','1014779','1014675','1011447']\n",
      "Probe IDs for Gene PFKFB4 = [\"'1053164'\", \"'1053165'\"]\n",
      "http://api.brain-map.org/api/v2/data/query.json?criteria=service::human_microarray_expression[probes$in'1053164','1053165']\n",
      "Probe IDs for Gene PHKG1 = [\"'1053107'\", \"'1053108'\"]\n",
      "http://api.brain-map.org/api/v2/data/query.json?criteria=service::human_microarray_expression[probes$in'1053107','1053108']\n",
      "Probe IDs for Gene ALDH5A1 = [\"'1050052'\", \"'1050053'\", \"'1050054'\"]\n",
      "http://api.brain-map.org/api/v2/data/query.json?criteria=service::human_microarray_expression[probes$in'1050052','1050053','1050054']\n",
      "Probe IDs for Gene CPS1 = [\"'1013340'\", \"'1014388'\", \"'1019254'\"]\n",
      "http://api.brain-map.org/api/v2/data/query.json?criteria=service::human_microarray_expression[probes$in'1013340','1014388','1019254']\n"
     ]
    }
   ],
   "source": [
    "df_anmc = get_expression_df(astrocyte_neuron_metabolic_gene_set, 'anmc')"
   ]
  },
  {
   "cell_type": "markdown",
   "metadata": {},
   "source": [
    "# Human Supragranular Enriched (HSE) gene set "
   ]
  },
  {
   "cell_type": "code",
   "execution_count": 18,
   "metadata": {},
   "outputs": [
    {
     "name": "stdout",
     "output_type": "stream",
     "text": [
      "Fetching normalized gene expression values for: ['VAMP1', 'KCNH4', 'C1QL2', 'BEND5', 'TPBG', 'MFGE8', 'KCNC3', 'SYT2', 'PRSS12', 'CACNA1E', 'NEFH', 'CRYM', 'SNCG', 'COL6A1', 'COL24A1', 'LGALS1', 'SCN4B', 'SV2C', 'SCN3B']\n",
      "\n",
      "Probe IDs for Gene VAMP1 = [\"'1023908'\", \"'1023909'\", \"'1023910'\"]\n",
      "http://api.brain-map.org/api/v2/data/query.json?criteria=service::human_microarray_expression[probes$in'1023908','1023909','1023910']\n",
      "Probe IDs for Gene KCNH4 = [\"'1045732'\", \"'1045733'\", \"'1045734'\"]\n",
      "http://api.brain-map.org/api/v2/data/query.json?criteria=service::human_microarray_expression[probes$in'1045732','1045733','1045734']\n",
      "Probe IDs for Gene C1QL2 = [\"'1033848'\", \"'1033847'\"]\n",
      "http://api.brain-map.org/api/v2/data/query.json?criteria=service::human_microarray_expression[probes$in'1033848','1033847']\n",
      "Probe IDs for Gene BEND5 = [\"'1039120'\", \"'1039121'\", \"'1039122'\"]\n",
      "http://api.brain-map.org/api/v2/data/query.json?criteria=service::human_microarray_expression[probes$in'1039120','1039121','1039122']\n",
      "Probe IDs for Gene TPBG = [\"'1050668'\", \"'1050669'\"]\n",
      "http://api.brain-map.org/api/v2/data/query.json?criteria=service::human_microarray_expression[probes$in'1050668','1050669']\n",
      "Probe IDs for Gene MFGE8 = [\"'1059744'\", \"'1012516'\", \"'1019206'\"]\n",
      "http://api.brain-map.org/api/v2/data/query.json?criteria=service::human_microarray_expression[probes$in'1059744','1012516','1019206']\n",
      "Probe IDs for Gene KCNC3 = [\"'1054843'\", \"'1054844'\"]\n",
      "http://api.brain-map.org/api/v2/data/query.json?criteria=service::human_microarray_expression[probes$in'1054843','1054844']\n",
      "Probe IDs for Gene SYT2 = [\"'1015409'\", \"'1015395'\"]\n",
      "http://api.brain-map.org/api/v2/data/query.json?criteria=service::human_microarray_expression[probes$in'1015409','1015395']\n",
      "Probe IDs for Gene PRSS12 = [\"'1049650'\", \"'1049651'\"]\n",
      "http://api.brain-map.org/api/v2/data/query.json?criteria=service::human_microarray_expression[probes$in'1049650','1049651']\n",
      "Probe IDs for Gene CACNA1E = [\"'1030545'\", \"'1030546'\", \"'1030547'\"]\n",
      "http://api.brain-map.org/api/v2/data/query.json?criteria=service::human_microarray_expression[probes$in'1030545','1030546','1030547']\n",
      "Probe IDs for Gene NEFH = [\"'1053765'\", \"'1053766'\", \"'1053767'\"]\n",
      "http://api.brain-map.org/api/v2/data/query.json?criteria=service::human_microarray_expression[probes$in'1053765','1053766','1053767']\n",
      "Probe IDs for Gene CRYM = [\"'1023156'\", \"'1023157'\", \"'1023158'\"]\n",
      "http://api.brain-map.org/api/v2/data/query.json?criteria=service::human_microarray_expression[probes$in'1023156','1023157','1023158']\n",
      "Probe IDs for Gene SNCG = [\"'1051275'\", \"'1051276'\"]\n",
      "http://api.brain-map.org/api/v2/data/query.json?criteria=service::human_microarray_expression[probes$in'1051275','1051276']\n",
      "Probe IDs for Gene COL6A1 = [\"'1023024'\", \"'1023026'\", \"'1023022'\"]\n",
      "http://api.brain-map.org/api/v2/data/query.json?criteria=service::human_microarray_expression[probes$in'1023024','1023026','1023022']\n",
      "Probe IDs for Gene COL24A1 = [\"'1032840'\", \"'1032838'\", \"'1032839'\"]\n",
      "http://api.brain-map.org/api/v2/data/query.json?criteria=service::human_microarray_expression[probes$in'1032840','1032838','1032839']\n",
      "Probe IDs for Gene LGALS1 = [\"'1054595'\", \"'1054596'\"]\n",
      "http://api.brain-map.org/api/v2/data/query.json?criteria=service::human_microarray_expression[probes$in'1054595','1054596']\n",
      "Probe IDs for Gene SCN4B = [\"'1051794'\", \"'1051795'\", \"'1051796'\"]\n",
      "http://api.brain-map.org/api/v2/data/query.json?criteria=service::human_microarray_expression[probes$in'1051794','1051795','1051796']\n",
      "Probe IDs for Gene SV2C = [\"'1025369'\", \"'1025370'\", \"'1025371'\"]\n",
      "http://api.brain-map.org/api/v2/data/query.json?criteria=service::human_microarray_expression[probes$in'1025369','1025370','1025371']\n",
      "Probe IDs for Gene SCN3B = [\"'1041568'\", \"'1041565'\", \"'1041566'\", \"'1041567'\"]\n",
      "http://api.brain-map.org/api/v2/data/query.json?criteria=service::human_microarray_expression[probes$in'1041568','1041565','1041566','1041567']\n"
     ]
    }
   ],
   "source": [
    "df_hse = get_expression_df(hse_gene_set, 'hse')"
   ]
  },
  {
   "cell_type": "code",
   "execution_count": null,
   "metadata": {
    "collapsed": true
   },
   "outputs": [],
   "source": []
  },
  {
   "cell_type": "markdown",
   "metadata": {},
   "source": [
    "# Put gene-set principal components into one dataframe\n"
   ]
  },
  {
   "cell_type": "code",
   "execution_count": 19,
   "metadata": {
    "collapsed": true
   },
   "outputs": [],
   "source": [
    "df  = pd.DataFrame(index = df_iron.index, \n",
    "                    columns = ['iron', 'da', 'glu', 'gaba', 'anmc', 'top_struct', 'struct'])\n",
    "df['top_struct'] = df_iron.top_struct\n",
    "df['struct']     = df_iron.struct_name\n",
    "df['mni']        = list(zip(df_iron.corrected_mni_x,df_iron.corrected_mni_x,df_iron.corrected_mni_x))\n",
    "df['iron']       = df_iron.PCA\n",
    "df['iron_d']     = df_iron_down.PCA\n",
    "df['da']         = df_da.PCA\n",
    "df['gaba']       = df_gaba.PCA\n",
    "df['glu']        = df_glu.PCA\n",
    "df['anmc']       = df_anmc.PCA\n",
    "df['hse']        = df_hse.PCA\n"
   ]
  },
  {
   "cell_type": "code",
   "execution_count": 20,
   "metadata": {},
   "outputs": [
    {
     "data": {
      "text/html": [
       "<div>\n",
       "<table border=\"1\" class=\"dataframe\">\n",
       "  <thead>\n",
       "    <tr style=\"text-align: right;\">\n",
       "      <th></th>\n",
       "      <th>iron</th>\n",
       "      <th>da</th>\n",
       "      <th>glu</th>\n",
       "      <th>gaba</th>\n",
       "      <th>anmc</th>\n",
       "      <th>top_struct</th>\n",
       "      <th>struct</th>\n",
       "      <th>mni</th>\n",
       "      <th>iron_d</th>\n",
       "      <th>hse</th>\n",
       "    </tr>\n",
       "  </thead>\n",
       "  <tbody>\n",
       "    <tr>\n",
       "      <th>1001</th>\n",
       "      <td>0.015953</td>\n",
       "      <td>0.016202</td>\n",
       "      <td>0.017277</td>\n",
       "      <td>0.017690</td>\n",
       "      <td>0.016192</td>\n",
       "      <td>frontal lobe</td>\n",
       "      <td>middle frontal gyrus, right, superior bank of ...</td>\n",
       "      <td>(29.91173919, 29.91173919, 29.91173919)</td>\n",
       "      <td>0.015557</td>\n",
       "      <td>0.017387</td>\n",
       "    </tr>\n",
       "    <tr>\n",
       "      <th>1002</th>\n",
       "      <td>0.016513</td>\n",
       "      <td>0.016615</td>\n",
       "      <td>0.017561</td>\n",
       "      <td>0.018155</td>\n",
       "      <td>0.016813</td>\n",
       "      <td>frontal lobe</td>\n",
       "      <td>middle frontal gyrus, left, inferior bank of g...</td>\n",
       "      <td>(-34.14367896, -34.14367896, -34.14367896)</td>\n",
       "      <td>0.016350</td>\n",
       "      <td>0.018092</td>\n",
       "    </tr>\n",
       "    <tr>\n",
       "      <th>1003</th>\n",
       "      <td>0.015887</td>\n",
       "      <td>0.016110</td>\n",
       "      <td>0.017514</td>\n",
       "      <td>0.017402</td>\n",
       "      <td>0.016103</td>\n",
       "      <td>temporal lobe</td>\n",
       "      <td>inferior temporal gyrus, right, lateral bank o...</td>\n",
       "      <td>(63.76860455, 63.76860455, 63.76860455)</td>\n",
       "      <td>0.014759</td>\n",
       "      <td>0.017082</td>\n",
       "    </tr>\n",
       "    <tr>\n",
       "      <th>1004</th>\n",
       "      <td>0.015656</td>\n",
       "      <td>0.016281</td>\n",
       "      <td>0.017336</td>\n",
       "      <td>0.017864</td>\n",
       "      <td>0.016059</td>\n",
       "      <td>temporal lobe</td>\n",
       "      <td>inferior temporal gyrus, left, lateral bank of...</td>\n",
       "      <td>(-55.57253786, -55.57253786, -55.57253786)</td>\n",
       "      <td>0.014381</td>\n",
       "      <td>0.017020</td>\n",
       "    </tr>\n",
       "    <tr>\n",
       "      <th>1005</th>\n",
       "      <td>0.015707</td>\n",
       "      <td>0.016523</td>\n",
       "      <td>0.017441</td>\n",
       "      <td>0.017732</td>\n",
       "      <td>0.015823</td>\n",
       "      <td>cingulate gyrus</td>\n",
       "      <td>cingulate gyrus, parietal part, left, inferior...</td>\n",
       "      <td>(-2.423745797, -2.423745797, -2.423745797)</td>\n",
       "      <td>0.015008</td>\n",
       "      <td>0.016965</td>\n",
       "    </tr>\n",
       "  </tbody>\n",
       "</table>\n",
       "</div>"
      ],
      "text/plain": [
       "          iron        da       glu      gaba      anmc       top_struct  \\\n",
       "1001  0.015953  0.016202  0.017277  0.017690  0.016192     frontal lobe   \n",
       "1002  0.016513  0.016615  0.017561  0.018155  0.016813     frontal lobe   \n",
       "1003  0.015887  0.016110  0.017514  0.017402  0.016103    temporal lobe   \n",
       "1004  0.015656  0.016281  0.017336  0.017864  0.016059    temporal lobe   \n",
       "1005  0.015707  0.016523  0.017441  0.017732  0.015823  cingulate gyrus   \n",
       "\n",
       "                                                 struct  \\\n",
       "1001  middle frontal gyrus, right, superior bank of ...   \n",
       "1002  middle frontal gyrus, left, inferior bank of g...   \n",
       "1003  inferior temporal gyrus, right, lateral bank o...   \n",
       "1004  inferior temporal gyrus, left, lateral bank of...   \n",
       "1005  cingulate gyrus, parietal part, left, inferior...   \n",
       "\n",
       "                                             mni    iron_d       hse  \n",
       "1001     (29.91173919, 29.91173919, 29.91173919)  0.015557  0.017387  \n",
       "1002  (-34.14367896, -34.14367896, -34.14367896)  0.016350  0.018092  \n",
       "1003     (63.76860455, 63.76860455, 63.76860455)  0.014759  0.017082  \n",
       "1004  (-55.57253786, -55.57253786, -55.57253786)  0.014381  0.017020  \n",
       "1005  (-2.423745797, -2.423745797, -2.423745797)  0.015008  0.016965  "
      ]
     },
     "execution_count": 20,
     "metadata": {},
     "output_type": "execute_result"
    }
   ],
   "source": [
    "df.head()"
   ]
  },
  {
   "cell_type": "markdown",
   "metadata": {},
   "source": [
    "# Number of unique top level structures"
   ]
  },
  {
   "cell_type": "code",
   "execution_count": 21,
   "metadata": {},
   "outputs": [
    {
     "name": "stdout",
     "output_type": "stream",
     "text": [
      "Number of unique top level structures =  27\n"
     ]
    },
    {
     "data": {
      "text/plain": [
       "frontal lobe             537\n",
       "temporal lobe            470\n",
       "cerebellar cortex        337\n",
       "parietal lobe            290\n",
       "myelencephalon           279\n",
       "occipital lobe           212\n",
       "hippocampal formation    188\n",
       "mesencephalon            182\n",
       "dorsal thalamus          175\n",
       "striatum                 170\n",
       "cingulate gyrus          148\n",
       "pontine tegmentum        141\n",
       "hypothalamus             102\n",
       "amygdala                  67\n",
       "parahippocampal gyrus     58\n",
       "basal forebrain           51\n",
       "basal part of pons        48\n",
       "claustrum                 47\n",
       "insula                    44\n",
       "globus pallidus           39\n",
       "ventral thalamus          34\n",
       "cerebellar nuclei         31\n",
       "white matter              15\n",
       "epithalamus               15\n",
       "subthalamus               14\n",
       "sulci & spaces             5\n",
       "brain                      3\n",
       "Name: top_struct, dtype: int64"
      ]
     },
     "execution_count": 21,
     "metadata": {},
     "output_type": "execute_result"
    }
   ],
   "source": [
    "print 'Number of unique top level structures = ', len(df.top_struct.value_counts())\n",
    "df.top_struct.value_counts()"
   ]
  },
  {
   "cell_type": "markdown",
   "metadata": {},
   "source": [
    "# Create separate dataframes  for interesting structures \n"
   ]
  },
  {
   "cell_type": "code",
   "execution_count": 22,
   "metadata": {
    "collapsed": true
   },
   "outputs": [],
   "source": [
    "all_structures = set(df.top_struct.values)\n",
    "\n",
    "def extract_struct_expression(df, roi, all_structs):\n",
    "    \n",
    "    drop_structs = [i for i in all_structures if roi not in i]\n",
    "    \n",
    "    df_roi = df[~df['top_struct'].isin(drop_structs)]\n",
    "    \n",
    "    return df_roi\n",
    "    \n",
    "df_frontal   = extract_struct_expression(df, 'frontal lobe', all_structures)\n",
    "df_temporal  = extract_struct_expression(df, 'temporal lobe', all_structures)\n",
    "df_parietal  = extract_struct_expression(df, 'parietal lobe', all_structures)\n",
    "df_occipital = extract_struct_expression(df, 'occipital lobe', all_structures)\n",
    "df_striatum  = extract_struct_expression(df, 'striatum', all_structures)"
   ]
  },
  {
   "cell_type": "markdown",
   "metadata": {},
   "source": [
    "# Lets do some gene-set fixed-effect correlations"
   ]
  },
  {
   "cell_type": "code",
   "execution_count": 25,
   "metadata": {
    "collapsed": true
   },
   "outputs": [],
   "source": [
    "# define plotting function \n",
    "\n",
    "cmap = sns.xkcd_palette([\"windows blue\", \"amber\", \"greyish\", \"faded green\", \"dusty purple\"])\n",
    "\n",
    "def plot(df, gs1,gs2, plot_struct=False):\n",
    "    sns.jointplot(df[gs1], df[gs2], kind = 'reg')\n",
    "    if plot_struct:\n",
    "        sns.jointplot(df_striatum[gs1],  df_striatum[gs2], kind = 'reg',color=cmap[0])\n",
    "        sns.jointplot(df_frontal[gs1],   df_frontal[gs2],  kind = 'reg',color=cmap[1])\n",
    "        sns.jointplot(df_parietal[gs1],  df_parietal[gs2], kind = 'reg',color=cmap[2])\n",
    "        sns.jointplot(df_temporal[gs1],  df_temporal[gs2], kind = 'reg',color=cmap[3])\n",
    "        sns.jointplot(df_occipital[gs1], df_occipital[gs2], kind = 'reg',color=cmap[4])\n"
   ]
  },
  {
   "cell_type": "code",
   "execution_count": 26,
   "metadata": {},
   "outputs": [
    {
     "data": {
      "image/png": "[encoded data removed]",
      "text/plain": [
       "<matplotlib.figure.Figure at 0x123f0fc90>"
      ]
     },
     "metadata": {},
     "output_type": "display_data"
    }
   ],
   "source": [
    "plot(df, 'iron','da')"
   ]
  },
  {
   "cell_type": "code",
   "execution_count": 27,
   "metadata": {},
   "outputs": [
    {
     "data": {
      "image/png": "[encoded data removed]",
      "text/plain": [
       "<matplotlib.figure.Figure at 0x11cd0d290>"
      ]
     },
     "metadata": {},
     "output_type": "display_data"
    }
   ],
   "source": [
    "plot(df, 'iron','hse')"
   ]
  },
  {
   "cell_type": "code",
   "execution_count": null,
   "metadata": {
    "collapsed": true
   },
   "outputs": [],
   "source": []
  },
  {
   "cell_type": "code",
   "execution_count": null,
   "metadata": {
    "collapsed": true
   },
   "outputs": [],
   "source": []
  },
  {
   "cell_type": "code",
   "execution_count": null,
   "metadata": {
    "collapsed": true
   },
   "outputs": [],
   "source": []
  },
  {
   "cell_type": "code",
   "execution_count": null,
   "metadata": {
    "collapsed": true
   },
   "outputs": [],
   "source": []
  },
  {
   "cell_type": "code",
   "execution_count": null,
   "metadata": {
    "collapsed": true
   },
   "outputs": [],
   "source": []
  },
  {
   "cell_type": "code",
   "execution_count": null,
   "metadata": {
    "collapsed": true
   },
   "outputs": [],
   "source": []
  },
  {
   "cell_type": "code",
   "execution_count": null,
   "metadata": {
    "collapsed": true
   },
   "outputs": [],
   "source": []
  },
  {
   "cell_type": "code",
   "execution_count": null,
   "metadata": {
    "collapsed": true
   },
   "outputs": [],
   "source": []
  }
 ],
 "metadata": {
  "kernelspec": {
   "display_name": "Python 2",
   "language": "python",
   "name": "python2"
  },
  "language_info": {
   "codemirror_mode": {
    "name": "ipython",
    "version": 2
   },
   "file_extension": ".py",
   "mimetype": "text/x-python",
   "name": "python",
   "nbconvert_exporter": "python",
   "pygments_lexer": "ipython2",
   "version": "2.7.13"
  }
 },
 "nbformat": 4,
 "nbformat_minor": 2
}
