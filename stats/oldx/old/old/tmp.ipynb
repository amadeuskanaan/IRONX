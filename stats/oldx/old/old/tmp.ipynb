{
 "cells": [
  {
   "cell_type": "code",
   "execution_count": 24,
   "metadata": {
    "collapsed": true
   },
   "outputs": [],
   "source": [
    "%matplotlib inline \n",
    "import numpy as np \n",
    "import seaborn as sns \n",
    "import matplotlib.pyplot as plt \n",
    "sns.set_style('white')\n"
   ]
  },
  {
   "cell_type": "code",
   "execution_count": 25,
   "metadata": {},
   "outputs": [],
   "source": [
    "r1 = np.random.normal(size = 1000)\n",
    "r2 = np.random.normal(size = 1000)"
   ]
  },
  {
   "cell_type": "code",
   "execution_count": 36,
   "metadata": {},
   "outputs": [
    {
     "data": {
      "text/plain": [
       "(0, 0.5)"
      ]
     },
     "execution_count": 36,
     "metadata": {},
     "output_type": "execute_result"
    },
    {
     "data": {
      "image/png": "[encoded data removed]",
      "text/plain": [
       "<matplotlib.figure.Figure at 0x10f464dd0>"
      ]
     },
     "metadata": {},
     "output_type": "display_data"
    }
   ],
   "source": [
    "sns.distplot(r1, hist=0, color='r')\n",
    "sns.distplot(r2-1, hist=0, color='b')\n",
    "\n",
    "plt.axvline(np.mean(r1), color='r', linestyle='solid',linewidth=2)\n",
    "plt.axvline(np.percentile(r1, 2.5), color='r', linestyle='-.', linewidth=1)\n",
    "plt.axvline(np.percentile(r1, 97.5), color='r', linestyle='-.', linewidth=1)\n",
    "\n",
    "plt.axvline(np.percentile(r2, 2.5), color='b', linestyle='-.', linewidth=1)\n",
    "plt.axvline(np.percentile(r2, 97.5), color='b', linestyle='-.', linewidth=1)\n",
    "\n",
    "plt.axvline(2.1, color='r', linestyle='solid', linewidth=5)\n",
    "plt.axvline(1.8, color='b', linestyle='solid', linewidth=5)\n",
    "\n",
    "plt.ylim(0,.5)"
   ]
  },
  {
   "cell_type": "code",
   "execution_count": 27,
   "metadata": {},
   "outputs": [
    {
     "data": {
      "text/plain": [
       "3"
      ]
     },
     "execution_count": 27,
     "metadata": {},
     "output_type": "execute_result"
    }
   ],
   "source": [
    "3"
   ]
  },
  {
   "cell_type": "code",
   "execution_count": null,
   "metadata": {
    "collapsed": true
   },
   "outputs": [],
   "source": []
  }
 ],
 "metadata": {
  "kernelspec": {
   "display_name": "Python 2",
   "language": "python",
   "name": "python2"
  },
  "language_info": {
   "codemirror_mode": {
    "name": "ipython",
    "version": 2
   },
   "file_extension": ".py",
   "mimetype": "text/x-python",
   "name": "python",
   "nbconvert_exporter": "python",
   "pygments_lexer": "ipython2",
   "version": "2.7.13"
  }
 },
 "nbformat": 4,
 "nbformat_minor": 2
}
