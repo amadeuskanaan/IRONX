{
 "cells": [
  {
   "cell_type": "code",
   "execution_count": 57,
   "metadata": {
    "collapsed": true
   },
   "outputs": [],
   "source": [
    "%matplotlib inline\n",
    "import os \n",
    "import numpy as np\n",
    "from numpy import mean, std\n",
    "import pandas as pd\n",
    "import seaborn as sns\n",
    "import matplotlib.pyplot as plt\n",
    "from scipy.stats import ttest_rel, ttest_ind, mannwhitneyu, wilcoxon, spearmanr,pearsonr, fisher_exact,kstest\n",
    "from scipy.stats import ks_2samp, kstest, anderson, anderson_ksamp, levene\n",
    "from statsmodels.sandbox.stats.multicomp import fdrcorrection0\n",
    "from sklearn import preprocessing\n",
    "import statsmodels.api as sm\n",
    "pd.options.display.max_columns = 999\n",
    "import statsmodels.formula.api as smf\n",
    "import scipy.stats as ss \n",
    "import math \n",
    "from outliers import smirnov_grubbs as grubbs\n",
    "titanic = sns.load_dataset(\"titanic\")\n",
    "\n",
    "plt.rcParams['font.family'] = 'Myriad Pro'\n",
    "sns.set_style('white')\n",
    "\n",
    "datadir       = '/Users/kanaan/Google Drive/TS-EUROTRAIN/RESULTS_QSMv3/JULY29'\n",
    "mrsdir        = '/Users/kanaan/SCR/Dataframes_20150820/REVISION_DF'\n",
    "clinical_dir  = '/Users/kanaan/SCR/Dataframes_20150820/DF_clinical/'\n",
    "savefigdir    = '/Users/kanaan/Google Drive/TS-EUROTRAIN/Papers/2016_QSM_paper/Figures_python'\n",
    "\n",
    "\n",
    "controls_drop = ['GSAT', 'TV1T', 'RMNT']# 'LL5T'['PU2T', 'RMNT', 'BH5T', 'TV1T', 'TJ5T', 'GSAT'] # Chi QC\n",
    "                   # GSAT removed since HSPP female removed \n",
    "patients_drop = ['LA9P',                           # Initial errors \n",
    "                 #'HJEP', 'CF1P', 'RMJP',           # Spatial QC\n",
    "                 'DF2P', 'HSPP', 'NL2P', 'BE9P'   # Chi QC\n",
    "                 #'KDDP'#test\n",
    "                 ]\n",
    "                 # LA9P initially removed due to qsm_recon error\n",
    "                 # AA8P initially removed due to heavy ghosting"
   ]
  },
  {
   "cell_type": "code",
   "execution_count": 58,
   "metadata": {},
   "outputs": [],
   "source": [
    "def get_gender_len(df):    \n",
    "    males   = [subject for subject in df.index if df.loc[subject]['Gender'] == 0]\n",
    "    females = [subject for subject in df.index if df.loc[subject]['Gender'] == 1]\n",
    "    return len(males), len(females)\n",
    "\n",
    "def get_all_dfs(population, drop):\n",
    "\n",
    "    df_qsm = pd.read_csv(os.path.join(datadir, '%s_matched.csv'%population), index_col = 0)\n",
    "\n",
    "    df_cln = pd.read_csv(os.path.join(clinical_dir, 'clinical_%s_a.csv'%(population)), index_col=0)\n",
    "    df_cln.columns = ['CLN_' + str(col) for col in df_cln.columns]    \n",
    "    \n",
    "    \n",
    "    df = pd.concat([df_qsm, df_cln], axis=1, join_axes=[df_qsm.index])\n",
    "    \n",
    "    return df.drop(drop,axis = 0)\n",
    "\n",
    "\n",
    "controls = get_all_dfs('controls', controls_drop)\n",
    "patients = get_all_dfs('patients', patients_drop)"
   ]
  },
  {
   "cell_type": "code",
   "execution_count": 59,
   "metadata": {},
   "outputs": [
    {
     "name": "stdout",
     "output_type": "stream",
     "text": [
      "--------------- Gender ---------------\n",
      "         Male Female\n",
      "Controls   28      5\n",
      "Patients   19      4\n",
      "\n",
      "FISCHER EXACT TEST: Odds Ratio= 1.18 P-Value= 1.0\n",
      "\n",
      "--------------- Age ---------------\n",
      "Controls Age =  34.76 ± 10.75\n",
      "Patients Age =  37.78 ± 10.11\n",
      "T-TEST(54) = Ttest_indResult(statistic=-1.0423737725665667, pvalue=0.30188275765961825)\n"
     ]
    }
   ],
   "source": [
    "def get_gender_age_stats(df1, df2):\n",
    "    \n",
    "    gender = pd.DataFrame(index =['Controls', 'Patients'], columns = ['Male', 'Female'])\n",
    "\n",
    "    gender.ix['Controls']['Male']   = get_gender_len(df1)[0]\n",
    "    gender.ix['Controls']['Female'] = get_gender_len(df1)[1]\n",
    "    gender.ix['Patients']['Male']   = get_gender_len(df2)[0]\n",
    "    gender.ix['Patients']['Female'] = get_gender_len(df2)[1]\n",
    "\n",
    "    print '--------------- Gender ---------------'\n",
    "    print gender\n",
    "    print ''\n",
    "    print 'FISCHER EXACT TEST:', 'Odds Ratio=',np.round(fisher_exact(gender)[0],2), 'P-Value=',np.round(fisher_exact(gender)[1],2)\n",
    "    print ''\n",
    "    print '--------------- Age ---------------'\n",
    "    print 'Controls Age = ', np.round(np.mean(df1.Age),2), '±', np.round(np.std(df1.Age),2)\n",
    "    print 'Patients Age = ', np.round(np.mean(df2.Age),2), '±', np.round(np.std(df2.Age),2)\n",
    "    print 'T-TEST(%s) ='%(len(df1.index)+len(df2.index)-2), ttest_ind(df1.Age.dropna(), df2.Age.dropna()) \n",
    "    \n",
    "get_gender_age_stats(controls, patients)"
   ]
  },
  {
   "cell_type": "code",
   "execution_count": 60,
   "metadata": {
    "collapsed": true
   },
   "outputs": [],
   "source": [
    "controls.to_csv(os.path.join(datadir, 'controls_qc.csv'))\n",
    "patients.to_csv(os.path.join(datadir, 'patients_qc.csv'))"
   ]
  },
  {
   "cell_type": "code",
   "execution_count": null,
   "metadata": {
    "collapsed": true
   },
   "outputs": [],
   "source": []
  },
  {
   "cell_type": "code",
   "execution_count": 61,
   "metadata": {},
   "outputs": [
    {
     "data": {
      "text/plain": [
       "<matplotlib.axes._subplots.AxesSubplot at 0x11fa68b10>"
      ]
     },
     "execution_count": 61,
     "metadata": {},
     "output_type": "execute_result"
    },
    {
     "data": {
      "image/png": "[encoded data removed]",
      "text/plain": [
       "<matplotlib.figure.Figure at 0x11fa59410>"
      ]
     },
     "metadata": {},
     "output_type": "display_data"
    }
   ],
   "source": [
    "%matplotlib inline\n",
    "import seaborn as sns \n",
    "sns.distplot(controls.Age, color= 'b')\n",
    "sns.distplot(patients.Age, color= 'r')"
   ]
  },
  {
   "cell_type": "code",
   "execution_count": null,
   "metadata": {
    "collapsed": true
   },
   "outputs": [],
   "source": []
  },
  {
   "cell_type": "code",
   "execution_count": null,
   "metadata": {
    "collapsed": true
   },
   "outputs": [],
   "source": []
  },
  {
   "cell_type": "code",
   "execution_count": null,
   "metadata": {},
   "outputs": [],
   "source": []
  },
  {
   "cell_type": "code",
   "execution_count": null,
   "metadata": {
    "collapsed": true
   },
   "outputs": [],
   "source": []
  },
  {
   "cell_type": "code",
   "execution_count": null,
   "metadata": {
    "collapsed": true
   },
   "outputs": [],
   "source": []
  },
  {
   "cell_type": "code",
   "execution_count": null,
   "metadata": {
    "collapsed": true
   },
   "outputs": [],
   "source": []
  },
  {
   "cell_type": "code",
   "execution_count": null,
   "metadata": {
    "collapsed": true
   },
   "outputs": [],
   "source": []
  },
  {
   "cell_type": "code",
   "execution_count": null,
   "metadata": {
    "collapsed": true
   },
   "outputs": [],
   "source": []
  },
  {
   "cell_type": "code",
   "execution_count": null,
   "metadata": {
    "collapsed": true
   },
   "outputs": [],
   "source": []
  },
  {
   "cell_type": "code",
   "execution_count": null,
   "metadata": {
    "collapsed": true
   },
   "outputs": [],
   "source": []
  },
  {
   "cell_type": "code",
   "execution_count": null,
   "metadata": {
    "collapsed": true
   },
   "outputs": [],
   "source": []
  },
  {
   "cell_type": "code",
   "execution_count": null,
   "metadata": {
    "collapsed": true
   },
   "outputs": [],
   "source": []
  },
  {
   "cell_type": "code",
   "execution_count": null,
   "metadata": {
    "collapsed": true
   },
   "outputs": [],
   "source": []
  },
  {
   "cell_type": "code",
   "execution_count": null,
   "metadata": {
    "collapsed": true
   },
   "outputs": [],
   "source": [
    "\n"
   ]
  }
 ],
 "metadata": {
  "kernelspec": {
   "display_name": "Python 2",
   "language": "python",
   "name": "python2"
  },
  "language_info": {
   "codemirror_mode": {
    "name": "ipython",
    "version": 2
   },
   "file_extension": ".py",
   "mimetype": "text/x-python",
   "name": "python",
   "nbconvert_exporter": "python",
   "pygments_lexer": "ipython2",
   "version": "2.7.13"
  }
 },
 "nbformat": 4,
 "nbformat_minor": 2
}
