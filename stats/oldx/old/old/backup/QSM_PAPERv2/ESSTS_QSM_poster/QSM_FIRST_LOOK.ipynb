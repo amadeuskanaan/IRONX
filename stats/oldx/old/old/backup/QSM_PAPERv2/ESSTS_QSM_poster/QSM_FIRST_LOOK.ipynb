{
 "cells": [
  {
   "cell_type": "code",
   "execution_count": 7,
   "metadata": {
    "collapsed": true
   },
   "outputs": [],
   "source": [
    "%matplotlib inline \n",
    "import os\n",
    "import pandas as pd \n",
    "import numpy as np\n",
    "import matplotlib.pyplot as plt\n",
    "import seaborn as sns \n",
    "from scipy.stats import ttest_ind, mannwhitneyu\n",
    "\n",
    "datadir = '/Users/kanaan/Google Drive/TS-EUROTRAIN/QSM_RESULTS'\n",
    "    \n",
    "datadir = '/Users/kanaan/Google Drive/TS-EUROTRAIN/Presentations/2016_06_ESSTS_warsaw_QSM'\n",
    "\n",
    "measures = ['SNR' , 'CNR' , 'FBER',  'QI1', \n",
    "            'R_Caud', 'L_Caud', 'R_Puta', 'L_Puta', 'R_Pall', 'L_Pall',\n",
    "            'R_Amyg', 'L_Amyg', 'R_Hipp', 'L_Hipp', 'R_Accu', 'L_Accu',\n",
    "            'R_Thal', 'L_Thal', \n",
    "            'L_ant_Insula', 'R_ant_Insula', 'L_inf_Insula', 'R_inf_Insula',\n",
    "            'L_sup_Insula', 'R_sup_Insula', 'L_Insula', 'R_Insula',\n",
    "            'L_ant_Cingulum', 'R_ant_Cingulum', 'L_ant_mid_Cingulum', 'R_ant_mid_Cingulum',\n",
    "            'L_post_mid_Cingulum', 'R_post_mid_Cingulum', 'L_post_dors_Cingulum',\n",
    "            'R_post_dors_Cingulum','L_post_vent_Cingulum', 'R_post_vent_Cingulum', 'L_Cingulum', 'R_Cingulum',\n",
    "            'L_RN', 'R_RN', 'L_STN', 'R_STN', 'L_SN', 'R_SN']\n"
   ]
  },
  {
   "cell_type": "markdown",
   "metadata": {},
   "source": [
    "# Info about quality measures used (calculated but yet to applied)\n",
    "http://preprocessed-connectomes-project.org/quality-assessment-protocol/"
   ]
  },
  {
   "cell_type": "markdown",
   "metadata": {},
   "source": [
    "# 1. Signal-to-Noise Ratio (SNR): \n",
    "- The mean of image values within gray matter divided by the standard deviation of the image values within air (i.e., outside the head). Higher values are better \n",
    "- Magnotta, V. A., & Friedman, L. (2006). Measurement of signal-to-noise and contrast-to-noise in the fBIRN multicenter imaging study. Journal of Digital Imaging, 19(2), 140-147. \n",
    " "
   ]
  },
  {
   "cell_type": "markdown",
   "metadata": {},
   "source": [
    "# 2. Contrast to Noise Ratio (CNR ): \n",
    "- Calculated as the mean of the gray matter values minus the mean of the white matter values, divided by the standard deviation of the air values. Higher values are better 1.\n",
    "- Magnotta, V. A., & Friedman, L. (2006). Measurement of signal-to-noise and contrast-to-noise in the fBIRN multicenter imaging study. Journal of Digital Imaging, 19(2), 140-147. \n"
   ]
  },
  {
   "cell_type": "markdown",
   "metadata": {},
   "source": [
    "# 3. Foreground to Background Energy Ratio (FBER): \n",
    "- Mean energy of image values (i.e., mean of squares) within the head relative to outside the head. Higher values are better.\n"
   ]
  },
  {
   "cell_type": "markdown",
   "metadata": {},
   "source": [
    "# 4. Artifact Detection (Qi1): \n",
    "- The proportion of voxels with intensity corrupted by artifacts normalized by the number of voxels in the background. Lower values are better 4.\n",
    "- Mortamet, B., Bernstein, M. A., Jack, C. R., Gunter, J. L., Ward, C., Britson, P. J., … & Krueger, G. (2009). Automatic quality assessment in structural brain magnetic resonance imaging. Magnetic Resonance in Medicine, 62(2), 365-372"
   ]
  },
  {
   "cell_type": "code",
   "execution_count": 8,
   "metadata": {
    "collapsed": true
   },
   "outputs": [],
   "source": [
    "def detect_outliers(df, measure):\n",
    "    mu = np.mean(df[measure])\n",
    "    sd = np.std(df[measure])\n",
    "    upper = mu +3*sd\n",
    "    lower = mu -3*sd\n",
    "    outliers = []\n",
    "    for subject in df.index:\n",
    "        i = df.loc[subject][measure]\n",
    "        if i > upper or i < lower:\n",
    "            outliers.append(subject)\n",
    "            #df.ix[subject, measure] = np.nan\n",
    "            print outliers\n",
    "            print 'OUTLIER: %s= %s, Limits= (%s,%s)'%(subject, i, lower, upper)\n",
    "    \n",
    "def make_stats():\n",
    "    df1 = pd.read_csv(os.path.join(datadir, 'controls_a.csv'), index_col = 0)\n",
    "    df2 = pd.read_csv(os.path.join(datadir, 'patients_a.csv'), index_col = 0)\n",
    "    qc_c = []\n",
    "    qc_p = ['CB4P', 'NL2P', 'YU1P', 'NL2P', 'RA9P', 'LA9P']\n",
    "    df = pd.DataFrame(index= [ 't_val', 'p_val',], columns=measures)\n",
    "    \n",
    "    for measure in measures:\n",
    "        detect_outliers(df1, measure)\n",
    "        detect_outliers(df2,measure)\n",
    "        t_val, p_val = ttest_ind(df1[measure].drop(qc_c, axis = 0), df2[measure].drop(qc_p, axis = 0))\n",
    "        df.ix['t_val'][measure] = np.round(t_val,2)        \n",
    "        df.ix['p_val'][measure] = np.round(p_val,2)\n",
    "        \n",
    "    return df"
   ]
  },
  {
   "cell_type": "code",
   "execution_count": 9,
   "metadata": {
    "collapsed": false
   },
   "outputs": [
    {
     "name": "stdout",
     "output_type": "stream",
     "text": [
      "['CB4P']\n",
      "OUTLIER: CB4P= -0.000141, Limits= (0.00340884086245,0.0719710448518)\n",
      "['CB4P']\n",
      "OUTLIER: CB4P= 0.000512, Limits= (0.000889817768601,0.0805254393743)\n",
      "['CB4P']\n",
      "OUTLIER: CB4P= -0.002482, Limits= (0.0181465117929,0.194886973921)\n",
      "['CB4P']\n",
      "OUTLIER: CB4P= -0.000341, Limits= (0.0016092509711,0.206775834743)\n",
      "['NL2P']\n",
      "OUTLIER: NL2P= -0.043773, Limits= (-0.0402709024484,0.0446527310198)\n",
      "['YU1P']\n",
      "OUTLIER: YU1P= -0.106159, Limits= (-0.101346665973,0.0883180374014)\n",
      "['NL2P']\n",
      "OUTLIER: NL2P= -0.030643, Limits= (-0.0285587602457,0.0512392745315)\n",
      "['LA9P']\n",
      "OUTLIER: LA9P= 0.065778, Limits= (-0.0591323149227,0.053350200637)\n",
      "['RA9P']\n",
      "OUTLIER: RA9P= -0.101961, Limits= (-0.10171270388,0.101378932451)\n",
      "['RA7T']\n",
      "OUTLIER: RA7T= 0.04207, Limits= (-0.0336157425304,0.0322574395)\n",
      "['LMIT']\n",
      "OUTLIER: LMIT= 0.012144, Limits= (-0.0130327728188,0.0107916819097)\n",
      "['SM6U']\n",
      "OUTLIER: SM6U= 0.015319, Limits= (-0.0120615219578,0.0130576933864)\n",
      "['PU2T']\n",
      "OUTLIER: PU2T= 0.233845, Limits= (-0.0151247031764,0.223509551661)\n",
      "['NL2P']\n",
      "OUTLIER: NL2P= 0.295103, Limits= (-0.0174561341551,0.281119505584)\n"
     ]
    },
    {
     "data": {
      "text/html": [
       "<div>\n",
       "<table border=\"1\" class=\"dataframe\">\n",
       "  <thead>\n",
       "    <tr style=\"text-align: right;\">\n",
       "      <th></th>\n",
       "      <th>SNR</th>\n",
       "      <th>CNR</th>\n",
       "      <th>FBER</th>\n",
       "      <th>QI1</th>\n",
       "      <th>R_Caud</th>\n",
       "      <th>L_Caud</th>\n",
       "      <th>R_Puta</th>\n",
       "      <th>L_Puta</th>\n",
       "      <th>R_Pall</th>\n",
       "      <th>L_Pall</th>\n",
       "      <th>...</th>\n",
       "      <th>L_post_vent_Cingulum</th>\n",
       "      <th>R_post_vent_Cingulum</th>\n",
       "      <th>L_Cingulum</th>\n",
       "      <th>R_Cingulum</th>\n",
       "      <th>L_RN</th>\n",
       "      <th>R_RN</th>\n",
       "      <th>L_STN</th>\n",
       "      <th>R_STN</th>\n",
       "      <th>L_SN</th>\n",
       "      <th>R_SN</th>\n",
       "    </tr>\n",
       "  </thead>\n",
       "  <tbody>\n",
       "    <tr>\n",
       "      <th>t_val</th>\n",
       "      <td>-0.51</td>\n",
       "      <td>0.01</td>\n",
       "      <td>-2.2</td>\n",
       "      <td>-0.88</td>\n",
       "      <td>-0.18</td>\n",
       "      <td>0.94</td>\n",
       "      <td>0.58</td>\n",
       "      <td>0.22</td>\n",
       "      <td>0.02</td>\n",
       "      <td>-0.57</td>\n",
       "      <td>...</td>\n",
       "      <td>0.28</td>\n",
       "      <td>-0.5</td>\n",
       "      <td>-1.51</td>\n",
       "      <td>0.35</td>\n",
       "      <td>0.32</td>\n",
       "      <td>1.92</td>\n",
       "      <td>0.29</td>\n",
       "      <td>1.23</td>\n",
       "      <td>-1.29</td>\n",
       "      <td>-0.64</td>\n",
       "    </tr>\n",
       "    <tr>\n",
       "      <th>p_val</th>\n",
       "      <td>0.61</td>\n",
       "      <td>1</td>\n",
       "      <td>0.03</td>\n",
       "      <td>0.38</td>\n",
       "      <td>0.86</td>\n",
       "      <td>0.35</td>\n",
       "      <td>0.56</td>\n",
       "      <td>0.82</td>\n",
       "      <td>0.98</td>\n",
       "      <td>0.57</td>\n",
       "      <td>...</td>\n",
       "      <td>0.78</td>\n",
       "      <td>0.62</td>\n",
       "      <td>0.14</td>\n",
       "      <td>0.73</td>\n",
       "      <td>0.75</td>\n",
       "      <td>0.06</td>\n",
       "      <td>0.77</td>\n",
       "      <td>0.22</td>\n",
       "      <td>0.2</td>\n",
       "      <td>0.52</td>\n",
       "    </tr>\n",
       "  </tbody>\n",
       "</table>\n",
       "<p>2 rows × 44 columns</p>\n",
       "</div>"
      ],
      "text/plain": [
       "        SNR   CNR  FBER   QI1 R_Caud L_Caud R_Puta L_Puta R_Pall L_Pall  ...   \\\n",
       "t_val -0.51  0.01  -2.2 -0.88  -0.18   0.94   0.58   0.22   0.02  -0.57  ...    \n",
       "p_val  0.61     1  0.03  0.38   0.86   0.35   0.56   0.82   0.98   0.57  ...    \n",
       "\n",
       "      L_post_vent_Cingulum R_post_vent_Cingulum L_Cingulum R_Cingulum  L_RN  \\\n",
       "t_val                 0.28                 -0.5      -1.51       0.35  0.32   \n",
       "p_val                 0.78                 0.62       0.14       0.73  0.75   \n",
       "\n",
       "       R_RN L_STN R_STN  L_SN  R_SN  \n",
       "t_val  1.92  0.29  1.23 -1.29 -0.64  \n",
       "p_val  0.06  0.77  0.22   0.2  0.52  \n",
       "\n",
       "[2 rows x 44 columns]"
      ]
     },
     "execution_count": 9,
     "metadata": {},
     "output_type": "execute_result"
    }
   ],
   "source": [
    "make_stats()"
   ]
  },
  {
   "cell_type": "code",
   "execution_count": null,
   "metadata": {
    "collapsed": false
   },
   "outputs": [],
   "source": []
  },
  {
   "cell_type": "code",
   "execution_count": null,
   "metadata": {
    "collapsed": false
   },
   "outputs": [],
   "source": []
  },
  {
   "cell_type": "code",
   "execution_count": null,
   "metadata": {
    "collapsed": false
   },
   "outputs": [],
   "source": []
  },
  {
   "cell_type": "code",
   "execution_count": null,
   "metadata": {
    "collapsed": true
   },
   "outputs": [],
   "source": []
  },
  {
   "cell_type": "code",
   "execution_count": null,
   "metadata": {
    "collapsed": true
   },
   "outputs": [],
   "source": []
  },
  {
   "cell_type": "code",
   "execution_count": null,
   "metadata": {
    "collapsed": true
   },
   "outputs": [],
   "source": []
  },
  {
   "cell_type": "code",
   "execution_count": null,
   "metadata": {
    "collapsed": true
   },
   "outputs": [],
   "source": []
  },
  {
   "cell_type": "code",
   "execution_count": null,
   "metadata": {
    "collapsed": true
   },
   "outputs": [],
   "source": []
  },
  {
   "cell_type": "code",
   "execution_count": null,
   "metadata": {
    "collapsed": true
   },
   "outputs": [],
   "source": []
  },
  {
   "cell_type": "code",
   "execution_count": null,
   "metadata": {
    "collapsed": true
   },
   "outputs": [],
   "source": []
  },
  {
   "cell_type": "code",
   "execution_count": null,
   "metadata": {
    "collapsed": true
   },
   "outputs": [],
   "source": []
  },
  {
   "cell_type": "code",
   "execution_count": null,
   "metadata": {
    "collapsed": true
   },
   "outputs": [],
   "source": []
  },
  {
   "cell_type": "code",
   "execution_count": null,
   "metadata": {
    "collapsed": true
   },
   "outputs": [],
   "source": []
  },
  {
   "cell_type": "code",
   "execution_count": null,
   "metadata": {
    "collapsed": true
   },
   "outputs": [],
   "source": []
  }
 ],
 "metadata": {
  "kernelspec": {
   "display_name": "Python 2",
   "language": "python",
   "name": "python2"
  },
  "language_info": {
   "codemirror_mode": {
    "name": "ipython",
    "version": 2
   },
   "file_extension": ".py",
   "mimetype": "text/x-python",
   "name": "python",
   "nbconvert_exporter": "python",
   "pygments_lexer": "ipython2",
   "version": "2.7.11"
  }
 },
 "nbformat": 4,
 "nbformat_minor": 0
}
