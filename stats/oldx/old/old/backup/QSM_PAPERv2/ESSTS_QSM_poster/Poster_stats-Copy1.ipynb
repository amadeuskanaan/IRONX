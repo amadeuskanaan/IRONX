{
 "cells": [
  {
   "cell_type": "code",
   "execution_count": 1,
   "metadata": {
    "collapsed": false
   },
   "outputs": [],
   "source": [
    "%matplotlib inline\n",
    "import os \n",
    "import numpy as np\n",
    "from numpy import mean, std\n",
    "import pandas as pd\n",
    "import seaborn as sns\n",
    "import matplotlib.pyplot as plt\n",
    "from scipy.stats import ttest_rel, ttest_ind, mannwhitneyu, wilcoxon\n",
    "import statsmodels.api as sm\n",
    "pd.options.display.max_columns = 99\n",
    "import statsmodels.formula.api as smf\n",
    "import math \n",
    "import scipy.stats as ss\n",
    "plt.rcParams['font.family'] = 'Myriad Pro'\n",
    "sns.set_style('white')\n",
    "\n",
    "clinical_dir  = '/Users/kanaan/SCR/Dataframes_20150820/DF_clinical/'\n",
    "datadir = '/Users/kanaan/Google Drive/TS-EUROTRAIN/Presentations/2016_06_ESSTS_QSM'\n",
    "\n",
    "measures = [ #'Age','SNR' , 'CNR' , 'FBER',  'QI1', \n",
    "            # 'R_Caud', 'L_Caud', 'R_Puta', 'L_Puta', 'R_Pall', 'L_Pall',\n",
    "            # 'R_Amyg', 'L_Amyg', 'R_Hipp', 'L_Hipp', 'R_Accu', 'L_Accu',\n",
    "            # 'R_Thal', 'L_Thal', 'L_Insula', 'R_Insula', 'L_Cingulum', 'R_Cingulum', \n",
    "            # 'L_ant_Insula', 'R_ant_Insula', 'L_inf_Insula', 'R_inf_Insula',  'L_sup_Insula', 'R_sup_Insula', \n",
    "            # 'L_ant_Cingulum', 'R_ant_Cingulum', 'L_ant_mid_Cingulum', 'R_ant_mid_Cingulum',\n",
    "            # 'L_post_mid_Cingulum', 'R_post_mid_Cingulum', 'L_post_dors_Cingulum',\n",
    "            # 'R_post_dors_Cingulum','L_post_vent_Cingulum', 'R_post_vent_Cingulum', \n",
    "            # 'L_RN', 'R_RN', 'L_STN', 'R_STN', 'L_SN', 'R_SN',\n",
    "             'Caud', 'Puta', 'Pall', 'Thal', 'Accu', 'Amyg', 'Hipp', 'RN', 'SN','STN',\n",
    "             'Insula', #'ant_Insula', 'inf_Insula', 'sup_Insula',\n",
    "             'Cingulum',# 'post_mid_Cingulum', 'post_dors_Cingulum','post_vent_Cingulum', 'ant_Cingulum', 'ant_mid_Cingulum',\n",
    "            'BrainStem', 'BasalGanglia', 'Brain', 'GM', 'WM', 'CSF'\n",
    "            ]\n",
    "\n",
    "drop_c =  []\n",
    "drop_p = ['NL2P', 'STDP', 'HSPP', 'CB4P', 'SA5U']  # Based on quality control of MP2RAGE_UNI \n",
    "drop_p = ['HSPP', 'THCP', 'CB4P', 'LA9P', 'RA9P', 'SA5U']\n",
    "#drop_p = []"
   ]
  },
  {
   "cell_type": "code",
   "execution_count": 2,
   "metadata": {
    "collapsed": false
   },
   "outputs": [],
   "source": [
    "def plot(df1,df2,measure):\n",
    "    palette = sns.xkcd_palette([ \"red\", 'blue'])\n",
    "    data = [df1[measure], df2[measure]]\n",
    "    sns.violinplot(data=data, palette= palette)\n",
    "    sns.stripplot(data=data,palette= palette, jitter=1)\n",
    "\n",
    "    \n",
    "def detect_outliers(df, measure):\n",
    "    mu = np.mean(df[measure])\n",
    "    sd = np.std(df[measure])\n",
    "    thresh = 3\n",
    "    upper = mu +thresh*sd\n",
    "    lower = mu -thresh*sd\n",
    "    outliers = []\n",
    "    for subject in df.index:\n",
    "        i = df.loc[subject][measure]\n",
    "        if i > upper or i < lower:\n",
    "            outliers.append(subject)\n",
    "            df.ix[subject, measure] = np.nan\n",
    "            print outliers\n",
    "            print 'OUTLIER: %s %s= %s, Limits= (%s,%s)'%(subject, measure, i, lower, upper)\n",
    "    \n",
    "    return outliers\n",
    "\n",
    "def plot_partial_correlation(data, x, y,  regressors = None, color = None, annotate = None, fig_name = None, \n",
    "                             dpi = 100, labels = True, jitter = None):\n",
    "    \n",
    "    regressors_columns = [data[regressor] for regressor in regressors]\n",
    "    df_reg = pd.concat(regressors_columns, axis = 1).dropna(axis=0) \n",
    "    df = pd.concat([df_reg, data[x], data[y]], axis=1).dropna()\n",
    "    \n",
    "    # inititlize grid and plot regression and margins \n",
    "    grid = sns.JointGrid(x, y, data=df)#, size=size, ratio=ratio, space=space, #xlim=xlim, ylim=ylim), xlim=xlim, ylim=ylim\n",
    "    grid.plot_marginals(sns.distplot, color = color, hist=False, kde = True, rug = 0, kde_kws={'shade':True})  \n",
    "    \n",
    "    grid.plot_joint(sns.regplot, color = color, x_partial = df[regressors], y_jitter = jitter)\n",
    "    if labels:\n",
    "        grid.set_axis_labels(x, y, fontsize= 15, weight='bold', color='blue', labelpad=10)\n",
    "    else:\n",
    "        grid.set_axis_labels(None,None)\n",
    "        \n",
    "    ## calculate regression parameters \n",
    "    \n",
    "    formula = [ '%s ~ %s'%(y,x) + ' + %s'%regressor for regressor in regressors][0]\n",
    "    model   = smf.ols(formula=formula, data= df)\n",
    "    result = model.fit() \n",
    "    p_val  = np.round(result.pvalues[1], 3)\n",
    "    pcor   = math.copysign(np.round(np.sqrt(result.rsquared), 3) , result.params[1])\n",
    "    \n",
    "    if annotate:\n",
    "        plt.annotate('R=%s, P=%s' %(pcor, p_val), xy = annotate, fontsize = 13,  color='r')\n",
    "                      \n",
    "    if fig_name:\n",
    "        plt.savefig(os.path.join(save_fig_dir, fig_name), dpi = dpi, bbox_inches='tight', transparent = True)\n",
    "\n",
    "df1 = pd.read_csv(os.path.join(datadir, 'controls_a.csv'), index_col = 0)\n",
    "df2 = pd.read_csv(os.path.join(datadir, 'patients_a.csv'), index_col = 0)\n",
    "\n",
    "df1['Brain'] = df1.GM + df1.WM + df1.CSF\n",
    "df2['Brain'] = df2.GM + df2.WM + df2.CSF"
   ]
  },
  {
   "cell_type": "code",
   "execution_count": 9,
   "metadata": {
    "collapsed": false
   },
   "outputs": [
    {
     "data": {
      "text/plain": [
       "22"
      ]
     },
     "execution_count": 9,
     "metadata": {},
     "output_type": "execute_result"
    }
   ],
   "source": [
    "df1 = pd.read_csv(os.path.join(datadir, 'controls_a.csv'), index_col = 0)\n",
    "len(df1)"
   ]
  },
  {
   "cell_type": "code",
   "execution_count": 3,
   "metadata": {
    "collapsed": false,
    "scrolled": false
   },
   "outputs": [
    {
     "name": "stdout",
     "output_type": "stream",
     "text": [
      "Caud p = 0.045\n",
      "Puta p = 0.031\n",
      "Hipp p = 0.026\n",
      "SN p = 0.024\n",
      "BrainStem p = 0.028\n",
      "WM p = 0.047\n"
     ]
    },
    {
     "data": {
      "text/html": [
       "<div>\n",
       "<table border=\"1\" class=\"dataframe\">\n",
       "  <thead>\n",
       "    <tr style=\"text-align: right;\">\n",
       "      <th></th>\n",
       "      <th>Controls</th>\n",
       "      <th>Patients</th>\n",
       "      <th>Z</th>\n",
       "      <th>p_val</th>\n",
       "    </tr>\n",
       "  </thead>\n",
       "  <tbody>\n",
       "    <tr>\n",
       "      <th>SN</th>\n",
       "      <td>11.23±2.43</td>\n",
       "      <td>10.29±4.29</td>\n",
       "      <td>125</td>\n",
       "      <td>0.02436</td>\n",
       "    </tr>\n",
       "    <tr>\n",
       "      <th>Hipp</th>\n",
       "      <td>-1.44±0.9</td>\n",
       "      <td>-2.1±1.25</td>\n",
       "      <td>126</td>\n",
       "      <td>0.02596</td>\n",
       "    </tr>\n",
       "    <tr>\n",
       "      <th>BrainStem</th>\n",
       "      <td>6.05±2.87</td>\n",
       "      <td>4.35±3.02</td>\n",
       "      <td>127</td>\n",
       "      <td>0.02764</td>\n",
       "    </tr>\n",
       "    <tr>\n",
       "      <th>Puta</th>\n",
       "      <td>0.75±1.54</td>\n",
       "      <td>-0.14±1.63</td>\n",
       "      <td>129</td>\n",
       "      <td>0.03128</td>\n",
       "    </tr>\n",
       "    <tr>\n",
       "      <th>Caud</th>\n",
       "      <td>1.8±1.23</td>\n",
       "      <td>1.18±0.82</td>\n",
       "      <td>135</td>\n",
       "      <td>0.04465</td>\n",
       "    </tr>\n",
       "    <tr>\n",
       "      <th>WM</th>\n",
       "      <td>-2.98±0.78</td>\n",
       "      <td>-3.52±0.99</td>\n",
       "      <td>136</td>\n",
       "      <td>0.04727</td>\n",
       "    </tr>\n",
       "    <tr>\n",
       "      <th>STN</th>\n",
       "      <td>1.43±3.33</td>\n",
       "      <td>-0.63±2.72</td>\n",
       "      <td>137</td>\n",
       "      <td>0.05001</td>\n",
       "    </tr>\n",
       "    <tr>\n",
       "      <th>Accu</th>\n",
       "      <td>-2.2±1.93</td>\n",
       "      <td>-2.98±1.66</td>\n",
       "      <td>139</td>\n",
       "      <td>0.05587</td>\n",
       "    </tr>\n",
       "    <tr>\n",
       "      <th>GM</th>\n",
       "      <td>-2.18±0.7</td>\n",
       "      <td>-2.66±0.9</td>\n",
       "      <td>139</td>\n",
       "      <td>0.05587</td>\n",
       "    </tr>\n",
       "    <tr>\n",
       "      <th>RN</th>\n",
       "      <td>5.5±4.06</td>\n",
       "      <td>3.41±3.71</td>\n",
       "      <td>140</td>\n",
       "      <td>0.059</td>\n",
       "    </tr>\n",
       "    <tr>\n",
       "      <th>Brain</th>\n",
       "      <td>-7.13±2.21</td>\n",
       "      <td>-8.62±2.83</td>\n",
       "      <td>140</td>\n",
       "      <td>0.059</td>\n",
       "    </tr>\n",
       "    <tr>\n",
       "      <th>BasalGanglia</th>\n",
       "      <td>1.98±1.02</td>\n",
       "      <td>1.24±1.2</td>\n",
       "      <td>145</td>\n",
       "      <td>0.07675</td>\n",
       "    </tr>\n",
       "    <tr>\n",
       "      <th>CSF</th>\n",
       "      <td>-1.98±0.8</td>\n",
       "      <td>-2.44±1.0</td>\n",
       "      <td>146</td>\n",
       "      <td>0.08074</td>\n",
       "    </tr>\n",
       "    <tr>\n",
       "      <th>Amyg</th>\n",
       "      <td>-3.38±1.25</td>\n",
       "      <td>-4.01±1.46</td>\n",
       "      <td>148</td>\n",
       "      <td>0.0892</td>\n",
       "    </tr>\n",
       "    <tr>\n",
       "      <th>Pall</th>\n",
       "      <td>7.57±1.69</td>\n",
       "      <td>6.92±2.29</td>\n",
       "      <td>154</td>\n",
       "      <td>0.11848</td>\n",
       "    </tr>\n",
       "    <tr>\n",
       "      <th>Cingulum</th>\n",
       "      <td>-2.56±0.82</td>\n",
       "      <td>-2.82±1.05</td>\n",
       "      <td>163</td>\n",
       "      <td>0.17414</td>\n",
       "    </tr>\n",
       "    <tr>\n",
       "      <th>Thal</th>\n",
       "      <td>-3.24±1.21</td>\n",
       "      <td>-3.52±1.08</td>\n",
       "      <td>164</td>\n",
       "      <td>0.18122</td>\n",
       "    </tr>\n",
       "    <tr>\n",
       "      <th>Insula</th>\n",
       "      <td>-2.96±1.03</td>\n",
       "      <td>-3.05±0.9</td>\n",
       "      <td>177</td>\n",
       "      <td>0.28865</td>\n",
       "    </tr>\n",
       "  </tbody>\n",
       "</table>\n",
       "</div>"
      ],
      "text/plain": [
       "                Controls    Patients    Z    p_val\n",
       "SN            11.23±2.43  10.29±4.29  125  0.02436\n",
       "Hipp           -1.44±0.9   -2.1±1.25  126  0.02596\n",
       "BrainStem      6.05±2.87   4.35±3.02  127  0.02764\n",
       "Puta           0.75±1.54  -0.14±1.63  129  0.03128\n",
       "Caud            1.8±1.23   1.18±0.82  135  0.04465\n",
       "WM            -2.98±0.78  -3.52±0.99  136  0.04727\n",
       "STN            1.43±3.33  -0.63±2.72  137  0.05001\n",
       "Accu           -2.2±1.93  -2.98±1.66  139  0.05587\n",
       "GM             -2.18±0.7   -2.66±0.9  139  0.05587\n",
       "RN              5.5±4.06   3.41±3.71  140    0.059\n",
       "Brain         -7.13±2.21  -8.62±2.83  140    0.059\n",
       "BasalGanglia   1.98±1.02    1.24±1.2  145  0.07675\n",
       "CSF            -1.98±0.8   -2.44±1.0  146  0.08074\n",
       "Amyg          -3.38±1.25  -4.01±1.46  148   0.0892\n",
       "Pall           7.57±1.69   6.92±2.29  154  0.11848\n",
       "Cingulum      -2.56±0.82  -2.82±1.05  163  0.17414\n",
       "Thal          -3.24±1.21  -3.52±1.08  164  0.18122\n",
       "Insula        -2.96±1.03   -3.05±0.9  177  0.28865"
      ]
     },
     "execution_count": 3,
     "metadata": {},
     "output_type": "execute_result"
    }
   ],
   "source": [
    "def make_ttest():\n",
    "    df1 = pd.read_csv(os.path.join(datadir, 'controls_a.csv'), index_col = 0)\n",
    "    df2 = pd.read_csv(os.path.join(datadir, 'patients_a.csv'), index_col = 0)\n",
    "\n",
    "    df1['Brain'] = df1.GM + df1.WM + df1.CSF\n",
    "    df2['Brain'] = df2.GM + df2.WM + df2.CSF\n",
    "    df = pd.DataFrame(index= ['Controls', 'Patients', 'Z', 'p_val',], columns=measures)\n",
    "    for measure in measures:\n",
    "        #drop_c = detect_outliers(df1, measure)\n",
    "        #drop_p = detect_outliers(df2, measure)\n",
    "        t_val, p_val = mannwhitneyu(df1[measure], df2[measure].drop(drop_p, axis = 0))\n",
    "        #t_val, p_val = ttest_ind(df1[measure], df2[measure].drop(drop_p, axis = 0))\n",
    "        x = 100\n",
    "        df.ix['Controls'][measure] = '%s±%s'%(x*np.round(np.mean(df1[measure]),4), \n",
    "                                              x*np.round(np.std(df1[measure]),4))     \n",
    "        df.ix['Patients'][measure] = '%s±%s'%(x*np.round(np.mean(df2[measure].drop(drop_p, axis = 0)),4), \n",
    "                                              x*np.round(np.std(df2[measure].drop(drop_p, axis = 0)),4))   \n",
    "        df.ix['Z'][measure] = np.round(t_val,2)        \n",
    "        df.ix['p_val'][measure] = np.round(p_val,5)\n",
    "        \n",
    "        if p_val < 0.05:\n",
    "            print measure, 'p =', np.round(p_val,3)\n",
    "        \n",
    "    return df.T\n",
    "x = make_ttest()\n",
    "x.sort(columns='p_val')"
   ]
  },
  {
   "cell_type": "code",
   "execution_count": 4,
   "metadata": {
    "collapsed": false
   },
   "outputs": [
    {
     "data": {
      "text/html": [
       "<div>\n",
       "<table border=\"1\" class=\"dataframe\">\n",
       "  <thead>\n",
       "    <tr style=\"text-align: right;\">\n",
       "      <th></th>\n",
       "      <th>p_val</th>\n",
       "    </tr>\n",
       "  </thead>\n",
       "  <tbody>\n",
       "    <tr>\n",
       "      <th>SN</th>\n",
       "      <td>0.02436</td>\n",
       "    </tr>\n",
       "    <tr>\n",
       "      <th>Hipp</th>\n",
       "      <td>0.02596</td>\n",
       "    </tr>\n",
       "    <tr>\n",
       "      <th>BrainStem</th>\n",
       "      <td>0.02764</td>\n",
       "    </tr>\n",
       "    <tr>\n",
       "      <th>Puta</th>\n",
       "      <td>0.03128</td>\n",
       "    </tr>\n",
       "    <tr>\n",
       "      <th>Caud</th>\n",
       "      <td>0.04465</td>\n",
       "    </tr>\n",
       "    <tr>\n",
       "      <th>WM</th>\n",
       "      <td>0.04727</td>\n",
       "    </tr>\n",
       "    <tr>\n",
       "      <th>STN</th>\n",
       "      <td>0.05001</td>\n",
       "    </tr>\n",
       "    <tr>\n",
       "      <th>Accu</th>\n",
       "      <td>0.05587</td>\n",
       "    </tr>\n",
       "    <tr>\n",
       "      <th>GM</th>\n",
       "      <td>0.05587</td>\n",
       "    </tr>\n",
       "    <tr>\n",
       "      <th>RN</th>\n",
       "      <td>0.059</td>\n",
       "    </tr>\n",
       "    <tr>\n",
       "      <th>Brain</th>\n",
       "      <td>0.059</td>\n",
       "    </tr>\n",
       "    <tr>\n",
       "      <th>BasalGanglia</th>\n",
       "      <td>0.07675</td>\n",
       "    </tr>\n",
       "    <tr>\n",
       "      <th>CSF</th>\n",
       "      <td>0.08074</td>\n",
       "    </tr>\n",
       "    <tr>\n",
       "      <th>Amyg</th>\n",
       "      <td>0.0892</td>\n",
       "    </tr>\n",
       "    <tr>\n",
       "      <th>Pall</th>\n",
       "      <td>0.11848</td>\n",
       "    </tr>\n",
       "    <tr>\n",
       "      <th>Cingulum</th>\n",
       "      <td>0.17414</td>\n",
       "    </tr>\n",
       "    <tr>\n",
       "      <th>Thal</th>\n",
       "      <td>0.18122</td>\n",
       "    </tr>\n",
       "    <tr>\n",
       "      <th>Insula</th>\n",
       "      <td>0.28865</td>\n",
       "    </tr>\n",
       "  </tbody>\n",
       "</table>\n",
       "</div>"
      ],
      "text/plain": [
       "                p_val\n",
       "SN            0.02436\n",
       "Hipp          0.02596\n",
       "BrainStem     0.02764\n",
       "Puta          0.03128\n",
       "Caud          0.04465\n",
       "WM            0.04727\n",
       "STN           0.05001\n",
       "Accu          0.05587\n",
       "GM            0.05587\n",
       "RN              0.059\n",
       "Brain           0.059\n",
       "BasalGanglia  0.07675\n",
       "CSF           0.08074\n",
       "Amyg           0.0892\n",
       "Pall          0.11848\n",
       "Cingulum      0.17414\n",
       "Thal          0.18122\n",
       "Insula        0.28865"
      ]
     },
     "execution_count": 4,
     "metadata": {},
     "output_type": "execute_result"
    }
   ],
   "source": [
    "pd.DataFrame(x.p_val).sort(columns='p_val')"
   ]
  },
  {
   "cell_type": "code",
   "execution_count": 5,
   "metadata": {
    "collapsed": false
   },
   "outputs": [
    {
     "data": {
      "text/html": [
       "<div>\n",
       "<table border=\"1\" class=\"dataframe\">\n",
       "  <thead>\n",
       "    <tr style=\"text-align: right;\">\n",
       "      <th></th>\n",
       "      <th>p</th>\n",
       "      <th>FDR_threshold</th>\n",
       "    </tr>\n",
       "  </thead>\n",
       "  <tbody>\n",
       "    <tr>\n",
       "      <th>SN_p_val</th>\n",
       "      <td>0.02436</td>\n",
       "      <td>0.003</td>\n",
       "    </tr>\n",
       "    <tr>\n",
       "      <th>Hipp_p_val</th>\n",
       "      <td>0.02596</td>\n",
       "      <td>0.006</td>\n",
       "    </tr>\n",
       "    <tr>\n",
       "      <th>BrainStem_p_val</th>\n",
       "      <td>0.02764</td>\n",
       "      <td>0.008</td>\n",
       "    </tr>\n",
       "    <tr>\n",
       "      <th>Puta_p_val</th>\n",
       "      <td>0.03128</td>\n",
       "      <td>0.011</td>\n",
       "    </tr>\n",
       "    <tr>\n",
       "      <th>Caud_p_val</th>\n",
       "      <td>0.04465</td>\n",
       "      <td>0.014</td>\n",
       "    </tr>\n",
       "    <tr>\n",
       "      <th>WM_p_val</th>\n",
       "      <td>0.04727</td>\n",
       "      <td>0.017</td>\n",
       "    </tr>\n",
       "    <tr>\n",
       "      <th>STN_p_val</th>\n",
       "      <td>0.05001</td>\n",
       "      <td>0.019</td>\n",
       "    </tr>\n",
       "    <tr>\n",
       "      <th>GM_p_val</th>\n",
       "      <td>0.05587</td>\n",
       "      <td>0.022</td>\n",
       "    </tr>\n",
       "    <tr>\n",
       "      <th>Accu_p_val</th>\n",
       "      <td>0.05587</td>\n",
       "      <td>0.025</td>\n",
       "    </tr>\n",
       "    <tr>\n",
       "      <th>RN_p_val</th>\n",
       "      <td>0.05900</td>\n",
       "      <td>0.028</td>\n",
       "    </tr>\n",
       "    <tr>\n",
       "      <th>Brain_p_val</th>\n",
       "      <td>0.05900</td>\n",
       "      <td>0.031</td>\n",
       "    </tr>\n",
       "    <tr>\n",
       "      <th>BasalGanglia_p_val</th>\n",
       "      <td>0.07675</td>\n",
       "      <td>0.033</td>\n",
       "    </tr>\n",
       "    <tr>\n",
       "      <th>CSF_p_val</th>\n",
       "      <td>0.08074</td>\n",
       "      <td>0.036</td>\n",
       "    </tr>\n",
       "    <tr>\n",
       "      <th>Amyg_p_val</th>\n",
       "      <td>0.08920</td>\n",
       "      <td>0.039</td>\n",
       "    </tr>\n",
       "    <tr>\n",
       "      <th>Pall_p_val</th>\n",
       "      <td>0.11848</td>\n",
       "      <td>0.042</td>\n",
       "    </tr>\n",
       "    <tr>\n",
       "      <th>Cingulum_p_val</th>\n",
       "      <td>0.17414</td>\n",
       "      <td>0.044</td>\n",
       "    </tr>\n",
       "    <tr>\n",
       "      <th>Thal_p_val</th>\n",
       "      <td>0.18122</td>\n",
       "      <td>0.047</td>\n",
       "    </tr>\n",
       "    <tr>\n",
       "      <th>Insula_p_val</th>\n",
       "      <td>0.28865</td>\n",
       "      <td>0.050</td>\n",
       "    </tr>\n",
       "  </tbody>\n",
       "</table>\n",
       "</div>"
      ],
      "text/plain": [
       "                          p  FDR_threshold\n",
       "SN_p_val            0.02436          0.003\n",
       "Hipp_p_val          0.02596          0.006\n",
       "BrainStem_p_val     0.02764          0.008\n",
       "Puta_p_val          0.03128          0.011\n",
       "Caud_p_val          0.04465          0.014\n",
       "WM_p_val            0.04727          0.017\n",
       "STN_p_val           0.05001          0.019\n",
       "GM_p_val            0.05587          0.022\n",
       "Accu_p_val          0.05587          0.025\n",
       "RN_p_val            0.05900          0.028\n",
       "Brain_p_val         0.05900          0.031\n",
       "BasalGanglia_p_val  0.07675          0.033\n",
       "CSF_p_val           0.08074          0.036\n",
       "Amyg_p_val          0.08920          0.039\n",
       "Pall_p_val          0.11848          0.042\n",
       "Cingulum_p_val      0.17414          0.044\n",
       "Thal_p_val          0.18122          0.047\n",
       "Insula_p_val        0.28865          0.050"
      ]
     },
     "execution_count": 5,
     "metadata": {},
     "output_type": "execute_result"
    }
   ],
   "source": [
    "def make_fdr(df):\n",
    "    fdr = pd.DataFrame()\n",
    "    for i in df.index:\n",
    "        for c in df.columns:\n",
    "            fdr.ix['%s_%s'%(i,c),'p'] = df.loc[i][c]\n",
    "    fdr = fdr.dropna()\n",
    "    fdr = fdr.sort('p')\n",
    "    \n",
    "    n_comparisons = len(fdr.index)\n",
    "    for i, corr in enumerate(fdr.index):\n",
    "        fdr.ix[corr, 'FDR_threshold'] = np.round((0.05 * (i + 1.) / n_comparisons), 3)\n",
    "        \n",
    "    return fdr.reindex()\n",
    "\n",
    "make_fdr(pd.DataFrame(x.p_val))"
   ]
  },
  {
   "cell_type": "code",
   "execution_count": null,
   "metadata": {
    "collapsed": false
   },
   "outputs": [],
   "source": []
  },
  {
   "cell_type": "code",
   "execution_count": 6,
   "metadata": {
    "collapsed": false
   },
   "outputs": [],
   "source": [
    "controls_a = pd.read_csv(os.path.join(datadir, 'controls_a.csv'), index_col = 0)\n",
    "patients_a = pd.read_csv(os.path.join(datadir, 'patients_a.csv'), index_col = 0)"
   ]
  },
  {
   "cell_type": "code",
   "execution_count": 7,
   "metadata": {
    "collapsed": false
   },
   "outputs": [],
   "source": [
    "def get_clinical(df, pop_name):\n",
    "    clinical_df = pd.read_csv(os.path.join(clinical_dir, 'clinical_%s.csv'%pop_name), index_col=0)\n",
    "    \n",
    "    for subject in df.index:\n",
    "        if subject in clinical_df.index:\n",
    "            df.ix[subject, 'YGTSS']             = clinical_df.loc[subject]['YGTSS_Total_Tic_Score']\n",
    "            df.ix[subject, 'RVTRS']             = clinical_df.loc[subject]['RVTRS']\n",
    "            df.ix[subject, 'PUTS']              = clinical_df.loc[subject]['puts']\n",
    "            df.ix[subject, 'YBOCS']             = clinical_df.loc[subject]['YBOCS_Totalscore_Items_1to10']\n",
    "            df.ix[subject, 'OCI']               = clinical_df.loc[subject]['OCIR_total score']\n",
    "            df.ix[subject, 'CAARS' ]            = clinical_df.loc[subject]['CAARS_Score_ADHS_Symptoms_Total_Cat_G_T_Score']\n",
    "            df.ix[subject, 'DSM4']              = clinical_df.loc[subject]['DSM4_clinically_significant_ADHD']\n",
    "            df.ix[subject, 'QOL']               = clinical_df.loc[subject]['qol_scale']\n",
    "            df.ix[subject, 'QOLs']              = clinical_df.loc[subject]['qol_score']\n",
    "            df.ix[subject, 'BDI']               = clinical_df.loc[subject]['BDI12']\n",
    "            df.ix[subject, 'Ferritin']          = clinical_df.loc[subject]['Ferritin']\n",
    "    \n",
    "    return df, clinical_df"
   ]
  },
  {
   "cell_type": "code",
   "execution_count": null,
   "metadata": {
    "collapsed": false
   },
   "outputs": [],
   "source": [
    "Xcontrols_a, controls_a_clinical = get_clinical(controls_a, 'controls_a')\n",
    "Xpatients_a, patients_a_clinical = get_clinical(patients_a, 'patients_a')"
   ]
  },
  {
   "cell_type": "code",
   "execution_count": null,
   "metadata": {
    "collapsed": false
   },
   "outputs": [],
   "source": [
    "Xpatients_a"
   ]
  },
  {
   "cell_type": "code",
   "execution_count": null,
   "metadata": {
    "collapsed": true
   },
   "outputs": [],
   "source": []
  },
  {
   "cell_type": "code",
   "execution_count": null,
   "metadata": {
    "collapsed": true
   },
   "outputs": [],
   "source": []
  },
  {
   "cell_type": "code",
   "execution_count": null,
   "metadata": {
    "collapsed": true
   },
   "outputs": [],
   "source": []
  },
  {
   "cell_type": "code",
   "execution_count": null,
   "metadata": {
    "collapsed": true
   },
   "outputs": [],
   "source": []
  },
  {
   "cell_type": "code",
   "execution_count": null,
   "metadata": {
    "collapsed": true
   },
   "outputs": [],
   "source": []
  },
  {
   "cell_type": "code",
   "execution_count": null,
   "metadata": {
    "collapsed": true
   },
   "outputs": [],
   "source": []
  },
  {
   "cell_type": "code",
   "execution_count": null,
   "metadata": {
    "collapsed": false
   },
   "outputs": [],
   "source": [
    "#drop = ['CB4P', 'NL2P', 'YU1P', 'LA9P','SA5U']\n",
    "drop = drop_p # +  ['SA5U'] \n",
    "measure_1 = 'Puta'\n",
    "measure_2 = 'YGTSS'\n",
    "sns.jointplot(Xpatients_a[measure_1].drop(drop, axis = 0), Xpatients_a[measure_2].drop(drop, axis = 0), kind = 'reg')\n",
    "#sns.jointplot(Xcontrols_a.Ferritin, Xcontrols_a.R_STN, kind = 'reg')\n",
    "\n",
    "#plt.savefig('/Users/kanaan/Desktop/YGTSS_R_Ins.png')"
   ]
  },
  {
   "cell_type": "code",
   "execution_count": null,
   "metadata": {
    "collapsed": false
   },
   "outputs": [],
   "source": [
    "plot_partial_correlation(Xpatients_a.drop(drop, axis = 0), 'Pall', 'Ferritin',  regressors =['Age', 'Gender'] , \n",
    "                         color = None, annotate = (0.025, 200), fig_name = None, \n",
    "                         dpi = 100, labels = True, jitter = None)"
   ]
  },
  {
   "cell_type": "code",
   "execution_count": null,
   "metadata": {
    "collapsed": false
   },
   "outputs": [],
   "source": [
    "drop = ['SA5U']\n",
    "sns.jointplot(data = Xpatients_a.drop(drop, axis =0), x = 'L_RN', y = 'Ferritin', kind = 'reg')"
   ]
  },
  {
   "cell_type": "code",
   "execution_count": null,
   "metadata": {
    "collapsed": false
   },
   "outputs": [],
   "source": [
    "Xpatients_a.Ferritin"
   ]
  },
  {
   "cell_type": "code",
   "execution_count": null,
   "metadata": {
    "collapsed": false
   },
   "outputs": [],
   "source": [
    "%matplotlib inline\n",
    "import os \n",
    "import numpy as np\n",
    "from numpy import mean, std\n",
    "import pandas as pd\n",
    "import matplotlib.pyplot as plt\n",
    "\n",
    "import seaborn as sns\n",
    "sns.set_style('white')\n",
    "\n",
    "plt.rcParams['font.family'] = 'Myriad Pro'\n",
    "p = sns.palplot(sns.xkcd_palette(['green', \"red\"]), size = 3)"
   ]
  },
  {
   "cell_type": "code",
   "execution_count": null,
   "metadata": {
    "collapsed": false
   },
   "outputs": [],
   "source": []
  },
  {
   "cell_type": "code",
   "execution_count": null,
   "metadata": {
    "collapsed": false,
    "scrolled": false
   },
   "outputs": [],
   "source": [
    "\n"
   ]
  },
  {
   "cell_type": "code",
   "execution_count": null,
   "metadata": {
    "collapsed": false
   },
   "outputs": [],
   "source": []
  },
  {
   "cell_type": "code",
   "execution_count": null,
   "metadata": {
    "collapsed": false
   },
   "outputs": [],
   "source": [
    "sns.palplot(sns.color_palette(\"hls\",10 ))"
   ]
  },
  {
   "cell_type": "code",
   "execution_count": null,
   "metadata": {
    "collapsed": false
   },
   "outputs": [],
   "source": [
    "sns.set_style('darkgrid', {\"xtick.direction\": \"in\",\"ytick.direction\": \"in\"})\n",
    "f, (ax1,ax2,ax3)= plt.subplots(nrows = 1, ncols = 3)\n",
    "f.set_size_inches([20,10])\n",
    "\n",
    "jitter = 0.05\n",
    "drop_p = drop_p + ['RA9P']\n",
    "fontsize = 22\n",
    "\n",
    "C = controls_a.drop(drop_c, axis = 0) * 100\n",
    "P = patients_a.drop(drop_p, axis = 0) * 100\n",
    "\n",
    "measure_1 = 'SN' \n",
    "measure_2 = 'STN'\n",
    "measure_3 = 'RN'\n",
    "\n",
    "data_1 = [C[measure_1],     P[measure_1]]\n",
    "data_2 = [C[measure_2],     P[measure_2]]\n",
    "data_3 = [C[measure_3],     P[measure_3]]\n",
    "\n",
    "palette = ['#3498db', '#2ecc71', '#e74c3c']\n",
    "#palette = sns.xkcd_palette([\"windows blue\", \"amber\", \"greyish\", \"faded green\", \"dusty purple\"])\n",
    "palette = sns.color_palette(\"hls\", 10)\n",
    "\n",
    "sns.violinplot(data = data_1, color = palette[0], ax = ax1)\n",
    "sns.stripplot(data=data_1, color = palette[0], jitter= jitter, ax = ax1)\n",
    "sns.pointplot(data=data_1, color = palette[0], linestyles=['--'], markers=['o'], ax =ax1)\n",
    "ax1.tick_params(axis='y', labelsize=fontsize)\n",
    "\n",
    "sns.violinplot(data = data_2, color = palette[1],ax = ax2)\n",
    "sns.stripplot(data=data_2, color = palette[1], jitter= jitter, ax = ax2)\n",
    "sns.pointplot(data=data_2, color = palette[1], linestyles=['--'], markers=['o'], ax =ax2)\n",
    "ax2.tick_params(axis='y', labelsize=fontsize)\n",
    "\n",
    "sns.violinplot(data = data_3, color = palette[2], ax = ax3)\n",
    "sns.stripplot(data=data_3, color = palette[2], jitter= jitter, ax = ax3)\n",
    "sns.pointplot(data=data_3, color = palette[2], linestyles=['--'], markers=['o'], ax =ax3)\n",
    "ax3.tick_params(axis='y', labelsize=fontsize)\n",
    "\n",
    "#ax1.set_ylim(0, 23)\n",
    "#ax2.set_ylim(-10, 18) \n",
    "#ax3.set_ylim(-10, 30)\n",
    "\n",
    "ax1.set_xticks([])\n",
    "ax2.set_xticks([])\n",
    "ax3.set_xticks([])\n",
    "\n",
    "f.savefig(os.path.join(datadir,'qsm_py_stats','QSM_STATS_1.png'), dpi = 600, bbox_inches='tight', transparent = False)"
   ]
  },
  {
   "cell_type": "code",
   "execution_count": null,
   "metadata": {
    "collapsed": false
   },
   "outputs": [],
   "source": []
  },
  {
   "cell_type": "code",
   "execution_count": null,
   "metadata": {
    "collapsed": true
   },
   "outputs": [],
   "source": []
  },
  {
   "cell_type": "code",
   "execution_count": null,
   "metadata": {
    "collapsed": false
   },
   "outputs": [],
   "source": []
  },
  {
   "cell_type": "code",
   "execution_count": null,
   "metadata": {
    "collapsed": false
   },
   "outputs": [],
   "source": [
    "sns.set_style('darkgrid', {\"xtick.direction\": \"in\",\"ytick.direction\": \"in\"})\n",
    "f, (ax1,ax2,ax3)= plt.subplots(nrows = 1, ncols = 3)\n",
    "f.set_size_inches([20,10])\n",
    "\n",
    "jitter = 0.05\n",
    "drop_p = drop_p + ['RA9P']\n",
    "fontsize = 22\n",
    "\n",
    "C = controls_a.drop(drop_c, axis = 0) * 100\n",
    "P = patients_a.drop(drop_p, axis = 0) * 100\n",
    "\n",
    "measure_1 = 'BrainStem' \n",
    "measure_2 = 'Caud'\n",
    "measure_3 = 'Puta'\n",
    "\n",
    "data_1 = [C[measure_1],     P[measure_1]]\n",
    "data_2 = [C[measure_2],     P[measure_2]]\n",
    "data_3 = [C[measure_3],     P[measure_3]]\n",
    "\n",
    "palette = ['#3498db', '#2ecc71', '#e74c3c']\n",
    "#palette = sns.xkcd_palette([\"windows blue\", \"amber\", \"greyish\", \"faded green\", \"dusty purple\"])\n",
    "palette = sns.color_palette(\"hls\", 10)[3:6]\n",
    "\n",
    "sns.violinplot(data = data_1, color = palette[0], ax = ax1)\n",
    "sns.stripplot(data=data_1, color = palette[0], jitter= jitter, ax = ax1)\n",
    "sns.pointplot(data=data_1, color = palette[0], linestyles=['--'], markers=['o'], ax =ax1)\n",
    "ax1.tick_params(axis='y', labelsize=fontsize)\n",
    "\n",
    "sns.violinplot(data = data_2, color = palette[1],ax = ax2)\n",
    "sns.stripplot(data=data_2, color = palette[1], jitter= jitter, ax = ax2)\n",
    "sns.pointplot(data=data_2, color = palette[1], linestyles=['--'], markers=['o'], ax =ax2)\n",
    "ax2.tick_params(axis='y', labelsize=fontsize)\n",
    "\n",
    "sns.violinplot(data = data_3, color = palette[2], ax = ax3)\n",
    "sns.stripplot(data=data_3, color = palette[2], jitter= jitter, ax = ax3)\n",
    "sns.pointplot(data=data_3, color = palette[2], linestyles=['--'], markers=['o'], ax =ax3)\n",
    "ax3.tick_params(axis='y', labelsize=fontsize)\n",
    "\n",
    "#ax1.set_ylim(-5, 22)\n",
    "#ax2.set_ylim(-5, 10)\n",
    "#ax3.set_ylim(-5, 8)\n",
    "\n",
    "\n",
    "ax1.set_xticks([])\n",
    "ax2.set_xticks([])\n",
    "ax3.set_xticks([])\n",
    "\n",
    "f.savefig(os.path.join(datadir,'qsm_py_stats','QSM_STATS_2.png'), dpi = 600, bbox_inches='tight', transparent = False)"
   ]
  },
  {
   "cell_type": "code",
   "execution_count": null,
   "metadata": {
    "collapsed": false
   },
   "outputs": [],
   "source": [
    "sns.set_style('darkgrid', {\"xtick.direction\": \"in\",\"ytick.direction\": \"in\"})\n",
    "f, (ax1,ax2,ax3)= plt.subplots(nrows = 1, ncols = 3)\n",
    "f.set_size_inches([20,10])\n",
    "\n",
    "jitter = 0.05\n",
    "drop_p = drop_p + ['RA9P']\n",
    "fontsize = 22\n",
    "\n",
    "C = controls_a.drop(drop_c, axis = 0) * 100\n",
    "P = patients_a.drop(drop_p, axis = 0) * 100\n",
    "\n",
    "measure_1 = 'Pall' \n",
    "measure_2 = 'Thal'\n",
    "measure_3 = 'BasalGanglia'\n",
    "\n",
    "data_1 = [C[measure_1],     P[measure_1]]\n",
    "data_2 = [C[measure_2],     P[measure_2]]\n",
    "data_3 = [C[measure_3],     P[measure_3]]\n",
    "\n",
    "palette = ['#3498db', '#2ecc71', '#e74c3c']\n",
    "#palette = sns.xkcd_palette([\"windows blue\", \"amber\", \"greyish\", \"faded green\", \"dusty purple\"])\n",
    "palette = sns.color_palette(\"hls\", 10)[6:9]\n",
    "\n",
    "sns.violinplot(data = data_1, color = palette[0], ax = ax1)\n",
    "sns.stripplot(data=data_1, color = palette[0], jitter= jitter, ax = ax1)\n",
    "sns.pointplot(data=data_1, color = palette[0], linestyles=['--'], markers=['o'], ax =ax1)\n",
    "ax1.tick_params(axis='y', labelsize=fontsize)\n",
    "\n",
    "sns.violinplot(data = data_2, color = palette[1],ax = ax2)\n",
    "sns.stripplot(data=data_2, color = palette[1], jitter= jitter, ax = ax2)\n",
    "sns.pointplot(data=data_2, color = palette[1], linestyles=['--'], markers=['o'], ax =ax2)\n",
    "ax2.tick_params(axis='y', labelsize=fontsize)\n",
    "\n",
    "sns.violinplot(data = data_3, color = palette[2], ax = ax3)\n",
    "sns.stripplot(data=data_3, color = palette[2], jitter= jitter, ax = ax3)\n",
    "sns.pointplot(data=data_3, color = palette[2], linestyles=['--'], markers=['o'], ax =ax3)\n",
    "ax3.tick_params(axis='y', labelsize=fontsize)\n",
    "\n",
    "#ax1.set_ylim(1, 16)\n",
    "#ax2.set_ylim(-9, 9)\n",
    "#ax3.set_ylim(-2, 8)\n",
    "\n",
    "ax1.set_xticks([])\n",
    "ax2.set_xticks([])\n",
    "ax3.set_xticks([])\n",
    "\n",
    "f.savefig(os.path.join(datadir,'qsm_py_stats','QSM_STATS_3.png'), dpi = 600, bbox_inches='tight', transparent = False)"
   ]
  },
  {
   "cell_type": "code",
   "execution_count": null,
   "metadata": {
    "collapsed": true
   },
   "outputs": [],
   "source": []
  },
  {
   "cell_type": "code",
   "execution_count": null,
   "metadata": {
    "collapsed": true
   },
   "outputs": [],
   "source": []
  },
  {
   "cell_type": "code",
   "execution_count": null,
   "metadata": {
    "collapsed": true
   },
   "outputs": [],
   "source": []
  },
  {
   "cell_type": "code",
   "execution_count": null,
   "metadata": {
    "collapsed": true
   },
   "outputs": [],
   "source": []
  },
  {
   "cell_type": "code",
   "execution_count": null,
   "metadata": {
    "collapsed": true
   },
   "outputs": [],
   "source": []
  },
  {
   "cell_type": "code",
   "execution_count": null,
   "metadata": {
    "collapsed": true
   },
   "outputs": [],
   "source": []
  },
  {
   "cell_type": "code",
   "execution_count": null,
   "metadata": {
    "collapsed": true
   },
   "outputs": [],
   "source": []
  },
  {
   "cell_type": "code",
   "execution_count": null,
   "metadata": {
    "collapsed": true
   },
   "outputs": [],
   "source": []
  },
  {
   "cell_type": "code",
   "execution_count": null,
   "metadata": {
    "collapsed": true
   },
   "outputs": [],
   "source": []
  },
  {
   "cell_type": "code",
   "execution_count": null,
   "metadata": {
    "collapsed": true
   },
   "outputs": [],
   "source": []
  },
  {
   "cell_type": "code",
   "execution_count": null,
   "metadata": {
    "collapsed": true
   },
   "outputs": [],
   "source": []
  },
  {
   "cell_type": "code",
   "execution_count": null,
   "metadata": {
    "collapsed": true
   },
   "outputs": [],
   "source": []
  },
  {
   "cell_type": "code",
   "execution_count": null,
   "metadata": {
    "collapsed": true
   },
   "outputs": [],
   "source": []
  },
  {
   "cell_type": "code",
   "execution_count": null,
   "metadata": {
    "collapsed": true
   },
   "outputs": [],
   "source": []
  },
  {
   "cell_type": "code",
   "execution_count": null,
   "metadata": {
    "collapsed": true
   },
   "outputs": [],
   "source": []
  },
  {
   "cell_type": "code",
   "execution_count": null,
   "metadata": {
    "collapsed": true
   },
   "outputs": [],
   "source": []
  },
  {
   "cell_type": "code",
   "execution_count": null,
   "metadata": {
    "collapsed": true
   },
   "outputs": [],
   "source": []
  },
  {
   "cell_type": "code",
   "execution_count": null,
   "metadata": {
    "collapsed": true
   },
   "outputs": [],
   "source": []
  },
  {
   "cell_type": "code",
   "execution_count": null,
   "metadata": {
    "collapsed": true
   },
   "outputs": [],
   "source": []
  }
 ],
 "metadata": {
  "kernelspec": {
   "display_name": "Python 2",
   "language": "python",
   "name": "python2"
  },
  "language_info": {
   "codemirror_mode": {
    "name": "ipython",
    "version": 2
   },
   "file_extension": ".py",
   "mimetype": "text/x-python",
   "name": "python",
   "nbconvert_exporter": "python",
   "pygments_lexer": "ipython2",
   "version": "2.7.11"
  }
 },
 "nbformat": 4,
 "nbformat_minor": 0
}
