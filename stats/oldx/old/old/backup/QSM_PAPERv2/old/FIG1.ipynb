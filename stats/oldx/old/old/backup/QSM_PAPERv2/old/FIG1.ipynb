{
 "cells": [
  {
   "cell_type": "code",
   "execution_count": 2,
   "metadata": {
    "collapsed": true
   },
   "outputs": [],
   "source": [
    "%matplotlib inline\n",
    "import os \n",
    "import numpy as np\n",
    "import nibabel as nb \n",
    "from numpy import mean, std\n",
    "import seaborn as sns\n",
    "import matplotlib.pyplot as plt\n",
    "import matplotlib\n",
    "from matplotlib import colors\n",
    "from matplotlib.colors import ListedColormap\n",
    "#from nilearn.plotting import plot_anat\n",
    "plt.rcParams['font.family'] = 'Myriad Pro'\n",
    "sns.set_style('white')\n",
    "from scipy import ndimage\n",
    "from skimage.restoration import unwrap_phase"
   ]
  },
  {
   "cell_type": "code",
   "execution_count": 25,
   "metadata": {
    "collapsed": true
   },
   "outputs": [],
   "source": [
    "datadir = '/Users/kanaan/Google Drive/TS-EUROTRAIN/RESULTS_QSM/NUCLEI_OCT26'\n",
    "savefigdir    = '/Users/kanaan/Google Drive/TS-EUROTRAIN/Papers/2016_QSM_paper/Figures_python'\n",
    "\n",
    "mni = nb.load(os.path.join(datadir[:-12], 'ATAK/mean.nii.gz')).get_data()"
   ]
  },
  {
   "cell_type": "code",
   "execution_count": 74,
   "metadata": {
    "collapsed": false
   },
   "outputs": [],
   "source": [
    "def get_subject_data(subject):\n",
    "    \n",
    "    subject_dir = os.path.join(datadir, subject)\n",
    "    os.chdir(subject_dir)\n",
    "    \n",
    "    # Magnitude\n",
    "    mag = 'FLASH_MAGNITUDE_denoised_bias_corr.nii'\n",
    "    if not os.path.isfile(mag):\n",
    "        os.system('N4BiasFieldCorrection -d 3 -i ./FLASH_MAGNITUDE_denoised.nii -o %s' %(mag))\n",
    "    \n",
    "    # Phase\n",
    "    phs = os.path.join(subject_dir, 'FLASH_PHASE.nii')\n",
    "    phs_unw  =os.path.join(subject_dir, 'FLASH_PHASE_UNWRAPPED.nii') \n",
    "    if not os.path.isfile(phs_unw):\n",
    "        phase_data = nb.load(phs).get_data() / 4096. * np.pi\n",
    "        correction = lambda x: x - np.median(x[x!=0.0])\n",
    "        phase_data = unwrap_phase(phase_data, False, 0)\n",
    "        phase_data = correction(phase_data)\n",
    "        phase_unw  = nb.Nifti2Image(phase_data, nb.load(phs).get_affine())\n",
    "        phase_unw.to_filename('./FLASH_PHASE_UNWRAPPED.nii')\n",
    "    \n",
    "    qsm = nb.load(os.path.join(datadir, subject, 'QSM_denoised.nii.gz')).get_data()\n",
    "    \n",
    "    return os.path.join(subject_dir,mag), phs, phsw, qsm "
   ]
  },
  {
   "cell_type": "code",
   "execution_count": 75,
   "metadata": {
    "collapsed": false
   },
   "outputs": [],
   "source": [
    "mag, phs, phsw, qsm  = get_subject_data('BATP')"
   ]
  },
  {
   "cell_type": "code",
   "execution_count": 70,
   "metadata": {
    "collapsed": false
   },
   "outputs": [
    {
     "data": {
      "text/plain": [
       "'/Users/kanaan/Google Drive/TS-EUROTRAIN/RESULTS_QSM/NUCLEI_OCT26/BATP/FLASH_PHASE_UNWRAPPED.nii'"
      ]
     },
     "execution_count": 70,
     "metadata": {},
     "output_type": "execute_result"
    }
   ],
   "source": [
    "phsw"
   ]
  },
  {
   "cell_type": "code",
   "execution_count": 7,
   "metadata": {
    "collapsed": false
   },
   "outputs": [
    {
     "data": {
      "text/plain": [
       "'/Users/kanaan/Google Drive/TS-EUROTRAIN/RESULTS_QSM/NUCLEI_OCT26/BATP/FLASH_MAGNITUDE_denoised_bias_corr.nii'"
      ]
     },
     "execution_count": 7,
     "metadata": {},
     "output_type": "execute_result"
    }
   ],
   "source": [
    "mag"
   ]
  },
  {
   "cell_type": "code",
   "execution_count": 10,
   "metadata": {
    "collapsed": false
   },
   "outputs": [
    {
     "data": {
      "text/plain": [
       "'/Users/kanaan/Google Drive/TS-EUROTRAIN/RESULTS_QSM/NUCLEI_OCT26/BATP/FLASH_MAGNITUDE_denoised'"
      ]
     },
     "execution_count": 10,
     "metadata": {},
     "output_type": "execute_result"
    }
   ],
   "source": []
  },
  {
   "cell_type": "code",
   "execution_count": null,
   "metadata": {
    "collapsed": true
   },
   "outputs": [],
   "source": [
    "\n",
    "    \n",
    "    phs = nb.load(os.path.join(datadir, subject, 'FLASH_PHASE.nii')).get_data()\n",
    "    \n",
    "    \n",
    "    #unwrapp phase\n",
    "    \n",
    "    return mag, phs, phase_unw, qsm, "
   ]
  }
 ],
 "metadata": {
  "anaconda-cloud": {},
  "kernelspec": {
   "display_name": "Python [conda root]",
   "language": "python",
   "name": "conda-root-py"
  },
  "language_info": {
   "codemirror_mode": {
    "name": "ipython",
    "version": 2
   },
   "file_extension": ".py",
   "mimetype": "text/x-python",
   "name": "python",
   "nbconvert_exporter": "python",
   "pygments_lexer": "ipython2",
   "version": "2.7.12"
  }
 },
 "nbformat": 4,
 "nbformat_minor": 1
}
