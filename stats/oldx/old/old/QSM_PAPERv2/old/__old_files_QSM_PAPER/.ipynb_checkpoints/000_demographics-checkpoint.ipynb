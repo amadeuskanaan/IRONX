{
 "cells": [
  {
   "cell_type": "code",
   "execution_count": 44,
   "metadata": {
    "collapsed": false
   },
   "outputs": [],
   "source": [
    "%matplotlib inline\n",
    "import os \n",
    "import numpy as np\n",
    "from numpy import mean, std\n",
    "import pandas as pd\n",
    "import seaborn as sns\n",
    "import matplotlib.pyplot as plt\n",
    "from scipy.stats import ttest_rel, ttest_ind, mannwhitneyu, wilcoxon, spearmanr,pearsonr, fisher_exact,kstest\n",
    "from scipy.stats import ks_2samp, kstest, anderson, anderson_ksamp, levene\n",
    "from statsmodels.sandbox.stats.multicomp import fdrcorrection0\n",
    "from sklearn import preprocessing\n",
    "import statsmodels.api as sm\n",
    "pd.options.display.max_columns = 999\n",
    "import statsmodels.formula.api as smf\n",
    "import scipy.stats as ss \n",
    "import math \n",
    "from outliers import smirnov_grubbs as grubbs\n",
    "titanic = sns.load_dataset(\"titanic\")\n",
    "\n",
    "plt.rcParams['font.family'] = 'Myriad Pro'\n",
    "sns.set_style('white')\n",
    "\n",
    "datadir       = '/Users/kanaan/Google Drive/TS-EUROTRAIN/RESULTS_QSM/Oct_4'\n",
    "mrsdir        = '/Users/kanaan/SCR/Dataframes_20150820/REVISION_DF'\n",
    "clinical_dir  = '/Users/kanaan/SCR/Dataframes_20150820/DF_clinical/'\n",
    "savefigdir    = '/Users/kanaan/Google Drive/TS-EUROTRAIN/Papers/2016_QSM_paper/Figures_python'\n",
    "\n",
    "drop_c = ['WSKT','SC1T','LL5T', 'GSAT'] \n",
    "# WSKT,SC1T,LL5T Young Females scanned extra for MRS review. \n",
    "# GSAT removed since HSPP female removed \n",
    "drop_p = ['AA8P', 'RA9P', 'STDP','NL2P','HSPP', 'DF2P'] \n",
    "# AA8P motion outliers via mehalonobis distance for Quality metrics \n",
    "# rest – mehalonobis distance for SN,STN,Puta\n"
   ]
  },
  {
   "cell_type": "code",
   "execution_count": 4,
   "metadata": {
    "collapsed": false
   },
   "outputs": [],
   "source": [
    "def cohen_d(df1,df2, metabolite):\n",
    "        # Cohens D \n",
    "        from numpy import mean, std # version >= 1.7.1 && <= 1.9.1\n",
    "        from math import sqrt\n",
    "        import sys\n",
    "        x = df1[metabolite].dropna(axis=0)\n",
    "        y = df2[metabolite].dropna(axis=0)\n",
    "        return (mean(x) - mean(y)) / sqrt((std(x, ddof=1) ** 2 + std(y, ddof=1) ** 2) / 2.0)\n",
    "\n",
    "def get_gender_len(df):    \n",
    "    males   = [subject for subject in df.index if df.loc[subject]['Gender'] == 0]\n",
    "    females = [subject for subject in df.index if df.loc[subject]['Gender'] == 1]\n",
    "    return len(males), len(females)\n",
    "\n",
    "def reject_outliers(data, m=3):\n",
    "    return data[abs(data - np.mean(data)) < m * np.std(data)]\n",
    "\n",
    "def grubbs_outliers(df, measure, alpha = 0.15):\n",
    "    from outliers import smirnov_grubbs as grubbs\n",
    "    return [str(i) for i in df.index if i not in grubbs.test(df[measure], alpha).index] \n",
    "    \n",
    "    \n",
    "def get_all_dfs(img, population, study_id, trt=False):\n",
    "    quant = 'median'\n",
    "    QSM = pd.read_csv(os.path.join(datadir, '%s_%s_%s_%s.csv'%(img, quant, population, study_id)),index_col = 0)\n",
    "    QSM['Gender']  = QSM['Gender'].map({' F': 1, ' M': 0})\n",
    "    \n",
    "    CLN = pd.read_csv(os.path.join(clinical_dir, 'clinical_%s_a.csv'%(population)), index_col=0)\n",
    "    CLN.columns = ['CLN_' + str(col) for col in CLN.columns]    \n",
    "\n",
    "    def get_mrs(vox):\n",
    "        if trt == False:\n",
    "            df = pd.read_csv(os.path.join(mrsdir, 'moco_df_%s_%s_%s.csv'%(vox, population, study_id)),index_col = 0)\n",
    "        elif trt == True:\n",
    "            df = pd.read_csv(os.path.join(mrsdir, 'moco_df_%s_%s_trt_%s.csv'%(vox, population, study_id)),index_col = 0)\n",
    "        df.columns = ['%s_'%vox + str(col) for col in df.columns]\n",
    "        return df\n",
    "    \n",
    "    \n",
    "    df = pd.concat([QSM, get_mrs('STR'), CLN], axis=1, join_axes=[QSM.index])\n",
    "    return df\n",
    "\n",
    "controls_a = get_all_dfs('QSM', 'controls', 'a').drop(drop_c, axis = 0) \n",
    "patients_a = get_all_dfs('QSM', 'patients', 'a').drop(drop_p, axis = 0)\n",
    "patients_b = get_all_dfs('QSM', 'patients', 'b', trt=True)#.drop(drop_p, axis = 0) \n"
   ]
  },
  {
   "cell_type": "code",
   "execution_count": null,
   "metadata": {
    "collapsed": false
   },
   "outputs": [],
   "source": []
  },
  {
   "cell_type": "markdown",
   "metadata": {},
   "source": [
    "# Look at age and gender"
   ]
  },
  {
   "cell_type": "code",
   "execution_count": 5,
   "metadata": {
    "collapsed": false
   },
   "outputs": [
    {
     "name": "stdout",
     "output_type": "stream",
     "text": [
      "--------------- Gender ---------------\n",
      "         Male Female\n",
      "Controls   17      5\n",
      "Patients   18      4\n",
      "\n",
      "FISCHER EXACT TEST: Odds Ratio= 0.76 P-Value= 1.0\n",
      "\n",
      "--------------- Age ---------------\n",
      "Controls Age =  38.59 ± 11.75\n",
      "Patients Age =  35.59 ± 11.01\n",
      "T-TEST = (0.85389486710538987, 0.39800739892709081)\n"
     ]
    }
   ],
   "source": [
    "def get_gender_age_stats(df1, df2):\n",
    "    \n",
    "    gender = pd.DataFrame(index =['Controls', 'Patients'], columns = ['Male', 'Female'])\n",
    "\n",
    "    gender.ix['Controls']['Male']   = get_gender_len(df1)[0]\n",
    "    gender.ix['Controls']['Female'] = get_gender_len(df1)[1]\n",
    "    gender.ix['Patients']['Male']   = get_gender_len(df2)[0]\n",
    "    gender.ix['Patients']['Female'] = get_gender_len(df2)[1]\n",
    "\n",
    "    print '--------------- Gender ---------------'\n",
    "    print gender\n",
    "    print ''\n",
    "    print 'FISCHER EXACT TEST:', 'Odds Ratio=',np.round(fisher_exact(gender)[0],2), 'P-Value=',np.round(fisher_exact(gender)[1],2)\n",
    "    print ''\n",
    "    print '--------------- Age ---------------'\n",
    "    print 'Controls Age = ', np.round(np.mean(controls_a.Age),2), '±', np.round(np.std(controls_a.Age),2)\n",
    "    print 'Patients Age = ', np.round(np.mean(patients_a.Age),2), '±', np.round(np.std(patients_a.Age),2)\n",
    "    print 'T-TEST =', ttest_ind(controls_a.Age.dropna(), patients_a.Age.dropna()) \n",
    "    \n",
    "get_gender_age_stats(controls_a, patients_a)"
   ]
  },
  {
   "cell_type": "markdown",
   "metadata": {},
   "source": [
    "# Look at Ferritin"
   ]
  },
  {
   "cell_type": "code",
   "execution_count": 6,
   "metadata": {
    "collapsed": false
   },
   "outputs": [
    {
     "name": "stdout",
     "output_type": "stream",
     "text": [
      "N= 18 Controls Ferritin =  147.75 ± 151.26\n",
      "N= 19 Patients Ferritin =  76.43 ± 48.8\n",
      "\n",
      "Kolmogrov-Smirnov test of Gaussian Distribution\n",
      "Controls t/p= (0.17492958886477183, 0.59506906877599142)\n",
      "Patients t/p=: (0.14608297829830519, 0.81220137346759302)\n",
      "KS2Sample t/p= (0.11988304093567248, 0.99853131563646835)\n",
      "\n",
      "Levenes test of equal variance = (12.961208113703041, 0.0009750770927208092)\n",
      "\n",
      "Welches = (2.7902687287555477, 0.011186959362303536)\n",
      "MWU = (107.0, 0.026830356347729466)\n"
     ]
    }
   ],
   "source": [
    "def return_cln_df(population, study_id):\n",
    "    df = pd.read_csv(os.path.join(clinical_dir, 'clinical_%s_%s.csv'%(population,study_id)), index_col=0)\n",
    "    return df   \n",
    "\n",
    "Ferr_C = grubbs.test((return_cln_df('controls', 'a')['Ferritin'].dropna()))\n",
    "Ferr_P = grubbs.test((return_cln_df('patients', 'a')['Ferritin'].dropna()))\n",
    "\n",
    "Ferr_C = reject_outliers(get_all_dfs('QSM', 'controls', 'a')['CLN_Ferritin'], 3).dropna()\n",
    "Ferr_P = reject_outliers(get_all_dfs('QSM', 'patients', 'a')['CLN_Ferritin'], 3).dropna().drop(['DF2P'], axis = 0)\n",
    "\n",
    "#Ferr_C = controls_a['CLN_Ferritin'].dropna()\n",
    "#Ferr_P = patients_a['CLN_Ferritin'].dropna()\n",
    "\n",
    "#Ferr_C = grubbs.test(get_all_dfs('QSM', 'controls', 'a')['CLN_Ferritin'], 3).dropna()\n",
    "#Ferr_P = grubbs.test(get_all_dfs('QSM', 'patients', 'a')['CLN_Ferritin'], 3).dropna()#.drop(['DF2P'], axis = 0)\n",
    "\n",
    "print 'N=',len(Ferr_C), 'Controls Ferritin = ', np.round(np.median(Ferr_C),2), '±', np.round(np.std(Ferr_C),2)\n",
    "print 'N=',len(Ferr_P), 'Patients Ferritin = ', np.round(np.median(Ferr_P),2), '±', np.round(np.std(Ferr_P),2)\n",
    "print ''\n",
    "print 'Kolmogrov-Smirnov test of Gaussian Distribution'\n",
    "print 'Controls t/p=',kstest(preprocessing.scale(Ferr_C), 'norm')\n",
    "print 'Patients t/p=:',kstest(preprocessing.scale(Ferr_P), 'norm')\n",
    "print 'KS2Sample t/p=', ks_2samp(preprocessing.scale(Ferr_C), preprocessing.scale(Ferr_P))\n",
    "print ''\n",
    "print 'Levenes test of equal variance =',levene(Ferr_C, Ferr_P, center='median')\n",
    "print ''\n",
    "print 'Welches =', ttest_ind(Ferr_C, Ferr_P, equal_var = False)\n",
    "print 'MWU =', mannwhitneyu(Ferr_C, Ferr_P)"
   ]
  },
  {
   "cell_type": "code",
   "execution_count": null,
   "metadata": {
    "collapsed": false
   },
   "outputs": [],
   "source": []
  },
  {
   "cell_type": "code",
   "execution_count": 7,
   "metadata": {
    "collapsed": false
   },
   "outputs": [
    {
     "data": {
      "text/plain": [
       "(-200, 1000)"
      ]
     },
     "execution_count": 7,
     "metadata": {},
     "output_type": "execute_result"
    },
    {
     "data": {
      "image/png": "[encoded data removed]",
      "text/plain": [
       "<matplotlib.figure.Figure at 0x116419990>"
      ]
     },
     "metadata": {},
     "output_type": "display_data"
    }
   ],
   "source": [
    "sns.set_style('white', {\"xtick.direction\": \"in\",\"ytick.direction\": \"in\"})\n",
    "data = [Ferr_C, Ferr_P] \n",
    "bpal = [\"#1300ff\", \"#87d6e9\"]\n",
    "pal = sns.color_palette(bpal)\n",
    "#palette = sns.color_palette(\"Paired\")\n",
    "#pal = [palette[1], palette[-1]]\n",
    "jitter= 0.1\n",
    "fontsize = 15\n",
    "\n",
    "fig, ax = plt.subplots(1)\n",
    "fig.set_size_inches([8,8.5])\n",
    "\n",
    "#sns.boxplot(data = data, palette = pal)\n",
    "sns.violinplot(data = data, palette = pal ,whis= 7, inner = 'quartile')#, scale='count')\n",
    "#sns.stripplot(data = data, jitter= jitter,  palette = pal, size=10, linewidth=1, marker = '.')\n",
    "#sns.pointplot(data=data, color = 'b', linestyles=['--'], markers=['o'])\n",
    "\n",
    "#g.set_xticks([])\n",
    "#g.set_yticks([0,2,4,6,8,10,12,14])\n",
    "#ax.legend(frameon=False)\n",
    "#sns.despine(left=True, bottom=True)\n",
    "#ax.tick_params(axis='y', labelsize=fontsize)\n",
    "plt.ylim(-200,1000)\n",
    "#fname = os.path.join(savefigdir, 'Ferritin_stats.png')\n",
    "#fig.savefig(fname , dpi = 300, bbox_inches='tight', transparent = False)"
   ]
  },
  {
   "cell_type": "code",
   "execution_count": 37,
   "metadata": {
    "collapsed": false
   },
   "outputs": [],
   "source": [
    "x = ['Controls', 'Patients']\n",
    "y1 = [np.mean(Ferr_C), np.mean(Ferr_P)]\n",
    "y2 = [np.std(Ferr_C), np.std(Ferr_P)]"
   ]
  },
  {
   "cell_type": "code",
   "execution_count": 119,
   "metadata": {
    "collapsed": false
   },
   "outputs": [
    {
     "data": {
      "image/png": "[encoded data removed]",
      "text/plain": [
       "<matplotlib.figure.Figure at 0x11b890910>"
      ]
     },
     "metadata": {},
     "output_type": "display_data"
    }
   ],
   "source": [
    "pd.DataFrame(columns=['Ferritin', 'Group'])\n",
    "fc = pd.DataFrame(Ferr_C)\n",
    "fp = pd.DataFrame(Ferr_P)\n",
    "fc['group']   = 'Controls'\n",
    "fp['group']   = 'Patients'\n",
    "FERR =pd.concat([fc,fp])\n",
    "xpal = [\"#1300ff\", \"#87d6e9\"]\n",
    "#xpal =['#b5b8ff','#ffb3b9']\n",
    "\n",
    "fig, ax = plt.subplots(1)\n",
    "fig.set_size_inches([7,8])\n",
    "g = sns.barplot(x=\"group\", y=\"CLN_Ferritin\", data=FERR,  palette=['b', 'r'])\n",
    "#g = sns.barplot(x=\"group\", y=\"CLN_Ferritin\", data=FERR,  palette=xpal)\n",
    "plt.xlim(-0.75, 1.75)\n",
    "plt.ylim(0,270)\n",
    "# Finalize the plot\n",
    "sns.despine(bottom=False)\n",
    "plt.setp(f.axes, yticks=[])\n",
    "plt.tight_layout(h_pad=3)\n",
    "plt.xlabel('')\n",
    "plt.ylabel('')\n",
    "\n",
    "fig.savefig(os.path.join(savefigdir,'FERR_comparison.png'), bbox_inches='tight', transparent = 1)"
   ]
  },
  {
   "cell_type": "code",
   "execution_count": null,
   "metadata": {
    "collapsed": false
   },
   "outputs": [],
   "source": []
  },
  {
   "cell_type": "code",
   "execution_count": 45,
   "metadata": {
    "collapsed": true
   },
   "outputs": [],
   "source": [
    "cols = [ 'YGTSS_Total_Tic_Score', 'YGTSS_Motoric_Score', 'YGTSS_Vocal_Score', 'YGTSS_Total_Score_incl_Impairment',\n",
    "        'RVTRS','puts','YBOCS_Totalscore_Items_1to10','YBOCS_Totalscore_Items_1to10_clinically_significant',\n",
    "        'OCIR_total score','CAARS_Score_ADHS_Symptoms_Total_Cat_G_T_Score','DSM4_clinically_significant_ADHD',\n",
    "        'qol_scale','qol_score','BDI12']"
   ]
  },
  {
   "cell_type": "markdown",
   "metadata": {
    "collapsed": false
   },
   "source": [
    "# Look at Clinical data "
   ]
  },
  {
   "cell_type": "code",
   "execution_count": 10,
   "metadata": {
    "collapsed": false,
    "scrolled": false
   },
   "outputs": [],
   "source": []
  },
  {
   "cell_type": "code",
   "execution_count": 11,
   "metadata": {
    "collapsed": false
   },
   "outputs": [
    {
     "name": "stdout",
     "output_type": "stream",
     "text": [
      "['CLN_YGTSS_Total_Tic_Score', 'CLN_YGTSS_Motoric_Score', 'CLN_YGTSS_Vocal_Score', 'CLN_YGTSS_Total_Score_incl_Impairment', 'CLN_RVTRS', 'CLN_puts', 'CLN_YBOCS_Totalscore_Items_1to10', 'CLN_OCIR_total score', 'CLN_qol_scale', 'CLN_qol_score', 'CLN_BDI12', 'STR_Gln_Glu']\n"
     ]
    },
    {
     "data": {
      "text/html": [
       "<div>\n",
       "<table border=\"1\" class=\"dataframe\">\n",
       "  <thead>\n",
       "    <tr style=\"text-align: right;\">\n",
       "      <th></th>\n",
       "      <th>N</th>\n",
       "      <th>Controls</th>\n",
       "      <th>Patients</th>\n",
       "      <th>Levene</th>\n",
       "      <th>KSC</th>\n",
       "      <th>KSP</th>\n",
       "      <th>D</th>\n",
       "      <th>t_val</th>\n",
       "      <th>p_val</th>\n",
       "    </tr>\n",
       "  </thead>\n",
       "  <tbody>\n",
       "    <tr>\n",
       "      <th>CLN_YGTSS_Total_Tic_Score</th>\n",
       "      <td>(21, 24)</td>\n",
       "      <td>0.0±0.0</td>\n",
       "      <td>20.17±8.86</td>\n",
       "      <td>0</td>\n",
       "      <td>0</td>\n",
       "      <td>0.39</td>\n",
       "      <td>-3.15</td>\n",
       "      <td>-9.94</td>\n",
       "      <td>0</td>\n",
       "    </tr>\n",
       "    <tr>\n",
       "      <th>CLN_YGTSS_Motoric_Score</th>\n",
       "      <td>(21, 24)</td>\n",
       "      <td>0.0±0.0</td>\n",
       "      <td>13.08±4.22</td>\n",
       "      <td>0</td>\n",
       "      <td>0</td>\n",
       "      <td>0.49</td>\n",
       "      <td>-4.29</td>\n",
       "      <td>-13.54</td>\n",
       "      <td>0</td>\n",
       "    </tr>\n",
       "    <tr>\n",
       "      <th>CLN_YGTSS_Vocal_Score</th>\n",
       "      <td>(21, 24)</td>\n",
       "      <td>0.0±0.0</td>\n",
       "      <td>7.08±5.96</td>\n",
       "      <td>0</td>\n",
       "      <td>0</td>\n",
       "      <td>0.41</td>\n",
       "      <td>-1.65</td>\n",
       "      <td>-5.19</td>\n",
       "      <td>6e-06</td>\n",
       "    </tr>\n",
       "    <tr>\n",
       "      <th>CLN_YGTSS_Total_Score_incl_Impairment</th>\n",
       "      <td>(21, 24)</td>\n",
       "      <td>0.0±0.0</td>\n",
       "      <td>42.0±17.68</td>\n",
       "      <td>0</td>\n",
       "      <td>0</td>\n",
       "      <td>0.92</td>\n",
       "      <td>-3.29</td>\n",
       "      <td>-10.38</td>\n",
       "      <td>0</td>\n",
       "    </tr>\n",
       "    <tr>\n",
       "      <th>CLN_RVTRS</th>\n",
       "      <td>(21, 24)</td>\n",
       "      <td>0.0±0.0</td>\n",
       "      <td>8.17±4.1</td>\n",
       "      <td>0</td>\n",
       "      <td>0</td>\n",
       "      <td>0.17</td>\n",
       "      <td>-2.76</td>\n",
       "      <td>-8.7</td>\n",
       "      <td>0</td>\n",
       "    </tr>\n",
       "    <tr>\n",
       "      <th>CLN_puts</th>\n",
       "      <td>(21, 24)</td>\n",
       "      <td>0.0±0.0</td>\n",
       "      <td>19.29±5.82</td>\n",
       "      <td>0</td>\n",
       "      <td>0</td>\n",
       "      <td>0.99</td>\n",
       "      <td>-4.59</td>\n",
       "      <td>-14.48</td>\n",
       "      <td>0</td>\n",
       "    </tr>\n",
       "    <tr>\n",
       "      <th>CLN_YBOCS_Totalscore_Items_1to10</th>\n",
       "      <td>(21, 24)</td>\n",
       "      <td>0.0±0.0</td>\n",
       "      <td>2.58±5.07</td>\n",
       "      <td>0.03</td>\n",
       "      <td>0</td>\n",
       "      <td>0</td>\n",
       "      <td>-0.7</td>\n",
       "      <td>-2.22</td>\n",
       "      <td>0.031533</td>\n",
       "    </tr>\n",
       "    <tr>\n",
       "      <th>CLN_OCIR_total score</th>\n",
       "      <td>(21, 24)</td>\n",
       "      <td>6.0±6.32</td>\n",
       "      <td>15.71±13.42</td>\n",
       "      <td>0.09</td>\n",
       "      <td>0.47</td>\n",
       "      <td>0.05</td>\n",
       "      <td>-0.91</td>\n",
       "      <td>-2.9</td>\n",
       "      <td>0.00587</td>\n",
       "    </tr>\n",
       "    <tr>\n",
       "      <th>CLN_qol_scale</th>\n",
       "      <td>(21, 24)</td>\n",
       "      <td>0.0±0.0</td>\n",
       "      <td>61.67±24.78</td>\n",
       "      <td>0</td>\n",
       "      <td>0</td>\n",
       "      <td>0.42</td>\n",
       "      <td>-3.45</td>\n",
       "      <td>-10.87</td>\n",
       "      <td>0</td>\n",
       "    </tr>\n",
       "    <tr>\n",
       "      <th>CLN_qol_score</th>\n",
       "      <td>(21, 24)</td>\n",
       "      <td>0.0±0.0</td>\n",
       "      <td>29.62±20.11</td>\n",
       "      <td>0</td>\n",
       "      <td>0</td>\n",
       "      <td>0.42</td>\n",
       "      <td>-2.04</td>\n",
       "      <td>-6.44</td>\n",
       "      <td>0</td>\n",
       "    </tr>\n",
       "    <tr>\n",
       "      <th>CLN_BDI12</th>\n",
       "      <td>(21, 24)</td>\n",
       "      <td>2.0±3.56</td>\n",
       "      <td>13.12±11.43</td>\n",
       "      <td>0</td>\n",
       "      <td>0.03</td>\n",
       "      <td>0.55</td>\n",
       "      <td>-1.29</td>\n",
       "      <td>-4.09</td>\n",
       "      <td>0.000191</td>\n",
       "    </tr>\n",
       "    <tr>\n",
       "      <th>STR_Gln_Glu</th>\n",
       "      <td>(21, 24)</td>\n",
       "      <td>0.49±0.13</td>\n",
       "      <td>0.35±0.13</td>\n",
       "      <td>0.86</td>\n",
       "      <td>0.9</td>\n",
       "      <td>0.96</td>\n",
       "      <td>1</td>\n",
       "      <td>2.98</td>\n",
       "      <td>0.005333</td>\n",
       "    </tr>\n",
       "  </tbody>\n",
       "</table>\n",
       "</div>"
      ],
      "text/plain": [
       "                                              N   Controls     Patients  \\\n",
       "CLN_YGTSS_Total_Tic_Score              (21, 24)    0.0±0.0   20.17±8.86   \n",
       "CLN_YGTSS_Motoric_Score                (21, 24)    0.0±0.0   13.08±4.22   \n",
       "CLN_YGTSS_Vocal_Score                  (21, 24)    0.0±0.0    7.08±5.96   \n",
       "CLN_YGTSS_Total_Score_incl_Impairment  (21, 24)    0.0±0.0   42.0±17.68   \n",
       "CLN_RVTRS                              (21, 24)    0.0±0.0     8.17±4.1   \n",
       "CLN_puts                               (21, 24)    0.0±0.0   19.29±5.82   \n",
       "CLN_YBOCS_Totalscore_Items_1to10       (21, 24)    0.0±0.0    2.58±5.07   \n",
       "CLN_OCIR_total score                   (21, 24)   6.0±6.32  15.71±13.42   \n",
       "CLN_qol_scale                          (21, 24)    0.0±0.0  61.67±24.78   \n",
       "CLN_qol_score                          (21, 24)    0.0±0.0  29.62±20.11   \n",
       "CLN_BDI12                              (21, 24)   2.0±3.56  13.12±11.43   \n",
       "STR_Gln_Glu                            (21, 24)  0.49±0.13    0.35±0.13   \n",
       "\n",
       "                                      Levene   KSC   KSP     D  t_val  \\\n",
       "CLN_YGTSS_Total_Tic_Score                  0     0  0.39 -3.15  -9.94   \n",
       "CLN_YGTSS_Motoric_Score                    0     0  0.49 -4.29 -13.54   \n",
       "CLN_YGTSS_Vocal_Score                      0     0  0.41 -1.65  -5.19   \n",
       "CLN_YGTSS_Total_Score_incl_Impairment      0     0  0.92 -3.29 -10.38   \n",
       "CLN_RVTRS                                  0     0  0.17 -2.76   -8.7   \n",
       "CLN_puts                                   0     0  0.99 -4.59 -14.48   \n",
       "CLN_YBOCS_Totalscore_Items_1to10        0.03     0     0  -0.7  -2.22   \n",
       "CLN_OCIR_total score                    0.09  0.47  0.05 -0.91   -2.9   \n",
       "CLN_qol_scale                              0     0  0.42 -3.45 -10.87   \n",
       "CLN_qol_score                              0     0  0.42 -2.04  -6.44   \n",
       "CLN_BDI12                                  0  0.03  0.55 -1.29  -4.09   \n",
       "STR_Gln_Glu                             0.86   0.9  0.96     1   2.98   \n",
       "\n",
       "                                          p_val  \n",
       "CLN_YGTSS_Total_Tic_Score                     0  \n",
       "CLN_YGTSS_Motoric_Score                       0  \n",
       "CLN_YGTSS_Vocal_Score                     6e-06  \n",
       "CLN_YGTSS_Total_Score_incl_Impairment         0  \n",
       "CLN_RVTRS                                     0  \n",
       "CLN_puts                                      0  \n",
       "CLN_YBOCS_Totalscore_Items_1to10       0.031533  \n",
       "CLN_OCIR_total score                    0.00587  \n",
       "CLN_qol_scale                                 0  \n",
       "CLN_qol_score                                 0  \n",
       "CLN_BDI12                              0.000191  \n",
       "STR_Gln_Glu                            0.005333  "
      ]
     },
     "execution_count": 11,
     "metadata": {},
     "output_type": "execute_result"
    }
   ],
   "source": [
    "def make_bsl_demographic_table(dfc,dfp):\n",
    "    columns = ['YGTSS_Total_Tic_Score', 'YGTSS_Motoric_Score', 'YGTSS_Vocal_Score', 'YGTSS_Total_Score_incl_Impairment',\n",
    "               'RVTRS','puts','YBOCS_Totalscore_Items_1to10','OCIR_total score','qol_scale','qol_score','BDI12']\n",
    "    cols = ['CLN_'+ i for i in columns]\n",
    "    cols.append('STR_Gln_Glu')\n",
    "    print cols\n",
    "    rows = ['N' ,'Controls', 'Patients','Levene', 'KSC','KSP','D', 't_val', 'p_val']\n",
    "    dfs= pd.DataFrame(index = rows, columns=cols)\n",
    "    \n",
    "    for col in cols:\n",
    "        \n",
    "        t_val, p_val = ttest_ind(dfc[col].dropna(), dfp[col].dropna())\n",
    "        lvn          = levene(dfc[col].dropna(), dfp[col].dropna())\n",
    "        ksc          = kstest(preprocessing.scale(dfc[col].dropna()), 'norm')\n",
    "        ksp          = kstest(preprocessing.scale(dfp[col].dropna()), 'norm')\n",
    "        dfs.ix['N'][col]        = len(dfc.index), len(dfp.index)\n",
    "        dfs.ix['Controls'][col] = '%s±%s' %(np.round(np.mean(dfc[col].dropna()),2), np.round(np.std(dfc[col].dropna()),2)  )\n",
    "        dfs.ix['Patients'][col] = '%s±%s' %(np.round(np.mean(dfp[col].dropna()),2), np.round(np.std(dfp[col].dropna()),2)  )\n",
    "        dfs.ix['t_val'][col]    = np.round(t_val,2)\n",
    "        dfs.ix['p_val'][col]    = np.round(p_val,6)\n",
    "        dfs.ix['D'][col]        = np.round(cohen_d(dfc,dfp, col),2)\n",
    "        dfs.ix['Levene'][col]   = np.round(lvn[1],2)\n",
    "        dfs.ix['KSC'][col]      = np.round(ksc[1],2)\n",
    "        dfs.ix['KSP'][col]      = np.round(ksp[1],2)\n",
    "        \n",
    "    return dfs.T\n",
    "\n",
    "make_bsl_demographic_table(controls_a, patients_a)"
   ]
  },
  {
   "cell_type": "code",
   "execution_count": 12,
   "metadata": {
    "collapsed": false,
    "scrolled": false
   },
   "outputs": [
    {
     "name": "stderr",
     "output_type": "stream",
     "text": [
      "/usr/local/lib/python2.7/site-packages/scipy/stats/morestats.py:1967: UserWarning: Warning: sample size too small for normal approximation.\n",
      "  warnings.warn(\"Warning: sample size too small for normal approximation.\")\n"
     ]
    },
    {
     "data": {
      "text/html": [
       "<div>\n",
       "<table border=\"1\" class=\"dataframe\">\n",
       "  <thead>\n",
       "    <tr style=\"text-align: right;\">\n",
       "      <th></th>\n",
       "      <th>N</th>\n",
       "      <th>Patients_A</th>\n",
       "      <th>Patients_B</th>\n",
       "      <th>Levene</th>\n",
       "      <th>KSC</th>\n",
       "      <th>KSP</th>\n",
       "      <th>D</th>\n",
       "      <th>t_val</th>\n",
       "      <th>p_val</th>\n",
       "    </tr>\n",
       "  </thead>\n",
       "  <tbody>\n",
       "    <tr>\n",
       "      <th>CLN_YGTSS_Total_Tic_Score</th>\n",
       "      <td>12</td>\n",
       "      <td>20.17±8.86</td>\n",
       "      <td>22.0±8.38</td>\n",
       "      <td>0.89</td>\n",
       "      <td>0.39</td>\n",
       "      <td>0.58</td>\n",
       "      <td>-0.21</td>\n",
       "      <td>16</td>\n",
       "      <td>0.441</td>\n",
       "    </tr>\n",
       "    <tr>\n",
       "      <th>CLN_YGTSS_Motoric_Score</th>\n",
       "      <td>12</td>\n",
       "      <td>13.08±4.22</td>\n",
       "      <td>13.83±3.53</td>\n",
       "      <td>0.8</td>\n",
       "      <td>0.49</td>\n",
       "      <td>0.96</td>\n",
       "      <td>-0.19</td>\n",
       "      <td>9</td>\n",
       "      <td>0.205</td>\n",
       "    </tr>\n",
       "    <tr>\n",
       "      <th>CLN_YGTSS_Vocal_Score</th>\n",
       "      <td>12</td>\n",
       "      <td>7.08±5.96</td>\n",
       "      <td>8.17±6.04</td>\n",
       "      <td>0.93</td>\n",
       "      <td>0.41</td>\n",
       "      <td>0.83</td>\n",
       "      <td>-0.17</td>\n",
       "      <td>20.5</td>\n",
       "      <td>0.812</td>\n",
       "    </tr>\n",
       "    <tr>\n",
       "      <th>CLN_YGTSS_Total_Score_incl_Impairment</th>\n",
       "      <td>12</td>\n",
       "      <td>42.0±17.68</td>\n",
       "      <td>49.25±18.23</td>\n",
       "      <td>0.65</td>\n",
       "      <td>0.92</td>\n",
       "      <td>0.98</td>\n",
       "      <td>-0.39</td>\n",
       "      <td>15</td>\n",
       "      <td>0.374</td>\n",
       "    </tr>\n",
       "    <tr>\n",
       "      <th>CLN_RVTRS</th>\n",
       "      <td>12</td>\n",
       "      <td>8.17±4.1</td>\n",
       "      <td>11.0±5.03</td>\n",
       "      <td>0.5</td>\n",
       "      <td>0.17</td>\n",
       "      <td>0.57</td>\n",
       "      <td>-0.59</td>\n",
       "      <td>14</td>\n",
       "      <td>0.312</td>\n",
       "    </tr>\n",
       "    <tr>\n",
       "      <th>CLN_puts</th>\n",
       "      <td>12</td>\n",
       "      <td>19.29±5.82</td>\n",
       "      <td>19.67±6.65</td>\n",
       "      <td>0.83</td>\n",
       "      <td>0.99</td>\n",
       "      <td>0.99</td>\n",
       "      <td>-0.06</td>\n",
       "      <td>19.5</td>\n",
       "      <td>0.722</td>\n",
       "    </tr>\n",
       "    <tr>\n",
       "      <th>CLN_YBOCS_Totalscore_Items_1to10</th>\n",
       "      <td>12</td>\n",
       "      <td>2.58±5.07</td>\n",
       "      <td>5.92±6.21</td>\n",
       "      <td>0.12</td>\n",
       "      <td>0</td>\n",
       "      <td>0.4</td>\n",
       "      <td>-0.57</td>\n",
       "      <td>1</td>\n",
       "      <td>0.08</td>\n",
       "    </tr>\n",
       "    <tr>\n",
       "      <th>CLN_OCIR_total score</th>\n",
       "      <td>12</td>\n",
       "      <td>15.71±13.42</td>\n",
       "      <td>16.67±11.59</td>\n",
       "      <td>0.8</td>\n",
       "      <td>0.05</td>\n",
       "      <td>0.22</td>\n",
       "      <td>-0.07</td>\n",
       "      <td>9</td>\n",
       "      <td>0.109</td>\n",
       "    </tr>\n",
       "    <tr>\n",
       "      <th>CLN_qol_scale</th>\n",
       "      <td>12</td>\n",
       "      <td>61.67±24.78</td>\n",
       "      <td>65.0±18.71</td>\n",
       "      <td>0.44</td>\n",
       "      <td>0.42</td>\n",
       "      <td>0.65</td>\n",
       "      <td>-0.15</td>\n",
       "      <td>18</td>\n",
       "      <td>0.594</td>\n",
       "    </tr>\n",
       "    <tr>\n",
       "      <th>CLN_qol_score</th>\n",
       "      <td>12</td>\n",
       "      <td>29.62±20.11</td>\n",
       "      <td>25.5±14.82</td>\n",
       "      <td>0.25</td>\n",
       "      <td>0.42</td>\n",
       "      <td>0.83</td>\n",
       "      <td>0.23</td>\n",
       "      <td>15.5</td>\n",
       "      <td>0.726</td>\n",
       "    </tr>\n",
       "    <tr>\n",
       "      <th>CLN_BDI12</th>\n",
       "      <td>12</td>\n",
       "      <td>13.12±11.43</td>\n",
       "      <td>14.83±11.69</td>\n",
       "      <td>0.8</td>\n",
       "      <td>0.55</td>\n",
       "      <td>0.85</td>\n",
       "      <td>-0.14</td>\n",
       "      <td>14</td>\n",
       "      <td>0.314</td>\n",
       "    </tr>\n",
       "    <tr>\n",
       "      <th>STR_Glx</th>\n",
       "      <td>8</td>\n",
       "      <td>7.98±1.03</td>\n",
       "      <td>8.81±0.81</td>\n",
       "      <td>0.73</td>\n",
       "      <td>1</td>\n",
       "      <td>0.99</td>\n",
       "      <td>-0.86</td>\n",
       "      <td>2</td>\n",
       "      <td>0.025</td>\n",
       "    </tr>\n",
       "  </tbody>\n",
       "</table>\n",
       "</div>"
      ],
      "text/plain": [
       "                                        N   Patients_A   Patients_B Levene  \\\n",
       "CLN_YGTSS_Total_Tic_Score              12   20.17±8.86    22.0±8.38   0.89   \n",
       "CLN_YGTSS_Motoric_Score                12   13.08±4.22   13.83±3.53    0.8   \n",
       "CLN_YGTSS_Vocal_Score                  12    7.08±5.96    8.17±6.04   0.93   \n",
       "CLN_YGTSS_Total_Score_incl_Impairment  12   42.0±17.68  49.25±18.23   0.65   \n",
       "CLN_RVTRS                              12     8.17±4.1    11.0±5.03    0.5   \n",
       "CLN_puts                               12   19.29±5.82   19.67±6.65   0.83   \n",
       "CLN_YBOCS_Totalscore_Items_1to10       12    2.58±5.07    5.92±6.21   0.12   \n",
       "CLN_OCIR_total score                   12  15.71±13.42  16.67±11.59    0.8   \n",
       "CLN_qol_scale                          12  61.67±24.78   65.0±18.71   0.44   \n",
       "CLN_qol_score                          12  29.62±20.11   25.5±14.82   0.25   \n",
       "CLN_BDI12                              12  13.12±11.43  14.83±11.69    0.8   \n",
       "STR_Glx                                 8    7.98±1.03    8.81±0.81   0.73   \n",
       "\n",
       "                                        KSC   KSP     D t_val  p_val  \n",
       "CLN_YGTSS_Total_Tic_Score              0.39  0.58 -0.21    16  0.441  \n",
       "CLN_YGTSS_Motoric_Score                0.49  0.96 -0.19     9  0.205  \n",
       "CLN_YGTSS_Vocal_Score                  0.41  0.83 -0.17  20.5  0.812  \n",
       "CLN_YGTSS_Total_Score_incl_Impairment  0.92  0.98 -0.39    15  0.374  \n",
       "CLN_RVTRS                              0.17  0.57 -0.59    14  0.312  \n",
       "CLN_puts                               0.99  0.99 -0.06  19.5  0.722  \n",
       "CLN_YBOCS_Totalscore_Items_1to10          0   0.4 -0.57     1   0.08  \n",
       "CLN_OCIR_total score                   0.05  0.22 -0.07     9  0.109  \n",
       "CLN_qol_scale                          0.42  0.65 -0.15    18  0.594  \n",
       "CLN_qol_score                          0.42  0.83  0.23  15.5  0.726  \n",
       "CLN_BDI12                              0.55  0.85 -0.14    14  0.314  \n",
       "STR_Glx                                   1  0.99 -0.86     2  0.025  "
      ]
     },
     "execution_count": 12,
     "metadata": {},
     "output_type": "execute_result"
    }
   ],
   "source": [
    "def remove_nans_and_return_tuples(met1,met2):\n",
    "    vlist = []\n",
    "    for i in zip(np.array(met1), np.array(met2)):\n",
    "        vlist.append(i)\n",
    "    varray = np.array(vlist)\n",
    "    varray = varray[~np.isnan(varray).any(1)]\n",
    "    #print varray\n",
    "    return varray\n",
    "\n",
    "def make_paired_ttest(tuple_array):\n",
    "        #Calculates the T-test on TWO RELATED samples of scores, a and b.\n",
    "        #This is a two-sided test for the null hypothesis that 2 related or\n",
    "        #repeated samples have identical average (expected) values.\n",
    "        m1 = [i[0] for i in tuple_array]\n",
    "        m2 = [i[1] for i in tuple_array]\n",
    "        t_value, p_value = ttest_rel(np.array(m1), np.array(m2))\n",
    "        t_value, p_value = wilcoxon(np.array(m1), np.array(m2))\n",
    "        return np.round(t_value, 3), np.round(p_value, 3)\n",
    "\n",
    "def make_trt_demographic_table(dfc,dfp):\n",
    "    columns = ['YGTSS_Total_Tic_Score', 'YGTSS_Motoric_Score', 'YGTSS_Vocal_Score', 'YGTSS_Total_Score_incl_Impairment',\n",
    "               'RVTRS','puts','YBOCS_Totalscore_Items_1to10','OCIR_total score','qol_scale','qol_score','BDI12']\n",
    "    cols = ['CLN_'+ i for i in columns]\n",
    "    cols.append('STR_Glx')\n",
    "    rows = ['N','Patients_A', 'Patients_B','Levene', 'KSC','KSP','D', 't_val', 'p_val']\n",
    "    dfs= pd.DataFrame(index = rows, columns=cols)\n",
    "    \n",
    "    for col in cols:\n",
    "        tuple_array  = remove_nans_and_return_tuples(preprocessing.scale(dfc[col].dropna()), preprocessing.scale(dfp[col].dropna()))\n",
    "        tuple_array  = remove_nans_and_return_tuples(dfc[col], dfp[col])\n",
    "\n",
    "        t_val, p_val = make_paired_ttest(tuple_array)\n",
    "        #t_val, p_val = mannwhitneyu(dfc[col].dropna(), dfp[col].dropna())\n",
    "        lvn          = levene(dfc[col].dropna(), dfp[col].dropna())\n",
    "        ksc          = kstest(preprocessing.scale(dfc[col].dropna()), 'norm')\n",
    "        ksp          = kstest(preprocessing.scale(dfp[col].dropna()), 'norm')\n",
    "        dfs.ix['N'][col] =  len(tuple_array)\n",
    "        \n",
    "        dfs.ix['Patients_A'][col] = '%s±%s' %(np.round(np.mean(dfc[col].dropna()),2), np.round(np.std(dfc[col].dropna()),2)  )\n",
    "        dfs.ix['Patients_B'][col] = '%s±%s' %(np.round(np.mean(dfp[col].dropna()),2), np.round(np.std(dfp[col].dropna()),2)  )\n",
    "        dfs.ix['t_val'][col]    = np.round(t_val,2)\n",
    "        dfs.ix['p_val'][col]    = np.round(p_val,6)\n",
    "        dfs.ix['D'][col]        = np.round(cohen_d(dfc,dfp, col),2)\n",
    "        dfs.ix['Levene'][col]   = np.round(lvn[1],2)\n",
    "        dfs.ix['KSC'][col]      = np.round(ksc[1],2)\n",
    "        dfs.ix['KSP'][col]      = np.round(ksp[1],2)\n",
    "        \n",
    "    return dfs.T\n",
    "\n",
    "make_trt_demographic_table(patients_a, patients_b)"
   ]
  },
  {
   "cell_type": "code",
   "execution_count": null,
   "metadata": {
    "collapsed": true
   },
   "outputs": [],
   "source": []
  },
  {
   "cell_type": "code",
   "execution_count": null,
   "metadata": {
    "collapsed": true
   },
   "outputs": [],
   "source": []
  },
  {
   "cell_type": "code",
   "execution_count": null,
   "metadata": {
    "collapsed": true
   },
   "outputs": [],
   "source": []
  },
  {
   "cell_type": "code",
   "execution_count": null,
   "metadata": {
    "collapsed": true
   },
   "outputs": [],
   "source": []
  },
  {
   "cell_type": "code",
   "execution_count": null,
   "metadata": {
    "collapsed": true
   },
   "outputs": [],
   "source": []
  },
  {
   "cell_type": "code",
   "execution_count": null,
   "metadata": {
    "collapsed": true
   },
   "outputs": [],
   "source": []
  },
  {
   "cell_type": "code",
   "execution_count": null,
   "metadata": {
    "collapsed": true
   },
   "outputs": [],
   "source": []
  },
  {
   "cell_type": "code",
   "execution_count": null,
   "metadata": {
    "collapsed": true
   },
   "outputs": [],
   "source": []
  },
  {
   "cell_type": "code",
   "execution_count": null,
   "metadata": {
    "collapsed": true
   },
   "outputs": [],
   "source": []
  },
  {
   "cell_type": "code",
   "execution_count": null,
   "metadata": {
    "collapsed": true
   },
   "outputs": [],
   "source": []
  },
  {
   "cell_type": "code",
   "execution_count": null,
   "metadata": {
    "collapsed": true
   },
   "outputs": [],
   "source": []
  },
  {
   "cell_type": "code",
   "execution_count": null,
   "metadata": {
    "collapsed": true
   },
   "outputs": [],
   "source": []
  }
 ],
 "metadata": {
  "anaconda-cloud": {},
  "kernelspec": {
   "display_name": "Python [default]",
   "language": "python",
   "name": "python2"
  },
  "language_info": {
   "codemirror_mode": {
    "name": "ipython",
    "version": 2
   },
   "file_extension": ".py",
   "mimetype": "text/x-python",
   "name": "python",
   "nbconvert_exporter": "python",
   "pygments_lexer": "ipython2",
   "version": "2.7.12"
  }
 },
 "nbformat": 4,
 "nbformat_minor": 0
}
