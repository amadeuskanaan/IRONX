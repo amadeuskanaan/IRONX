{
 "cells": [
  {
   "cell_type": "code",
   "execution_count": 243,
   "metadata": {
    "collapsed": false
   },
   "outputs": [],
   "source": [
    "%matplotlib inline\n",
    "import os \n",
    "import pandas as pd \n",
    "import numpy as np \n",
    "import scipy.stats as ss \n",
    "import seaborn as sns \n",
    "\n",
    "datadir = '/Users/kanaan/Google Drive/TS-EUROTRAIN/RESULTS_QSM/Sept_27'\n",
    "\n",
    "measures = ['Puta', 'Pall', 'Thal', 'Accu', 'Amyg', 'Hipp', 'RN', 'SN','STN', #'Caud', \n",
    "            'GPi' , 'GPe' , 'DN']\n",
    "\n",
    "drop_c = ['LL5T', 'WSKT', 'FA2T', 'SC1T']\n",
    "drop_p = ['HSPP', 'AA8P', 'CB4P', 'LA9P','RA9P', 'SA5U', 'RMJP', 'HHQP']\n",
    "#drop_c = []\n",
    "drop_p = ['HSPP', 'THCP', 'CB4P', 'LA9P', 'RA9P', 'SA5U', 'AA8P','RMJP', 'HHQP']\n",
    "#drop_p = ['CB4P','RA9P','RMJP','HHQP','HSPP','KDDP','THCP','SA5U','CM5P', 'AA8P'] #mahal"
   ]
  },
  {
   "cell_type": "code",
   "execution_count": 233,
   "metadata": {
    "collapsed": false
   },
   "outputs": [],
   "source": [
    "def read_df(img, population, study_id):\n",
    "    quant = 'median'\n",
    "    df = pd.read_csv(os.path.join(datadir, '%s_%s_%s_%s.csv'%(img, quant, population, study_id)), index_col = 0)\n",
    "    df['Gender']  = df['Gender'].map({' F': 1, ' M': 0})\n",
    "    return df \n",
    "\n",
    "controls_a = read_df('QSM', 'controls', 'a').drop(drop_c, axis = 0)\n",
    "patients_a = read_df('QSM', 'patients', 'a').drop(drop_p, axis = 0)\n"
   ]
  },
  {
   "cell_type": "code",
   "execution_count": 254,
   "metadata": {
    "collapsed": false
   },
   "outputs": [],
   "source": [
    "def make_ttest(df1,df2):\n",
    "    df = pd.DataFrame(index= ['Controls', 'Patients', 'Statistic', 'p_val',], columns=measures)\n",
    "    for measure in measures:\n",
    "        t_val, p_val = ss.mannwhitneyu(df1[measure], df2[measure])\n",
    "        \n",
    "        xval = 1000\n",
    "        npr  = 4\n",
    "        df.ix['Controls'][measure] = '%s±%s'%(xval*np.round(np.mean(df1[measure]),npr), \n",
    "                                              xval*np.round(np.std(df1[measure]), npr))   \n",
    "        df.ix['Patients'][measure] = '%s±%s'%(xval*np.round(np.mean(df2[measure]),npr), \n",
    "                                              xval*np.round(np.std(df2[measure]), npr))          \n",
    "        df.ix['Statistic'][measure] = np.round(t_val,2)        \n",
    "        df.ix['p_val'][measure]     = np.round(p_val,5)\n",
    "        \n",
    "        if p_val < 0.05:\n",
    "            print measure, 'p =', np.round(p_val,3)\n",
    "    return df.T\n",
    "         \n",
    "def make_fdr(df):\n",
    "    fdr = pd.DataFrame()\n",
    "    for i in df.index:\n",
    "        for c in df.columns:\n",
    "            fdr.ix['%s_%s'%(i,c),'p'] = df.loc[i][c]\n",
    "    fdr = fdr.dropna()\n",
    "    fdr = fdr.sort('p')\n",
    "    \n",
    "    n_comparisons = len(fdr.index)\n",
    "    for i, corr in enumerate(fdr.index):\n",
    "        fdr.ix[corr, 'FDR_threshold'] = np.round((0.05 * (i + 1.) / n_comparisons), 3)\n",
    "        \n",
    "    return fdr.reindex()"
   ]
  },
  {
   "cell_type": "code",
   "execution_count": 255,
   "metadata": {
    "collapsed": false
   },
   "outputs": [
    {
     "name": "stdout",
     "output_type": "stream",
     "text": [
      "Hipp p = 0.041\n",
      "STN p = 0.031\n"
     ]
    },
    {
     "data": {
      "text/html": [
       "<div>\n",
       "<table border=\"1\" class=\"dataframe\">\n",
       "  <thead>\n",
       "    <tr style=\"text-align: right;\">\n",
       "      <th></th>\n",
       "      <th>Controls</th>\n",
       "      <th>Patients</th>\n",
       "      <th>Statistic</th>\n",
       "      <th>p_val</th>\n",
       "    </tr>\n",
       "  </thead>\n",
       "  <tbody>\n",
       "    <tr>\n",
       "      <th>STN</th>\n",
       "      <td>-3.4±32.7</td>\n",
       "      <td>-23.5±28.7</td>\n",
       "      <td>137</td>\n",
       "      <td>0.03079</td>\n",
       "    </tr>\n",
       "    <tr>\n",
       "      <th>Hipp</th>\n",
       "      <td>-19.0±10.5</td>\n",
       "      <td>-25.5±12.4</td>\n",
       "      <td>142</td>\n",
       "      <td>0.04105</td>\n",
       "    </tr>\n",
       "    <tr>\n",
       "      <th>Accu</th>\n",
       "      <td>-24.0±17.5</td>\n",
       "      <td>-30.1±15.4</td>\n",
       "      <td>147</td>\n",
       "      <td>0.05393</td>\n",
       "    </tr>\n",
       "    <tr>\n",
       "      <th>GPi</th>\n",
       "      <td>16.0±29.3</td>\n",
       "      <td>-1.7±40.7</td>\n",
       "      <td>155</td>\n",
       "      <td>0.08095</td>\n",
       "    </tr>\n",
       "    <tr>\n",
       "      <th>Puta</th>\n",
       "      <td>0.2±16.9</td>\n",
       "      <td>-6.7±18.1</td>\n",
       "      <td>161</td>\n",
       "      <td>0.10714</td>\n",
       "    </tr>\n",
       "    <tr>\n",
       "      <th>SN</th>\n",
       "      <td>124.4±31.8</td>\n",
       "      <td>116.7±50.9</td>\n",
       "      <td>171</td>\n",
       "      <td>0.16344</td>\n",
       "    </tr>\n",
       "    <tr>\n",
       "      <th>Amyg</th>\n",
       "      <td>-34.1±9.3</td>\n",
       "      <td>-38.3±15.4</td>\n",
       "      <td>174</td>\n",
       "      <td>0.18353</td>\n",
       "    </tr>\n",
       "    <tr>\n",
       "      <th>RN</th>\n",
       "      <td>84.7±54.9</td>\n",
       "      <td>65.2±59.5</td>\n",
       "      <td>177</td>\n",
       "      <td>0.2051</td>\n",
       "    </tr>\n",
       "    <tr>\n",
       "      <th>Thal</th>\n",
       "      <td>-37.4±12.0</td>\n",
       "      <td>-40.7±12.2</td>\n",
       "      <td>180</td>\n",
       "      <td>0.2281</td>\n",
       "    </tr>\n",
       "    <tr>\n",
       "      <th>Pall</th>\n",
       "      <td>82.9±17.4</td>\n",
       "      <td>78.7±23.8</td>\n",
       "      <td>184</td>\n",
       "      <td>0.26091</td>\n",
       "    </tr>\n",
       "    <tr>\n",
       "      <th>GPe</th>\n",
       "      <td>81.3±16.1</td>\n",
       "      <td>76.8±24.7</td>\n",
       "      <td>186</td>\n",
       "      <td>0.27818</td>\n",
       "    </tr>\n",
       "    <tr>\n",
       "      <th>DN</th>\n",
       "      <td>2.8±24.0</td>\n",
       "      <td>-5.1±28.3</td>\n",
       "      <td>189</td>\n",
       "      <td>0.30509</td>\n",
       "    </tr>\n",
       "  </tbody>\n",
       "</table>\n",
       "</div>"
      ],
      "text/plain": [
       "        Controls    Patients Statistic    p_val\n",
       "STN    -3.4±32.7  -23.5±28.7       137  0.03079\n",
       "Hipp  -19.0±10.5  -25.5±12.4       142  0.04105\n",
       "Accu  -24.0±17.5  -30.1±15.4       147  0.05393\n",
       "GPi    16.0±29.3   -1.7±40.7       155  0.08095\n",
       "Puta    0.2±16.9   -6.7±18.1       161  0.10714\n",
       "SN    124.4±31.8  116.7±50.9       171  0.16344\n",
       "Amyg   -34.1±9.3  -38.3±15.4       174  0.18353\n",
       "RN     84.7±54.9   65.2±59.5       177   0.2051\n",
       "Thal  -37.4±12.0  -40.7±12.2       180   0.2281\n",
       "Pall   82.9±17.4   78.7±23.8       184  0.26091\n",
       "GPe    81.3±16.1   76.8±24.7       186  0.27818\n",
       "DN      2.8±24.0   -5.1±28.3       189  0.30509"
      ]
     },
     "execution_count": 255,
     "metadata": {},
     "output_type": "execute_result"
    }
   ],
   "source": [
    "df_stat = make_ttest(controls_a,patients_a)\n",
    "df_stat.sort('p_val')"
   ]
  },
  {
   "cell_type": "code",
   "execution_count": 256,
   "metadata": {
    "collapsed": false
   },
   "outputs": [
    {
     "data": {
      "text/html": [
       "<div>\n",
       "<table border=\"1\" class=\"dataframe\">\n",
       "  <thead>\n",
       "    <tr style=\"text-align: right;\">\n",
       "      <th></th>\n",
       "      <th>p</th>\n",
       "      <th>FDR_threshold</th>\n",
       "    </tr>\n",
       "  </thead>\n",
       "  <tbody>\n",
       "    <tr>\n",
       "      <th>STN_p_val</th>\n",
       "      <td>0.03079</td>\n",
       "      <td>0.004</td>\n",
       "    </tr>\n",
       "    <tr>\n",
       "      <th>Hipp_p_val</th>\n",
       "      <td>0.04105</td>\n",
       "      <td>0.008</td>\n",
       "    </tr>\n",
       "    <tr>\n",
       "      <th>Accu_p_val</th>\n",
       "      <td>0.05393</td>\n",
       "      <td>0.013</td>\n",
       "    </tr>\n",
       "    <tr>\n",
       "      <th>GPi_p_val</th>\n",
       "      <td>0.08095</td>\n",
       "      <td>0.017</td>\n",
       "    </tr>\n",
       "    <tr>\n",
       "      <th>Puta_p_val</th>\n",
       "      <td>0.10714</td>\n",
       "      <td>0.021</td>\n",
       "    </tr>\n",
       "    <tr>\n",
       "      <th>SN_p_val</th>\n",
       "      <td>0.16344</td>\n",
       "      <td>0.025</td>\n",
       "    </tr>\n",
       "    <tr>\n",
       "      <th>Amyg_p_val</th>\n",
       "      <td>0.18353</td>\n",
       "      <td>0.029</td>\n",
       "    </tr>\n",
       "    <tr>\n",
       "      <th>RN_p_val</th>\n",
       "      <td>0.20510</td>\n",
       "      <td>0.033</td>\n",
       "    </tr>\n",
       "    <tr>\n",
       "      <th>Thal_p_val</th>\n",
       "      <td>0.22810</td>\n",
       "      <td>0.038</td>\n",
       "    </tr>\n",
       "    <tr>\n",
       "      <th>Pall_p_val</th>\n",
       "      <td>0.26091</td>\n",
       "      <td>0.042</td>\n",
       "    </tr>\n",
       "    <tr>\n",
       "      <th>GPe_p_val</th>\n",
       "      <td>0.27818</td>\n",
       "      <td>0.046</td>\n",
       "    </tr>\n",
       "    <tr>\n",
       "      <th>DN_p_val</th>\n",
       "      <td>0.30509</td>\n",
       "      <td>0.050</td>\n",
       "    </tr>\n",
       "  </tbody>\n",
       "</table>\n",
       "</div>"
      ],
      "text/plain": [
       "                  p  FDR_threshold\n",
       "STN_p_val   0.03079          0.004\n",
       "Hipp_p_val  0.04105          0.008\n",
       "Accu_p_val  0.05393          0.013\n",
       "GPi_p_val   0.08095          0.017\n",
       "Puta_p_val  0.10714          0.021\n",
       "SN_p_val    0.16344          0.025\n",
       "Amyg_p_val  0.18353          0.029\n",
       "RN_p_val    0.20510          0.033\n",
       "Thal_p_val  0.22810          0.038\n",
       "Pall_p_val  0.26091          0.042\n",
       "GPe_p_val   0.27818          0.046\n",
       "DN_p_val    0.30509          0.050"
      ]
     },
     "execution_count": 256,
     "metadata": {},
     "output_type": "execute_result"
    }
   ],
   "source": [
    "make_fdr(pd.DataFrame(df_stat.p_val))"
   ]
  },
  {
   "cell_type": "code",
   "execution_count": 257,
   "metadata": {
    "collapsed": false
   },
   "outputs": [
    {
     "name": "stdout",
     "output_type": "stream",
     "text": [
      "Hipp p = 0.041\n",
      "STN p = 0.031\n"
     ]
    },
    {
     "data": {
      "text/html": [
       "<div>\n",
       "<table border=\"1\" class=\"dataframe\">\n",
       "  <thead>\n",
       "    <tr style=\"text-align: right;\">\n",
       "      <th></th>\n",
       "      <th>Controls</th>\n",
       "      <th>Patients</th>\n",
       "      <th>Statistic</th>\n",
       "      <th>p_val</th>\n",
       "    </tr>\n",
       "  </thead>\n",
       "  <tbody>\n",
       "    <tr>\n",
       "      <th>STN</th>\n",
       "      <td>-3.4±32.7</td>\n",
       "      <td>-23.5±28.7</td>\n",
       "      <td>137</td>\n",
       "      <td>0.03079</td>\n",
       "    </tr>\n",
       "    <tr>\n",
       "      <th>Hipp</th>\n",
       "      <td>-19.0±10.5</td>\n",
       "      <td>-25.5±12.4</td>\n",
       "      <td>142</td>\n",
       "      <td>0.04105</td>\n",
       "    </tr>\n",
       "    <tr>\n",
       "      <th>Accu</th>\n",
       "      <td>-24.0±17.5</td>\n",
       "      <td>-30.1±15.4</td>\n",
       "      <td>147</td>\n",
       "      <td>0.05393</td>\n",
       "    </tr>\n",
       "    <tr>\n",
       "      <th>GPi</th>\n",
       "      <td>16.0±29.3</td>\n",
       "      <td>-1.7±40.7</td>\n",
       "      <td>155</td>\n",
       "      <td>0.08095</td>\n",
       "    </tr>\n",
       "    <tr>\n",
       "      <th>Puta</th>\n",
       "      <td>0.2±16.9</td>\n",
       "      <td>-6.7±18.1</td>\n",
       "      <td>161</td>\n",
       "      <td>0.10714</td>\n",
       "    </tr>\n",
       "    <tr>\n",
       "      <th>SN</th>\n",
       "      <td>124.4±31.8</td>\n",
       "      <td>116.7±50.9</td>\n",
       "      <td>171</td>\n",
       "      <td>0.16344</td>\n",
       "    </tr>\n",
       "    <tr>\n",
       "      <th>Amyg</th>\n",
       "      <td>-34.1±9.3</td>\n",
       "      <td>-38.3±15.4</td>\n",
       "      <td>174</td>\n",
       "      <td>0.18353</td>\n",
       "    </tr>\n",
       "    <tr>\n",
       "      <th>RN</th>\n",
       "      <td>84.7±54.9</td>\n",
       "      <td>65.2±59.5</td>\n",
       "      <td>177</td>\n",
       "      <td>0.2051</td>\n",
       "    </tr>\n",
       "    <tr>\n",
       "      <th>Thal</th>\n",
       "      <td>-37.4±12.0</td>\n",
       "      <td>-40.7±12.2</td>\n",
       "      <td>180</td>\n",
       "      <td>0.2281</td>\n",
       "    </tr>\n",
       "    <tr>\n",
       "      <th>Pall</th>\n",
       "      <td>82.9±17.4</td>\n",
       "      <td>78.7±23.8</td>\n",
       "      <td>184</td>\n",
       "      <td>0.26091</td>\n",
       "    </tr>\n",
       "    <tr>\n",
       "      <th>GPe</th>\n",
       "      <td>81.3±16.1</td>\n",
       "      <td>76.8±24.7</td>\n",
       "      <td>186</td>\n",
       "      <td>0.27818</td>\n",
       "    </tr>\n",
       "    <tr>\n",
       "      <th>DN</th>\n",
       "      <td>2.8±24.0</td>\n",
       "      <td>-5.1±28.3</td>\n",
       "      <td>189</td>\n",
       "      <td>0.30509</td>\n",
       "    </tr>\n",
       "  </tbody>\n",
       "</table>\n",
       "</div>"
      ],
      "text/plain": [
       "        Controls    Patients Statistic    p_val\n",
       "STN    -3.4±32.7  -23.5±28.7       137  0.03079\n",
       "Hipp  -19.0±10.5  -25.5±12.4       142  0.04105\n",
       "Accu  -24.0±17.5  -30.1±15.4       147  0.05393\n",
       "GPi    16.0±29.3   -1.7±40.7       155  0.08095\n",
       "Puta    0.2±16.9   -6.7±18.1       161  0.10714\n",
       "SN    124.4±31.8  116.7±50.9       171  0.16344\n",
       "Amyg   -34.1±9.3  -38.3±15.4       174  0.18353\n",
       "RN     84.7±54.9   65.2±59.5       177   0.2051\n",
       "Thal  -37.4±12.0  -40.7±12.2       180   0.2281\n",
       "Pall   82.9±17.4   78.7±23.8       184  0.26091\n",
       "GPe    81.3±16.1   76.8±24.7       186  0.27818\n",
       "DN      2.8±24.0   -5.1±28.3       189  0.30509"
      ]
     },
     "execution_count": 257,
     "metadata": {},
     "output_type": "execute_result"
    }
   ],
   "source": [
    "df_stat = make_ttest(controls_a,patients_a)\n",
    "df_stat.sort('p_val')\n"
   ]
  },
  {
   "cell_type": "code",
   "execution_count": 258,
   "metadata": {
    "collapsed": false
   },
   "outputs": [
    {
     "data": {
      "text/html": [
       "<div>\n",
       "<table border=\"1\" class=\"dataframe\">\n",
       "  <thead>\n",
       "    <tr style=\"text-align: right;\">\n",
       "      <th></th>\n",
       "      <th>p</th>\n",
       "      <th>FDR_threshold</th>\n",
       "    </tr>\n",
       "  </thead>\n",
       "  <tbody>\n",
       "    <tr>\n",
       "      <th>STN_p_val</th>\n",
       "      <td>0.03079</td>\n",
       "      <td>0.004</td>\n",
       "    </tr>\n",
       "    <tr>\n",
       "      <th>Hipp_p_val</th>\n",
       "      <td>0.04105</td>\n",
       "      <td>0.008</td>\n",
       "    </tr>\n",
       "    <tr>\n",
       "      <th>Accu_p_val</th>\n",
       "      <td>0.05393</td>\n",
       "      <td>0.013</td>\n",
       "    </tr>\n",
       "    <tr>\n",
       "      <th>GPi_p_val</th>\n",
       "      <td>0.08095</td>\n",
       "      <td>0.017</td>\n",
       "    </tr>\n",
       "    <tr>\n",
       "      <th>Puta_p_val</th>\n",
       "      <td>0.10714</td>\n",
       "      <td>0.021</td>\n",
       "    </tr>\n",
       "    <tr>\n",
       "      <th>SN_p_val</th>\n",
       "      <td>0.16344</td>\n",
       "      <td>0.025</td>\n",
       "    </tr>\n",
       "    <tr>\n",
       "      <th>Amyg_p_val</th>\n",
       "      <td>0.18353</td>\n",
       "      <td>0.029</td>\n",
       "    </tr>\n",
       "    <tr>\n",
       "      <th>RN_p_val</th>\n",
       "      <td>0.20510</td>\n",
       "      <td>0.033</td>\n",
       "    </tr>\n",
       "    <tr>\n",
       "      <th>Thal_p_val</th>\n",
       "      <td>0.22810</td>\n",
       "      <td>0.038</td>\n",
       "    </tr>\n",
       "    <tr>\n",
       "      <th>Pall_p_val</th>\n",
       "      <td>0.26091</td>\n",
       "      <td>0.042</td>\n",
       "    </tr>\n",
       "    <tr>\n",
       "      <th>GPe_p_val</th>\n",
       "      <td>0.27818</td>\n",
       "      <td>0.046</td>\n",
       "    </tr>\n",
       "    <tr>\n",
       "      <th>DN_p_val</th>\n",
       "      <td>0.30509</td>\n",
       "      <td>0.050</td>\n",
       "    </tr>\n",
       "  </tbody>\n",
       "</table>\n",
       "</div>"
      ],
      "text/plain": [
       "                  p  FDR_threshold\n",
       "STN_p_val   0.03079          0.004\n",
       "Hipp_p_val  0.04105          0.008\n",
       "Accu_p_val  0.05393          0.013\n",
       "GPi_p_val   0.08095          0.017\n",
       "Puta_p_val  0.10714          0.021\n",
       "SN_p_val    0.16344          0.025\n",
       "Amyg_p_val  0.18353          0.029\n",
       "RN_p_val    0.20510          0.033\n",
       "Thal_p_val  0.22810          0.038\n",
       "Pall_p_val  0.26091          0.042\n",
       "GPe_p_val   0.27818          0.046\n",
       "DN_p_val    0.30509          0.050"
      ]
     },
     "execution_count": 258,
     "metadata": {},
     "output_type": "execute_result"
    }
   ],
   "source": [
    "make_fdr(pd.DataFrame(df_stat.p_val))"
   ]
  },
  {
   "cell_type": "code",
   "execution_count": 259,
   "metadata": {
    "collapsed": false
   },
   "outputs": [
    {
     "data": {
      "text/plain": [
       "-5.1146578947368422"
      ]
     },
     "execution_count": 259,
     "metadata": {},
     "output_type": "execute_result"
    }
   ],
   "source": [
    "np.mean(patients_a.DN) * 1000"
   ]
  },
  {
   "cell_type": "code",
   "execution_count": 260,
   "metadata": {
    "collapsed": false
   },
   "outputs": [
    {
     "data": {
      "text/plain": [
       "2.7965909090909093"
      ]
     },
     "execution_count": 260,
     "metadata": {},
     "output_type": "execute_result"
    }
   ],
   "source": [
    "np.mean(controls_a.DN) * 1000"
   ]
  },
  {
   "cell_type": "code",
   "execution_count": 262,
   "metadata": {
    "collapsed": false
   },
   "outputs": [
    {
     "data": {
      "text/plain": [
       "<matplotlib.axes._subplots.AxesSubplot at 0x10e7b68d0>"
      ]
     },
     "execution_count": 262,
     "metadata": {},
     "output_type": "execute_result"
    },
    {
     "data": {
      "image/png": "[encoded data removed]",
      "text/plain": [
       "<matplotlib.figure.Figure at 0x10afc0750>"
      ]
     },
     "metadata": {},
     "output_type": "display_data"
    }
   ],
   "source": [
    "m = 'STN'\n",
    "data = [controls_a[m] * 1000, patients_a[m]* 1000]\n",
    "sns.violinplot(data = data)"
   ]
  },
  {
   "cell_type": "code",
   "execution_count": null,
   "metadata": {
    "collapsed": true
   },
   "outputs": [],
   "source": []
  },
  {
   "cell_type": "code",
   "execution_count": null,
   "metadata": {
    "collapsed": true
   },
   "outputs": [],
   "source": []
  },
  {
   "cell_type": "code",
   "execution_count": null,
   "metadata": {
    "collapsed": true
   },
   "outputs": [],
   "source": []
  },
  {
   "cell_type": "code",
   "execution_count": null,
   "metadata": {
    "collapsed": true
   },
   "outputs": [],
   "source": []
  },
  {
   "cell_type": "code",
   "execution_count": null,
   "metadata": {
    "collapsed": true
   },
   "outputs": [],
   "source": []
  },
  {
   "cell_type": "code",
   "execution_count": null,
   "metadata": {
    "collapsed": true
   },
   "outputs": [],
   "source": []
  },
  {
   "cell_type": "code",
   "execution_count": null,
   "metadata": {
    "collapsed": true
   },
   "outputs": [],
   "source": []
  },
  {
   "cell_type": "code",
   "execution_count": null,
   "metadata": {
    "collapsed": true
   },
   "outputs": [],
   "source": []
  }
 ],
 "metadata": {
  "kernelspec": {
   "display_name": "Python 2",
   "language": "python",
   "name": "python2"
  },
  "language_info": {
   "codemirror_mode": {
    "name": "ipython",
    "version": 2
   },
   "file_extension": ".py",
   "mimetype": "text/x-python",
   "name": "python",
   "nbconvert_exporter": "python",
   "pygments_lexer": "ipython2",
   "version": "2.7.12"
  }
 },
 "nbformat": 4,
 "nbformat_minor": 0
}
