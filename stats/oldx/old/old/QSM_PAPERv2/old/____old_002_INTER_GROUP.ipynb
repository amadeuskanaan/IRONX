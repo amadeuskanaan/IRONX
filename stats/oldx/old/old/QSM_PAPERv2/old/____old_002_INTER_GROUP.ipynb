{
 "cells": [
  {
   "cell_type": "code",
   "execution_count": 530,
   "metadata": {
    "collapsed": false
   },
   "outputs": [
    {
     "data": {
      "text/plain": [
       "'\\nRL7P    0.074231\\nCF1P    0.090722\\nHJEP    0.093902\\nSULP    0.125723\\nYU1P    0.131411\\nBATP    0.136510\\nTT3P    0.145866\\nSTDP    0.147187\\nLA9P    0.147449\\nPC5P    0.148735\\nBE9P    0.149829\\nNT6P    0.155556\\nSM6U    0.165781\\nLT5P    0.169576\\nSBQP    0.200882\\nSGKP    0.222883\\nDF2P    0.238154\\nNL2P    0.243738\\nCM5P    0.284820\\nTHCP    0.320480\\nSA5U    0.326513\\nHSPP    0.362756\\nKDDP    0.399443\\nHHQP    0.401591\\nRA9P    0.514138\\nRMJP    0.535432\\nCB4P    0.857230\\nAA8P         NaN\\n'"
      ]
     },
     "execution_count": 530,
     "metadata": {},
     "output_type": "execute_result"
    }
   ],
   "source": [
    "%matplotlib inline\n",
    "import os \n",
    "import numpy as np\n",
    "from numpy import mean, std\n",
    "import pandas as pd\n",
    "import seaborn as sns\n",
    "import matplotlib.pyplot as plt\n",
    "from scipy.stats import ttest_rel, ttest_ind, mannwhitneyu, wilcoxon, spearmanr,pearsonr\n",
    "import statsmodels.api as sm\n",
    "pd.options.display.max_columns = 999\n",
    "import statsmodels.formula.api as smf\n",
    "import math \n",
    "\n",
    "datadir       = '/Users/kanaan/Google Drive/TS-EUROTRAIN/RESULTS_QSM/Oct_4'\n",
    "mrsdir        = '/Users/kanaan/SCR/Dataframes_20150820/REVISION_DF'\n",
    "clinical_dir  = '/Users/kanaan/SCR/Dataframes_20150820/DF_clinical/'\n",
    "\n",
    "measures = ['Puta', 'Caud', 'GPi' , 'GPe', 'Thal','Hipp', #'Accu', 'Amyg', \n",
    "            'RN', 'SN','STN', # 'DN', \n",
    "           # 'AAN_PPN', 'AAN_VTA', 'AAN_LC', 'AAN_DR', 'AAN_MR',\n",
    "            'STR_EXE','STR_LIM','STR_MOT',#'STR_cMOT','STR_rMOT', #'STR_PAR','STR_OCC'\n",
    "            #'hippo_subiculum', 'hippo_CA1', 'hippo_CA_23','hippo_fimbria', 'hippo_fissure', 'hippo_presubiculum',\n",
    "           ]\n",
    "\n",
    "drop_c  = [ 'WSKT','SC1T', 'TR4T','SS1X']  #'LL5T'\n",
    "drop_p  = ['CB4P','RA9P','RMJP','HHQP','HSPP','KDDP','THCP','SA5U','CM5P', 'STDP'] #mahal\n",
    "drop_p   = ['AA8P','CB4P','RMJP', 'RA9P', 'HHQP','HSPP','KDDP', 'STDP', 'NL2P', 'CF1P','DF2P']  # poster\n",
    "#drop_p   = ['CB4P','RMJP', 'RA9P', 'HHQP', 'HSPP', 'SA5U' ]  # poster\n",
    "drop_p = ['NL2P','HSPP','CF1P', 'BE9P', 'STDP', 'RMJP','DF2P']\n",
    "\n",
    "drop_p = [ 'CB4P', 'RMJP', 'RA9P', 'HHQP', 'KDDP', 'STDP','NL2P']\n",
    "\n",
    "\n",
    "'''\n",
    "RL7P    0.074231\n",
    "CF1P    0.090722\n",
    "HJEP    0.093902\n",
    "SULP    0.125723\n",
    "YU1P    0.131411\n",
    "BATP    0.136510\n",
    "TT3P    0.145866\n",
    "STDP    0.147187\n",
    "LA9P    0.147449\n",
    "PC5P    0.148735\n",
    "BE9P    0.149829\n",
    "NT6P    0.155556\n",
    "SM6U    0.165781\n",
    "LT5P    0.169576\n",
    "SBQP    0.200882\n",
    "SGKP    0.222883\n",
    "DF2P    0.238154\n",
    "NL2P    0.243738\n",
    "CM5P    0.284820\n",
    "THCP    0.320480\n",
    "SA5U    0.326513\n",
    "HSPP    0.362756\n",
    "KDDP    0.399443\n",
    "HHQP    0.401591\n",
    "RA9P    0.514138\n",
    "RMJP    0.535432\n",
    "CB4P    0.857230\n",
    "AA8P         NaN\n",
    "'''\n",
    "#drop_c = []\n",
    "#drop_p = []"
   ]
  },
  {
   "cell_type": "code",
   "execution_count": 531,
   "metadata": {
    "collapsed": false
   },
   "outputs": [],
   "source": [
    "def get_all_dfs(img, population, study_id):\n",
    "    quant = 'mean'\n",
    "    QSM = pd.read_csv(os.path.join(datadir, '%s_%s_%s_%s.csv'%(img, quant, population, study_id)),index_col = 0)\n",
    "    QSM['Gender']  = QSM['Gender'].map({' F': 1, ' M': 0})\n",
    "    ACC = pd.read_csv(os.path.join(mrsdir, 'moco_df_%s_%s_%s.csv'%('ACC', population, study_id)),index_col = 0)\n",
    "    ACC.columns = ['ACC_' + str(col) for col in ACC.columns]\n",
    "    THA = pd.read_csv(os.path.join(mrsdir, 'moco_df_%s_%s_%s.csv'%('THA', population, study_id)),index_col = 0)\n",
    "    THA.columns = ['THA_' + str(col) for col in THA.columns]\n",
    "    STR = pd.read_csv(os.path.join(mrsdir, 'moco_df_%s_%s_%s.csv'%('STR', population, study_id)),index_col = 0)\n",
    "    STR.columns = ['STR_' + str(col) for col in STR.columns]\n",
    "    CLN = pd.read_csv(os.path.join(clinical_dir, 'clinical_%s_%s.csv'%(population,study_id)), index_col=0)\n",
    "    CLN.columns = ['CLN_' + str(col) for col in CLN.columns]\n",
    "    df = pd.concat([QSM, ACC, THA, STR, CLN], axis=1, join_axes=[QSM.index])\n",
    "    \n",
    "    return df\n",
    "\n",
    "controls_a = get_all_dfs('QSM', 'controls', 'a').drop(drop_c, axis = 0) \n",
    "patients_a = get_all_dfs('QSM', 'patients', 'a').drop(drop_p, axis = 0) \n"
   ]
  },
  {
   "cell_type": "code",
   "execution_count": null,
   "metadata": {
    "collapsed": false
   },
   "outputs": [],
   "source": []
  },
  {
   "cell_type": "code",
   "execution_count": 532,
   "metadata": {
    "collapsed": false
   },
   "outputs": [],
   "source": [
    "def cohen_d(df1,df2, metabolite):\n",
    "        # Cohens D \n",
    "        from numpy import mean, std # version >= 1.7.1 && <= 1.9.1\n",
    "        from math import sqrt\n",
    "        import sys\n",
    "        x = df1[metabolite].dropna(axis=0)\n",
    "        y = df2[metabolite].dropna(axis=0)\n",
    "        return (mean(x) - mean(y)) / sqrt((std(x, ddof=1) ** 2 + std(y, ddof=1) ** 2) / 2.0)\n",
    "\n",
    "def make_multiple_linear_regression(df_controls, df_patients):\n",
    "    df_controls['Population'] = 1\n",
    "    df_patients['Population'] = 0\n",
    "    \n",
    "    df = pd.concat([controls_a, patients_a])\n",
    "\n",
    "    dfs = pd.DataFrame(index= ['Controls', 'Patients','D', 'Statistic', 'p_val',], columns=measures)\n",
    "\n",
    "    for measure in measures:\n",
    "        formula = '%s ~ Population + Age + Gender +EFC_PHS'%measure\n",
    "        model   = smf.ols(formula=formula, data = df)\n",
    "        fit     = model.fit()\n",
    "        p_val   = np.round(fit.pvalues[1],5)\n",
    "        t_val   = np.round(fit.tvalues[1],3)\n",
    "        \n",
    "        xval = 1000\n",
    "        npr  = 4\n",
    "        dfs.ix['Controls'][measure] = '%s±%s'%(xval*np.round(np.mean(df_controls[measure]),npr), \n",
    "                                              xval*np.round(np.std(df_controls[measure]), npr))   \n",
    "        dfs.ix['Patients'][measure] = '%s±%s'%(xval*np.round(np.mean(df_patients[measure]),npr), \n",
    "                                              xval*np.round(np.std(df_patients[measure]), npr))   \n",
    "        dfs.ix['D'][measure]    = cohen_d(controls_a, patients_a,measure)\n",
    "        dfs.ix['Statistic'][measure]= np.round(t_val,2)        \n",
    "        dfs.ix['p_val'][measure]    = np.round(p_val,5)\n",
    "        \n",
    "        if p_val < 0.05:\n",
    "            print measure, 'p =', np.round(p_val,3)\n",
    "    return dfs.T.sort('p_val'), df \n",
    "\n",
    "def make_fdr(df):\n",
    "    fdr = pd.DataFrame()\n",
    "    for i in df.index:\n",
    "        for c in df.columns:\n",
    "            fdr.ix['%s_%s'%(i,c),'p'] = df.loc[i][c]\n",
    "    fdr = fdr.dropna()\n",
    "    fdr = fdr.sort('p')\n",
    "    \n",
    "    n_comparisons = len(fdr.index)\n",
    "    for i, corr in enumerate(fdr.index):\n",
    "        fdr.ix[corr, 'FDR_threshold'] = np.round((0.05 * (i + 1.) / n_comparisons), 3)\n",
    "        \n",
    "    return fdr.reindex()\n"
   ]
  },
  {
   "cell_type": "code",
   "execution_count": 533,
   "metadata": {
    "collapsed": false
   },
   "outputs": [
    {
     "data": {
      "text/html": [
       "<div>\n",
       "<table border=\"1\" class=\"dataframe\">\n",
       "  <thead>\n",
       "    <tr style=\"text-align: right;\">\n",
       "      <th></th>\n",
       "      <th>Controls</th>\n",
       "      <th>Patients</th>\n",
       "      <th>D</th>\n",
       "      <th>Statistic</th>\n",
       "      <th>p_val</th>\n",
       "    </tr>\n",
       "  </thead>\n",
       "  <tbody>\n",
       "    <tr>\n",
       "      <th>GPi</th>\n",
       "      <td>97.3±22.9</td>\n",
       "      <td>84.7±23.4</td>\n",
       "      <td>0.5315711</td>\n",
       "      <td>2</td>\n",
       "      <td>0.05231</td>\n",
       "    </tr>\n",
       "    <tr>\n",
       "      <th>STN</th>\n",
       "      <td>70.4±27.8</td>\n",
       "      <td>48.0±30.1</td>\n",
       "      <td>0.7569504</td>\n",
       "      <td>1.97</td>\n",
       "      <td>0.05632</td>\n",
       "    </tr>\n",
       "    <tr>\n",
       "      <th>Caud</th>\n",
       "      <td>17.4±11.3</td>\n",
       "      <td>12.1±9.7</td>\n",
       "      <td>0.4873046</td>\n",
       "      <td>1.5</td>\n",
       "      <td>0.14095</td>\n",
       "    </tr>\n",
       "    <tr>\n",
       "      <th>GPe</th>\n",
       "      <td>105.5±18.2</td>\n",
       "      <td>94.5±25.6</td>\n",
       "      <td>0.4847066</td>\n",
       "      <td>1.4</td>\n",
       "      <td>0.16935</td>\n",
       "    </tr>\n",
       "    <tr>\n",
       "      <th>STR_LIM</th>\n",
       "      <td>3.1±13.6</td>\n",
       "      <td>-3.1±16.2</td>\n",
       "      <td>0.4020423</td>\n",
       "      <td>1.32</td>\n",
       "      <td>0.19394</td>\n",
       "    </tr>\n",
       "    <tr>\n",
       "      <th>STR_EXE</th>\n",
       "      <td>11.6±13.4</td>\n",
       "      <td>5.8±14.3</td>\n",
       "      <td>0.411944</td>\n",
       "      <td>1.09</td>\n",
       "      <td>0.28118</td>\n",
       "    </tr>\n",
       "    <tr>\n",
       "      <th>Puta</th>\n",
       "      <td>8.1±15.6</td>\n",
       "      <td>1.1±21.1</td>\n",
       "      <td>0.3698385</td>\n",
       "      <td>1</td>\n",
       "      <td>0.32439</td>\n",
       "    </tr>\n",
       "    <tr>\n",
       "      <th>STR_MOT</th>\n",
       "      <td>18.6±20.9</td>\n",
       "      <td>10.6±24.7</td>\n",
       "      <td>0.3416525</td>\n",
       "      <td>1</td>\n",
       "      <td>0.32561</td>\n",
       "    </tr>\n",
       "    <tr>\n",
       "      <th>Thal</th>\n",
       "      <td>-33.0±12.1</td>\n",
       "      <td>-33.9±12.9</td>\n",
       "      <td>0.068277</td>\n",
       "      <td>0.91</td>\n",
       "      <td>0.3667</td>\n",
       "    </tr>\n",
       "    <tr>\n",
       "      <th>SN</th>\n",
       "      <td>120.3±24.2</td>\n",
       "      <td>106.7±33.9</td>\n",
       "      <td>0.4503185</td>\n",
       "      <td>0.9</td>\n",
       "      <td>0.37464</td>\n",
       "    </tr>\n",
       "    <tr>\n",
       "      <th>Hipp</th>\n",
       "      <td>-15.2±9.3</td>\n",
       "      <td>-16.9±12.8</td>\n",
       "      <td>0.1479351</td>\n",
       "      <td>0.7</td>\n",
       "      <td>0.4914</td>\n",
       "    </tr>\n",
       "    <tr>\n",
       "      <th>RN</th>\n",
       "      <td>121.3±45.9</td>\n",
       "      <td>105.1±41.6</td>\n",
       "      <td>0.3613872</td>\n",
       "      <td>0.64</td>\n",
       "      <td>0.52751</td>\n",
       "    </tr>\n",
       "  </tbody>\n",
       "</table>\n",
       "</div>"
      ],
      "text/plain": [
       "           Controls    Patients          D Statistic    p_val\n",
       "GPi       97.3±22.9   84.7±23.4  0.5315711         2  0.05231\n",
       "STN       70.4±27.8   48.0±30.1  0.7569504      1.97  0.05632\n",
       "Caud      17.4±11.3    12.1±9.7  0.4873046       1.5  0.14095\n",
       "GPe      105.5±18.2   94.5±25.6  0.4847066       1.4  0.16935\n",
       "STR_LIM    3.1±13.6   -3.1±16.2  0.4020423      1.32  0.19394\n",
       "STR_EXE   11.6±13.4    5.8±14.3   0.411944      1.09  0.28118\n",
       "Puta       8.1±15.6    1.1±21.1  0.3698385         1  0.32439\n",
       "STR_MOT   18.6±20.9   10.6±24.7  0.3416525         1  0.32561\n",
       "Thal     -33.0±12.1  -33.9±12.9   0.068277      0.91   0.3667\n",
       "SN       120.3±24.2  106.7±33.9  0.4503185       0.9  0.37464\n",
       "Hipp      -15.2±9.3  -16.9±12.8  0.1479351       0.7   0.4914\n",
       "RN       121.3±45.9  105.1±41.6  0.3613872      0.64  0.52751"
      ]
     },
     "execution_count": 533,
     "metadata": {},
     "output_type": "execute_result"
    }
   ],
   "source": [
    "X, XX = make_multiple_linear_regression(controls_a, patients_a)\n",
    "X"
   ]
  },
  {
   "cell_type": "code",
   "execution_count": 534,
   "metadata": {
    "collapsed": false
   },
   "outputs": [
    {
     "data": {
      "text/html": [
       "<div>\n",
       "<table border=\"1\" class=\"dataframe\">\n",
       "  <thead>\n",
       "    <tr style=\"text-align: right;\">\n",
       "      <th></th>\n",
       "      <th>p</th>\n",
       "      <th>FDR_threshold</th>\n",
       "    </tr>\n",
       "  </thead>\n",
       "  <tbody>\n",
       "    <tr>\n",
       "      <th>GPi_p_val</th>\n",
       "      <td>0.05231</td>\n",
       "      <td>0.004</td>\n",
       "    </tr>\n",
       "    <tr>\n",
       "      <th>STN_p_val</th>\n",
       "      <td>0.05632</td>\n",
       "      <td>0.008</td>\n",
       "    </tr>\n",
       "    <tr>\n",
       "      <th>Caud_p_val</th>\n",
       "      <td>0.14095</td>\n",
       "      <td>0.013</td>\n",
       "    </tr>\n",
       "    <tr>\n",
       "      <th>GPe_p_val</th>\n",
       "      <td>0.16935</td>\n",
       "      <td>0.017</td>\n",
       "    </tr>\n",
       "    <tr>\n",
       "      <th>STR_LIM_p_val</th>\n",
       "      <td>0.19394</td>\n",
       "      <td>0.021</td>\n",
       "    </tr>\n",
       "    <tr>\n",
       "      <th>STR_EXE_p_val</th>\n",
       "      <td>0.28118</td>\n",
       "      <td>0.025</td>\n",
       "    </tr>\n",
       "    <tr>\n",
       "      <th>Puta_p_val</th>\n",
       "      <td>0.32439</td>\n",
       "      <td>0.029</td>\n",
       "    </tr>\n",
       "    <tr>\n",
       "      <th>STR_MOT_p_val</th>\n",
       "      <td>0.32561</td>\n",
       "      <td>0.033</td>\n",
       "    </tr>\n",
       "    <tr>\n",
       "      <th>Thal_p_val</th>\n",
       "      <td>0.36670</td>\n",
       "      <td>0.038</td>\n",
       "    </tr>\n",
       "    <tr>\n",
       "      <th>SN_p_val</th>\n",
       "      <td>0.37464</td>\n",
       "      <td>0.042</td>\n",
       "    </tr>\n",
       "    <tr>\n",
       "      <th>Hipp_p_val</th>\n",
       "      <td>0.49140</td>\n",
       "      <td>0.046</td>\n",
       "    </tr>\n",
       "    <tr>\n",
       "      <th>RN_p_val</th>\n",
       "      <td>0.52751</td>\n",
       "      <td>0.050</td>\n",
       "    </tr>\n",
       "  </tbody>\n",
       "</table>\n",
       "</div>"
      ],
      "text/plain": [
       "                     p  FDR_threshold\n",
       "GPi_p_val      0.05231          0.004\n",
       "STN_p_val      0.05632          0.008\n",
       "Caud_p_val     0.14095          0.013\n",
       "GPe_p_val      0.16935          0.017\n",
       "STR_LIM_p_val  0.19394          0.021\n",
       "STR_EXE_p_val  0.28118          0.025\n",
       "Puta_p_val     0.32439          0.029\n",
       "STR_MOT_p_val  0.32561          0.033\n",
       "Thal_p_val     0.36670          0.038\n",
       "SN_p_val       0.37464          0.042\n",
       "Hipp_p_val     0.49140          0.046\n",
       "RN_p_val       0.52751          0.050"
      ]
     },
     "execution_count": 534,
     "metadata": {},
     "output_type": "execute_result"
    }
   ],
   "source": [
    "make_fdr(pd.DataFrame(X.p_val))"
   ]
  },
  {
   "cell_type": "code",
   "execution_count": null,
   "metadata": {
    "collapsed": false
   },
   "outputs": [],
   "source": []
  },
  {
   "cell_type": "code",
   "execution_count": 535,
   "metadata": {
    "collapsed": false
   },
   "outputs": [
    {
     "name": "stdout",
     "output_type": "stream",
     "text": [
      "STN p = 0.009\n"
     ]
    },
    {
     "data": {
      "text/html": [
       "<div>\n",
       "<table border=\"1\" class=\"dataframe\">\n",
       "  <thead>\n",
       "    <tr style=\"text-align: right;\">\n",
       "      <th></th>\n",
       "      <th>Controls</th>\n",
       "      <th>Patients</th>\n",
       "      <th>Statistic</th>\n",
       "      <th>p_val</th>\n",
       "    </tr>\n",
       "  </thead>\n",
       "  <tbody>\n",
       "    <tr>\n",
       "      <th>STN</th>\n",
       "      <td>70.4±27.8</td>\n",
       "      <td>48.0±30.1</td>\n",
       "      <td>133</td>\n",
       "      <td>0.00892</td>\n",
       "    </tr>\n",
       "    <tr>\n",
       "      <th>GPi</th>\n",
       "      <td>97.3±22.9</td>\n",
       "      <td>84.7±23.4</td>\n",
       "      <td>166</td>\n",
       "      <td>0.05854</td>\n",
       "    </tr>\n",
       "    <tr>\n",
       "      <th>Puta</th>\n",
       "      <td>8.1±15.6</td>\n",
       "      <td>1.1±21.1</td>\n",
       "      <td>169</td>\n",
       "      <td>0.06756</td>\n",
       "    </tr>\n",
       "    <tr>\n",
       "      <th>GPe</th>\n",
       "      <td>105.5±18.2</td>\n",
       "      <td>94.5±25.6</td>\n",
       "      <td>170</td>\n",
       "      <td>0.07079</td>\n",
       "    </tr>\n",
       "    <tr>\n",
       "      <th>STR_EXE</th>\n",
       "      <td>11.6±13.4</td>\n",
       "      <td>5.8±14.3</td>\n",
       "      <td>172</td>\n",
       "      <td>0.07761</td>\n",
       "    </tr>\n",
       "    <tr>\n",
       "      <th>SN</th>\n",
       "      <td>120.3±24.2</td>\n",
       "      <td>106.7±33.9</td>\n",
       "      <td>172</td>\n",
       "      <td>0.07761</td>\n",
       "    </tr>\n",
       "    <tr>\n",
       "      <th>Caud</th>\n",
       "      <td>17.4±11.3</td>\n",
       "      <td>12.1±9.7</td>\n",
       "      <td>181</td>\n",
       "      <td>0.11455</td>\n",
       "    </tr>\n",
       "    <tr>\n",
       "      <th>RN</th>\n",
       "      <td>121.3±45.9</td>\n",
       "      <td>105.1±41.6</td>\n",
       "      <td>182</td>\n",
       "      <td>0.11932</td>\n",
       "    </tr>\n",
       "    <tr>\n",
       "      <th>STR_LIM</th>\n",
       "      <td>3.1±13.6</td>\n",
       "      <td>-3.1±16.2</td>\n",
       "      <td>187</td>\n",
       "      <td>0.14528</td>\n",
       "    </tr>\n",
       "    <tr>\n",
       "      <th>STR_MOT</th>\n",
       "      <td>18.6±20.9</td>\n",
       "      <td>10.6±24.7</td>\n",
       "      <td>188</td>\n",
       "      <td>0.1509</td>\n",
       "    </tr>\n",
       "    <tr>\n",
       "      <th>Hipp</th>\n",
       "      <td>-15.2±9.3</td>\n",
       "      <td>-16.9±12.8</td>\n",
       "      <td>192</td>\n",
       "      <td>0.17479</td>\n",
       "    </tr>\n",
       "    <tr>\n",
       "      <th>Thal</th>\n",
       "      <td>-33.0±12.1</td>\n",
       "      <td>-33.9±12.9</td>\n",
       "      <td>219</td>\n",
       "      <td>0.38997</td>\n",
       "    </tr>\n",
       "  </tbody>\n",
       "</table>\n",
       "</div>"
      ],
      "text/plain": [
       "           Controls    Patients Statistic    p_val\n",
       "STN       70.4±27.8   48.0±30.1       133  0.00892\n",
       "GPi       97.3±22.9   84.7±23.4       166  0.05854\n",
       "Puta       8.1±15.6    1.1±21.1       169  0.06756\n",
       "GPe      105.5±18.2   94.5±25.6       170  0.07079\n",
       "STR_EXE   11.6±13.4    5.8±14.3       172  0.07761\n",
       "SN       120.3±24.2  106.7±33.9       172  0.07761\n",
       "Caud      17.4±11.3    12.1±9.7       181  0.11455\n",
       "RN       121.3±45.9  105.1±41.6       182  0.11932\n",
       "STR_LIM    3.1±13.6   -3.1±16.2       187  0.14528\n",
       "STR_MOT   18.6±20.9   10.6±24.7       188   0.1509\n",
       "Hipp      -15.2±9.3  -16.9±12.8       192  0.17479\n",
       "Thal     -33.0±12.1  -33.9±12.9       219  0.38997"
      ]
     },
     "execution_count": 535,
     "metadata": {},
     "output_type": "execute_result"
    }
   ],
   "source": [
    "def make_ttest(df1,df2):\n",
    "    df = pd.DataFrame(index= ['Controls', 'Patients', 'Statistic', 'p_val',], columns=measures)\n",
    "    for measure in measures:\n",
    "        t_val, p_val = ttest_ind(df1[measure].dropna(), df2[measure].dropna())\n",
    "        t_val, p_val = mannwhitneyu(df1[measure].dropna(), df2[measure].dropna())\n",
    "        \n",
    "        xval = 1000\n",
    "        npr  = 4\n",
    "        df.ix['Controls'][measure] = '%s±%s'%(xval*np.round(np.mean(df1[measure]),npr), \n",
    "                                              xval*np.round(np.std(df1[measure]), npr))   \n",
    "        df.ix['Patients'][measure] = '%s±%s'%(xval*np.round(np.mean(df2[measure]),npr), \n",
    "                                              xval*np.round(np.std(df2[measure]), npr))          \n",
    "        df.ix['Statistic'][measure] = np.round(t_val,2)        \n",
    "        df.ix['p_val'][measure]     = np.round(p_val,5)\n",
    "        \n",
    "        if p_val < 0.05:\n",
    "            print measure, 'p =', np.round(p_val,3)\n",
    "    return df.T.sort('p_val')\n",
    "         \n",
    "make_ttest(controls_a, patients_a )"
   ]
  },
  {
   "cell_type": "code",
   "execution_count": 536,
   "metadata": {
    "collapsed": false
   },
   "outputs": [
    {
     "name": "stdout",
     "output_type": "stream",
     "text": [
      "STN p = 0.009\n"
     ]
    },
    {
     "data": {
      "text/html": [
       "<div>\n",
       "<table border=\"1\" class=\"dataframe\">\n",
       "  <thead>\n",
       "    <tr style=\"text-align: right;\">\n",
       "      <th></th>\n",
       "      <th>p</th>\n",
       "      <th>FDR_threshold</th>\n",
       "    </tr>\n",
       "  </thead>\n",
       "  <tbody>\n",
       "    <tr>\n",
       "      <th>STN_p_val</th>\n",
       "      <td>0.00892</td>\n",
       "      <td>0.004</td>\n",
       "    </tr>\n",
       "    <tr>\n",
       "      <th>GPi_p_val</th>\n",
       "      <td>0.05854</td>\n",
       "      <td>0.008</td>\n",
       "    </tr>\n",
       "    <tr>\n",
       "      <th>Puta_p_val</th>\n",
       "      <td>0.06756</td>\n",
       "      <td>0.013</td>\n",
       "    </tr>\n",
       "    <tr>\n",
       "      <th>GPe_p_val</th>\n",
       "      <td>0.07079</td>\n",
       "      <td>0.017</td>\n",
       "    </tr>\n",
       "    <tr>\n",
       "      <th>STR_EXE_p_val</th>\n",
       "      <td>0.07761</td>\n",
       "      <td>0.021</td>\n",
       "    </tr>\n",
       "    <tr>\n",
       "      <th>SN_p_val</th>\n",
       "      <td>0.07761</td>\n",
       "      <td>0.025</td>\n",
       "    </tr>\n",
       "    <tr>\n",
       "      <th>Caud_p_val</th>\n",
       "      <td>0.11455</td>\n",
       "      <td>0.029</td>\n",
       "    </tr>\n",
       "    <tr>\n",
       "      <th>RN_p_val</th>\n",
       "      <td>0.11932</td>\n",
       "      <td>0.033</td>\n",
       "    </tr>\n",
       "    <tr>\n",
       "      <th>STR_LIM_p_val</th>\n",
       "      <td>0.14528</td>\n",
       "      <td>0.038</td>\n",
       "    </tr>\n",
       "    <tr>\n",
       "      <th>STR_MOT_p_val</th>\n",
       "      <td>0.15090</td>\n",
       "      <td>0.042</td>\n",
       "    </tr>\n",
       "    <tr>\n",
       "      <th>Hipp_p_val</th>\n",
       "      <td>0.17479</td>\n",
       "      <td>0.046</td>\n",
       "    </tr>\n",
       "    <tr>\n",
       "      <th>Thal_p_val</th>\n",
       "      <td>0.38997</td>\n",
       "      <td>0.050</td>\n",
       "    </tr>\n",
       "  </tbody>\n",
       "</table>\n",
       "</div>"
      ],
      "text/plain": [
       "                     p  FDR_threshold\n",
       "STN_p_val      0.00892          0.004\n",
       "GPi_p_val      0.05854          0.008\n",
       "Puta_p_val     0.06756          0.013\n",
       "GPe_p_val      0.07079          0.017\n",
       "STR_EXE_p_val  0.07761          0.021\n",
       "SN_p_val       0.07761          0.025\n",
       "Caud_p_val     0.11455          0.029\n",
       "RN_p_val       0.11932          0.033\n",
       "STR_LIM_p_val  0.14528          0.038\n",
       "STR_MOT_p_val  0.15090          0.042\n",
       "Hipp_p_val     0.17479          0.046\n",
       "Thal_p_val     0.38997          0.050"
      ]
     },
     "execution_count": 536,
     "metadata": {},
     "output_type": "execute_result"
    }
   ],
   "source": [
    "make_fdr(pd.DataFrame(make_ttest(controls_a, patients_a ).p_val))"
   ]
  },
  {
   "cell_type": "code",
   "execution_count": null,
   "metadata": {
    "collapsed": false
   },
   "outputs": [],
   "source": []
  },
  {
   "cell_type": "code",
   "execution_count": null,
   "metadata": {
    "collapsed": false
   },
   "outputs": [],
   "source": []
  },
  {
   "cell_type": "code",
   "execution_count": null,
   "metadata": {
    "collapsed": false
   },
   "outputs": [],
   "source": []
  },
  {
   "cell_type": "code",
   "execution_count": 537,
   "metadata": {
    "collapsed": true
   },
   "outputs": [],
   "source": [
    "def plot(df1,df2,measure):\n",
    "    palette = sns.xkcd_palette([ \"red\", 'blue'])\n",
    "    data = [df1[measure], df2[measure]]\n",
    "    sns.violinplot(data=data, palette= palette)\n",
    "    sns.stripplot(data=data,palette= palette, jitter=1)\n",
    "\n",
    "def plot_partial_correlation(data, x, y,  regressors = None, color = None, annotate = None, fig_name = None, \n",
    "                             dpi = 100, labels = True, jitter = None):\n",
    "    \n",
    "    regressors_columns = [data[regressor] for regressor in regressors]\n",
    "    df_reg = pd.concat(regressors_columns, axis = 1).dropna(axis=0) \n",
    "    df = pd.concat([df_reg, data[x], data[y]], axis=1).dropna()\n",
    "    \n",
    "    # inititlize grid and plot regression and margins \n",
    "    grid = sns.JointGrid(x, y, data=df)#, size=size, ratio=ratio, space=space, #xlim=xlim, ylim=ylim), xlim=xlim, ylim=ylim\n",
    "    grid.plot_marginals(sns.distplot, color = color, hist=False, kde = True, rug = 0, kde_kws={'shade':True})  \n",
    "    \n",
    "    grid.plot_joint(sns.regplot, color = color, x_partial = df[regressors], y_jitter = jitter)\n",
    "    if labels:\n",
    "        grid.set_axis_labels(x, y, fontsize= 15, weight='bold', color='blue', labelpad=10)\n",
    "    else:\n",
    "        grid.set_axis_labels(None,None)\n",
    "        \n",
    "    ## calculate regression parameters \n",
    "    \n",
    "    formula = [ '%s ~ %s'%(y,x) + ' + %s'%regressor for regressor in regressors][0]\n",
    "    model   = smf.ols(formula=formula, data= df)\n",
    "    result = model.fit() \n",
    "    p_val  = np.round(result.pvalues[1], 3)\n",
    "    pcor   = math.copysign(np.round(np.sqrt(result.rsquared), 3) , result.params[1])\n",
    "    \n",
    "    if annotate:\n",
    "        plt.annotate('R=%s, P=%s' %(pcor, p_val), xy = annotate, fontsize = 13,  color='r')\n",
    "                      \n",
    "    if fig_name:\n",
    "        plt.savefig(os.path.join(save_fig_dir, fig_name), dpi = dpi, bbox_inches='tight', transparent = True)\n"
   ]
  },
  {
   "cell_type": "code",
   "execution_count": 492,
   "metadata": {
    "collapsed": false
   },
   "outputs": [
    {
     "data": {
      "image/png": "[encoded data removed]",
      "text/plain": [
       "<matplotlib.figure.Figure at 0x112add650>"
      ]
     },
     "metadata": {},
     "output_type": "display_data"
    }
   ],
   "source": [
    "plot_partial_correlation(data=XX, x='GPi', y='CLN_Ferritin',  regressors = ['Age', 'Gender'], color = None, \n",
    "                         annotate = (0,12), fig_name = None, dpi = 100, labels = True, jitter = None)"
   ]
  },
  {
   "cell_type": "code",
   "execution_count": 493,
   "metadata": {
    "collapsed": false
   },
   "outputs": [
    {
     "data": {
      "image/png": "[encoded data removed]",
      "text/plain": [
       "<matplotlib.figure.Figure at 0x112af9590>"
      ]
     },
     "metadata": {},
     "output_type": "display_data"
    }
   ],
   "source": [
    "plot_partial_correlation(data=XX, x='CLN_Ferritin', y='SN',  regressors = ['Age'], color = None, \n",
    "                         annotate = (0,.2), fig_name = None, dpi = 100, labels = True, jitter = None)"
   ]
  },
  {
   "cell_type": "code",
   "execution_count": 494,
   "metadata": {
    "collapsed": false
   },
   "outputs": [],
   "source": [
    "def get_gender_len(df):    \n",
    "    males   = [subject for subject in df.index if df.loc[subject]['Gender'] == 0]\n",
    "    females = [subject for subject in df.index if df.loc[subject]['Gender'] == 1]\n",
    "    return len(males), len(females)\n",
    "\n",
    "\n",
    "def get_gender_stats(df1, df2):\n",
    "    from scipy.stats import fisher_exact\n",
    "    gender = pd.DataFrame(index =['Controls', 'Patients'], columns = ['Male', 'Female'])\n",
    "\n",
    "    gender.ix['Controls']['Male']   = get_gender_len(df1)[0]\n",
    "    gender.ix['Controls']['Female'] = get_gender_len(df1)[1]\n",
    "    gender.ix['Patients']['Male']   = get_gender_len(df2)[0]\n",
    "    gender.ix['Patients']['Female'] = get_gender_len(df2)[1]\n",
    "\n",
    "    print gender\n",
    "    print ''\n",
    "    print 'FISCHER EXACT TEST', fisher_exact(gender)"
   ]
  },
  {
   "cell_type": "code",
   "execution_count": 495,
   "metadata": {
    "collapsed": false
   },
   "outputs": [
    {
     "name": "stdout",
     "output_type": "stream",
     "text": [
      "         Male Female\n",
      "Controls   17      5\n",
      "Patients   17      3\n",
      "\n",
      "FISCHER EXACT TEST (0.59999999999999998, 0.69972787045958329)\n"
     ]
    }
   ],
   "source": [
    "get_gender_stats(controls_a, patients_a)"
   ]
  },
  {
   "cell_type": "code",
   "execution_count": 496,
   "metadata": {
    "collapsed": false
   },
   "outputs": [
    {
     "data": {
      "text/plain": [
       "22"
      ]
     },
     "execution_count": 496,
     "metadata": {},
     "output_type": "execute_result"
    }
   ],
   "source": [
    "len(controls_a.index)"
   ]
  },
  {
   "cell_type": "code",
   "execution_count": 497,
   "metadata": {
    "collapsed": false
   },
   "outputs": [
    {
     "data": {
      "text/plain": [
       "21"
      ]
     },
     "execution_count": 497,
     "metadata": {},
     "output_type": "execute_result"
    }
   ],
   "source": [
    "len(patients_a.index)"
   ]
  },
  {
   "cell_type": "code",
   "execution_count": null,
   "metadata": {
    "collapsed": true
   },
   "outputs": [],
   "source": []
  },
  {
   "cell_type": "code",
   "execution_count": 517,
   "metadata": {
    "collapsed": false
   },
   "outputs": [
    {
     "name": "stdout",
     "output_type": "stream",
     "text": [
      "Puta 1.0\n",
      "Caud 1.0\n",
      "GPi 1.0\n",
      "GPe 1.0\n",
      "Thal 1.0\n",
      "Hipp 1.0\n",
      "RN 1.0\n",
      "SN 1.0\n",
      "STN 1.0\n",
      "STR_EXE 1.0\n",
      "STR_LIM 1.0\n",
      "STR_MOT 1.0\n"
     ]
    }
   ],
   "source": [
    "for measure in measures:\n",
    "    formula = '%s ~ Age + Gender ' %measure\n",
    "    p_model   = smf.ols(formula=formula, data = patients_a).fit()\n",
    "    c_model   = smf.ols(formula=formula, data = controls_a).fit()\n",
    "    t,p = ttest_ind(c_model.resid, p_model.resid)\n",
    "    print measure,p  "
   ]
  },
  {
   "cell_type": "code",
   "execution_count": null,
   "metadata": {
    "collapsed": false
   },
   "outputs": [],
   "source": []
  },
  {
   "cell_type": "code",
   "execution_count": null,
   "metadata": {
    "collapsed": false
   },
   "outputs": [],
   "source": []
  },
  {
   "cell_type": "code",
   "execution_count": 506,
   "metadata": {
    "collapsed": false
   },
   "outputs": [
    {
     "name": "stdout",
     "output_type": "stream",
     "text": [
      "[ 0.03024929  0.00071242  0.00140582  0.02933721  0.00316393  0.13566732\n",
      "  0.02350258  0.06654414  0.14965694  0.09050989  0.03066767  0.08820894\n",
      "  0.00181843  0.00533259  0.01022461  0.03180922  0.0757207   0.01190004\n",
      "  0.1211167   0.01962546  0.08852521]\n",
      "[ 0.97025026  0.99928786  0.99859528  0.97113285  0.99684159  0.87397131\n",
      "  0.9767998   0.93583869  0.8620083   0.91385675  0.96984571  0.91594227\n",
      "  0.99818339  0.99468309  0.98983293  0.96874285  0.92735343  0.98817785\n",
      "  0.88660906  0.98058572  0.9156553 ]\n"
     ]
    }
   ],
   "source": [
    "for i in p_model.get_influence().cooks_distance:\n",
    "    print i"
   ]
  },
  {
   "cell_type": "code",
   "execution_count": 507,
   "metadata": {
    "collapsed": false
   },
   "outputs": [
    {
     "data": {
      "text/plain": [
       "(array([ 0.03024929,  0.00071242,  0.00140582,  0.02933721,  0.00316393,\n",
       "         0.13566732,  0.02350258,  0.06654414,  0.14965694,  0.09050989,\n",
       "         0.03066767,  0.08820894,  0.00181843,  0.00533259,  0.01022461,\n",
       "         0.03180922,  0.0757207 ,  0.01190004,  0.1211167 ,  0.01962546,\n",
       "         0.08852521]),\n",
       " array([ 0.97025026,  0.99928786,  0.99859528,  0.97113285,  0.99684159,\n",
       "         0.87397131,  0.9767998 ,  0.93583869,  0.8620083 ,  0.91385675,\n",
       "         0.96984571,  0.91594227,  0.99818339,  0.99468309,  0.98983293,\n",
       "         0.96874285,  0.92735343,  0.98817785,  0.88660906,  0.98058572,\n",
       "         0.9156553 ]))"
      ]
     },
     "execution_count": 507,
     "metadata": {},
     "output_type": "execute_result"
    }
   ],
   "source": [
    "p_model.get_influence().cooks_distance"
   ]
  },
  {
   "cell_type": "code",
   "execution_count": 508,
   "metadata": {
    "collapsed": false
   },
   "outputs": [
    {
     "data": {
      "image/png": "[encoded data removed]",
      "text/plain": [
       "<matplotlib.figure.Figure at 0x11276e810>"
      ]
     },
     "execution_count": 508,
     "metadata": {},
     "output_type": "execute_result"
    },
    {
     "data": {
      "image/png": "[encoded data removed]",
      "text/plain": [
       "<matplotlib.figure.Figure at 0x11276e750>"
      ]
     },
     "metadata": {},
     "output_type": "display_data"
    },
    {
     "data": {
      "image/png": "[encoded data removed]",
      "text/plain": [
       "<matplotlib.figure.Figure at 0x11276e810>"
      ]
     },
     "metadata": {},
     "output_type": "display_data"
    }
   ],
   "source": [
    "from statsmodels.graphics.regressionplots import *\n",
    "plot_leverage_resid2(p_model)\n",
    "influence_plot(p_model)"
   ]
  },
  {
   "cell_type": "code",
   "execution_count": null,
   "metadata": {
    "collapsed": false
   },
   "outputs": [],
   "source": []
  },
  {
   "cell_type": "code",
   "execution_count": null,
   "metadata": {
    "collapsed": true
   },
   "outputs": [],
   "source": []
  },
  {
   "cell_type": "code",
   "execution_count": null,
   "metadata": {
    "collapsed": true
   },
   "outputs": [],
   "source": []
  },
  {
   "cell_type": "code",
   "execution_count": null,
   "metadata": {
    "collapsed": true
   },
   "outputs": [],
   "source": []
  },
  {
   "cell_type": "code",
   "execution_count": null,
   "metadata": {
    "collapsed": false
   },
   "outputs": [],
   "source": []
  },
  {
   "cell_type": "code",
   "execution_count": null,
   "metadata": {
    "collapsed": false
   },
   "outputs": [],
   "source": []
  },
  {
   "cell_type": "code",
   "execution_count": null,
   "metadata": {
    "collapsed": true
   },
   "outputs": [],
   "source": []
  },
  {
   "cell_type": "code",
   "execution_count": null,
   "metadata": {
    "collapsed": true
   },
   "outputs": [],
   "source": []
  },
  {
   "cell_type": "code",
   "execution_count": null,
   "metadata": {
    "collapsed": true
   },
   "outputs": [],
   "source": []
  },
  {
   "cell_type": "code",
   "execution_count": null,
   "metadata": {
    "collapsed": true
   },
   "outputs": [],
   "source": []
  },
  {
   "cell_type": "code",
   "execution_count": null,
   "metadata": {
    "collapsed": true
   },
   "outputs": [],
   "source": []
  },
  {
   "cell_type": "code",
   "execution_count": null,
   "metadata": {
    "collapsed": false
   },
   "outputs": [],
   "source": []
  },
  {
   "cell_type": "code",
   "execution_count": null,
   "metadata": {
    "collapsed": false
   },
   "outputs": [],
   "source": []
  },
  {
   "cell_type": "code",
   "execution_count": null,
   "metadata": {
    "collapsed": false
   },
   "outputs": [],
   "source": []
  },
  {
   "cell_type": "code",
   "execution_count": null,
   "metadata": {
    "collapsed": false
   },
   "outputs": [],
   "source": []
  },
  {
   "cell_type": "code",
   "execution_count": null,
   "metadata": {
    "collapsed": true
   },
   "outputs": [],
   "source": []
  },
  {
   "cell_type": "code",
   "execution_count": null,
   "metadata": {
    "collapsed": true
   },
   "outputs": [],
   "source": []
  },
  {
   "cell_type": "code",
   "execution_count": null,
   "metadata": {
    "collapsed": true
   },
   "outputs": [],
   "source": []
  },
  {
   "cell_type": "code",
   "execution_count": null,
   "metadata": {
    "collapsed": true
   },
   "outputs": [],
   "source": []
  }
 ],
 "metadata": {
  "kernelspec": {
   "display_name": "Python 2",
   "language": "python",
   "name": "python2"
  },
  "language_info": {
   "codemirror_mode": {
    "name": "ipython",
    "version": 2
   },
   "file_extension": ".py",
   "mimetype": "text/x-python",
   "name": "python",
   "nbconvert_exporter": "python",
   "pygments_lexer": "ipython2",
   "version": "2.7.12"
  }
 },
 "nbformat": 4,
 "nbformat_minor": 0
}
