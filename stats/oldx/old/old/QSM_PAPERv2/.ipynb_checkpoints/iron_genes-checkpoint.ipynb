{
 "cells": [
  {
   "cell_type": "code",
   "execution_count": 57,
   "metadata": {
    "collapsed": true
   },
   "outputs": [],
   "source": [
    "#!/usr/bin/env python\n",
    "import argparse\n",
    "import os\n",
    "import numpy as np\n",
    "import pandas as pd\n",
    "import nibabel as nb\n",
    "\n",
    "from alleninf.api import get_probes_from_genes,\\\n",
    "    get_expression_values_from_probe_ids, get_mni_coordinates_from_wells\n",
    "from alleninf.data import get_values_at_locations, combine_expression_values\n",
    "from alleninf.analysis import fixed_effects, approximate_random_effects,\\\n",
    "    bayesian_random_effects\n",
    "\n",
    "stat_map  = '/Users/kanaan/SCR/workspace/tmp/randomise_tstat1.nii.gz'\n",
    "gene_name = 'FTL'\n",
    "\n",
    "\n",
    "# Clardy, et.al. (2006). Acute and chronic effects of developmental iron deficiency \n",
    "# on mRNA expression patterns in the brain. Journal of Neural Transmission, 71, 173–96. \n",
    "# http://www.ncbi.nlm.nih.gov/pubmed/17447428\n",
    "\n",
    "up_regulated_genes = {\n",
    "                    'ALOX12'     :  'arachidonate 12-lipoxygenase',\n",
    "                    'ETFDH'      :  'electron-transferring-flavoprotein dehydrogenase',\n",
    "                    'TFRC'       :  'transferrin receptor',\n",
    "                    #'LOC59322', :  'membrane-associated guanylate kinase-interacting protein',\n",
    "                    #'Tubb5'     :  'tubulin, beta 5'\n",
    "                    'ACTA2'      :  'actin, alpha 2, smooth muscle, aorta',\n",
    "                    'CAT'        :  'Catalase',\n",
    "                    #'CDC2a'     :  'cell division cycle 2 homolog A (S. pombe)',\n",
    "                    'HMGB2'      :  'High mobility group box 2',\n",
    "                    'GNB1'       :  'Guanine nucleotide binding protein (G protein), beta polypeptide 1',\n",
    "                    #'---'       :  'Rat mRNA for beta-tubulin T beta15'\n",
    "                    'TOP2a'      :  'topoisomerase (DNA) II alpha' ,\n",
    "                    'SLC11A2'    :  'Solute carrier family 11 , member 2 (proton-coupled divalent metal ion transporters)',\n",
    "                    'FKBP1B'     :  'FK506 binding protein 1B, 12.6 kDa',\n",
    "                    #'---'       :  'Rattus norvegicus similar to Myristoylated alanine-rich C-kinase substrate (MARCKS), mRNA',\n",
    "                    #'---'       #  'Rattus norvegicus similar to protein ref (H.sapiens) KIAA0275 gene product',\n",
    "                    'COL1A1'     :  'collagen, type 1, alpha 1',\n",
    "                    'LOC286978'  :  'thymosin beta-like protein', \n",
    "                    'CD48'       :  'CD48 antigen',\n",
    "                    'GCH1'       :  'GTP cyclohydrolase 1',\n",
    "                    'SLC16A1'    :  'Solute carrier family 16, member 1',\n",
    "                    'ALAS2'      :  'aminolevulinate, delta-, synthase 2', \n",
    "                    'KDR'        :  'kinase insert domain receptor (a type III receptor tyrosine kinase)',\n",
    "                    'CIRBP'      :  'cold inducible RNA binding protein',\n",
    "                    'CSAD'       :  'cysteine sulfinic acid decarboxylase', \n",
    "                   }\n",
    "\n",
    "down_regulated_genes = { \n",
    "                    'THRSP'      :  'thyroid hormone responsive protein',\n",
    "                    #''          :  'Rattus norvegicus Nclone10 mRNA',\n",
    "                    'TF'         :  'transferrin',\n",
    "                    'MAL'        :  'mal, T-cell differentiation protein',\n",
    "                    'KLK6'       :  'kallikrein-related peptidase 6', \n",
    "                    'HOMER1'     :  'homer homolog 1 (Drosophila), neuronal immediate early gene',\n",
    "                    'MOBP'       :  'myelin-associated oligodendrocytic basic protein',\n",
    "                    'APOD'       :  'apolipoprotein D',\n",
    "                    #''          :  'Rat troponin-c mRNA'\n",
    "                    'MOG'        :  'myelin oligodendrocyte glycoprotein',\n",
    "                    'CRYAB'      :  'crystallin, alpha B',\n",
    "                    #'Af6'       :  'afadin',\n",
    "                    ''           :  'Rattus norvegicus retroviral-like ovarian specific transcript 30-1 mRNA',\n",
    "                    'APOC1'      :  'apolipoprotein C-I',\n",
    "                    'CA2'        :  'carbonic anhydrase II',\n",
    "                    'RASGRP1'    :  'RAS guanyl releasing protein 1',\n",
    "                    'STMN4'      :  'stathmin-like 4',\n",
    "                    'Rnf28'      :  'ring finger protein 28',\n",
    "                    'Lyz'        :  'lysozyme', \n",
    "                    #'LOC309574' :  'olfactory receptor',\n",
    "                    'GSTM1'      :  'glutathione S-transferase mu 1', \n",
    "                    'CTSS'       :  'cathepsin S', \n",
    "                    'DCK'        :  'deoxycytidine kinase',\n",
    "                    #''           :  'Rattus norvegicus similar to S-100 protein, alpha chain (LOC295214), mRNA',\n",
    "                    #''           :  'Rat PMSG-induced ovarian mRNA, 3’sequence, N1'\n",
    "                       }"
   ]
  },
  {
   "cell_type": "code",
   "execution_count": 58,
   "metadata": {},
   "outputs": [
    {
     "name": "stdout",
     "output_type": "stream",
     "text": [
      "Fetching probe ids for gene FTL\n",
      "Found 5 probes: CUST_4420_PI416261804, A_32_P158433, A_23_P50498, A_32_P155247, A_23_P50504\n"
     ]
    }
   ],
   "source": [
    "print \"Fetching probe ids for gene %s\" % gene_name\n",
    "probes_dict = get_probes_from_genes(gene_name)\n",
    "print \"Found %s probes: %s\" % (len(probes_dict), \", \".join(probes_dict.values()))\n"
   ]
  },
  {
   "cell_type": "code",
   "execution_count": 59,
   "metadata": {},
   "outputs": [
    {
     "name": "stdout",
     "output_type": "stream",
     "text": [
      "Fetching expression values for probes CUST_4420_PI416261804, A_32_P158433, A_23_P50498, A_32_P155247, A_23_P50504\n",
      "Found data from 3702 wells sampled across 6 donors\n"
     ]
    }
   ],
   "source": [
    "print \"Fetching expression values for probes %s\" % (\", \".join(probes_dict.values()))\n",
    "expression_values, well_ids, donor_names = get_expression_values_from_probe_ids(\n",
    "    probes_dict.keys())\n",
    "print \"Found data from %s wells sampled across %s donors\" % (len(well_ids), len(set(donor_names)))\n"
   ]
  },
  {
   "cell_type": "code",
   "execution_count": 60,
   "metadata": {},
   "outputs": [
    {
     "name": "stdout",
     "output_type": "stream",
     "text": [
      "Combining information from selected probes\n"
     ]
    }
   ],
   "source": [
    "print \"Combining information from selected probes\"\n",
    "combined_expression_values = combine_expression_values(\n",
    "    expression_values, method='average')\n"
   ]
  },
  {
   "cell_type": "code",
   "execution_count": null,
   "metadata": {},
   "outputs": [
    {
     "name": "stdout",
     "output_type": "stream",
     "text": [
      "Translating locations of the wells to MNI space\n"
     ]
    }
   ],
   "source": [
    "print \"Translating locations of the wells to MNI space\"\n",
    "mni_coordinates = get_mni_coordinates_from_wells(well_ids)"
   ]
  },
  {
   "cell_type": "code",
   "execution_count": null,
   "metadata": {},
   "outputs": [
    {
     "name": "stdout",
     "output_type": "stream",
     "text": [
      "No mask provided - using implicit (not NaN, not zero) mask\n"
     ]
    }
   ],
   "source": [
    "nifti_values = get_values_at_locations(\n",
    "        stat_map, mni_coordinates, radius=3, verbose=True, \n",
    "        #mask_file = '/usr/local/fsl/data/atlases/Striatum/striatum-structural-1mm.nii.gz'\n",
    "        )"
   ]
  },
  {
   "cell_type": "code",
   "execution_count": null,
   "metadata": {},
   "outputs": [],
   "source": [
    "# preparing the data frame\n",
    "names = [\"NIFTI values\", \"%s expression\" % gene_name, \"donor ID\"]\n",
    "data = pd.DataFrame(np.array(\n",
    "    [nifti_values, combined_expression_values, donor_names]).T, columns=names)\n",
    "data = data.convert_objects(convert_numeric=True)\n",
    "len_before = len(data)\n",
    "data.dropna(axis=0, inplace=True)\n",
    "nans = len_before - len(data)"
   ]
  },
  {
   "cell_type": "code",
   "execution_count": null,
   "metadata": {},
   "outputs": [],
   "source": [
    "%matplotlib inline\n",
    "fixed_effects(data, [\"NIFTI values\", \"%s expression\" % gene_name])"
   ]
  },
  {
   "cell_type": "code",
   "execution_count": null,
   "metadata": {
    "collapsed": true
   },
   "outputs": [],
   "source": []
  },
  {
   "cell_type": "code",
   "execution_count": null,
   "metadata": {
    "collapsed": true
   },
   "outputs": [],
   "source": []
  },
  {
   "cell_type": "code",
   "execution_count": null,
   "metadata": {
    "collapsed": true
   },
   "outputs": [],
   "source": []
  },
  {
   "cell_type": "code",
   "execution_count": null,
   "metadata": {
    "collapsed": true
   },
   "outputs": [],
   "source": []
  },
  {
   "cell_type": "code",
   "execution_count": null,
   "metadata": {
    "collapsed": true
   },
   "outputs": [],
   "source": []
  },
  {
   "cell_type": "code",
   "execution_count": null,
   "metadata": {
    "collapsed": true
   },
   "outputs": [],
   "source": []
  },
  {
   "cell_type": "code",
   "execution_count": null,
   "metadata": {
    "collapsed": true
   },
   "outputs": [],
   "source": []
  },
  {
   "cell_type": "code",
   "execution_count": null,
   "metadata": {
    "collapsed": true
   },
   "outputs": [],
   "source": []
  },
  {
   "cell_type": "code",
   "execution_count": null,
   "metadata": {
    "collapsed": true
   },
   "outputs": [],
   "source": []
  },
  {
   "cell_type": "code",
   "execution_count": null,
   "metadata": {
    "collapsed": true
   },
   "outputs": [],
   "source": []
  },
  {
   "cell_type": "code",
   "execution_count": null,
   "metadata": {
    "collapsed": true
   },
   "outputs": [],
   "source": []
  },
  {
   "cell_type": "code",
   "execution_count": null,
   "metadata": {
    "collapsed": true
   },
   "outputs": [],
   "source": []
  },
  {
   "cell_type": "code",
   "execution_count": null,
   "metadata": {
    "collapsed": true
   },
   "outputs": [],
   "source": []
  },
  {
   "cell_type": "code",
   "execution_count": null,
   "metadata": {
    "collapsed": true
   },
   "outputs": [],
   "source": []
  }
 ],
 "metadata": {
  "kernelspec": {
   "display_name": "Python 2",
   "language": "python",
   "name": "python2"
  },
  "language_info": {
   "codemirror_mode": {
    "name": "ipython",
    "version": 2
   },
   "file_extension": ".py",
   "mimetype": "text/x-python",
   "name": "python",
   "nbconvert_exporter": "python",
   "pygments_lexer": "ipython2",
   "version": "2.7.13"
  }
 },
 "nbformat": 4,
 "nbformat_minor": 2
}
