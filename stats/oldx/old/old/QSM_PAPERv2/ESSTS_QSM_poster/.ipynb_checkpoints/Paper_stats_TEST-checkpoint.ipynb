{
 "cells": [
  {
   "cell_type": "code",
   "execution_count": 9,
   "metadata": {
    "collapsed": false
   },
   "outputs": [],
   "source": [
    "%matplotlib inline\n",
    "import os \n",
    "import numpy as np\n",
    "from numpy import mean, std\n",
    "import pandas as pd\n",
    "import seaborn as sns\n",
    "import matplotlib.pyplot as plt\n",
    "from scipy.stats import ttest_rel, ttest_ind, mannwhitneyu, wilcoxon\n",
    "import statsmodels.api as sm\n",
    "pd.options.display.max_columns = 99\n",
    "import statsmodels.formula.api as smf\n",
    "import math \n",
    "import scipy.stats as ss\n",
    "plt.rcParams['font.family'] = 'Myriad Pro'\n",
    "sns.set_style('white')\n",
    "\n",
    "clinical_dir  = '/Users/kanaan/SCR/Dataframes_20150820/DF_clinical/'\n",
    "datadir       = '/Users/kanaan/Google Drive/TS-EUROTRAIN/RESULTS_QSM/Sept_27'\n",
    "\n",
    "measures = [ #'Age','SNR' , 'CNR' , 'FBER',  'QI1', \n",
    "            # 'R_Caud', 'L_Caud', 'R_Puta', 'L_Puta', 'R_Pall', 'L_Pall',\n",
    "            # 'R_Amyg', 'L_Amyg', 'R_Hipp', 'L_Hipp', 'R_Accu', 'L_Accu',\n",
    "            # 'R_Thal', 'L_Thal', 'L_Insula', 'R_Insula', 'L_Cingulum', 'R_Cingulum', \n",
    "            # 'L_ant_Insula', 'R_ant_Insula', 'L_inf_Insula', 'R_inf_Insula',  'L_sup_Insula', 'R_sup_Insula', \n",
    "            # 'L_ant_Cingulum', 'R_ant_Cingulum', 'L_ant_mid_Cingulum', 'R_ant_mid_Cingulum',\n",
    "            # 'L_post_mid_Cingulum', 'R_post_mid_Cingulum', 'L_post_dors_Cingulum',\n",
    "            # 'R_post_dors_Cingulum','L_post_vent_Cingulum', 'R_post_vent_Cingulum', \n",
    "            # 'L_RN', 'R_RN', 'L_STN', 'R_STN', 'L_SN', 'R_SN',\n",
    "             'Puta', 'Pall', 'Thal', 'Accu', 'Amyg', 'Hipp', 'RN', 'SN','STN',#'Caud', \n",
    "             'Insula', #'ant_Insula', 'inf_Insula', 'sup_Insula',\n",
    "             'Cingulum',# 'post_mid_Cingulum', 'post_dors_Cingulum','post_vent_Cingulum', 'ant_Cingulum', 'ant_mid_Cingulum',\n",
    "            'BrainStem', 'BasalGanglia',# 'Brain', 'GM', 'WM', 'CSF'\n",
    "            ]\n",
    "\n",
    "drop_c =  []\n",
    "#drop_p = ['NL2P', 'STDP', 'HSPP', 'CB4P', 'SA5U']  # Based on quality control of MP2RAGE_UNI \n",
    "drop_p = ['HSPP', 'THCP', 'CB4P', 'LA9P', 'RA9P', 'SA5U']\n",
    "drop_p = []"
   ]
  },
  {
   "cell_type": "code",
   "execution_count": 10,
   "metadata": {
    "collapsed": false
   },
   "outputs": [],
   "source": [
    "def plot(df1,df2,measure):\n",
    "    palette = sns.xkcd_palette([ \"red\", 'blue'])\n",
    "    data = [df1[measure], df2[measure]]\n",
    "    sns.violinplot(data=data, palette= palette)\n",
    "    sns.stripplot(data=data,palette= palette, jitter=1)\n",
    "\n",
    "    \n",
    "def detect_outliers(df, measure):\n",
    "    mu = np.mean(df[measure])\n",
    "    sd = np.std(df[measure])\n",
    "    thresh = 3\n",
    "    upper = mu +thresh*sd\n",
    "    lower = mu -thresh*sd\n",
    "    outliers = []\n",
    "    for subject in df.index:\n",
    "        i = df.loc[subject][measure]\n",
    "        if i > upper or i < lower:\n",
    "            outliers.append(subject)\n",
    "            df.ix[subject, measure] = np.nan\n",
    "            print outliers\n",
    "            print 'OUTLIER: %s %s= %s, Limits= (%s,%s)'%(subject, measure, i, lower, upper)\n",
    "    \n",
    "    return outliers\n",
    "\n",
    "def plot_partial_correlation(data, x, y,  regressors = None, color = None, annotate = None, fig_name = None, \n",
    "                             dpi = 100, labels = True, jitter = None):\n",
    "    \n",
    "    regressors_columns = [data[regressor] for regressor in regressors]\n",
    "    df_reg = pd.concat(regressors_columns, axis = 1).dropna(axis=0) \n",
    "    df = pd.concat([df_reg, data[x], data[y]], axis=1).dropna()\n",
    "    \n",
    "    # inititlize grid and plot regression and margins \n",
    "    grid = sns.JointGrid(x, y, data=df)#, size=size, ratio=ratio, space=space, #xlim=xlim, ylim=ylim), xlim=xlim, ylim=ylim\n",
    "    grid.plot_marginals(sns.distplot, color = color, hist=False, kde = True, rug = 0, kde_kws={'shade':True})  \n",
    "    \n",
    "    grid.plot_joint(sns.regplot, color = color, x_partial = df[regressors], y_jitter = jitter)\n",
    "    if labels:\n",
    "        grid.set_axis_labels(x, y, fontsize= 15, weight='bold', color='blue', labelpad=10)\n",
    "    else:\n",
    "        grid.set_axis_labels(None,None)\n",
    "        \n",
    "    ## calculate regression parameters \n",
    "    \n",
    "    formula = [ '%s ~ %s'%(y,x) + ' + %s'%regressor for regressor in regressors][0]\n",
    "    model   = smf.ols(formula=formula, data= df)\n",
    "    result = model.fit() \n",
    "    p_val  = np.round(result.pvalues[1], 3)\n",
    "    pcor   = math.copysign(np.round(np.sqrt(result.rsquared), 3) , result.params[1])\n",
    "    \n",
    "    if annotate:\n",
    "        plt.annotate('R=%s, P=%s' %(pcor, p_val), xy = annotate, fontsize = 13,  color='r')\n",
    "                      \n",
    "    if fig_name:\n",
    "        plt.savefig(os.path.join(save_fig_dir, fig_name), dpi = dpi, bbox_inches='tight', transparent = True)\n",
    "\n",
    "def read_df(img, quant, population, study_id):\n",
    "    df = pd.read_csv(os.path.join(datadir, '%s_%s_%s_%s.csv'%(img, quant, population, study_id)), index_col = 0)\n",
    "    return df \n",
    "\n",
    "qsm_mu_controls_a = read_df('QSM', 'mean', 'controls', 'a')\n",
    "qsm_mu_controls_b = read_df('QSM', 'mean', 'controls', 'b')\n",
    "qsm_mu_patients_a = read_df('QSM', 'mean', 'patients', 'a')\n",
    "qsm_mu_patients_b = read_df('QSM', 'mean', 'patients', 'b')\n"
   ]
  },
  {
   "cell_type": "code",
   "execution_count": null,
   "metadata": {
    "collapsed": false
   },
   "outputs": [],
   "source": []
  },
  {
   "cell_type": "code",
   "execution_count": 11,
   "metadata": {
    "collapsed": false,
    "scrolled": false
   },
   "outputs": [
    {
     "name": "stdout",
     "output_type": "stream",
     "text": [
      "Thal p = 0.04\n",
      "Amyg p = 0.027\n",
      "Insula p = 0.027\n",
      "Cingulum p = 0.04\n"
     ]
    },
    {
     "data": {
      "text/html": [
       "<div>\n",
       "<table border=\"1\" class=\"dataframe\">\n",
       "  <thead>\n",
       "    <tr style=\"text-align: right;\">\n",
       "      <th></th>\n",
       "      <th>Controls</th>\n",
       "      <th>Patients</th>\n",
       "      <th>Z</th>\n",
       "      <th>p_val</th>\n",
       "    </tr>\n",
       "  </thead>\n",
       "  <tbody>\n",
       "    <tr>\n",
       "      <th>Insula</th>\n",
       "      <td>-2.89±1.1</td>\n",
       "      <td>-2.22±0.88</td>\n",
       "      <td>102</td>\n",
       "      <td>0.02661</td>\n",
       "    </tr>\n",
       "    <tr>\n",
       "      <th>Amyg</th>\n",
       "      <td>-3.66±1.48</td>\n",
       "      <td>-2.73±1.01</td>\n",
       "      <td>102</td>\n",
       "      <td>0.02661</td>\n",
       "    </tr>\n",
       "    <tr>\n",
       "      <th>Thal</th>\n",
       "      <td>-3.23±1.37</td>\n",
       "      <td>-2.54±1.1</td>\n",
       "      <td>108</td>\n",
       "      <td>0.03954</td>\n",
       "    </tr>\n",
       "    <tr>\n",
       "      <th>Cingulum</th>\n",
       "      <td>-2.63±1.23</td>\n",
       "      <td>-1.91±1.11</td>\n",
       "      <td>108</td>\n",
       "      <td>0.03954</td>\n",
       "    </tr>\n",
       "    <tr>\n",
       "      <th>Accu</th>\n",
       "      <td>-2.72±1.62</td>\n",
       "      <td>-1.91±1.46</td>\n",
       "      <td>119</td>\n",
       "      <td>0.07615</td>\n",
       "    </tr>\n",
       "    <tr>\n",
       "      <th>STN</th>\n",
       "      <td>-1.83±3.04</td>\n",
       "      <td>-0.11±3.53</td>\n",
       "      <td>125</td>\n",
       "      <td>0.10486</td>\n",
       "    </tr>\n",
       "    <tr>\n",
       "      <th>Hipp</th>\n",
       "      <td>-1.72±1.41</td>\n",
       "      <td>-1.13±1.15</td>\n",
       "      <td>127</td>\n",
       "      <td>0.11598</td>\n",
       "    </tr>\n",
       "    <tr>\n",
       "      <th>Puta</th>\n",
       "      <td>0.25±1.97</td>\n",
       "      <td>0.53±2.18</td>\n",
       "      <td>146</td>\n",
       "      <td>0.26286</td>\n",
       "    </tr>\n",
       "    <tr>\n",
       "      <th>RN</th>\n",
       "      <td>5.36±4.54</td>\n",
       "      <td>4.95±4.68</td>\n",
       "      <td>148</td>\n",
       "      <td>0.28247</td>\n",
       "    </tr>\n",
       "    <tr>\n",
       "      <th>SN</th>\n",
       "      <td>11.39±4.81</td>\n",
       "      <td>11.59±3.26</td>\n",
       "      <td>151</td>\n",
       "      <td>0.31314</td>\n",
       "    </tr>\n",
       "    <tr>\n",
       "      <th>Pall</th>\n",
       "      <td>7.18±2.52</td>\n",
       "      <td>6.95±1.44</td>\n",
       "      <td>155</td>\n",
       "      <td>0.35609</td>\n",
       "    </tr>\n",
       "    <tr>\n",
       "      <th>BasalGanglia</th>\n",
       "      <td>1.52±1.39</td>\n",
       "      <td>1.82±1.23</td>\n",
       "      <td>156</td>\n",
       "      <td>0.36715</td>\n",
       "    </tr>\n",
       "    <tr>\n",
       "      <th>BrainStem</th>\n",
       "      <td>4.97±3.53</td>\n",
       "      <td>5.48±3.07</td>\n",
       "      <td>159</td>\n",
       "      <td>0.40096</td>\n",
       "    </tr>\n",
       "  </tbody>\n",
       "</table>\n",
       "</div>"
      ],
      "text/plain": [
       "                Controls    Patients    Z    p_val\n",
       "Insula         -2.89±1.1  -2.22±0.88  102  0.02661\n",
       "Amyg          -3.66±1.48  -2.73±1.01  102  0.02661\n",
       "Thal          -3.23±1.37   -2.54±1.1  108  0.03954\n",
       "Cingulum      -2.63±1.23  -1.91±1.11  108  0.03954\n",
       "Accu          -2.72±1.62  -1.91±1.46  119  0.07615\n",
       "STN           -1.83±3.04  -0.11±3.53  125  0.10486\n",
       "Hipp          -1.72±1.41  -1.13±1.15  127  0.11598\n",
       "Puta           0.25±1.97   0.53±2.18  146  0.26286\n",
       "RN             5.36±4.54   4.95±4.68  148  0.28247\n",
       "SN            11.39±4.81  11.59±3.26  151  0.31314\n",
       "Pall           7.18±2.52   6.95±1.44  155  0.35609\n",
       "BasalGanglia   1.52±1.39   1.82±1.23  156  0.36715\n",
       "BrainStem      4.97±3.53   5.48±3.07  159  0.40096"
      ]
     },
     "execution_count": 11,
     "metadata": {},
     "output_type": "execute_result"
    }
   ],
   "source": [
    "def make_ttest(df1, df2):\n",
    "\n",
    "    df1['Brain'] = df1.GM + df1.WM + df1.CSF\n",
    "    df2['Brain'] = df2.GM + df2.WM + df2.CSF\n",
    "    df = pd.DataFrame(index= ['Controls', 'Patients', 'Z', 'p_val',], columns=measures)\n",
    "    for measure in measures:\n",
    "        #drop_c = detect_outliers(df1, measure)\n",
    "        #drop_p = detect_outliers(df2, measure)\n",
    "        t_val, p_val = mannwhitneyu(df1[measure], df2[measure].drop(drop_p, axis = 0))\n",
    "        #t_val, p_val = ttest_ind(df1[measure], df2[measure].drop(drop_p, axis = 0))\n",
    "        x = 100\n",
    "        df.ix['Controls'][measure] = '%s±%s'%(x*np.round(np.mean(df1[measure]),4), \n",
    "                                              x*np.round(np.std(df1[measure]),4))     \n",
    "        df.ix['Patients'][measure] = '%s±%s'%(x*np.round(np.mean(df2[measure].drop(drop_p, axis = 0)),4), \n",
    "                                              x*np.round(np.std(df2[measure].drop(drop_p, axis = 0)),4))   \n",
    "        df.ix['Z'][measure] = np.round(t_val,2)        \n",
    "        df.ix['p_val'][measure] = np.round(p_val,5)\n",
    "        \n",
    "        if p_val < 0.05:\n",
    "            print measure, 'p =', np.round(p_val,3)\n",
    "        \n",
    "    return df.T\n",
    "x = make_ttest(qsm_mu_patients_a, qsm_mu_patients_b)\n",
    "x.sort(columns='p_val')"
   ]
  },
  {
   "cell_type": "code",
   "execution_count": 12,
   "metadata": {
    "collapsed": false
   },
   "outputs": [
    {
     "data": {
      "text/html": [
       "<div>\n",
       "<table border=\"1\" class=\"dataframe\">\n",
       "  <thead>\n",
       "    <tr style=\"text-align: right;\">\n",
       "      <th></th>\n",
       "      <th>p_val</th>\n",
       "    </tr>\n",
       "  </thead>\n",
       "  <tbody>\n",
       "    <tr>\n",
       "      <th>Insula</th>\n",
       "      <td>0.02661</td>\n",
       "    </tr>\n",
       "    <tr>\n",
       "      <th>Amyg</th>\n",
       "      <td>0.02661</td>\n",
       "    </tr>\n",
       "    <tr>\n",
       "      <th>Thal</th>\n",
       "      <td>0.03954</td>\n",
       "    </tr>\n",
       "    <tr>\n",
       "      <th>Cingulum</th>\n",
       "      <td>0.03954</td>\n",
       "    </tr>\n",
       "    <tr>\n",
       "      <th>Accu</th>\n",
       "      <td>0.07615</td>\n",
       "    </tr>\n",
       "    <tr>\n",
       "      <th>STN</th>\n",
       "      <td>0.10486</td>\n",
       "    </tr>\n",
       "    <tr>\n",
       "      <th>Hipp</th>\n",
       "      <td>0.11598</td>\n",
       "    </tr>\n",
       "    <tr>\n",
       "      <th>Puta</th>\n",
       "      <td>0.26286</td>\n",
       "    </tr>\n",
       "    <tr>\n",
       "      <th>RN</th>\n",
       "      <td>0.28247</td>\n",
       "    </tr>\n",
       "    <tr>\n",
       "      <th>SN</th>\n",
       "      <td>0.31314</td>\n",
       "    </tr>\n",
       "    <tr>\n",
       "      <th>Pall</th>\n",
       "      <td>0.35609</td>\n",
       "    </tr>\n",
       "    <tr>\n",
       "      <th>BasalGanglia</th>\n",
       "      <td>0.36715</td>\n",
       "    </tr>\n",
       "    <tr>\n",
       "      <th>BrainStem</th>\n",
       "      <td>0.40096</td>\n",
       "    </tr>\n",
       "  </tbody>\n",
       "</table>\n",
       "</div>"
      ],
      "text/plain": [
       "                p_val\n",
       "Insula        0.02661\n",
       "Amyg          0.02661\n",
       "Thal          0.03954\n",
       "Cingulum      0.03954\n",
       "Accu          0.07615\n",
       "STN           0.10486\n",
       "Hipp          0.11598\n",
       "Puta          0.26286\n",
       "RN            0.28247\n",
       "SN            0.31314\n",
       "Pall          0.35609\n",
       "BasalGanglia  0.36715\n",
       "BrainStem     0.40096"
      ]
     },
     "execution_count": 12,
     "metadata": {},
     "output_type": "execute_result"
    }
   ],
   "source": [
    "pd.DataFrame(x.p_val).sort(columns='p_val')"
   ]
  },
  {
   "cell_type": "code",
   "execution_count": 13,
   "metadata": {
    "collapsed": false
   },
   "outputs": [
    {
     "data": {
      "text/html": [
       "<div>\n",
       "<table border=\"1\" class=\"dataframe\">\n",
       "  <thead>\n",
       "    <tr style=\"text-align: right;\">\n",
       "      <th></th>\n",
       "      <th>p</th>\n",
       "      <th>FDR_threshold</th>\n",
       "    </tr>\n",
       "  </thead>\n",
       "  <tbody>\n",
       "    <tr>\n",
       "      <th>Amyg_p_val</th>\n",
       "      <td>0.02661</td>\n",
       "      <td>0.004</td>\n",
       "    </tr>\n",
       "    <tr>\n",
       "      <th>Insula_p_val</th>\n",
       "      <td>0.02661</td>\n",
       "      <td>0.008</td>\n",
       "    </tr>\n",
       "    <tr>\n",
       "      <th>Thal_p_val</th>\n",
       "      <td>0.03954</td>\n",
       "      <td>0.012</td>\n",
       "    </tr>\n",
       "    <tr>\n",
       "      <th>Cingulum_p_val</th>\n",
       "      <td>0.03954</td>\n",
       "      <td>0.015</td>\n",
       "    </tr>\n",
       "    <tr>\n",
       "      <th>Accu_p_val</th>\n",
       "      <td>0.07615</td>\n",
       "      <td>0.019</td>\n",
       "    </tr>\n",
       "    <tr>\n",
       "      <th>STN_p_val</th>\n",
       "      <td>0.10486</td>\n",
       "      <td>0.023</td>\n",
       "    </tr>\n",
       "    <tr>\n",
       "      <th>Hipp_p_val</th>\n",
       "      <td>0.11598</td>\n",
       "      <td>0.027</td>\n",
       "    </tr>\n",
       "    <tr>\n",
       "      <th>Puta_p_val</th>\n",
       "      <td>0.26286</td>\n",
       "      <td>0.031</td>\n",
       "    </tr>\n",
       "    <tr>\n",
       "      <th>RN_p_val</th>\n",
       "      <td>0.28247</td>\n",
       "      <td>0.035</td>\n",
       "    </tr>\n",
       "    <tr>\n",
       "      <th>SN_p_val</th>\n",
       "      <td>0.31314</td>\n",
       "      <td>0.038</td>\n",
       "    </tr>\n",
       "    <tr>\n",
       "      <th>Pall_p_val</th>\n",
       "      <td>0.35609</td>\n",
       "      <td>0.042</td>\n",
       "    </tr>\n",
       "    <tr>\n",
       "      <th>BasalGanglia_p_val</th>\n",
       "      <td>0.36715</td>\n",
       "      <td>0.046</td>\n",
       "    </tr>\n",
       "    <tr>\n",
       "      <th>BrainStem_p_val</th>\n",
       "      <td>0.40096</td>\n",
       "      <td>0.050</td>\n",
       "    </tr>\n",
       "  </tbody>\n",
       "</table>\n",
       "</div>"
      ],
      "text/plain": [
       "                          p  FDR_threshold\n",
       "Amyg_p_val          0.02661          0.004\n",
       "Insula_p_val        0.02661          0.008\n",
       "Thal_p_val          0.03954          0.012\n",
       "Cingulum_p_val      0.03954          0.015\n",
       "Accu_p_val          0.07615          0.019\n",
       "STN_p_val           0.10486          0.023\n",
       "Hipp_p_val          0.11598          0.027\n",
       "Puta_p_val          0.26286          0.031\n",
       "RN_p_val            0.28247          0.035\n",
       "SN_p_val            0.31314          0.038\n",
       "Pall_p_val          0.35609          0.042\n",
       "BasalGanglia_p_val  0.36715          0.046\n",
       "BrainStem_p_val     0.40096          0.050"
      ]
     },
     "execution_count": 13,
     "metadata": {},
     "output_type": "execute_result"
    }
   ],
   "source": [
    "def make_fdr(df):\n",
    "    fdr = pd.DataFrame()\n",
    "    for i in df.index:\n",
    "        for c in df.columns:\n",
    "            fdr.ix['%s_%s'%(i,c),'p'] = df.loc[i][c]\n",
    "    fdr = fdr.dropna()\n",
    "    fdr = fdr.sort('p')\n",
    "    \n",
    "    n_comparisons = len(fdr.index)\n",
    "    for i, corr in enumerate(fdr.index):\n",
    "        fdr.ix[corr, 'FDR_threshold'] = np.round((0.05 * (i + 1.) / n_comparisons), 3)\n",
    "        \n",
    "    return fdr.reindex()\n",
    "\n",
    "make_fdr(pd.DataFrame(x.p_val))"
   ]
  },
  {
   "cell_type": "code",
   "execution_count": null,
   "metadata": {
    "collapsed": false
   },
   "outputs": [],
   "source": []
  },
  {
   "cell_type": "code",
   "execution_count": null,
   "metadata": {
    "collapsed": false
   },
   "outputs": [],
   "source": []
  },
  {
   "cell_type": "code",
   "execution_count": 14,
   "metadata": {
    "collapsed": false
   },
   "outputs": [],
   "source": [
    "def get_clinical(df, pop_name):\n",
    "    clinical_df = pd.read_csv(os.path.join(clinical_dir, 'clinical_%s.csv'%pop_name), index_col=0)\n",
    "    \n",
    "    for subject in df.index:\n",
    "        if subject in clinical_df.index:\n",
    "            df.ix[subject, 'YGTSS']             = clinical_df.loc[subject]['YGTSS_Total_Tic_Score']\n",
    "            df.ix[subject, 'RVTRS']             = clinical_df.loc[subject]['RVTRS']\n",
    "            df.ix[subject, 'PUTS']              = clinical_df.loc[subject]['puts']\n",
    "            df.ix[subject, 'YBOCS']             = clinical_df.loc[subject]['YBOCS_Totalscore_Items_1to10']\n",
    "            df.ix[subject, 'OCI']               = clinical_df.loc[subject]['OCIR_total score']\n",
    "            df.ix[subject, 'CAARS' ]            = clinical_df.loc[subject]['CAARS_Score_ADHS_Symptoms_Total_Cat_G_T_Score']\n",
    "            df.ix[subject, 'DSM4']              = clinical_df.loc[subject]['DSM4_clinically_significant_ADHD']\n",
    "            df.ix[subject, 'QOL']               = clinical_df.loc[subject]['qol_scale']\n",
    "            df.ix[subject, 'QOLs']              = clinical_df.loc[subject]['qol_score']\n",
    "            df.ix[subject, 'BDI']               = clinical_df.loc[subject]['BDI12']\n",
    "            df.ix[subject, 'Ferritin']          = clinical_df.loc[subject]['Ferritin']\n",
    "    \n",
    "    return df, clinical_df"
   ]
  },
  {
   "cell_type": "code",
   "execution_count": 15,
   "metadata": {
    "collapsed": false
   },
   "outputs": [],
   "source": [
    "Xcontrols_a, controls_a_clinical = get_clinical(qsm_mu_controls_a, 'controls_a')\n",
    "Xpatients_a, patients_a_clinical = get_clinical(qsm_mu_controls_b, 'patients_a')"
   ]
  },
  {
   "cell_type": "code",
   "execution_count": null,
   "metadata": {
    "collapsed": false
   },
   "outputs": [],
   "source": []
  },
  {
   "cell_type": "code",
   "execution_count": null,
   "metadata": {
    "collapsed": true
   },
   "outputs": [],
   "source": []
  },
  {
   "cell_type": "code",
   "execution_count": null,
   "metadata": {
    "collapsed": true
   },
   "outputs": [],
   "source": []
  },
  {
   "cell_type": "code",
   "execution_count": null,
   "metadata": {
    "collapsed": true
   },
   "outputs": [],
   "source": []
  },
  {
   "cell_type": "code",
   "execution_count": null,
   "metadata": {
    "collapsed": true
   },
   "outputs": [],
   "source": []
  },
  {
   "cell_type": "code",
   "execution_count": null,
   "metadata": {
    "collapsed": true
   },
   "outputs": [],
   "source": []
  },
  {
   "cell_type": "code",
   "execution_count": null,
   "metadata": {
    "collapsed": true
   },
   "outputs": [],
   "source": []
  },
  {
   "cell_type": "code",
   "execution_count": 16,
   "metadata": {
    "collapsed": false
   },
   "outputs": [
    {
     "ename": "KeyError",
     "evalue": "'YGTSS'",
     "output_type": "error",
     "traceback": [
      "\u001b[0;31m---------------------------------------------------------------------------\u001b[0m",
      "\u001b[0;31mKeyError\u001b[0m                                  Traceback (most recent call last)",
      "\u001b[0;32m<ipython-input-16-eb61a0fa2660>\u001b[0m in \u001b[0;36m<module>\u001b[0;34m()\u001b[0m\n\u001b[1;32m      3\u001b[0m \u001b[0mmeasure_1\u001b[0m \u001b[0;34m=\u001b[0m \u001b[0;34m'Puta'\u001b[0m\u001b[0;34m\u001b[0m\u001b[0m\n\u001b[1;32m      4\u001b[0m \u001b[0mmeasure_2\u001b[0m \u001b[0;34m=\u001b[0m \u001b[0;34m'YGTSS'\u001b[0m\u001b[0;34m\u001b[0m\u001b[0m\n\u001b[0;32m----> 5\u001b[0;31m \u001b[0msns\u001b[0m\u001b[0;34m.\u001b[0m\u001b[0mjointplot\u001b[0m\u001b[0;34m(\u001b[0m\u001b[0mXpatients_a\u001b[0m\u001b[0;34m[\u001b[0m\u001b[0mmeasure_1\u001b[0m\u001b[0;34m]\u001b[0m\u001b[0;34m.\u001b[0m\u001b[0mdrop\u001b[0m\u001b[0;34m(\u001b[0m\u001b[0mdrop\u001b[0m\u001b[0;34m,\u001b[0m \u001b[0maxis\u001b[0m \u001b[0;34m=\u001b[0m \u001b[0;36m0\u001b[0m\u001b[0;34m)\u001b[0m\u001b[0;34m,\u001b[0m \u001b[0mXpatients_a\u001b[0m\u001b[0;34m[\u001b[0m\u001b[0mmeasure_2\u001b[0m\u001b[0;34m]\u001b[0m\u001b[0;34m.\u001b[0m\u001b[0mdrop\u001b[0m\u001b[0;34m(\u001b[0m\u001b[0mdrop\u001b[0m\u001b[0;34m,\u001b[0m \u001b[0maxis\u001b[0m \u001b[0;34m=\u001b[0m \u001b[0;36m0\u001b[0m\u001b[0;34m)\u001b[0m\u001b[0;34m,\u001b[0m \u001b[0mkind\u001b[0m \u001b[0;34m=\u001b[0m \u001b[0;34m'reg'\u001b[0m\u001b[0;34m)\u001b[0m\u001b[0;34m\u001b[0m\u001b[0m\n\u001b[0m\u001b[1;32m      6\u001b[0m \u001b[0;31m#sns.jointplot(Xcontrols_a.Ferritin, Xcontrols_a.R_STN, kind = 'reg')\u001b[0m\u001b[0;34m\u001b[0m\u001b[0;34m\u001b[0m\u001b[0m\n\u001b[1;32m      7\u001b[0m \u001b[0;34m\u001b[0m\u001b[0m\n",
      "\u001b[0;32m//anaconda/lib/python2.7/site-packages/pandas/core/frame.pyc\u001b[0m in \u001b[0;36m__getitem__\u001b[0;34m(self, key)\u001b[0m\n\u001b[1;32m   1795\u001b[0m             \u001b[0;32mreturn\u001b[0m \u001b[0mself\u001b[0m\u001b[0;34m.\u001b[0m\u001b[0m_getitem_multilevel\u001b[0m\u001b[0;34m(\u001b[0m\u001b[0mkey\u001b[0m\u001b[0;34m)\u001b[0m\u001b[0;34m\u001b[0m\u001b[0m\n\u001b[1;32m   1796\u001b[0m         \u001b[0;32melse\u001b[0m\u001b[0;34m:\u001b[0m\u001b[0;34m\u001b[0m\u001b[0m\n\u001b[0;32m-> 1797\u001b[0;31m             \u001b[0;32mreturn\u001b[0m \u001b[0mself\u001b[0m\u001b[0;34m.\u001b[0m\u001b[0m_getitem_column\u001b[0m\u001b[0;34m(\u001b[0m\u001b[0mkey\u001b[0m\u001b[0;34m)\u001b[0m\u001b[0;34m\u001b[0m\u001b[0m\n\u001b[0m\u001b[1;32m   1798\u001b[0m \u001b[0;34m\u001b[0m\u001b[0m\n\u001b[1;32m   1799\u001b[0m     \u001b[0;32mdef\u001b[0m \u001b[0m_getitem_column\u001b[0m\u001b[0;34m(\u001b[0m\u001b[0mself\u001b[0m\u001b[0;34m,\u001b[0m \u001b[0mkey\u001b[0m\u001b[0;34m)\u001b[0m\u001b[0;34m:\u001b[0m\u001b[0;34m\u001b[0m\u001b[0m\n",
      "\u001b[0;32m//anaconda/lib/python2.7/site-packages/pandas/core/frame.pyc\u001b[0m in \u001b[0;36m_getitem_column\u001b[0;34m(self, key)\u001b[0m\n\u001b[1;32m   1802\u001b[0m         \u001b[0;31m# get column\u001b[0m\u001b[0;34m\u001b[0m\u001b[0;34m\u001b[0m\u001b[0m\n\u001b[1;32m   1803\u001b[0m         \u001b[0;32mif\u001b[0m \u001b[0mself\u001b[0m\u001b[0;34m.\u001b[0m\u001b[0mcolumns\u001b[0m\u001b[0;34m.\u001b[0m\u001b[0mis_unique\u001b[0m\u001b[0;34m:\u001b[0m\u001b[0;34m\u001b[0m\u001b[0m\n\u001b[0;32m-> 1804\u001b[0;31m             \u001b[0;32mreturn\u001b[0m \u001b[0mself\u001b[0m\u001b[0;34m.\u001b[0m\u001b[0m_get_item_cache\u001b[0m\u001b[0;34m(\u001b[0m\u001b[0mkey\u001b[0m\u001b[0;34m)\u001b[0m\u001b[0;34m\u001b[0m\u001b[0m\n\u001b[0m\u001b[1;32m   1805\u001b[0m \u001b[0;34m\u001b[0m\u001b[0m\n\u001b[1;32m   1806\u001b[0m         \u001b[0;31m# duplicate columns & possible reduce dimensionaility\u001b[0m\u001b[0;34m\u001b[0m\u001b[0;34m\u001b[0m\u001b[0m\n",
      "\u001b[0;32m//anaconda/lib/python2.7/site-packages/pandas/core/generic.pyc\u001b[0m in \u001b[0;36m_get_item_cache\u001b[0;34m(self, item)\u001b[0m\n\u001b[1;32m   1082\u001b[0m         \u001b[0mres\u001b[0m \u001b[0;34m=\u001b[0m \u001b[0mcache\u001b[0m\u001b[0;34m.\u001b[0m\u001b[0mget\u001b[0m\u001b[0;34m(\u001b[0m\u001b[0mitem\u001b[0m\u001b[0;34m)\u001b[0m\u001b[0;34m\u001b[0m\u001b[0m\n\u001b[1;32m   1083\u001b[0m         \u001b[0;32mif\u001b[0m \u001b[0mres\u001b[0m \u001b[0;32mis\u001b[0m \u001b[0mNone\u001b[0m\u001b[0;34m:\u001b[0m\u001b[0;34m\u001b[0m\u001b[0m\n\u001b[0;32m-> 1084\u001b[0;31m             \u001b[0mvalues\u001b[0m \u001b[0;34m=\u001b[0m \u001b[0mself\u001b[0m\u001b[0;34m.\u001b[0m\u001b[0m_data\u001b[0m\u001b[0;34m.\u001b[0m\u001b[0mget\u001b[0m\u001b[0;34m(\u001b[0m\u001b[0mitem\u001b[0m\u001b[0;34m)\u001b[0m\u001b[0;34m\u001b[0m\u001b[0m\n\u001b[0m\u001b[1;32m   1085\u001b[0m             \u001b[0mres\u001b[0m \u001b[0;34m=\u001b[0m \u001b[0mself\u001b[0m\u001b[0;34m.\u001b[0m\u001b[0m_box_item_values\u001b[0m\u001b[0;34m(\u001b[0m\u001b[0mitem\u001b[0m\u001b[0;34m,\u001b[0m \u001b[0mvalues\u001b[0m\u001b[0;34m)\u001b[0m\u001b[0;34m\u001b[0m\u001b[0m\n\u001b[1;32m   1086\u001b[0m             \u001b[0mcache\u001b[0m\u001b[0;34m[\u001b[0m\u001b[0mitem\u001b[0m\u001b[0;34m]\u001b[0m \u001b[0;34m=\u001b[0m \u001b[0mres\u001b[0m\u001b[0;34m\u001b[0m\u001b[0m\n",
      "\u001b[0;32m//anaconda/lib/python2.7/site-packages/pandas/core/internals.pyc\u001b[0m in \u001b[0;36mget\u001b[0;34m(self, item, fastpath)\u001b[0m\n\u001b[1;32m   2849\u001b[0m \u001b[0;34m\u001b[0m\u001b[0m\n\u001b[1;32m   2850\u001b[0m             \u001b[0;32mif\u001b[0m \u001b[0;32mnot\u001b[0m \u001b[0misnull\u001b[0m\u001b[0;34m(\u001b[0m\u001b[0mitem\u001b[0m\u001b[0;34m)\u001b[0m\u001b[0;34m:\u001b[0m\u001b[0;34m\u001b[0m\u001b[0m\n\u001b[0;32m-> 2851\u001b[0;31m                 \u001b[0mloc\u001b[0m \u001b[0;34m=\u001b[0m \u001b[0mself\u001b[0m\u001b[0;34m.\u001b[0m\u001b[0mitems\u001b[0m\u001b[0;34m.\u001b[0m\u001b[0mget_loc\u001b[0m\u001b[0;34m(\u001b[0m\u001b[0mitem\u001b[0m\u001b[0;34m)\u001b[0m\u001b[0;34m\u001b[0m\u001b[0m\n\u001b[0m\u001b[1;32m   2852\u001b[0m             \u001b[0;32melse\u001b[0m\u001b[0;34m:\u001b[0m\u001b[0;34m\u001b[0m\u001b[0m\n\u001b[1;32m   2853\u001b[0m                 \u001b[0mindexer\u001b[0m \u001b[0;34m=\u001b[0m \u001b[0mnp\u001b[0m\u001b[0;34m.\u001b[0m\u001b[0marange\u001b[0m\u001b[0;34m(\u001b[0m\u001b[0mlen\u001b[0m\u001b[0;34m(\u001b[0m\u001b[0mself\u001b[0m\u001b[0;34m.\u001b[0m\u001b[0mitems\u001b[0m\u001b[0;34m)\u001b[0m\u001b[0;34m)\u001b[0m\u001b[0;34m[\u001b[0m\u001b[0misnull\u001b[0m\u001b[0;34m(\u001b[0m\u001b[0mself\u001b[0m\u001b[0;34m.\u001b[0m\u001b[0mitems\u001b[0m\u001b[0;34m)\u001b[0m\u001b[0;34m]\u001b[0m\u001b[0;34m\u001b[0m\u001b[0m\n",
      "\u001b[0;32m//anaconda/lib/python2.7/site-packages/pandas/core/index.pyc\u001b[0m in \u001b[0;36mget_loc\u001b[0;34m(self, key, method)\u001b[0m\n\u001b[1;32m   1570\u001b[0m         \"\"\"\n\u001b[1;32m   1571\u001b[0m         \u001b[0;32mif\u001b[0m \u001b[0mmethod\u001b[0m \u001b[0;32mis\u001b[0m \u001b[0mNone\u001b[0m\u001b[0;34m:\u001b[0m\u001b[0;34m\u001b[0m\u001b[0m\n\u001b[0;32m-> 1572\u001b[0;31m             \u001b[0;32mreturn\u001b[0m \u001b[0mself\u001b[0m\u001b[0;34m.\u001b[0m\u001b[0m_engine\u001b[0m\u001b[0;34m.\u001b[0m\u001b[0mget_loc\u001b[0m\u001b[0;34m(\u001b[0m\u001b[0m_values_from_object\u001b[0m\u001b[0;34m(\u001b[0m\u001b[0mkey\u001b[0m\u001b[0;34m)\u001b[0m\u001b[0;34m)\u001b[0m\u001b[0;34m\u001b[0m\u001b[0m\n\u001b[0m\u001b[1;32m   1573\u001b[0m \u001b[0;34m\u001b[0m\u001b[0m\n\u001b[1;32m   1574\u001b[0m         \u001b[0mindexer\u001b[0m \u001b[0;34m=\u001b[0m \u001b[0mself\u001b[0m\u001b[0;34m.\u001b[0m\u001b[0mget_indexer\u001b[0m\u001b[0;34m(\u001b[0m\u001b[0;34m[\u001b[0m\u001b[0mkey\u001b[0m\u001b[0;34m]\u001b[0m\u001b[0;34m,\u001b[0m \u001b[0mmethod\u001b[0m\u001b[0;34m=\u001b[0m\u001b[0mmethod\u001b[0m\u001b[0;34m)\u001b[0m\u001b[0;34m\u001b[0m\u001b[0m\n",
      "\u001b[0;32mpandas/index.pyx\u001b[0m in \u001b[0;36mpandas.index.IndexEngine.get_loc (pandas/index.c:3824)\u001b[0;34m()\u001b[0m\n",
      "\u001b[0;32mpandas/index.pyx\u001b[0m in \u001b[0;36mpandas.index.IndexEngine.get_loc (pandas/index.c:3704)\u001b[0;34m()\u001b[0m\n",
      "\u001b[0;32mpandas/hashtable.pyx\u001b[0m in \u001b[0;36mpandas.hashtable.PyObjectHashTable.get_item (pandas/hashtable.c:12280)\u001b[0;34m()\u001b[0m\n",
      "\u001b[0;32mpandas/hashtable.pyx\u001b[0m in \u001b[0;36mpandas.hashtable.PyObjectHashTable.get_item (pandas/hashtable.c:12231)\u001b[0;34m()\u001b[0m\n",
      "\u001b[0;31mKeyError\u001b[0m: 'YGTSS'"
     ]
    }
   ],
   "source": [
    "#drop = ['CB4P', 'NL2P', 'YU1P', 'LA9P','SA5U']\n",
    "drop = []#drop_p # +  ['SA5U'] \n",
    "measure_1 = 'Puta'\n",
    "measure_2 = 'YGTSS'\n",
    "sns.jointplot(Xpatients_a[measure_1].drop(drop, axis = 0), Xpatients_a[measure_2].drop(drop, axis = 0), kind = 'reg')\n",
    "#sns.jointplot(Xcontrols_a.Ferritin, Xcontrols_a.R_STN, kind = 'reg')\n",
    "\n",
    "#plt.savefig('/Users/kanaan/Desktop/YGTSS_R_Ins.png')"
   ]
  },
  {
   "cell_type": "code",
   "execution_count": null,
   "metadata": {
    "collapsed": false
   },
   "outputs": [],
   "source": [
    "plot_partial_correlation(Xpatients_a.drop(drop, axis = 0), 'Pall', 'Ferritin',  regressors =['Age', 'Gender'] , \n",
    "                         color = None, annotate = (0.025, 200), fig_name = None, \n",
    "                         dpi = 100, labels = True, jitter = None)"
   ]
  },
  {
   "cell_type": "code",
   "execution_count": null,
   "metadata": {
    "collapsed": false
   },
   "outputs": [],
   "source": [
    "drop = ['SA5U']\n",
    "sns.jointplot(data = Xpatients_a.drop(drop, axis =0), x = 'L_RN', y = 'Ferritin', kind = 'reg')"
   ]
  },
  {
   "cell_type": "code",
   "execution_count": null,
   "metadata": {
    "collapsed": false
   },
   "outputs": [],
   "source": [
    "Xpatients_a.Ferritin"
   ]
  },
  {
   "cell_type": "code",
   "execution_count": null,
   "metadata": {
    "collapsed": false
   },
   "outputs": [],
   "source": [
    "%matplotlib inline\n",
    "import os \n",
    "import numpy as np\n",
    "from numpy import mean, std\n",
    "import pandas as pd\n",
    "import matplotlib.pyplot as plt\n",
    "\n",
    "import seaborn as sns\n",
    "sns.set_style('white')\n",
    "\n",
    "plt.rcParams['font.family'] = 'Myriad Pro'\n",
    "p = sns.palplot(sns.xkcd_palette(['green', \"red\"]), size = 3)"
   ]
  },
  {
   "cell_type": "code",
   "execution_count": null,
   "metadata": {
    "collapsed": false
   },
   "outputs": [],
   "source": []
  },
  {
   "cell_type": "code",
   "execution_count": null,
   "metadata": {
    "collapsed": false,
    "scrolled": false
   },
   "outputs": [],
   "source": [
    "\n"
   ]
  },
  {
   "cell_type": "code",
   "execution_count": null,
   "metadata": {
    "collapsed": false
   },
   "outputs": [],
   "source": []
  },
  {
   "cell_type": "code",
   "execution_count": null,
   "metadata": {
    "collapsed": false
   },
   "outputs": [],
   "source": [
    "sns.palplot(sns.color_palette(\"hls\",10 ))"
   ]
  },
  {
   "cell_type": "code",
   "execution_count": null,
   "metadata": {
    "collapsed": false
   },
   "outputs": [],
   "source": [
    "sns.set_style('darkgrid', {\"xtick.direction\": \"in\",\"ytick.direction\": \"in\"})\n",
    "f, (ax1,ax2,ax3)= plt.subplots(nrows = 1, ncols = 3)\n",
    "f.set_size_inches([20,10])\n",
    "\n",
    "jitter = 0.05\n",
    "drop_p = drop_p + ['RA9P']\n",
    "fontsize = 22\n",
    "\n",
    "C = controls_a.drop(drop_c, axis = 0) * 100\n",
    "P = patients_a.drop(drop_p, axis = 0) * 100\n",
    "\n",
    "measure_1 = 'SN' \n",
    "measure_2 = 'STN'\n",
    "measure_3 = 'RN'\n",
    "\n",
    "data_1 = [C[measure_1],     P[measure_1]]\n",
    "data_2 = [C[measure_2],     P[measure_2]]\n",
    "data_3 = [C[measure_3],     P[measure_3]]\n",
    "\n",
    "palette = ['#3498db', '#2ecc71', '#e74c3c']\n",
    "#palette = sns.xkcd_palette([\"windows blue\", \"amber\", \"greyish\", \"faded green\", \"dusty purple\"])\n",
    "palette = sns.color_palette(\"hls\", 10)\n",
    "\n",
    "sns.violinplot(data = data_1, color = palette[0], ax = ax1)\n",
    "sns.stripplot(data=data_1, color = palette[0], jitter= jitter, ax = ax1)\n",
    "sns.pointplot(data=data_1, color = palette[0], linestyles=['--'], markers=['o'], ax =ax1)\n",
    "ax1.tick_params(axis='y', labelsize=fontsize)\n",
    "\n",
    "sns.violinplot(data = data_2, color = palette[1],ax = ax2)\n",
    "sns.stripplot(data=data_2, color = palette[1], jitter= jitter, ax = ax2)\n",
    "sns.pointplot(data=data_2, color = palette[1], linestyles=['--'], markers=['o'], ax =ax2)\n",
    "ax2.tick_params(axis='y', labelsize=fontsize)\n",
    "\n",
    "sns.violinplot(data = data_3, color = palette[2], ax = ax3)\n",
    "sns.stripplot(data=data_3, color = palette[2], jitter= jitter, ax = ax3)\n",
    "sns.pointplot(data=data_3, color = palette[2], linestyles=['--'], markers=['o'], ax =ax3)\n",
    "ax3.tick_params(axis='y', labelsize=fontsize)\n",
    "\n",
    "#ax1.set_ylim(0, 23)\n",
    "#ax2.set_ylim(-10, 18) \n",
    "#ax3.set_ylim(-10, 30)\n",
    "\n",
    "ax1.set_xticks([])\n",
    "ax2.set_xticks([])\n",
    "ax3.set_xticks([])\n",
    "\n",
    "f.savefig(os.path.join(datadir,'qsm_py_stats','QSM_STATS_1.png'), dpi = 600, bbox_inches='tight', transparent = False)"
   ]
  },
  {
   "cell_type": "code",
   "execution_count": null,
   "metadata": {
    "collapsed": false
   },
   "outputs": [],
   "source": []
  },
  {
   "cell_type": "code",
   "execution_count": null,
   "metadata": {
    "collapsed": true
   },
   "outputs": [],
   "source": []
  },
  {
   "cell_type": "code",
   "execution_count": null,
   "metadata": {
    "collapsed": false
   },
   "outputs": [],
   "source": []
  },
  {
   "cell_type": "code",
   "execution_count": null,
   "metadata": {
    "collapsed": false
   },
   "outputs": [],
   "source": [
    "sns.set_style('darkgrid', {\"xtick.direction\": \"in\",\"ytick.direction\": \"in\"})\n",
    "f, (ax1,ax2,ax3)= plt.subplots(nrows = 1, ncols = 3)\n",
    "f.set_size_inches([20,10])\n",
    "\n",
    "jitter = 0.05\n",
    "drop_p = drop_p + ['RA9P']\n",
    "fontsize = 22\n",
    "\n",
    "C = controls_a.drop(drop_c, axis = 0) * 100\n",
    "P = patients_a.drop(drop_p, axis = 0) * 100\n",
    "\n",
    "measure_1 = 'BrainStem' \n",
    "measure_2 = 'Caud'\n",
    "measure_3 = 'Puta'\n",
    "\n",
    "data_1 = [C[measure_1],     P[measure_1]]\n",
    "data_2 = [C[measure_2],     P[measure_2]]\n",
    "data_3 = [C[measure_3],     P[measure_3]]\n",
    "\n",
    "palette = ['#3498db', '#2ecc71', '#e74c3c']\n",
    "#palette = sns.xkcd_palette([\"windows blue\", \"amber\", \"greyish\", \"faded green\", \"dusty purple\"])\n",
    "palette = sns.color_palette(\"hls\", 10)[3:6]\n",
    "\n",
    "sns.violinplot(data = data_1, color = palette[0], ax = ax1)\n",
    "sns.stripplot(data=data_1, color = palette[0], jitter= jitter, ax = ax1)\n",
    "sns.pointplot(data=data_1, color = palette[0], linestyles=['--'], markers=['o'], ax =ax1)\n",
    "ax1.tick_params(axis='y', labelsize=fontsize)\n",
    "\n",
    "sns.violinplot(data = data_2, color = palette[1],ax = ax2)\n",
    "sns.stripplot(data=data_2, color = palette[1], jitter= jitter, ax = ax2)\n",
    "sns.pointplot(data=data_2, color = palette[1], linestyles=['--'], markers=['o'], ax =ax2)\n",
    "ax2.tick_params(axis='y', labelsize=fontsize)\n",
    "\n",
    "sns.violinplot(data = data_3, color = palette[2], ax = ax3)\n",
    "sns.stripplot(data=data_3, color = palette[2], jitter= jitter, ax = ax3)\n",
    "sns.pointplot(data=data_3, color = palette[2], linestyles=['--'], markers=['o'], ax =ax3)\n",
    "ax3.tick_params(axis='y', labelsize=fontsize)\n",
    "\n",
    "#ax1.set_ylim(-5, 22)\n",
    "#ax2.set_ylim(-5, 10)\n",
    "#ax3.set_ylim(-5, 8)\n",
    "\n",
    "\n",
    "ax1.set_xticks([])\n",
    "ax2.set_xticks([])\n",
    "ax3.set_xticks([])\n",
    "\n",
    "f.savefig(os.path.join(datadir,'qsm_py_stats','QSM_STATS_2.png'), dpi = 600, bbox_inches='tight', transparent = False)"
   ]
  },
  {
   "cell_type": "code",
   "execution_count": null,
   "metadata": {
    "collapsed": false
   },
   "outputs": [],
   "source": [
    "sns.set_style('darkgrid', {\"xtick.direction\": \"in\",\"ytick.direction\": \"in\"})\n",
    "f, (ax1,ax2,ax3)= plt.subplots(nrows = 1, ncols = 3)\n",
    "f.set_size_inches([20,10])\n",
    "\n",
    "jitter = 0.05\n",
    "drop_p = drop_p + ['RA9P']\n",
    "fontsize = 22\n",
    "\n",
    "C = controls_a.drop(drop_c, axis = 0) * 100\n",
    "P = patients_a.drop(drop_p, axis = 0) * 100\n",
    "\n",
    "measure_1 = 'Pall' \n",
    "measure_2 = 'Thal'\n",
    "measure_3 = 'BasalGanglia'\n",
    "\n",
    "data_1 = [C[measure_1],     P[measure_1]]\n",
    "data_2 = [C[measure_2],     P[measure_2]]\n",
    "data_3 = [C[measure_3],     P[measure_3]]\n",
    "\n",
    "palette = ['#3498db', '#2ecc71', '#e74c3c']\n",
    "#palette = sns.xkcd_palette([\"windows blue\", \"amber\", \"greyish\", \"faded green\", \"dusty purple\"])\n",
    "palette = sns.color_palette(\"hls\", 10)[6:9]\n",
    "\n",
    "sns.violinplot(data = data_1, color = palette[0], ax = ax1)\n",
    "sns.stripplot(data=data_1, color = palette[0], jitter= jitter, ax = ax1)\n",
    "sns.pointplot(data=data_1, color = palette[0], linestyles=['--'], markers=['o'], ax =ax1)\n",
    "ax1.tick_params(axis='y', labelsize=fontsize)\n",
    "\n",
    "sns.violinplot(data = data_2, color = palette[1],ax = ax2)\n",
    "sns.stripplot(data=data_2, color = palette[1], jitter= jitter, ax = ax2)\n",
    "sns.pointplot(data=data_2, color = palette[1], linestyles=['--'], markers=['o'], ax =ax2)\n",
    "ax2.tick_params(axis='y', labelsize=fontsize)\n",
    "\n",
    "sns.violinplot(data = data_3, color = palette[2], ax = ax3)\n",
    "sns.stripplot(data=data_3, color = palette[2], jitter= jitter, ax = ax3)\n",
    "sns.pointplot(data=data_3, color = palette[2], linestyles=['--'], markers=['o'], ax =ax3)\n",
    "ax3.tick_params(axis='y', labelsize=fontsize)\n",
    "\n",
    "#ax1.set_ylim(1, 16)\n",
    "#ax2.set_ylim(-9, 9)\n",
    "#ax3.set_ylim(-2, 8)\n",
    "\n",
    "ax1.set_xticks([])\n",
    "ax2.set_xticks([])\n",
    "ax3.set_xticks([])\n",
    "\n",
    "f.savefig(os.path.join(datadir,'qsm_py_stats','QSM_STATS_3.png'), dpi = 600, bbox_inches='tight', transparent = False)"
   ]
  },
  {
   "cell_type": "code",
   "execution_count": null,
   "metadata": {
    "collapsed": true
   },
   "outputs": [],
   "source": []
  },
  {
   "cell_type": "code",
   "execution_count": null,
   "metadata": {
    "collapsed": true
   },
   "outputs": [],
   "source": []
  },
  {
   "cell_type": "code",
   "execution_count": null,
   "metadata": {
    "collapsed": true
   },
   "outputs": [],
   "source": []
  },
  {
   "cell_type": "code",
   "execution_count": null,
   "metadata": {
    "collapsed": true
   },
   "outputs": [],
   "source": []
  },
  {
   "cell_type": "code",
   "execution_count": null,
   "metadata": {
    "collapsed": true
   },
   "outputs": [],
   "source": []
  },
  {
   "cell_type": "code",
   "execution_count": null,
   "metadata": {
    "collapsed": true
   },
   "outputs": [],
   "source": []
  },
  {
   "cell_type": "code",
   "execution_count": null,
   "metadata": {
    "collapsed": true
   },
   "outputs": [],
   "source": []
  },
  {
   "cell_type": "code",
   "execution_count": null,
   "metadata": {
    "collapsed": true
   },
   "outputs": [],
   "source": []
  },
  {
   "cell_type": "code",
   "execution_count": null,
   "metadata": {
    "collapsed": true
   },
   "outputs": [],
   "source": []
  },
  {
   "cell_type": "code",
   "execution_count": null,
   "metadata": {
    "collapsed": true
   },
   "outputs": [],
   "source": []
  },
  {
   "cell_type": "code",
   "execution_count": null,
   "metadata": {
    "collapsed": true
   },
   "outputs": [],
   "source": []
  },
  {
   "cell_type": "code",
   "execution_count": null,
   "metadata": {
    "collapsed": true
   },
   "outputs": [],
   "source": []
  },
  {
   "cell_type": "code",
   "execution_count": null,
   "metadata": {
    "collapsed": true
   },
   "outputs": [],
   "source": []
  },
  {
   "cell_type": "code",
   "execution_count": null,
   "metadata": {
    "collapsed": true
   },
   "outputs": [],
   "source": []
  },
  {
   "cell_type": "code",
   "execution_count": null,
   "metadata": {
    "collapsed": true
   },
   "outputs": [],
   "source": []
  },
  {
   "cell_type": "code",
   "execution_count": null,
   "metadata": {
    "collapsed": true
   },
   "outputs": [],
   "source": []
  },
  {
   "cell_type": "code",
   "execution_count": null,
   "metadata": {
    "collapsed": true
   },
   "outputs": [],
   "source": []
  },
  {
   "cell_type": "code",
   "execution_count": null,
   "metadata": {
    "collapsed": true
   },
   "outputs": [],
   "source": []
  },
  {
   "cell_type": "code",
   "execution_count": null,
   "metadata": {
    "collapsed": true
   },
   "outputs": [],
   "source": []
  }
 ],
 "metadata": {
  "kernelspec": {
   "display_name": "Python 2",
   "language": "python",
   "name": "python2"
  },
  "language_info": {
   "codemirror_mode": {
    "name": "ipython",
    "version": 2
   },
   "file_extension": ".py",
   "mimetype": "text/x-python",
   "name": "python",
   "nbconvert_exporter": "python",
   "pygments_lexer": "ipython2",
   "version": "2.7.12"
  }
 },
 "nbformat": 4,
 "nbformat_minor": 0
}
