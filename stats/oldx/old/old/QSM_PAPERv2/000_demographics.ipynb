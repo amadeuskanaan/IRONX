{
 "cells": [
  {
   "cell_type": "code",
   "execution_count": 1,
   "metadata": {
    "collapsed": true
   },
   "outputs": [],
   "source": [
    "%matplotlib inline\n",
    "import os \n",
    "import numpy as np\n",
    "from numpy import mean, std\n",
    "import pandas as pd\n",
    "import seaborn as sns\n",
    "import matplotlib.pyplot as plt\n",
    "from scipy.stats import ttest_rel, ttest_ind, mannwhitneyu, wilcoxon, spearmanr,pearsonr, fisher_exact,kstest\n",
    "from scipy.stats import ks_2samp, kstest, anderson, anderson_ksamp, levene\n",
    "from statsmodels.sandbox.stats.multicomp import fdrcorrection0\n",
    "from sklearn import preprocessing\n",
    "import statsmodels.api as sm\n",
    "pd.options.display.max_columns = 999\n",
    "import statsmodels.formula.api as smf\n",
    "import scipy.stats as ss \n",
    "import math \n",
    "from outliers import smirnov_grubbs as grubbs\n",
    "titanic = sns.load_dataset(\"titanic\")\n",
    "\n",
    "plt.rcParams['font.family'] = 'Myriad Pro'\n",
    "sns.set_style('white')\n",
    "\n",
    "datadir       = '/Users/kanaan/Google Drive/TS-EUROTRAIN/RESULTS_QSM/Oct_4'\n",
    "mrsdir        = '/Users/kanaan/SCR/Dataframes_20150820/REVISION_DF'\n",
    "clinical_dir  = '/Users/kanaan/SCR/Dataframes_20150820/DF_clinical/'\n",
    "savefigdir    = '/Users/kanaan/Google Drive/TS-EUROTRAIN/Papers/2016_QSM_paper/Figures_python'\n",
    "\n",
    "drop_c = ['WSKT','SC1T','LL5T', 'GSAT'] \n",
    "# WSKT,SC1T,LL5T Young Females scanned extra for MRS review. \n",
    "# GSAT removed since HSPP female removed \n",
    "drop_p = ['AA8P', 'RA9P', 'STDP','NL2P','HSPP', 'DF2P'] \n",
    "# AA8P motion outliers via mehalonobis distance for Quality metrics \n",
    "# rest – mehalonobis distance for SN,STN,Puta\n"
   ]
  },
  {
   "cell_type": "code",
   "execution_count": 2,
   "metadata": {
    "collapsed": true
   },
   "outputs": [],
   "source": [
    "def cohen_d(df1,df2, metabolite):\n",
    "        # Cohens Db\n",
    "        from numpy import mean, std # version >= 1.7.1 && <= 1.9.1\n",
    "        from math import sqrt\n",
    "        import sys\n",
    "        x = df1[metabolite].dropna(axis=0)\n",
    "        y = df2[metabolite].dropna(axis=0)\n",
    "        return (mean(x) - mean(y)) / sqrt((std(x, ddof=1) ** 2 + std(y, ddof=1) ** 2) / 2.0)\n",
    "\n",
    "def get_gender_len(df):    \n",
    "    males   = [subject for subject in df.index if df.loc[subject]['Gender'] == 0]\n",
    "    females = [subject for subject in df.index if df.loc[subject]['Gender'] == 1]\n",
    "    return len(males), len(females)\n",
    "\n",
    "def reject_outliers(data, m=3):\n",
    "    return data[abs(data - np.mean(data)) < m * np.std(data)]\n",
    "\n",
    "def grubbs_outliers(df, measure, alpha = 0.15):\n",
    "    from outliers import smirnov_grubbs as grubbs\n",
    "    return [str(i) for i in df.index if i not in grubbs.test(df[measure], alpha).index] \n",
    "    \n",
    "    \n",
    "def get_all_dfs(img, population, study_id, trt=False):\n",
    "    quant = 'median'\n",
    "    QSM = pd.read_csv(os.path.join(datadir, '%s_%s_%s_%s.csv'%(img, quant, population, study_id)),index_col = 0)\n",
    "    QSM['Gender']  = QSM['Gender'].map({' F': 1, ' M': 0})\n",
    "    \n",
    "    CLN = pd.read_csv(os.path.join(clinical_dir, 'clinical_%s_a.csv'%(population)), index_col=0)\n",
    "    CLN.columns = ['CLN_' + str(col) for col in CLN.columns]    \n",
    "\n",
    "    def get_mrs(vox):\n",
    "        if trt == False:\n",
    "            df = pd.read_csv(os.path.join(mrsdir, 'moco_df_%s_%s_%s.csv'%(vox, population, study_id)),index_col = 0)\n",
    "        elif trt == True:\n",
    "            df = pd.read_csv(os.path.join(mrsdir, 'moco_df_%s_%s_trt_%s.csv'%(vox, population, study_id)),index_col = 0)\n",
    "        df.columns = ['%s_'%vox + str(col) for col in df.columns]\n",
    "        return df\n",
    "    \n",
    "    \n",
    "    if population is 'patients' and study_id =='a':\n",
    "        xstr = get_mrs('STR').drop(['KDDP','YU1P','TT3P'], axis =0)\n",
    "        xtha = get_mrs('THA')\n",
    "        xacc = get_mrs('ACC')\n",
    "    elif population is 'controls':\n",
    "        xstr = get_mrs('STR')\n",
    "        xtha = get_mrs('THA').drop(['RMNT'], axis =0)\n",
    "        xacc = get_mrs('ACC')\n",
    "    else:\n",
    "        xstr = get_mrs('STR')\n",
    "        xtha = get_mrs('THA')\n",
    "        xacc = get_mrs('ACC')\n",
    "    \n",
    "    df = pd.concat([QSM,xstr,xtha,xacc , CLN], axis=1, join_axes=[QSM.index])\n",
    "    \n",
    "    if population == 'controls':\n",
    "        for subject in df.index:\n",
    "            df.ix[subject, 'Diagnosis'] = 'HC'\n",
    "            \n",
    "    if population == 'patients':\n",
    "        for subject in df.index:\n",
    "            adhd    = df.loc[subject]['CLN_Diag_ADHD'].astype(int)\n",
    "            ocd     = df.loc[subject]['CLN_Diag_OCD'].astype(int)\n",
    "            depr    = df.loc[subject]['CLN_Diag_Depression'].astype(int)\n",
    "            anx     = df.loc[subject]['CLN_Diag_Anxiety'].astype(int)\n",
    "\n",
    "            if ocd == 1 and adhd == 1:\n",
    "                df.ix[subject, 'Diagnosis'] = 'GTS_OCD_ADHD'\n",
    "            elif ocd == 1  and adhd == 0:\n",
    "                df.ix[subject, 'Diagnosis'] = 'GTS_OCD'\n",
    "            elif ocd == 0 and adhd == 1:\n",
    "                df.ix[subject, 'Diagnosis'] = 'GTS_ADHD'\n",
    "            elif ocd == 0and adhd == 0:\n",
    "                df.ix[subject, 'Diagnosis'] = 'GTS'\n",
    "    \n",
    "    \n",
    "    \n",
    "    return df\n",
    "\n",
    "controls_a = get_all_dfs('QSM', 'controls', 'a').drop(drop_c, axis = 0) \n",
    "patients_a = get_all_dfs('QSM', 'patients', 'a').drop(drop_p, axis = 0)\n",
    "patients_b = get_all_dfs('QSM', 'patients', 'b', trt=True)#.drop(drop_p, axis = 0) \n"
   ]
  },
  {
   "cell_type": "code",
   "execution_count": null,
   "metadata": {
    "collapsed": true
   },
   "outputs": [],
   "source": []
  },
  {
   "cell_type": "markdown",
   "metadata": {},
   "source": [
    "# Look at age and gender"
   ]
  },
  {
   "cell_type": "code",
   "execution_count": 3,
   "metadata": {},
   "outputs": [
    {
     "name": "stdout",
     "output_type": "stream",
     "text": [
      "--------------- Gender ---------------\n",
      "         Male Female\n",
      "Controls   17      5\n",
      "Patients   18      4\n",
      "\n",
      "FISCHER EXACT TEST: Odds Ratio= 0.76 P-Value= 1.0\n",
      "\n",
      "--------------- Age ---------------\n",
      "Controls Age =  38.59 ± 11.75\n",
      "Patients Age =  35.59 ± 11.01\n",
      "T-TEST(42) = Ttest_indResult(statistic=0.85389486710538987, pvalue=0.39800739892709081)\n"
     ]
    }
   ],
   "source": [
    "def get_gender_age_stats(df1, df2):\n",
    "    \n",
    "    gender = pd.DataFrame(index =['Controls', 'Patients'], columns = ['Male', 'Female'])\n",
    "\n",
    "    gender.ix['Controls']['Male']   = get_gender_len(df1)[0]\n",
    "    gender.ix['Controls']['Female'] = get_gender_len(df1)[1]\n",
    "    gender.ix['Patients']['Male']   = get_gender_len(df2)[0]\n",
    "    gender.ix['Patients']['Female'] = get_gender_len(df2)[1]\n",
    "\n",
    "    print '--------------- Gender ---------------'\n",
    "    print gender\n",
    "    print ''\n",
    "    print 'FISCHER EXACT TEST:', 'Odds Ratio=',np.round(fisher_exact(gender)[0],2), 'P-Value=',np.round(fisher_exact(gender)[1],2)\n",
    "    print ''\n",
    "    print '--------------- Age ---------------'\n",
    "    print 'Controls Age = ', np.round(np.mean(controls_a.Age),2), '±', np.round(np.std(controls_a.Age),2)\n",
    "    print 'Patients Age = ', np.round(np.mean(patients_a.Age),2), '±', np.round(np.std(patients_a.Age),2)\n",
    "    print 'T-TEST(%s) ='%(len(df1.index)+len(df2.index)-2), ttest_ind(controls_a.Age.dropna(), patients_a.Age.dropna()) \n",
    "    \n",
    "get_gender_age_stats(controls_a, patients_a)"
   ]
  },
  {
   "cell_type": "markdown",
   "metadata": {},
   "source": [
    "# Look at Ferritin"
   ]
  },
  {
   "cell_type": "code",
   "execution_count": 6,
   "metadata": {},
   "outputs": [
    {
     "name": "stdout",
     "output_type": "stream",
     "text": [
      "N= 18 Controls Ferritin =  196.2 ± 151.26\n",
      "N= 19 Patients Ferritin =  88.93 ± 48.8\n",
      "\n",
      "Kolmogrov-Smirnov test of Gaussian Distribution\n",
      "Controls t/p= KstestResult(statistic=0.17492958886477183, pvalue=0.59506906877599142)\n",
      "Patients t/p=: KstestResult(statistic=0.14608297829830519, pvalue=0.81220137346759302)\n",
      "KS2Sample t/p= Ks_2sampResult(statistic=0.11988304093567248, pvalue=0.99853131563646835)\n",
      "\n",
      "Levenes test of equal variance = LeveneResult(statistic=12.961208113703041, pvalue=0.0009750770927208092)\n",
      "\n",
      "Welches = Ttest_indResult(statistic=2.7902687287555477, pvalue=0.011186959362303536)\n",
      "MWU = MannwhitneyuResult(statistic=107.0, pvalue=0.026830356347729466)\n"
     ]
    }
   ],
   "source": [
    "def return_cln_df(population, study_id):\n",
    "    df = pd.read_csv(os.path.join(clinical_dir, 'clinical_%s_%s.csv'%(population,study_id)), index_col=0)\n",
    "    return df   \n",
    "\n",
    "Ferr_C = grubbs.test((return_cln_df('controls', 'a')['Ferritin'].dropna()))\n",
    "Ferr_P = grubbs.test((return_cln_df('patients', 'a')['Ferritin'].dropna()))\n",
    "\n",
    "Ferr_C = reject_outliers(get_all_dfs('QSM', 'controls', 'a')['CLN_Ferritin'], 3).dropna()\n",
    "Ferr_P = reject_outliers(get_all_dfs('QSM', 'patients', 'a')['CLN_Ferritin'], 3).dropna().drop(['DF2P'], axis = 0)\n",
    "\n",
    "#Ferr_C = controls_a['CLN_Ferritin'].dropna()\n",
    "#Ferr_P = patients_a['CLN_Ferritin'].dropna()\n",
    "\n",
    "#Ferr_C = grubbs.test(get_all_dfs('QSM', 'controls', 'a')['CLN_Ferritin'], 3).dropna()\n",
    "#Ferr_P = grubbs.test(get_all_dfs('QSM', 'patients', 'a')['CLN_Ferritin'], 3).dropna()#.drop(['DF2P'], axis = 0)\n",
    "\n",
    "print 'N=',len(Ferr_C), 'Controls Ferritin = ', np.round(np.mean(Ferr_C),2), '±', np.round(np.std(Ferr_C),2)\n",
    "print 'N=',len(Ferr_P), 'Patients Ferritin = ', np.round(np.mean(Ferr_P),2), '±', np.round(np.std(Ferr_P),2)\n",
    "print ''\n",
    "print 'Kolmogrov-Smirnov test of Gaussian Distribution'\n",
    "print 'Controls t/p=',kstest(preprocessing.scale(Ferr_C), 'norm')\n",
    "print 'Patients t/p=:',kstest(preprocessing.scale(Ferr_P), 'norm')\n",
    "print 'KS2Sample t/p=', ks_2samp(preprocessing.scale(Ferr_C), preprocessing.scale(Ferr_P))\n",
    "print ''\n",
    "print 'Levenes test of equal variance =',levene(Ferr_C, Ferr_P, center='median')\n",
    "print ''\n",
    "print 'Welches =', ttest_ind(Ferr_C, Ferr_P, equal_var = False)\n",
    "print 'MWU =', mannwhitneyu(Ferr_C, Ferr_P)"
   ]
  },
  {
   "cell_type": "markdown",
   "metadata": {},
   "source": [
    "# Gln_Glu"
   ]
  },
  {
   "cell_type": "code",
   "execution_count": 53,
   "metadata": {},
   "outputs": [
    {
     "name": "stdout",
     "output_type": "stream",
     "text": [
      "MANN_WHITNEY(31) (64.0, 0.0050038025053717912)\n",
      "TT(31) (2.6142271208963654, 0.013680940379043003)\n"
     ]
    }
   ],
   "source": [
    "C_GlnGlu  = controls_a.STR_Gln_Glu.dropna()\n",
    "P_Gln_Glu = patients_a.STR_Gln_Glu.dropna()\n",
    "print 'MANN_WHITNEY(%s)'%(len(C_GlnGlu)+len(P_Gln_Glu)-2), mannwhitneyu(C_GlnGlu, P_Gln_Glu)\n",
    "print 'TT(%s)'%(len(C_GlnGlu)+len(P_Gln_Glu)-2), ttest_ind(C_GlnGlu, P_Gln_Glu)\n"
   ]
  },
  {
   "cell_type": "code",
   "execution_count": 54,
   "metadata": {},
   "outputs": [
    {
     "name": "stdout",
     "output_type": "stream",
     "text": [
      "MANN_WHITNEY(34) (120.0, 0.10428429003267897)\n",
      "TT(34) (1.0772580976538582, 0.28894928371665973)\n"
     ]
    }
   ],
   "source": [
    "C_GlnGlu  = controls_a.THA_Gln_Glu.dropna()\n",
    "P_Gln_Glu = patients_a.THA_Gln_Glu.dropna()\n",
    "print 'MANN_WHITNEY(%s)'%(len(C_GlnGlu)+len(P_Gln_Glu)-2), mannwhitneyu(C_GlnGlu, P_Gln_Glu)\n",
    "print 'TT(%s)'%(len(C_GlnGlu)+len(P_Gln_Glu)-2), ttest_ind(C_GlnGlu, P_Gln_Glu)\n"
   ]
  },
  {
   "cell_type": "code",
   "execution_count": 55,
   "metadata": {},
   "outputs": [
    {
     "name": "stdout",
     "output_type": "stream",
     "text": [
      "MANN_WHITNEY(39) (201.0, 0.41227479499100872)\n",
      "TT(39) (0.53913945969631061, 0.59285533271687729)\n"
     ]
    }
   ],
   "source": [
    "C_GlnGlu  = controls_a.ACC_Gln_Glu.dropna()\n",
    "P_Gln_Glu = patients_a.ACC_Gln_Glu.dropna()\n",
    "print 'MANN_WHITNEY(%s)'%(len(C_GlnGlu)+len(P_Gln_Glu)-2), mannwhitneyu(C_GlnGlu, P_Gln_Glu)\n",
    "print 'TT(%s)'%(len(C_GlnGlu)+len(P_Gln_Glu)-2), ttest_ind(C_GlnGlu, P_Gln_Glu)\n"
   ]
  },
  {
   "cell_type": "code",
   "execution_count": 56,
   "metadata": {},
   "outputs": [
    {
     "data": {
      "text/plain": [
       "<matplotlib.axes._subplots.AxesSubplot at 0x1192b56d0>"
      ]
     },
     "execution_count": 56,
     "metadata": {},
     "output_type": "execute_result"
    },
    {
     "data": {
      "image/png": "[encoded data removed]",
      "text/plain": [
       "<matplotlib.figure.Figure at 0x118f02950>"
      ]
     },
     "metadata": {},
     "output_type": "display_data"
    }
   ],
   "source": [
    "sns.set_style('white', {\"xtick.direction\": \"in\",\"ytick.direction\": \"in\"})\n",
    "data = [Ferr_C, Ferr_P] \n",
    "bpal = [\"#1300ff\", \"#87d6e9\"]\n",
    "pal = sns.color_palette(bpal)\n",
    "#palette = sns.color_palette(\"Paired\")\n",
    "#pal = [palette[1], palette[-1]]\n",
    "jitter= 0.1\n",
    "fontsize = 15\n",
    "\n",
    "fig, ax = plt.subplots(1)\n",
    "fig.set_size_inches([8,8.5])\n",
    "\n",
    "#sns.boxplot(data = data, palette = pal)\n",
    "sns.violinplot(data = data, palette = pal ,whis= 7, inner = 'quartile', orient = 'v')#, scale='count')\n",
    "#sns.stripplot(data = data, jitter= jitter,  palette = pal, size=10, linewidth=1, marker = '.')\n",
    "#sns.pointplot(data=data, color = 'b', linestyles=['--'], markers=['o'])\n",
    "\n",
    "#g.set_xticks([])\n",
    "#g.set_yticks([0,2,4,6,8,10,12,14])\n",
    "#ax.legend(frameon=False)\n",
    "#sns.despine(left=True, bottom=True)\n",
    "#ax.tick_params(axis='y', labelsize=fontsize)\n",
    "#plt.ylim(-200,1000)\n",
    "#fname = os.path.join(savefigdir, 'Ferritin_stats.png')\n",
    "#fig.savefig(fname , dpi = 300, bbox_inches='tight', transparent = False)"
   ]
  },
  {
   "cell_type": "code",
   "execution_count": 57,
   "metadata": {
    "collapsed": true
   },
   "outputs": [],
   "source": [
    "x = ['Controls', 'Patients']\n",
    "y1 = [np.mean(Ferr_C), np.mean(Ferr_P)]\n",
    "y2 = [np.std(Ferr_C), np.std(Ferr_P)]"
   ]
  },
  {
   "cell_type": "code",
   "execution_count": 58,
   "metadata": {},
   "outputs": [
    {
     "data": {
      "image/png": "[encoded data removed]",
      "text/plain": [
       "<matplotlib.figure.Figure at 0x118d7ef90>"
      ]
     },
     "metadata": {},
     "output_type": "display_data"
    }
   ],
   "source": [
    "pd.DataFrame(columns=['Ferritin', 'Group'])\n",
    "fc = pd.DataFrame(Ferr_C)\n",
    "fp = pd.DataFrame(Ferr_P)\n",
    "fc['group']   = 'Controls'\n",
    "fp['group']   = 'Patients'\n",
    "FERR =pd.concat([fc,fp])\n",
    "xpal = [\"#1300ff\", \"#87d6e9\"]\n",
    "#xpal =['#b5b8ff','#ffb3b9']\n",
    "xpal= ['#d0cfff', '#fecfd0']\n",
    "fig, ax = plt.subplots(1)\n",
    "fig.set_size_inches([7,8])\n",
    "g = sns.barplot(x=\"group\", y=\"CLN_Ferritin\", data=FERR,  palette=['b', 'r'])\n",
    "g = sns.barplot(x=\"group\", y=\"CLN_Ferritin\", data=FERR,  palette=xpal)\n",
    "plt.xlim(-0.75, 1.75)\n",
    "plt.ylim(0,270)\n",
    "# Finalize the plot\n",
    "sns.despine(bottom=False)\n",
    "#plt.setp(fig.axes, yticks=[])\n",
    "ax.tick_params(axis='y', labelsize=20)\n",
    "plt.tight_layout(h_pad=3)\n",
    "plt.xlabel('')\n",
    "plt.ylabel('')\n",
    "\n",
    "fig.savefig(os.path.join(savefigdir,'FERR_comparison.png'), bbox_inches='tight', transparent = 1, dpi = 800)"
   ]
  },
  {
   "cell_type": "code",
   "execution_count": null,
   "metadata": {
    "collapsed": true
   },
   "outputs": [],
   "source": []
  },
  {
   "cell_type": "code",
   "execution_count": 59,
   "metadata": {
    "collapsed": true
   },
   "outputs": [],
   "source": [
    "cols = [ 'YGTSS_Total_Tic_Score', 'YGTSS_Motoric_Score', 'YGTSS_Vocal_Score', 'YGTSS_Total_Score_incl_Impairment',\n",
    "        'RVTRS','puts','YBOCS_Totalscore_Items_1to10','YBOCS_Totalscore_Items_1to10_clinically_significant',\n",
    "        'OCIR_total score','CAARS_Score_ADHS_Symptoms_Total_Cat_G_T_Score','DSM4_clinically_significant_ADHD',\n",
    "        'qol_scale','qol_score','BDI12']"
   ]
  },
  {
   "cell_type": "markdown",
   "metadata": {},
   "source": [
    "# Look at Clinical data "
   ]
  },
  {
   "cell_type": "code",
   "execution_count": null,
   "metadata": {
    "collapsed": true,
    "scrolled": false
   },
   "outputs": [],
   "source": []
  },
  {
   "cell_type": "code",
   "execution_count": 60,
   "metadata": {},
   "outputs": [
    {
     "name": "stdout",
     "output_type": "stream",
     "text": [
      "['CLN_YGTSS_Total_Tic_Score', 'CLN_YGTSS_Total_Score_incl_Impairment', 'CLN_RVTRS', 'CLN_puts', 'CLN_YBOCS_Totalscore_Items_1to10', 'CLN_OCIR_total score', 'CLN_CAARS_Score_ADHS_Symptoms_Total_Cat_G_T_Score', 'CLN_qol_score', 'CLN_BDI12', 'STR_Gln_Glu', 'THA_Gln_Glu', 'ACC_Gln_Glu', 'GTS_PURE', 'GTS_OCD', 'GTS_ADHD', 'GTS_OCD_ADHD']\n"
     ]
    },
    {
     "data": {
      "text/html": [
       "<div>\n",
       "<table border=\"1\" class=\"dataframe\">\n",
       "  <thead>\n",
       "    <tr style=\"text-align: right;\">\n",
       "      <th></th>\n",
       "      <th>Controls</th>\n",
       "      <th>Patients</th>\n",
       "      <th>DOF</th>\n",
       "      <th>t_val</th>\n",
       "      <th>p_val</th>\n",
       "    </tr>\n",
       "  </thead>\n",
       "  <tbody>\n",
       "    <tr>\n",
       "      <th>CLN_YGTSS_Total_Tic_Score</th>\n",
       "      <td>0.0±0.0</td>\n",
       "      <td>19.59±8.89</td>\n",
       "      <td>41</td>\n",
       "      <td>-9.86</td>\n",
       "      <td>0</td>\n",
       "    </tr>\n",
       "    <tr>\n",
       "      <th>CLN_YGTSS_Total_Score_incl_Impairment</th>\n",
       "      <td>0.0±0.0</td>\n",
       "      <td>40.23±17.13</td>\n",
       "      <td>41</td>\n",
       "      <td>-10.51</td>\n",
       "      <td>0</td>\n",
       "    </tr>\n",
       "    <tr>\n",
       "      <th>CLN_RVTRS</th>\n",
       "      <td>0.0±0.0</td>\n",
       "      <td>8.33±4.24</td>\n",
       "      <td>40</td>\n",
       "      <td>-8.8</td>\n",
       "      <td>0</td>\n",
       "    </tr>\n",
       "    <tr>\n",
       "      <th>CLN_puts</th>\n",
       "      <td>0.0±0.0</td>\n",
       "      <td>18.55±5.4</td>\n",
       "      <td>41</td>\n",
       "      <td>-15.37</td>\n",
       "      <td>0</td>\n",
       "    </tr>\n",
       "    <tr>\n",
       "      <th>CLN_YBOCS_Totalscore_Items_1to10</th>\n",
       "      <td>0.0±0.0</td>\n",
       "      <td>1.86±4.67</td>\n",
       "      <td>41</td>\n",
       "      <td>-1.78</td>\n",
       "      <td>0.081787</td>\n",
       "    </tr>\n",
       "    <tr>\n",
       "      <th>CLN_OCIR_total score</th>\n",
       "      <td>5.62±6.22</td>\n",
       "      <td>13.23±11.06</td>\n",
       "      <td>41</td>\n",
       "      <td>-2.7</td>\n",
       "      <td>0.010099</td>\n",
       "    </tr>\n",
       "    <tr>\n",
       "      <th>CLN_CAARS_Score_ADHS_Symptoms_Total_Cat_G_T_Score</th>\n",
       "      <td>39.05±6.6</td>\n",
       "      <td>48.95±11.35</td>\n",
       "      <td>38</td>\n",
       "      <td>-3.29</td>\n",
       "      <td>0.002187</td>\n",
       "    </tr>\n",
       "    <tr>\n",
       "      <th>CLN_qol_score</th>\n",
       "      <td>0.0±0.0</td>\n",
       "      <td>27.32±19.42</td>\n",
       "      <td>41</td>\n",
       "      <td>-6.3</td>\n",
       "      <td>0</td>\n",
       "    </tr>\n",
       "    <tr>\n",
       "      <th>CLN_BDI12</th>\n",
       "      <td>1.9±3.5</td>\n",
       "      <td>11.59±10.69</td>\n",
       "      <td>41</td>\n",
       "      <td>-3.86</td>\n",
       "      <td>0.000392</td>\n",
       "    </tr>\n",
       "    <tr>\n",
       "      <th>STR_Gln_Glu</th>\n",
       "      <td>0.47±0.16</td>\n",
       "      <td>0.35±0.08</td>\n",
       "      <td>31</td>\n",
       "      <td>2.61</td>\n",
       "      <td>0.013681</td>\n",
       "    </tr>\n",
       "    <tr>\n",
       "      <th>THA_Gln_Glu</th>\n",
       "      <td>0.5±0.14</td>\n",
       "      <td>0.44±0.15</td>\n",
       "      <td>34</td>\n",
       "      <td>1.08</td>\n",
       "      <td>0.288949</td>\n",
       "    </tr>\n",
       "    <tr>\n",
       "      <th>ACC_Gln_Glu</th>\n",
       "      <td>0.24±0.06</td>\n",
       "      <td>0.23±0.05</td>\n",
       "      <td>39</td>\n",
       "      <td>0.54</td>\n",
       "      <td>0.592855</td>\n",
       "    </tr>\n",
       "    <tr>\n",
       "      <th>GTS_PURE</th>\n",
       "      <td>NaN</td>\n",
       "      <td>14</td>\n",
       "      <td>NaN</td>\n",
       "      <td>NaN</td>\n",
       "      <td>NaN</td>\n",
       "    </tr>\n",
       "    <tr>\n",
       "      <th>GTS_OCD</th>\n",
       "      <td>NaN</td>\n",
       "      <td>4</td>\n",
       "      <td>NaN</td>\n",
       "      <td>NaN</td>\n",
       "      <td>NaN</td>\n",
       "    </tr>\n",
       "    <tr>\n",
       "      <th>GTS_ADHD</th>\n",
       "      <td>NaN</td>\n",
       "      <td>4</td>\n",
       "      <td>NaN</td>\n",
       "      <td>NaN</td>\n",
       "      <td>NaN</td>\n",
       "    </tr>\n",
       "    <tr>\n",
       "      <th>GTS_OCD_ADHD</th>\n",
       "      <td>NaN</td>\n",
       "      <td>0</td>\n",
       "      <td>NaN</td>\n",
       "      <td>NaN</td>\n",
       "      <td>NaN</td>\n",
       "    </tr>\n",
       "  </tbody>\n",
       "</table>\n",
       "</div>"
      ],
      "text/plain": [
       "                                                    Controls     Patients  \\\n",
       "CLN_YGTSS_Total_Tic_Score                            0.0±0.0   19.59±8.89   \n",
       "CLN_YGTSS_Total_Score_incl_Impairment                0.0±0.0  40.23±17.13   \n",
       "CLN_RVTRS                                            0.0±0.0    8.33±4.24   \n",
       "CLN_puts                                             0.0±0.0    18.55±5.4   \n",
       "CLN_YBOCS_Totalscore_Items_1to10                     0.0±0.0    1.86±4.67   \n",
       "CLN_OCIR_total score                               5.62±6.22  13.23±11.06   \n",
       "CLN_CAARS_Score_ADHS_Symptoms_Total_Cat_G_T_Score  39.05±6.6  48.95±11.35   \n",
       "CLN_qol_score                                        0.0±0.0  27.32±19.42   \n",
       "CLN_BDI12                                            1.9±3.5  11.59±10.69   \n",
       "STR_Gln_Glu                                        0.47±0.16    0.35±0.08   \n",
       "THA_Gln_Glu                                         0.5±0.14    0.44±0.15   \n",
       "ACC_Gln_Glu                                        0.24±0.06    0.23±0.05   \n",
       "GTS_PURE                                                 NaN           14   \n",
       "GTS_OCD                                                  NaN            4   \n",
       "GTS_ADHD                                                 NaN            4   \n",
       "GTS_OCD_ADHD                                             NaN            0   \n",
       "\n",
       "                                                   DOF  t_val     p_val  \n",
       "CLN_YGTSS_Total_Tic_Score                           41  -9.86         0  \n",
       "CLN_YGTSS_Total_Score_incl_Impairment               41 -10.51         0  \n",
       "CLN_RVTRS                                           40   -8.8         0  \n",
       "CLN_puts                                            41 -15.37         0  \n",
       "CLN_YBOCS_Totalscore_Items_1to10                    41  -1.78  0.081787  \n",
       "CLN_OCIR_total score                                41   -2.7  0.010099  \n",
       "CLN_CAARS_Score_ADHS_Symptoms_Total_Cat_G_T_Score   38  -3.29  0.002187  \n",
       "CLN_qol_score                                       41   -6.3         0  \n",
       "CLN_BDI12                                           41  -3.86  0.000392  \n",
       "STR_Gln_Glu                                         31   2.61  0.013681  \n",
       "THA_Gln_Glu                                         34   1.08  0.288949  \n",
       "ACC_Gln_Glu                                         39   0.54  0.592855  \n",
       "GTS_PURE                                           NaN    NaN       NaN  \n",
       "GTS_OCD                                            NaN    NaN       NaN  \n",
       "GTS_ADHD                                           NaN    NaN       NaN  \n",
       "GTS_OCD_ADHD                                       NaN    NaN       NaN  "
      ]
     },
     "execution_count": 60,
     "metadata": {},
     "output_type": "execute_result"
    }
   ],
   "source": [
    "def make_bsl_demographic_table(dfc,dfp):\n",
    "    columns = ['YGTSS_Total_Tic_Score', 'YGTSS_Total_Score_incl_Impairment','RVTRS', 'puts','YBOCS_Totalscore_Items_1to10',\n",
    "               'OCIR_total score', 'CAARS_Score_ADHS_Symptoms_Total_Cat_G_T_Score', 'qol_score','BDI12']\n",
    "    cols = ['CLN_'+ i for i in columns]\n",
    "    cols.extend(['STR_Gln_Glu', 'THA_Gln_Glu', 'ACC_Gln_Glu', 'GTS_PURE', 'GTS_OCD','GTS_ADHD','GTS_OCD_ADHD'])\n",
    "    print cols\n",
    "    rows = [#'N' ,\n",
    "            'Controls', 'Patients', 'DOF','t_val', 'p_val' #'Levene', 'KSC','KSP','D',\n",
    "           ]\n",
    "    dfs= pd.DataFrame(index = rows, columns=cols)\n",
    "    \n",
    "    for col in cols[:-4]:\n",
    "        \n",
    "        t_val, p_val = ttest_ind(dfc[col].dropna(), dfp[col].dropna())\n",
    "        lvn          = levene(dfc[col].dropna(), dfp[col].dropna())\n",
    "        ksc          = kstest(preprocessing.scale(dfc[col].dropna()), 'norm')\n",
    "        ksp          = kstest(preprocessing.scale(dfp[col].dropna()), 'norm')\n",
    "        #dfs.ix['N'][col]        = len(dfc.index), len(dfp.index)\n",
    "        dfs.ix['Controls'][col] = '%s±%s' %(np.round(np.mean(dfc[col].dropna()),2), np.round(np.std(dfc[col].dropna()),2)  )\n",
    "        dfs.ix['Patients'][col] = '%s±%s' %(np.round(np.mean(dfp[col].dropna()),2), np.round(np.std(dfp[col].dropna()),2)  )\n",
    "        dfs.ix['DOF'][col]      =  len(dfc[col].dropna()) + len(dfp[col].dropna()) - 2\n",
    "        dfs.ix['t_val'][col]    = np.round(t_val,2)\n",
    "        dfs.ix['p_val'][col]    = np.round(p_val,6)\n",
    "        #dfs.ix['D'][col]        = np.round(cohen_d(dfc,dfp, col),2)\n",
    "        #dfs.ix['Levene'][col]   = np.round(lvn[1],2)\n",
    "        #dfs.ix['KSC'][col]      = np.round(ksc[1],2)\n",
    "        #dfs.ix['KSP'][col]      = np.round(ksp[1],2)\n",
    "    \n",
    "    dfs.ix['Patients']['GTS_PURE']  = len([subject for subject in dfp.index if dfp.loc[subject]['Diagnosis'] == 'GTS'])\n",
    "    dfs.ix['Patients']['GTS_OCD']  = len([subject for subject in dfp.index if dfp.loc[subject]['Diagnosis'] == 'GTS_OCD'])  \n",
    "    dfs.ix['Patients']['GTS_ADHD']  = len([subject for subject in dfp.index if dfp.loc[subject]['Diagnosis'] == 'GTS_ADHD'])\n",
    "    dfs.ix['Patients']['GTS_OCD_ADHD']  = len([subject for subject in dfp.index if dfp.loc[subject]['Diagnosis'] == 'GTS_OCD_ADHD'])\n",
    "    return dfs.T\n",
    "\n",
    "make_bsl_demographic_table(controls_a, patients_a)"
   ]
  },
  {
   "cell_type": "code",
   "execution_count": 61,
   "metadata": {
    "scrolled": false
   },
   "outputs": [
    {
     "name": "stdout",
     "output_type": "stream",
     "text": [
      "TT CAARS(38) (0.0, 1.0)\n",
      "TT BDI(41) (-3.8619040750129692, 0.00039198610058427353)\n"
     ]
    }
   ],
   "source": [
    "controls_a = get_all_dfs('QSM', 'controls', 'a').drop(drop_c, axis = 0) \n",
    "patients_a = get_all_dfs('QSM', 'patients', 'a').drop(drop_p, axis = 0)\n",
    "\n",
    "C_CAARS = controls_a['CLN_CAARS_Score_ADHS_Symptoms_Total_Cat_G_T_Score'].dropna()\n",
    "P_CAARS = patients_a['CLN_CAARS_Score_ADHS_Symptoms_Total_Cat_G_T_Score'].dropna()\n",
    "\n",
    "C_BDI = controls_a['CLN_BDI12'].dropna()\n",
    "P_BDI = patients_a['CLN_BDI12'].dropna()\n",
    "\n",
    "print 'TT CAARS(%s)'%(len(C_CAARS)+len(P_CAARS)-2), ttest_ind(C_CAARS, C_CAARS)\n",
    "print 'TT BDI(%s)'%(len(C_BDI)+len(P_BDI)-2), ttest_ind(C_BDI, P_BDI)\n"
   ]
  },
  {
   "cell_type": "code",
   "execution_count": 62,
   "metadata": {},
   "outputs": [
    {
     "ename": "ValueError",
     "evalue": "labels ['KDDP' 'YU1P' 'TT3P'] not contained in axis",
     "output_type": "error",
     "traceback": [
      "\u001b[0;31m---------------------------------------------------------------------------\u001b[0m",
      "\u001b[0;31mValueError\u001b[0m                                Traceback (most recent call last)",
      "\u001b[0;32m<ipython-input-62-93401ec93e02>\u001b[0m in \u001b[0;36m<module>\u001b[0;34m()\u001b[0m\n\u001b[0;32m----> 1\u001b[0;31m \u001b[0mlen\u001b[0m\u001b[0;34m(\u001b[0m\u001b[0mpatients_a\u001b[0m\u001b[0;34m.\u001b[0m\u001b[0mSTR_Gln_Glu\u001b[0m\u001b[0;34m.\u001b[0m\u001b[0mdropna\u001b[0m\u001b[0;34m(\u001b[0m\u001b[0;34m)\u001b[0m\u001b[0;34m.\u001b[0m\u001b[0mdrop\u001b[0m\u001b[0;34m(\u001b[0m\u001b[0;34m[\u001b[0m\u001b[0;34m'KDDP'\u001b[0m\u001b[0;34m,\u001b[0m\u001b[0;34m'YU1P'\u001b[0m\u001b[0;34m,\u001b[0m\u001b[0;34m'TT3P'\u001b[0m\u001b[0;34m]\u001b[0m\u001b[0;34m,\u001b[0m \u001b[0maxis\u001b[0m \u001b[0;34m=\u001b[0m\u001b[0;36m0\u001b[0m\u001b[0;34m)\u001b[0m\u001b[0;34m)\u001b[0m\u001b[0;34m\u001b[0m\u001b[0m\n\u001b[0m",
      "\u001b[0;32m/Users/kanaan/anaconda/lib/python2.7/site-packages/pandas/core/generic.pyc\u001b[0m in \u001b[0;36mdrop\u001b[0;34m(self, labels, axis, level, inplace, errors)\u001b[0m\n\u001b[1;32m   1905\u001b[0m                 \u001b[0mnew_axis\u001b[0m \u001b[0;34m=\u001b[0m \u001b[0maxis\u001b[0m\u001b[0;34m.\u001b[0m\u001b[0mdrop\u001b[0m\u001b[0;34m(\u001b[0m\u001b[0mlabels\u001b[0m\u001b[0;34m,\u001b[0m \u001b[0mlevel\u001b[0m\u001b[0;34m=\u001b[0m\u001b[0mlevel\u001b[0m\u001b[0;34m,\u001b[0m \u001b[0merrors\u001b[0m\u001b[0;34m=\u001b[0m\u001b[0merrors\u001b[0m\u001b[0;34m)\u001b[0m\u001b[0;34m\u001b[0m\u001b[0m\n\u001b[1;32m   1906\u001b[0m             \u001b[0;32melse\u001b[0m\u001b[0;34m:\u001b[0m\u001b[0;34m\u001b[0m\u001b[0m\n\u001b[0;32m-> 1907\u001b[0;31m                 \u001b[0mnew_axis\u001b[0m \u001b[0;34m=\u001b[0m \u001b[0maxis\u001b[0m\u001b[0;34m.\u001b[0m\u001b[0mdrop\u001b[0m\u001b[0;34m(\u001b[0m\u001b[0mlabels\u001b[0m\u001b[0;34m,\u001b[0m \u001b[0merrors\u001b[0m\u001b[0;34m=\u001b[0m\u001b[0merrors\u001b[0m\u001b[0;34m)\u001b[0m\u001b[0;34m\u001b[0m\u001b[0m\n\u001b[0m\u001b[1;32m   1908\u001b[0m             \u001b[0mdropped\u001b[0m \u001b[0;34m=\u001b[0m \u001b[0mself\u001b[0m\u001b[0;34m.\u001b[0m\u001b[0mreindex\u001b[0m\u001b[0;34m(\u001b[0m\u001b[0;34m**\u001b[0m\u001b[0;34m{\u001b[0m\u001b[0maxis_name\u001b[0m\u001b[0;34m:\u001b[0m \u001b[0mnew_axis\u001b[0m\u001b[0;34m}\u001b[0m\u001b[0;34m)\u001b[0m\u001b[0;34m\u001b[0m\u001b[0m\n\u001b[1;32m   1909\u001b[0m             \u001b[0;32mtry\u001b[0m\u001b[0;34m:\u001b[0m\u001b[0;34m\u001b[0m\u001b[0m\n",
      "\u001b[0;32m/Users/kanaan/anaconda/lib/python2.7/site-packages/pandas/indexes/base.pyc\u001b[0m in \u001b[0;36mdrop\u001b[0;34m(self, labels, errors)\u001b[0m\n\u001b[1;32m   3260\u001b[0m             \u001b[0;32mif\u001b[0m \u001b[0merrors\u001b[0m \u001b[0;34m!=\u001b[0m \u001b[0;34m'ignore'\u001b[0m\u001b[0;34m:\u001b[0m\u001b[0;34m\u001b[0m\u001b[0m\n\u001b[1;32m   3261\u001b[0m                 raise ValueError('labels %s not contained in axis' %\n\u001b[0;32m-> 3262\u001b[0;31m                                  labels[mask])\n\u001b[0m\u001b[1;32m   3263\u001b[0m             \u001b[0mindexer\u001b[0m \u001b[0;34m=\u001b[0m \u001b[0mindexer\u001b[0m\u001b[0;34m[\u001b[0m\u001b[0;34m~\u001b[0m\u001b[0mmask\u001b[0m\u001b[0;34m]\u001b[0m\u001b[0;34m\u001b[0m\u001b[0m\n\u001b[1;32m   3264\u001b[0m         \u001b[0;32mreturn\u001b[0m \u001b[0mself\u001b[0m\u001b[0;34m.\u001b[0m\u001b[0mdelete\u001b[0m\u001b[0;34m(\u001b[0m\u001b[0mindexer\u001b[0m\u001b[0;34m)\u001b[0m\u001b[0;34m\u001b[0m\u001b[0m\n",
      "\u001b[0;31mValueError\u001b[0m: labels ['KDDP' 'YU1P' 'TT3P'] not contained in axis"
     ]
    }
   ],
   "source": [
    "len(patients_a.STR_Gln_Glu.dropna().drop(['KDDP','YU1P','TT3P'], axis =0))"
   ]
  },
  {
   "cell_type": "code",
   "execution_count": 12,
   "metadata": {},
   "outputs": [
    {
     "ename": "TypeError",
     "evalue": "len() takes exactly one argument (2 given)",
     "output_type": "error",
     "traceback": [
      "\u001b[0;31m-------------------------------------------------------------------\u001b[0m",
      "\u001b[0;31mTypeError\u001b[0m                         Traceback (most recent call last)",
      "\u001b[0;32m<ipython-input-12-38e879f1a5fa>\u001b[0m in \u001b[0;36m<module>\u001b[0;34m()\u001b[0m\n\u001b[0;32m----> 1\u001b[0;31m \u001b[0mlen\u001b[0m\u001b[0;34m(\u001b[0m\u001b[0mget_all_dfs\u001b[0m\u001b[0;34m(\u001b[0m\u001b[0;34m'QSM'\u001b[0m\u001b[0;34m,\u001b[0m \u001b[0;34m'controls'\u001b[0m\u001b[0;34m,\u001b[0m \u001b[0;34m'a'\u001b[0m\u001b[0;34m)\u001b[0m\u001b[0;34m[\u001b[0m\u001b[0;34m'CLN_Ferritin'\u001b[0m\u001b[0;34m]\u001b[0m\u001b[0;34m,\u001b[0m \u001b[0;36m3\u001b[0m\u001b[0;34m)\u001b[0m\u001b[0;34m.\u001b[0m\u001b[0mdropna\u001b[0m\u001b[0;34m(\u001b[0m\u001b[0;34m)\u001b[0m\u001b[0;34m\u001b[0m\u001b[0m\n\u001b[0m\u001b[1;32m      2\u001b[0m \u001b[0mlen\u001b[0m\u001b[0;34m(\u001b[0m\u001b[0mget_all_dfs\u001b[0m\u001b[0;34m(\u001b[0m\u001b[0;34m'QSM'\u001b[0m\u001b[0;34m,\u001b[0m \u001b[0;34m'patients'\u001b[0m\u001b[0;34m,\u001b[0m \u001b[0;34m'a'\u001b[0m\u001b[0;34m)\u001b[0m\u001b[0;34m[\u001b[0m\u001b[0;34m'CLN_Ferritin'\u001b[0m\u001b[0;34m]\u001b[0m\u001b[0;34m,\u001b[0m \u001b[0;36m3\u001b[0m\u001b[0;34m)\u001b[0m\u001b[0;34m.\u001b[0m\u001b[0mdropna\u001b[0m\u001b[0;34m(\u001b[0m\u001b[0;34m)\u001b[0m\u001b[0;34m\u001b[0m\u001b[0m\n",
      "\u001b[0;31mTypeError\u001b[0m: len() takes exactly one argument (2 given)"
     ]
    }
   ],
   "source": []
  },
  {
   "cell_type": "code",
   "execution_count": null,
   "metadata": {
    "collapsed": true
   },
   "outputs": [],
   "source": []
  },
  {
   "cell_type": "code",
   "execution_count": null,
   "metadata": {
    "collapsed": true
   },
   "outputs": [],
   "source": []
  },
  {
   "cell_type": "code",
   "execution_count": null,
   "metadata": {
    "collapsed": true
   },
   "outputs": [],
   "source": []
  }
 ],
 "metadata": {
  "anaconda-cloud": {},
  "kernelspec": {
   "display_name": "Python 2",
   "language": "python",
   "name": "python2"
  },
  "language_info": {
   "codemirror_mode": {
    "name": "ipython",
    "version": 2
   },
   "file_extension": ".py",
   "mimetype": "text/x-python",
   "name": "python",
   "nbconvert_exporter": "python",
   "pygments_lexer": "ipython2",
   "version": "2.7.13"
  }
 },
 "nbformat": 4,
 "nbformat_minor": 1
}
