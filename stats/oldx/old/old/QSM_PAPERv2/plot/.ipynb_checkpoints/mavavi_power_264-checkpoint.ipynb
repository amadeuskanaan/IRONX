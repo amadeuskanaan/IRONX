{
 "cells": [
  {
   "cell_type": "code",
   "execution_count": 1,
   "metadata": {},
   "outputs": [],
   "source": [
    "import networkx as nx\n",
    "import numpy as np\n",
    "from mayavi import mlab\n",
    "import pickle\n",
    "import scipy.io\n",
    "import os\n",
    "import matplotlib.pyplot as plt\n",
    "import nibabel as nb\n",
    "import Image\n"
   ]
  },
  {
   "cell_type": "code",
   "execution_count": 2,
   "metadata": {},
   "outputs": [],
   "source": [
    "\n",
    "def constructSurf(surf):  \n",
    "    x=surf[0][:,0]\n",
    "    y=surf[0][:,1]\n",
    "    z=surf[0][:,2]\n",
    "    f=surf[1]\n",
    "    mesh = mlab.pipeline.triangular_mesh_source(x, y, z, f)\n",
    "    surf = mlab.pipeline.surface(mesh, opacity=.05,color=(.5,.5,.5))   "
   ]
  },
  {
   "cell_type": "code",
   "execution_count": 3,
   "metadata": {},
   "outputs": [],
   "source": [
    "lhsurfName = '/Users/kanaan/SCR/Software/freesurfer/subjects/fsaverage/surf/lh.pial'\n",
    "rhsurfName = '/afs/cbs.mpg.de/software/freesurfer/currentversion/ubuntu-precise-amd64/subjects/fsaverage/surf/rh.pial'"
   ]
  },
  {
   "cell_type": "code",
   "execution_count": 4,
   "metadata": {},
   "outputs": [],
   "source": [
    "lhsurf = nb.freesurfer.read_geometry(lhsurfName)\n",
    "rhsurf = nb.freesurfer.read_geometry(lhsurfName)"
   ]
  },
  {
   "cell_type": "code",
   "execution_count": 5,
   "metadata": {},
   "outputs": [],
   "source": [
    "pos = [(-40,50,10),(-35,40,30),(-30,40,30)]\n",
    "m   = np.array([[1,1,0],[1,1,1],[0,1,1]])\n"
   ]
  },
  {
   "cell_type": "code",
   "execution_count": 17,
   "metadata": {},
   "outputs": [],
   "source": [
    "power_spec      = '/SCR/ROI/Power_rois_264_3mm_5mmrad.txt'\n",
    "import pandas as pd \n",
    "power_df    = pd.read_csv(power_spec,sep='\\t', header = None)\n",
    "power_xyz   = pd.concat([power_df[1], power_df[2], power_df[3]], axis = 1, keys = ['x', 'y', 'z'] )\n",
    "power_coords= np.array(power_xyz)\n"
   ]
  },
  {
   "cell_type": "code",
   "execution_count": 18,
   "metadata": {},
   "outputs": [],
   "source": [
    "posxy = {}\n",
    "for i in range(0,len(pos)):\n",
    "    posxy[i] = pos[i][0:2]\n"
   ]
  },
  {
   "cell_type": "code",
   "execution_count": 19,
   "metadata": {},
   "outputs": [],
   "source": [
    "xyz = np.array(pos)"
   ]
  },
  {
   "cell_type": "code",
   "execution_count": 20,
   "metadata": {},
   "outputs": [],
   "source": [
    "G = nx.Graph(pos=posxy)"
   ]
  },
  {
   "cell_type": "code",
   "execution_count": 21,
   "metadata": {},
   "outputs": [],
   "source": [
    "xyz = np.array(pos)"
   ]
  },
  {
   "cell_type": "code",
   "execution_count": 22,
   "metadata": {},
   "outputs": [],
   "source": [
    "mlab.figure(1, bgcolor=(1,1,1))\n",
    "mlab.clf()\n",
    "scalars = [1,1,1,]"
   ]
  },
  {
   "cell_type": "code",
   "execution_count": 23,
   "metadata": {},
   "outputs": [],
   "source": [
    "ptsPos = mlab.points3d(xyz[:,0], xyz[:,1], xyz[:,2],\n",
    "                    scalars,\n",
    "                    scale_factor=1,\n",
    "                    scale_mode='none',\n",
    "                    colormap='spectral',\n",
    "                    resolution=20) "
   ]
  },
  {
   "cell_type": "code",
   "execution_count": 24,
   "metadata": {},
   "outputs": [
    {
     "data": {
      "text/plain": [
       "<mayavi.modules.surface.Surface at 0xb452e90>"
      ]
     },
     "execution_count": 24,
     "metadata": {},
     "output_type": "execute_result"
    }
   ],
   "source": [
    "ptsPos.mlab_source.dataset.lines = np.array(G.edges())\n",
    "tubePos = mlab.pipeline.tube(ptsPos, tube_radius=0.3)\n",
    "mlab.pipeline.surface(tubePos, color=(1,0,0))\n",
    "  "
   ]
  },
  {
   "cell_type": "code",
   "execution_count": 25,
   "metadata": {},
   "outputs": [],
   "source": [
    "constructSurf(lhsurf)\n"
   ]
  },
  {
   "cell_type": "code",
   "execution_count": 26,
   "metadata": {},
   "outputs": [
    {
     "data": {
      "text/plain": [
       "(0.0,\n",
       " 90.0,\n",
       " 347.57797241210938,\n",
       " array([-33.50578773, -17.93186188,  15.4875679 ]))"
      ]
     },
     "execution_count": 26,
     "metadata": {},
     "output_type": "execute_result"
    }
   ],
   "source": [
    " mlab.view(azimuth=0, elevation=90)"
   ]
  },
  {
   "cell_type": "code",
   "execution_count": 26,
   "metadata": {},
   "outputs": [],
   "source": []
  },
  {
   "cell_type": "code",
   "execution_count": null,
   "metadata": {},
   "outputs": [],
   "source": []
  }
 ],
 "metadata": {
  "kernelspec": {
   "display_name": "Python 3",
   "language": "python",
   "name": "python3"
  },
  "language_info": {
   "codemirror_mode": {
    "name": "ipython",
    "version": 3
   },
   "file_extension": ".py",
   "mimetype": "text/x-python",
   "name": "python",
   "nbconvert_exporter": "python",
   "pygments_lexer": "ipython3",
   "version": "3.6.1"
  }
 },
 "nbformat": 4,
 "nbformat_minor": 1
}
