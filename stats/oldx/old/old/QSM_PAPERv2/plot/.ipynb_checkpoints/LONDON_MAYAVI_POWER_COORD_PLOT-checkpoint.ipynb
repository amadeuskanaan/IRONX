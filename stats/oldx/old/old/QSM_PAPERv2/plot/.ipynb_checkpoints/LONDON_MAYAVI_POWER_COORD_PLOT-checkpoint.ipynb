{
 "cells": [
  {
   "cell_type": "code",
   "execution_count": 3,
   "metadata": {
    "collapsed": false
   },
   "outputs": [],
   "source": [
    "import networkx as nx\n",
    "import numpy as np\n",
    "from mayavi import mlab\n",
    "import pickle\n",
    "import scipy.io\n",
    "import os\n",
    "import matplotlib.pyplot as plt\n",
    "import nibabel as nb\n",
    "from PIL import Image\n",
    "\n",
    "def constructSurf(surf):  \n",
    "    x=surf[0][:,0]\n",
    "    y=surf[0][:,1]\n",
    "    z=surf[0][:,2]\n",
    "    f=surf[1]\n",
    "    mesh = mlab.pipeline.triangular_mesh_source(x, y, z, f)\n",
    "    surf = mlab.pipeline.surface(mesh, opacity=.05,color=(.5,.5,.5))   "
   ]
  },
  {
   "cell_type": "code",
   "execution_count": 4,
   "metadata": {
    "collapsed": true
   },
   "outputs": [],
   "source": [
    "lhsurfName = '/Users/kanaan/SCR/Software/freesurfer/subjects/fsaverage/surf/lh.pial'\n",
    "rhsurfName = '/Users/kanaan/SCR/Software/freesurfer/subjects/fsaverage/surf/rh.pial'\n",
    "\n",
    "lhsurf = nb.freesurfer.read_geometry(lhsurfName)\n",
    "rhsurf = nb.freesurfer.read_geometry(rhsurfName)\n"
   ]
  },
  {
   "cell_type": "code",
   "execution_count": 5,
   "metadata": {
    "collapsed": true
   },
   "outputs": [],
   "source": [
    "pos = [(-40,50,10),(-35,40,30),(-30,40,30),(  -7, -21,  65)]\n",
    "m   = np.array([[1,1,0],[1,1,1],[0,1,1]])\n"
   ]
  },
  {
   "cell_type": "code",
   "execution_count": 6,
   "metadata": {
    "collapsed": true
   },
   "outputs": [],
   "source": [
    "power_spec      = './Power_rois_264_3mm_5mmrad.txt'\n",
    "import pandas as pd \n",
    "power_df    = pd.read_csv(power_spec,sep='\\t', header = None)\n",
    "power_xyz   = pd.concat([power_df[1], power_df[2], power_df[3]], axis = 1, keys = ['x', 'y', 'z'] )\n",
    "power_coords= np.array(power_xyz)\n",
    "pos = power_coords"
   ]
  },
  {
   "cell_type": "code",
   "execution_count": 7,
   "metadata": {
    "collapsed": true
   },
   "outputs": [],
   "source": [
    "posxy = {}\n",
    "for i in range(0,len(pos)):\n",
    "    posxy[i] = pos[i][0:2]\n"
   ]
  },
  {
   "cell_type": "code",
   "execution_count": 8,
   "metadata": {
    "collapsed": true
   },
   "outputs": [],
   "source": [
    "xyz = np.array(pos)"
   ]
  },
  {
   "cell_type": "code",
   "execution_count": 9,
   "metadata": {
    "collapsed": true
   },
   "outputs": [],
   "source": [
    "G = nx.Graph(pos=posxy)"
   ]
  },
  {
   "cell_type": "code",
   "execution_count": 10,
   "metadata": {
    "collapsed": true
   },
   "outputs": [],
   "source": [
    "xyz = np.array(pos)"
   ]
  },
  {
   "cell_type": "code",
   "execution_count": 11,
   "metadata": {
    "collapsed": true
   },
   "outputs": [],
   "source": [
    "mlab.figure(1, bgcolor=(1,1,1))\n",
    "mlab.clf()\n",
    "scalars = [1] * 264"
   ]
  },
  {
   "cell_type": "code",
   "execution_count": 12,
   "metadata": {
    "collapsed": true
   },
   "outputs": [],
   "source": [
    "ptsPos = mlab.points3d(xyz[:,0], xyz[:,1], xyz[:,2],\n",
    "                    scalars,\n",
    "                    scale_factor=2,\n",
    "                    scale_mode='none',\n",
    "                    color=(1,0,0),\n",
    "                    resolution=20) "
   ]
  },
  {
   "cell_type": "code",
   "execution_count": 13,
   "metadata": {
    "collapsed": false
   },
   "outputs": [
    {
     "data": {
      "text/plain": [
       "<mayavi.modules.surface.Surface at 0x12d6aee90>"
      ]
     },
     "execution_count": 13,
     "metadata": {},
     "output_type": "execute_result"
    }
   ],
   "source": [
    "ptsPos.mlab_source.dataset.lines = np.array(G.edges())\n",
    "tubePos = mlab.pipeline.tube(ptsPos, tube_radius=0.5)\n",
    "mlab.pipeline.surface(tubePos, color=(1,0,0))\n",
    "  "
   ]
  },
  {
   "cell_type": "code",
   "execution_count": 14,
   "metadata": {
    "collapsed": true
   },
   "outputs": [],
   "source": [
    "constructSurf(lhsurf)\n",
    "constructSurf(rhsurf)"
   ]
  },
  {
   "cell_type": "code",
   "execution_count": 15,
   "metadata": {
    "collapsed": false
   },
   "outputs": [
    {
     "data": {
      "text/plain": [
       "(-180.0,\n",
       " 90.0,\n",
       " 348.33351135253906,\n",
       " array([  0.51764679, -17.74297714,  15.56645775]))"
      ]
     },
     "execution_count": 15,
     "metadata": {},
     "output_type": "execute_result"
    }
   ],
   "source": [
    "mlab.view(azimuth=-180, elevation=90)"
   ]
  },
  {
   "cell_type": "code",
   "execution_count": 16,
   "metadata": {
    "collapsed": true
   },
   "outputs": [],
   "source": [
    "scalars = [1] * 264"
   ]
  },
  {
   "cell_type": "code",
   "execution_count": 378,
   "metadata": {
    "collapsed": true
   },
   "outputs": [],
   "source": []
  },
  {
   "cell_type": "code",
   "execution_count": 378,
   "metadata": {
    "collapsed": true
   },
   "outputs": [],
   "source": []
  },
  {
   "cell_type": "code",
   "execution_count": 378,
   "metadata": {
    "collapsed": true
   },
   "outputs": [],
   "source": []
  },
  {
   "cell_type": "code",
   "execution_count": 378,
   "metadata": {
    "collapsed": true
   },
   "outputs": [],
   "source": []
  },
  {
   "cell_type": "code",
   "execution_count": 378,
   "metadata": {
    "collapsed": true
   },
   "outputs": [],
   "source": []
  }
 ],
 "metadata": {
  "kernelspec": {
   "display_name": "Python 2",
   "language": "python",
   "name": "python2"
  },
  "language_info": {
   "codemirror_mode": {
    "name": "ipython",
    "version": 2
   },
   "file_extension": ".py",
   "mimetype": "text/x-python",
   "name": "python",
   "nbconvert_exporter": "python",
   "pygments_lexer": "ipython2",
   "version": "2.7.13"
  }
 },
 "nbformat": 4,
 "nbformat_minor": 1
}
