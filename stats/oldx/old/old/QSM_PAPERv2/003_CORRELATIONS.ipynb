{
 "cells": [
  {
   "cell_type": "code",
   "execution_count": null,
   "metadata": {
    "collapsed": true
   },
   "outputs": [],
   "source": [
    "%matplotlib inline\n",
    "import os \n",
    "import sys\n",
    "import numpy as np\n",
    "from numpy import mean, std\n",
    "import nibabel as nb \n",
    "import pandas as pd\n",
    "import seaborn as sns#\n",
    "import matplotlib.pyplot as plt\n",
    "from scipy.stats import ttest_rel, ttest_ind, mannwhitneyu, wilcoxon, spearmanr,pearsonr, fisher_exact,kstest\n",
    "from scipy.stats import ks_2samp, kstest, anderson, anderson_ksamp, levene\n",
    "from statsmodels.sandbox.stats.multicomp import fdrcorrection0\n",
    "from matplotlib import colors\n",
    "from sklearn import preprocessing\n",
    "import statsmodels.api as sm\n",
    "pd.options.display.max_columns = 999\n",
    "import statsmodels.formula.api as smf\n",
    "import scipy.stats as ss \n",
    "import math \n",
    "from outliers import smirnov_grubbs as grubbs\n",
    "from matplotlib import rc, font_manager\n",
    "\n",
    "plt.rcParams['font.family'] = 'Myriad Pro'\n",
    "sns.set_style('white')\n",
    "\n",
    "datadir       = '/Users/kanaan/Google Drive/TS-EUROTRAIN/RESULTS_QSM/FEB17'\n",
    "mrsdir        = '/Users/kanaan/SCR/Dataframes_20150820/REVISION_DF'\n",
    "clinical_dir  = '/Users/kanaan/SCR/Dataframes_20150820/DF_clinical/'\n",
    "save_fig_dir  = '/Users/kanaan/Google Drive/TS-EUROTRAIN/Papers/2016_QSM_paper/Figures_python'\n",
    "\n",
    "measures = ['Puta', 'Caud', 'Thal','SN', 'STN', 'RN',  'GPi' , 'GPe']\n",
    "\n",
    "drop_c = ['WSKT','SC1T','LL5T', 'GSAT'] \n",
    "# WSKT,SC1T,LL5T Young Females scanned extra for MRS review. \n",
    "# GSAT removed since HSPP female removed \n",
    "drop_p = ['AA8P', 'RA9P', 'STDP','NL2P','HSPP', 'DF2P'] \n",
    "# AA8P motion outliers via mehalonobis distance for Quality metrics \n",
    "# rest – mehalonobis distance for SN,STN,Puta\n"
   ]
  },
  {
   "cell_type": "code",
   "execution_count": null,
   "metadata": {
    "collapsed": true,
    "scrolled": false
   },
   "outputs": [],
   "source": [
    "def get_all_dfs(img, population, study_id, trt=False):\n",
    "    quant = 'median'\n",
    "    QSM = pd.read_csv(os.path.join(datadir, '%s_%s_%s_%s.csv'%(img, quant, population, study_id)),index_col = 0)\n",
    "    for i in measures:\n",
    "        QSM[i] = QSM[i] * 1000\n",
    "    \n",
    "    QSM['Gender']  = QSM['Gender'].map({' F': 1, ' M': 0})\n",
    "    \n",
    "    CLN = pd.read_csv(os.path.join(clinical_dir, 'clinical_%s_a.csv'%(population)), index_col=0)\n",
    "    CLN.columns = ['CLN_' + str(col) for col in CLN.columns]    \n",
    "\n",
    "    def get_mrs(vox1,vox2,vox3):\n",
    "        if trt == False:\n",
    "            df1 = pd.read_csv(os.path.join(mrsdir, 'moco_df_%s_%s_%s.csv'%(vox1, population, study_id)),index_col = 0)\n",
    "            df2 = pd.read_csv(os.path.join(mrsdir, 'moco_df_%s_%s_%s.csv'%(vox2, population, study_id)),index_col = 0)\n",
    "            df3 = pd.read_csv(os.path.join(mrsdir, 'moco_df_%s_%s_%s.csv'%(vox3, population, study_id)),index_col = 0)\n",
    "        elif trt == True:\n",
    "            df1 = pd.read_csv(os.path.join(mrsdir, 'moco_df_%s_%s_trt_%s.csv'%(vox1, population, study_id)),index_col = 0)\n",
    "        df1.columns = ['%s_'%vox1 + str(col) for col in df1.columns]\n",
    "        df2.columns = ['%s_'%vox2 + str(col) for col in df2.columns]\n",
    "        df3.columns = ['%s_'%vox3 + str(col) for col in df3.columns]\n",
    "        \n",
    "        return df1,df2,df3\n",
    "    \n",
    "    xstr,xtha,xacc = get_mrs('STR', 'THA', 'ACC')\n",
    "    df = pd.concat([QSM, xstr,xtha,xacc, CLN], axis=1, join_axes=[QSM.index])\n",
    "    df['L_Caud_Puta']    = (df['L_Puta'] + df['L_Caud']) / 2\n",
    "    df['R_Caud_Puta']    = (df['R_Puta'] + df['R_Caud']) / 2\n",
    "    df['Caud_Puta']      = (df['L_Caud_Puta'] + df['R_Caud_Puta']) / 2\n",
    "    df['L_BrainStem']    = (df['L_STN'] + df['L_SN'] +  df['L_RN']) / 3\n",
    "    df['R_BrainStem']    = (df['R_STN'] + df['R_SN'] +  df['R_RN']) / 3\n",
    "    df['L_BasalGanglia'] = (df['L_Puta'] + df['L_Caud'] +  df['L_Pall'] ) / 3\n",
    "    df['R_BasalGanglia'] = (df['R_Puta'] + df['R_Caud'] +  df['R_Pall'] ) / 3\n",
    "    df['L_ALL_NUCLEI'] = (df['L_BrainStem'] + df['L_BasalGanglia'] + df['L_DN']) / 3\n",
    "    df['R_ALL_NUCLEI'] = (df['R_BrainStem'] + df['R_BasalGanglia'] + df['R_DN']) / 3\n",
    "    df['ALL_NUCLEI'] = (df['BrainStem'] + df['BasalGanglia']) /2\n",
    "    \n",
    "    \n",
    "    for i in ['ALL_NUCLEI', 'L_ALL_NUCLEI', 'R_ALL_NUCLEI', 'Caud_Puta', 'MRS_STR', 'MRS_THA', 'MRS_ACC',\n",
    "              'BasalGanglia', 'R_BasalGanglia', 'L_BasalGanglia']:\n",
    "        df[i] = df[i] * 1000\n",
    "    \n",
    "    return df\n",
    "\n",
    "controls_a = get_all_dfs('QSM', 'controls', 'a').drop(drop_c, axis = 0) \n",
    "patients_a = get_all_dfs('QSM', 'patients', 'a').drop(drop_p, axis = 0)\n",
    "#controls_b = get_all_dfs('QSM', 'controls', 'b', trt=True)#.drop(drop_c, axis = 0) \n",
    "#patients_b = get_all_dfs('QSM', 'patients', 'b', trt=True)#.drop(drop_p, axis = 0) \n",
    "\n",
    "controls_a['Population'] = 0\n",
    "patients_a['Population'] = 1\n",
    "    \n",
    "#controls_b.index = controls_b.index + 'b'\n",
    "#patients_b.index = patients_b.index + 'b'\n",
    "\n",
    "DF_ALL =pd.concat([controls_a, patients_a], axis=0)\n"
   ]
  },
  {
   "cell_type": "code",
   "execution_count": null,
   "metadata": {
    "collapsed": true
   },
   "outputs": [],
   "source": [
    "def grubbs_outliers(df, measure, alpha = 0.15):\n",
    "    from outliers import smirnov_grubbs as grubbs\n",
    "    return [str(i) for i in df.index if i not in grubbs.test(df[measure], alpha).index] \n",
    "def grubbs_outliersx(df, alpha = 0.15):\n",
    "    from outliers import smirnov_grubbs as grubbs\n",
    "    return [str(i) for i in df.index if i not in grubbs.test(df, alpha).index] \n",
    "\n",
    "def gESD_outliers(df, measure, maxOLs =10, alpha = 0.05):\n",
    "    from PyAstronomy import pyasl\n",
    "    index = pyasl.generalizedESD(df[measure],maxOLs = maxOLs, alpha =alpha, fullOutput=True)[1]\n",
    "    return [df.index[i] for i in index] \n",
    "\n",
    "def gESD_outliersx(df, maxOLs =10, alpha = 0.05):\n",
    "    from PyAstronomy import pyasl\n",
    "    index = pyasl.generalizedESD(df,maxOLs = maxOLs, alpha =alpha, fullOutput=True)[1]\n",
    "    return [df.index[i] for i in index] \n",
    "\n",
    "def sortdf(df,m):\n",
    "    return df.sort(m)[m]\n",
    " \n",
    "def plot_partial_correlation(data, x, y,xlim = None, ylim = None, regressors = None, color = None, annotate = 0, fig_name = None, \n",
    "                             dpi = 100, labels = True, jitter = None,fit_reg=True, scatter=1,\n",
    "                             plot_marg = 1, ci = 95, lstyle='-',lw=2.5):\n",
    "    \n",
    "    regressors_columns = [data[regressor] for regressor in regressors]\n",
    "    df_reg = pd.concat(regressors_columns, axis = 1).dropna(axis=0) \n",
    "    df = pd.concat([df_reg, data[x], data[y]], axis=1).dropna()\n",
    "    \n",
    "    # inititlize grid and plot regression and margins \n",
    "    grid = sns.JointGrid(x, y, data=df,xlim=xlim, ylim=ylim)#, size=size, ratio=ratio, space=space, #) \n",
    "    \n",
    "    if plot_marg:\n",
    "        grid.plot_marginals(sns.distplot, color = color, hist=False, kde = True, rug = 0, kde_kws={'shade':True})  \n",
    "    \n",
    "    grid.plot_joint(sns.regplot, fit_reg=fit_reg, scatter= scatter, color = color, x_partial = df[regressors], y_jitter = jitter, \n",
    "                    ci = ci, line_kws={'linestyle': lstyle, 'lw':lw}, scatter_kws={\"s\": 25})\n",
    "    if labels:\n",
    "        grid.set_axis_labels(x, y, fontsize= 15, weight='bold', color='blue', labelpad=10)\n",
    "    else:\n",
    "        grid.set_axis_labels(None,None)\n",
    "    \n",
    "    ## calculate regression parameters \n",
    "    \n",
    "    formula = [ '%s ~ %s'%(y,x) + ' + %s'%regressor for regressor in regressors][0]\n",
    "    model   = smf.ols(formula=formula, data= df)\n",
    "    result = model.fit() \n",
    "    p_val  = np.round(result.pvalues[1], 7)\n",
    "    pcor   = math.copysign(np.round(np.sqrt(result.rsquared), 3) , result.params[1])\n",
    "    plt.ylabel(y)\n",
    "    plt.xlabel(x)\n",
    "    plt.xticks(fontsize=15)\n",
    "    plt.yticks(fontsize=15)\n",
    "    \n",
    "    if annotate == 1:\n",
    "        annotate = (plt.xlim()[1]*0.6,  plt.ylim()[1]*0.95)\n",
    "        plt.annotate('R=%s, P=%s' %(pcor, p_val), xy = annotate, fontsize = 13,  color='r')\n",
    "    elif annotate == 0:\n",
    "        pass\n",
    "    else:\n",
    "        plt.annotate('R=%s, P=%s' %(pcor, p_val), xy = annotate, fontsize = 13,  color='r')\n",
    "    \n",
    "    \n",
    "    if fig_name:\n",
    "        plt.savefig(os.path.join(save_fig_dir, fig_name), dpi = dpi, bbox_inches='tight', transparent = True)\n",
    "    \n",
    "\n",
    "    print pcor, p_val\n",
    "    return result\n",
    "\n",
    "def plot_joint(df,m1,m2, drop = []):\n",
    "    DF  = pd.DataFrame([df[m1] , df[m2]] ).T.dropna()\n",
    "    sns.jointplot(x=m1, y=m2, data=DF.drop(drop, axis = 0), kind = 'reg')\n",
    "    "
   ]
  },
  {
   "cell_type": "code",
   "execution_count": null,
   "metadata": {
    "collapsed": true
   },
   "outputs": [],
   "source": [
    "def get_resid(df,measure, regressors):\n",
    "        formula = [ '%s ~ %s'%(measure,regressors[0])  + ' + %s'%regressor for regressor in regressors[1:]][0]#  \n",
    "        res= smf.ols(formula=formula, data= df).fit().resid\n",
    "        return res #+ np.mean(df[measure].dropna())\n",
    "    \n",
    "    \n",
    "def plt_resid(data, x, y, regressors = None, color = None, annotate = None, fig_name = None, \n",
    "              dpi = 100, labels = True, jitter = None,fit_reg=True, scatter=1,\n",
    "              plot_marg = 1, xlim = None, ylim = None):\n",
    "    \n",
    "    x_resid = get_resid(data,x, regressorsx)\n",
    "    y_resid = get_resid(data,y, regressorsx)\n",
    "    print 'Grubbs Outliers', grubbs_outliersx(x_resid), grubbs_outliersx(y_resid)\n",
    "    print 'gESD Outliers',gESD_outliersx(x_resid),gESD_outliersx(y_resid)\n",
    "    df = pd.concat([x_resid, y_resid], axis=1).dropna()\n",
    "    df.columns = [x,y]\n",
    "    \n",
    "    grid = sns.JointGrid(x, y, data=df,xlim=xlim, ylim=ylim)#, size=size, ratio=ratio, space=space, #) \n",
    "    \n",
    "    if plot_marg:\n",
    "        grid.plot_marginals(sns.distplot, color = color, hist=False, kde = True, rug = 0, kde_kws={'shade':True})  \n",
    "    \n",
    "    grid.plot_joint(sns.regplot, fit_reg=fit_reg, scatter= scatter, color = color, y_jitter = jitter)\n",
    "    if labels:\n",
    "        grid.set_axis_labels(x, y, fontsize= 15, weight='bold', color='blue', labelpad=10)\n",
    "    else:\n",
    "        grid.set_axis_labels(None,None)\n",
    "    formula = [ '%s ~ %s'%(y,x)][0]\n",
    "    model   = smf.ols(formula=formula, data= df)\n",
    "    result = model.fit() \n",
    "    p_val  = np.round(result.pvalues[1], 8)\n",
    "    pcor   = math.copysign(np.round(np.sqrt(result.rsquared), 3) , result.params[1])\n",
    "    plt.ylabel(y)\n",
    "    plt.xlabel(x)\n",
    "    if annotate:\n",
    "        plt.annotate('R=%s, P=%s' %(pcor, p_val), xy = annotate, fontsize = 13,  color='r')\n",
    "\n",
    "    if fig_name:\n",
    "        plt.savefig(os.path.join(save_fig_dir, fig_name), dpi = dpi, bbox_inches='tight', transparent = True)\n",
    "\n"
   ]
  },
  {
   "cell_type": "markdown",
   "metadata": {},
   "source": [
    "# Glutamate STR"
   ]
  },
  {
   "cell_type": "code",
   "execution_count": null,
   "metadata": {
    "collapsed": true
   },
   "outputs": [],
   "source": []
  },
  {
   "cell_type": "code",
   "execution_count": null,
   "metadata": {},
   "outputs": [],
   "source": [
    "drp = ['KDDP','YU1P','TT3P']\n",
    "drc = []\n",
    "df = DF_ALL.drop(drp+drc ,axis=0)\n",
    "x = 'STR_Gln_Glu'\n",
    "y = 'MRS_STR'\n",
    "\n",
    "regressorsx = ['Age', 'Gender', 'QI1_MAG', 'EFC_MAG','STR_FWHM']\n",
    "xlim  = (0.1, 0.8)\n",
    "ylim  = (-30,40)\n",
    "dpi = 800 \n",
    "\n",
    "print gESD_outliers(patients_a, x, alpha = .05)\n",
    "print gESD_outliers(controls_a, x, alpha = .05)\n",
    "print gESD_outliers(patients_a, y, alpha = .05)\n",
    "print gESD_outliers(controls_a, y, alpha = .05)\n",
    "\n",
    "plot_partial_correlation(controls_a.drop(drc,axis=0), x, y, regressors = regressorsx, color = 'b', ci = None,\n",
    "                         labels = False, lstyle='--', lw=0.7, #annotate = (0.5,0.045),\n",
    "                         fit_reg=1, scatter=1, plot_marg = 1, dpi = dpi, xlim=xlim,ylim=ylim, \n",
    "                         #fig_name = 'CORR_MRSglnglu_QSM_STR_reg_controls.png'\n",
    "                        )\n",
    "plot_partial_correlation(patients_a.drop(drp,axis=0), x, y, regressors = regressorsx, color = 'r', ci = None,\n",
    "                         labels = False,lstyle='--', lw=0.7, #annotate = (0.5,0.04),\n",
    "                         fit_reg=1, scatter=1, plot_marg = 1,dpi = dpi, xlim=xlim,ylim=ylim,\n",
    "                         #fig_name = 'CORR_MRSglnglu_QSM_STR_reg_patients.png'\n",
    "                        )\n",
    "plot_partial_correlation(df, x, y, regressors = regressorsx, color = 'g', \n",
    "                         labels = False,  #annotate = (0.5,0.035),\n",
    "                         fit_reg=True, scatter=0, plot_marg = 0, dpi = dpi, xlim=xlim,ylim=ylim,\n",
    "                         #fig_name = 'CORR_MRSglnglu_QSM_STR_reg_ALL.png'\n",
    "                        )"
   ]
  },
  {
   "cell_type": "markdown",
   "metadata": {},
   "source": [
    "# Glutamate THALAMUS"
   ]
  },
  {
   "cell_type": "code",
   "execution_count": null,
   "metadata": {
    "collapsed": true
   },
   "outputs": [],
   "source": []
  },
  {
   "cell_type": "code",
   "execution_count": null,
   "metadata": {
    "scrolled": false
   },
   "outputs": [],
   "source": [
    "drp = []#\n",
    "drc = [ 'RMNT']\n",
    "df = DF_ALL.drop(drp+drc ,axis=0)\n",
    "x = 'THA_Gln_Glu'\n",
    "y = 'Thal'\n",
    "\n",
    "regressorsx = ['Age', 'Gender', 'QI1_MAG', 'EFC_MAG']\n",
    "xlim  = (0, 1.2)\n",
    "ylim  = (-100,50)\n",
    "dpi = 800 \n",
    "\n",
    "plot_partial_correlation(controls_a.drop(drc,axis=0), x, y, regressors = regressorsx, color = 'b', ci = None,\n",
    "                         labels = False, lstyle='--', lw=0.7, #annotate = (0.65,0.13),\n",
    "                         fit_reg=1, scatter=1, plot_marg = 1, dpi = dpi, xlim=xlim,ylim=ylim, \n",
    "                         fig_name = 'CORR_MRSglnglu_QSM_THA_c.png'\n",
    "                        )\n",
    "plot_partial_correlation(patients_a.drop(drp,axis=0), x, y, regressors = regressorsx, color = 'r', ci = None,\n",
    "                         labels = False,lstyle='--', lw=0.7,  #annotate = (0.65,0.12),\n",
    "                         fit_reg=1, scatter=1, plot_marg = 1,dpi = dpi, xlim=xlim,ylim=ylim,\n",
    "                         fig_name = 'CORR_MRSglnglu_QSM_THA_p.png'\n",
    "                        )\n",
    "plot_partial_correlation(df, x, y, regressors = regressorsx, color = 'g', \n",
    "                         labels = False,   #annotate = (0.65,0.11),\n",
    "                         fit_reg=True, scatter=0, plot_marg = 0, dpi = dpi, xlim=xlim,ylim=ylim,\n",
    "                         fig_name = 'CORR_MRSglnglu_QSM_THA_all.png'\n",
    "                        )"
   ]
  },
  {
   "cell_type": "markdown",
   "metadata": {},
   "source": [
    "# ACC"
   ]
  },
  {
   "cell_type": "code",
   "execution_count": null,
   "metadata": {
    "scrolled": false
   },
   "outputs": [],
   "source": [
    "drp = []#\n",
    "drc = []\n",
    "df = DF_ALL.drop(drp+drc ,axis=0)\n",
    "x = 'ACC_Gln_Glu'\n",
    "y = 'MRS_ACC'\n",
    "\n",
    "regressorsx = ['Age', 'Gender', 'QI1_MAG']\n",
    "xlim  = (0, 0.5)\n",
    "ylim  = (-105,50)\n",
    "dpi = 800 \n",
    "\n",
    "plot_partial_correlation(controls_a.drop(drc,axis=0), x, y, regressors = regressorsx, color = 'b', ci = None,\n",
    "                         labels = False, lstyle='--', lw=0.7, #annotate = (0.65,0.13),\n",
    "                         fit_reg=1, scatter=1, plot_marg = 1, dpi = dpi, xlim=xlim,ylim=ylim, \n",
    "                         fig_name = 'CORR_MRSglnglu_QSM_acc_c.png'\n",
    "                        )\n",
    "plot_partial_correlation(patients_a.drop(drp,axis=0), x, y, regressors = regressorsx, color = 'r', ci = None,\n",
    "                         labels = False,lstyle='--', lw=0.7,  #annotate = (0.4,0.12),\n",
    "                         fit_reg=1, scatter=1, plot_marg = 1,dpi = dpi, xlim=xlim,ylim=ylim,\n",
    "                         fig_name = 'CORR_MRSglnglu_QSM_acc_p.png'\n",
    "                        )\n",
    "plot_partial_correlation(df, x, y, regressors = regressorsx, color = 'g', \n",
    "                         labels = False,   #annotate = (0.65,0.11),\n",
    "                         fit_reg=True, scatter=0, plot_marg = 0, dpi = dpi, xlim=xlim,ylim=ylim,\n",
    "                         fig_name = 'CORR_MRSglnglu_QSM_acc_all.png'\n",
    "                        )"
   ]
  },
  {
   "cell_type": "markdown",
   "metadata": {},
   "source": [
    "# FWHM"
   ]
  },
  {
   "cell_type": "code",
   "execution_count": null,
   "metadata": {},
   "outputs": [],
   "source": [
    "\n",
    "###########\n",
    "\n",
    "#PLOTS STD of QSM in MRSvoxel vs MRS_FWHM\n",
    "\n",
    "\n",
    "sns.jointplot(x = 'STR_FWHM', y = 'MRS_STR', kind='reg', data = DF_ALL)#.drop(['KDDP','YU1P','TT3P'], axis = 0),)\n"
   ]
  },
  {
   "cell_type": "code",
   "execution_count": null,
   "metadata": {},
   "outputs": [],
   "source": [
    "sns.jointplot(x = 'ACC_FWHM', y = 'MRS_ACC', data = DF_ALL['KDDP','YU1P','TT3P'], kind='reg')\n"
   ]
  },
  {
   "cell_type": "code",
   "execution_count": null,
   "metadata": {
    "collapsed": true
   },
   "outputs": [],
   "source": [
    "sns.jointplot(x = 'THA_FWHM', y = 'MRS_THA', data = DF_ALL, kind='reg')\n"
   ]
  },
  {
   "cell_type": "markdown",
   "metadata": {},
   "source": [
    "# Relationships with Ferritin"
   ]
  },
  {
   "cell_type": "code",
   "execution_count": null,
   "metadata": {
    "collapsed": true
   },
   "outputs": [],
   "source": [
    "print grubbs_outliers(patients_a, 'CLN_Ferritin', alpha = .05)\n",
    "print grubbs_outliers(controls_a, 'CLN_Ferritin', alpha = .05)\n",
    "print grubbs_outliers(patients_a, 'BrainStem', alpha = .05)\n",
    "print grubbs_outliers(controls_a, 'BrainStem', alpha = .05)\n",
    "print grubbs_outliers(patients_a, 'BasalGanglia', alpha = .05)\n",
    "print grubbs_outliers(controls_a, 'BasalGanglia', alpha = .05)"
   ]
  },
  {
   "cell_type": "code",
   "execution_count": 1,
   "metadata": {},
   "outputs": [
    {
     "ename": "NameError",
     "evalue": "name 'DF_ALL' is not defined",
     "output_type": "error",
     "traceback": [
      "\u001b[0;31m------------\u001b[0m",
      "\u001b[0;31mNameError\u001b[0mTraceback (most recent call last)",
      "\u001b[0;32m<ipython-input-1-3ed396ae0b0b>\u001b[0m in \u001b[0;36m<module>\u001b[0;34m()\u001b[0m\n\u001b[1;32m      1\u001b[0m \u001b[0mdrp\u001b[0m \u001b[0;34m=\u001b[0m \u001b[0;34m[\u001b[0m\u001b[0;34m]\u001b[0m\u001b[0;34m\u001b[0m\u001b[0m\n\u001b[1;32m      2\u001b[0m \u001b[0mdrc\u001b[0m \u001b[0;34m=\u001b[0m \u001b[0;34m[\u001b[0m\u001b[0;34m]\u001b[0m\u001b[0;34m\u001b[0m\u001b[0m\n\u001b[0;32m----> 3\u001b[0;31m \u001b[0mdf\u001b[0m \u001b[0;34m=\u001b[0m \u001b[0mDF_ALL\u001b[0m\u001b[0;34m.\u001b[0m\u001b[0mdrop\u001b[0m\u001b[0;34m(\u001b[0m\u001b[0mdrp\u001b[0m\u001b[0;34m+\u001b[0m\u001b[0mdrc\u001b[0m \u001b[0;34m,\u001b[0m\u001b[0maxis\u001b[0m\u001b[0;34m=\u001b[0m\u001b[0;36m0\u001b[0m\u001b[0;34m)\u001b[0m\u001b[0;34m\u001b[0m\u001b[0m\n\u001b[0m\u001b[1;32m      4\u001b[0m \u001b[0mx\u001b[0m \u001b[0;34m=\u001b[0m \u001b[0;34m'CLN_Ferritin'\u001b[0m\u001b[0;34m\u001b[0m\u001b[0m\n\u001b[1;32m      5\u001b[0m \u001b[0my\u001b[0m \u001b[0;34m=\u001b[0m \u001b[0;34m'ALL_NUCLEI'\u001b[0m\u001b[0;34m\u001b[0m\u001b[0m\n",
      "\u001b[0;31mNameError\u001b[0m: name 'DF_ALL' is not defined"
     ]
    }
   ],
   "source": [
    "drp = ['SA5U']#\n",
    "drc = ['PU2T', 'SMVX']\n",
    "df = DF_ALL.drop(drp+drc ,axis=0)\n",
    "x = 'CLN_Ferritin'\n",
    "y = 'ALL_NUCLEI'\n",
    "\n",
    "regressorsx = ['Age', 'Gender', 'QI1_MAG', 'EFC_MAG']\n",
    "xlim  = (-400, 800)\n",
    "ylim  = (0,80)\n",
    "dpi = 800 \n",
    "\n",
    "print gESD_outliers(patients_a, x, alpha = .05)\n",
    "print gESD_outliers(controls_a, x, alpha = .05)\n",
    "print gESD_outliers(patients_a, y, alpha = .05)\n",
    "print gESD_outliers(controls_a, y, alpha = .05)\n",
    "\n",
    "plot_partial_correlation(controls_a.drop(drc,axis=0), x, y, regressors = regressorsx, color = 'b', ci = None,\n",
    "                         labels = False, lstyle='--', lw=0.7, #annotate = (350,0.075),\n",
    "                         fit_reg=1, scatter=1, plot_marg = 1, dpi = dpi, xlim=xlim,ylim=ylim, \n",
    "                         fig_name = 'FERR_CORR_QSM_ALL_reg_controls.png'\n",
    "                        )\n",
    "plot_partial_correlation(patients_a.drop(drp,axis=0), x, y, regressors = regressorsx, color = 'r', ci = None,\n",
    "                         labels = False,lstyle='--', lw=0.7, #annotate =  (350,0.07),\n",
    "                         fit_reg=1, scatter=1, plot_marg = 1,dpi = dpi, xlim=xlim,ylim=ylim,\n",
    "                         fig_name = 'FERR_CORR_QSM_ALL_reg_patients.png'\n",
    "                        )\n",
    "plot_partial_correlation(df, x, y, regressors = regressorsx, color = 'g', \n",
    "                         labels = False,  #annotate = (350,0.065),\n",
    "                         fit_reg=True, scatter=0, plot_marg = 0, dpi = dpi, xlim=xlim,ylim=ylim,\n",
    "                         fig_name = 'FERR_CORR_QSM_ALL_reg_ALL.png'\n",
    "                        )"
   ]
  },
  {
   "cell_type": "code",
   "execution_count": null,
   "metadata": {
    "collapsed": true
   },
   "outputs": [],
   "source": [
    "drp = ['SA5U']#\n",
    "drc = ['BH5T', 'GSNT']#'PU2T', 'SMVX', \n",
    "df = DF_ALL.drop(drp+drc ,axis=0)\n",
    "x = 'CLN_Ferritin'\n",
    "y = 'L_BasalGanglia'\n",
    "\n",
    "regressorsx = ['Age', 'Gender', 'QI1_MAG', 'EFC_MAG']\n",
    "xlim  = (-200, 600)\n",
    "ylim  = (-10,70)\n",
    "dpi = 500 \n",
    "\n",
    "print gESD_outliers(patients_a, x, alpha = .05)\n",
    "print gESD_outliers(controls_a, x, alpha = .05)\n",
    "print gESD_outliers(patients_a, y, alpha = .05)\n",
    "print gESD_outliers(controls_a, y, alpha = .05)\n",
    "\n",
    "plot_partial_correlation(controls_a.drop(drc,axis=0), x, y, regressors = regressorsx, color = 'b', ci = None,\n",
    "                         labels = False, lstyle='--', lw=0.7, #annotate = (300,0.055),\n",
    "                         fit_reg=1, scatter=1, plot_marg = 1, dpi = dpi, xlim=xlim,ylim=ylim, \n",
    "                         fig_name = 'FERR_CORR_QSM_BG_reg_controls.png'\n",
    "                        )\n",
    "plot_partial_correlation(patients_a.drop(drp,axis=0), x, y, regressors = regressorsx, color = 'r', ci = None,\n",
    "                         labels = False,lstyle='--', lw=0.7,  #annotate =  (300,0.05),\n",
    "                         fit_reg=1, scatter=1, plot_marg = 1,dpi = dpi, xlim=xlim,ylim=ylim,\n",
    "                        fig_name = 'FERR_CORR_QSM_BG_reg_patients.png'\n",
    "                        )\n",
    "plot_partial_correlation(df, x, y, regressors = regressorsx, color = 'g', \n",
    "                         labels = False,  #annotate = (300,0.045),\n",
    "                         fit_reg=True, scatter=0, plot_marg = 0, dpi = dpi, xlim=xlim,ylim=ylim,\n",
    "                         fig_name = 'FERR_CORR_QSM_BG_reg_ALL.png'\n",
    "                        )"
   ]
  },
  {
   "cell_type": "code",
   "execution_count": null,
   "metadata": {
    "collapsed": true
   },
   "outputs": [],
   "source": [
    "drp = ['SA5U']#\n",
    "drc = ['PU2T', 'SMVX', 'BH5T']\n",
    "df = DF_ALL.drop(drp+drc ,axis=0)\n",
    "x = 'CLN_Ferritin'\n",
    "y = 'BrainStem'\n",
    "\n",
    "regressorsx = ['Age', 'Gender', 'QI1_MAG', 'EFC_MAG']\n",
    "xlim  = (-200, 700)\n",
    "ylim  = (.04,0.18)\n",
    "dpi = 500 \n",
    "\n",
    "print gESD_outliers(patients_a, x, alpha = .05)\n",
    "print gESD_outliers(controls_a, x, alpha = .05)\n",
    "print gESD_outliers(patients_a, y, alpha = .05)\n",
    "print gESD_outliers(controls_a, y, alpha = .05)\n",
    "\n",
    "plot_partial_correlation(controls_a.drop(drc,axis=0), x, y, regressors = regressorsx, color = 'b', ci = None,\n",
    "                         labels = False, lstyle='--', lw=0.7, #annotate = (300,0.165),\n",
    "                         fit_reg=1, scatter=1, plot_marg = 1, dpi = dpi, xlim=xlim,ylim=ylim, \n",
    "                         fig_name = 'FERR_CORR_QSM_BSt_reg_controls.png'\n",
    "                        )\n",
    "plot_partial_correlation(patients_a.drop(drp,axis=0), x, y, regressors = regressorsx, color = 'r', ci = None,\n",
    "                         labels = False,lstyle='--', lw=0.7, #annotate =  (300,0.16),\n",
    "                         fit_reg=1, scatter=1, plot_marg = 1,dpi = dpi, xlim=xlim,ylim=ylim,\n",
    "                         fig_name = 'FERR_CORR_QSM_BSt_reg_patients.png'\n",
    "                        )\n",
    "plot_partial_correlation(df, x, y, regressors = regressorsx, color = 'g', \n",
    "                         labels = False,  #annotate = (300,0.155),\n",
    "                         fit_reg=True, scatter=0, plot_marg = 0, dpi = dpi, xlim=xlim,ylim=ylim,\n",
    "                         fig_name = 'FERR_CORR_QSM_BSt_reg_ALL.png'\n",
    "                        )"
   ]
  },
  {
   "cell_type": "markdown",
   "metadata": {
    "collapsed": true
   },
   "source": [
    "# relationship with AGE"
   ]
  },
  {
   "cell_type": "code",
   "execution_count": null,
   "metadata": {
    "collapsed": true
   },
   "outputs": [],
   "source": [
    "drp = ['SA5U']#\n",
    "drc = []\n",
    "df = DF_ALL.drop(drp+drc ,axis=0)\n",
    "x = 'CLN_Age'\n",
    "y = 'CLN_Ferritin'\n",
    "\n",
    "regressorsx = ['Gender']\n",
    "xlim  = (0, 70)\n",
    "ylim  = (-200,600)\n",
    "dpi = 500 \n",
    "\n",
    "plot_partial_correlation(controls_a.drop(drc,axis=0), x, y, regressors = regressorsx, color = 'b', #ci = None,\n",
    "                         labels = False, lstyle='--', lw=0.7, #annotate = (35,500),\n",
    "                         fit_reg=1, scatter=1, plot_marg = 1, dpi = dpi, xlim=xlim,ylim=ylim, \n",
    "                         fig_name = 'CORR_Ferr_age_c.png'\n",
    "                        )\n",
    "plot_partial_correlation(patients_a.drop(drp,axis=0), x, y, regressors = regressorsx, color = 'r', #ci = None,\n",
    "                         labels = False,lstyle='--', lw=0.7,  #annotate = (35,470),\n",
    "                         fit_reg=1, scatter=1, plot_marg = 1,dpi = dpi, xlim=xlim,ylim=ylim,\n",
    "                         fig_name = 'CORR_Ferr_age_p.png'\n",
    "                        )\n",
    "plot_partial_correlation(df, x, y, regressors = regressorsx, color = 'g', \n",
    "                         labels = False,   #annotate = (35,440),\n",
    "                         fit_reg=True, scatter=0, plot_marg = 0, dpi = dpi, xlim=xlim,ylim=ylim,\n",
    "                         fig_name = 'CORR_Ferr_age_all.png'\n",
    "                        )"
   ]
  },
  {
   "cell_type": "code",
   "execution_count": null,
   "metadata": {
    "collapsed": true,
    "scrolled": false
   },
   "outputs": [],
   "source": [
    "drp = ['SA5U']#\n",
    "drc = []\n",
    "df = DF_ALL.drop(drp+drc ,axis=0)\n",
    "x = 'CLN_Age'\n",
    "y = 'ALL_NUCLEI' \n",
    "\n",
    "regressorsx = ['Gender', 'QI1_MAG', 'EFC_MAG']\n",
    "xlim  = (0, 70)\n",
    "ylim  = (10,110)\n",
    "dpi = 500 \n",
    "\n",
    "plot_partial_correlation(controls_a.drop(drc,axis=0), x, y, regressors = regressorsx, color = 'b', #ci = None,\n",
    "                         labels = False, lstyle='--', lw=0.7, #annotate = (35,0.07),\n",
    "                         fit_reg=1, scatter=1, plot_marg = 1, dpi = dpi, xlim=xlim,ylim=ylim, \n",
    "                         fig_name = 'CORR_Age_ChiAll_c.png'\n",
    "                        )\n",
    "plot_partial_correlation(patients_a.drop(drp,axis=0), x, y, regressors = regressorsx, color = 'r', #ci = None,\n",
    "                         labels = False,lstyle='--', lw=0.7,  #annotate = (30,0.065),\n",
    "                         fit_reg=1, scatter=1, plot_marg = 1,dpi = dpi, xlim=xlim,ylim=ylim,\n",
    "                         fig_name = 'CORR_Age_ChiAll_p.png'\n",
    "                        )\n",
    "plot_partial_correlation(df, x, y, regressors = regressorsx, color = 'g', \n",
    "                         labels = False,   #annotate = (25,0.06),\n",
    "                         fit_reg=True, scatter=0, plot_marg = 0, dpi = dpi, xlim=xlim,ylim=ylim,\n",
    "                         fig_name = 'CORR_Age_ChiAll_all.png'\n",
    "                        )"
   ]
  },
  {
   "cell_type": "code",
   "execution_count": null,
   "metadata": {
    "collapsed": true,
    "scrolled": false
   },
   "outputs": [],
   "source": [
    "import matplotlib.font_manager\n",
    "from IPython.core.display import HTML\n",
    "\n",
    "def make_html(fontname):\n",
    "    return \"<p>{font}: <span style='font-family:{font}; font-size: 24px;'>{font}</p>\".format(font=fontname)\n",
    "\n",
    "code = \"\\n\".join([make_html(font) for font in sorted(set([f.name for f in matplotlib.font_manager.fontManager.ttflist]))])\n",
    "\n",
    "HTML(\"<div style='column-count: 2;'>{}</div>\".format(code))"
   ]
  },
  {
   "cell_type": "code",
   "execution_count": null,
   "metadata": {
    "collapsed": true
   },
   "outputs": [],
   "source": [
    "font.family"
   ]
  },
  {
   "cell_type": "code",
   "execution_count": null,
   "metadata": {
    "collapsed": true
   },
   "outputs": [],
   "source": []
  },
  {
   "cell_type": "code",
   "execution_count": null,
   "metadata": {
    "collapsed": true
   },
   "outputs": [],
   "source": []
  },
  {
   "cell_type": "code",
   "execution_count": null,
   "metadata": {
    "collapsed": true
   },
   "outputs": [],
   "source": []
  },
  {
   "cell_type": "code",
   "execution_count": null,
   "metadata": {
    "collapsed": true
   },
   "outputs": [],
   "source": []
  },
  {
   "cell_type": "code",
   "execution_count": null,
   "metadata": {
    "collapsed": true
   },
   "outputs": [],
   "source": []
  },
  {
   "cell_type": "code",
   "execution_count": null,
   "metadata": {
    "collapsed": true
   },
   "outputs": [],
   "source": []
  },
  {
   "cell_type": "code",
   "execution_count": null,
   "metadata": {
    "collapsed": true
   },
   "outputs": [],
   "source": [
    "dfc"
   ]
  },
  {
   "cell_type": "code",
   "execution_count": null,
   "metadata": {
    "collapsed": true
   },
   "outputs": [],
   "source": []
  },
  {
   "cell_type": "code",
   "execution_count": null,
   "metadata": {
    "collapsed": true
   },
   "outputs": [],
   "source": []
  },
  {
   "cell_type": "code",
   "execution_count": null,
   "metadata": {
    "collapsed": true
   },
   "outputs": [],
   "source": []
  },
  {
   "cell_type": "code",
   "execution_count": null,
   "metadata": {
    "collapsed": true
   },
   "outputs": [],
   "source": []
  },
  {
   "cell_type": "code",
   "execution_count": null,
   "metadata": {
    "collapsed": true
   },
   "outputs": [],
   "source": []
  },
  {
   "cell_type": "code",
   "execution_count": null,
   "metadata": {
    "collapsed": true
   },
   "outputs": [],
   "source": []
  },
  {
   "cell_type": "code",
   "execution_count": null,
   "metadata": {
    "collapsed": true
   },
   "outputs": [],
   "source": []
  },
  {
   "cell_type": "code",
   "execution_count": null,
   "metadata": {
    "collapsed": true
   },
   "outputs": [],
   "source": []
  },
  {
   "cell_type": "code",
   "execution_count": null,
   "metadata": {
    "collapsed": true
   },
   "outputs": [],
   "source": []
  },
  {
   "cell_type": "code",
   "execution_count": null,
   "metadata": {
    "collapsed": true
   },
   "outputs": [],
   "source": []
  },
  {
   "cell_type": "code",
   "execution_count": null,
   "metadata": {
    "collapsed": true
   },
   "outputs": [],
   "source": []
  },
  {
   "cell_type": "code",
   "execution_count": null,
   "metadata": {
    "collapsed": true
   },
   "outputs": [],
   "source": []
  }
 ],
 "metadata": {
  "anaconda-cloud": {},
  "kernelspec": {
   "display_name": "Python 2",
   "language": "python",
   "name": "python2"
  },
  "language_info": {
   "codemirror_mode": {
    "name": "ipython",
    "version": 2
   },
   "file_extension": ".py",
   "mimetype": "text/x-python",
   "name": "python",
   "nbconvert_exporter": "python",
   "pygments_lexer": "ipython2",
   "version": "2.7.13"
  }
 },
 "nbformat": 4,
 "nbformat_minor": 1
}
