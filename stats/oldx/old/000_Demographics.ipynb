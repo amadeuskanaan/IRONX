{
 "cells": [
  {
   "cell_type": "code",
   "execution_count": 1,
   "metadata": {},
   "outputs": [
    {
     "name": "stderr",
     "output_type": "stream",
     "text": [
      "/Users/kanaan/anaconda/lib/python2.7/site-packages/statsmodels/compat/pandas.py:56: FutureWarning: The pandas.core.datetools module is deprecated and will be removed in a future version. Please use the pandas.tseries module instead.\n",
      "  from pandas.core import datetools\n"
     ]
    }
   ],
   "source": [
    "%matplotlib inline\n",
    "import os \n",
    "import numpy as np\n",
    "from numpy import mean, std\n",
    "import pandas as pd\n",
    "import seaborn as sns\n",
    "import matplotlib.pyplot as plt\n",
    "from scipy.stats import ttest_rel, ttest_ind, mannwhitneyu, wilcoxon, spearmanr,pearsonr, fisher_exact,kstest\n",
    "from scipy.stats import ks_2samp, kstest, anderson, anderson_ksamp, levene\n",
    "from statsmodels.sandbox.stats.multicomp import fdrcorrection0\n",
    "from sklearn import preprocessing\n",
    "import statsmodels.api as sm\n",
    "pd.options.display.max_columns = 999\n",
    "import statsmodels.formula.api as smf\n",
    "import scipy.stats as ss \n",
    "import math \n",
    "from outliers import smirnov_grubbs as grubbs\n",
    "\n",
    "workspace_dir  = '/Users/kanaan/Google Drive/TS-EUROTRAIN/RESULTS_QSMv3/SEPT10'\n",
    "#workspace_dir  = '/scr/malta3/workspace/project_iron/phenotypic'\n",
    "pheno_dir      = os.path.join(workspace_dir, 'phenotypic')\n",
    "clinical_dir   = os.path.join(workspace_dir, 'DF_clinical')\n",
    "mrs_dir        = os.path.join(workspace_dir, 'DF_MRS')\n",
    "\n",
    "qc_outliers_c  = []#['GSAT', 'TR4T'] \n",
    "qc_outliers_p  = [  #Spatial 'LA9P',\n",
    "                  'NL2P', 'HSPP', 'STDP', 'DF2P'# Chi \n",
    "                 ]"
   ]
  },
  {
   "cell_type": "code",
   "execution_count": 2,
   "metadata": {
    "collapsed": true
   },
   "outputs": [],
   "source": [
    "controls_matched = [ 'GSNT', 'TJ5T', 'PAHT', 'LMIT', 'RMNT', 'MJBT', 'SDCT', 'TR4T', 'TV1T', 'RJJT',\n",
    "                     'HM1X', 'STQT', 'SS1X', 'LL5T', 'PU2T', 'BH5T', 'SMVX', 'GSAT', 'EC9T', 'RA7T',\n",
    "                     'KO4T', 'HM2X', 'GHAT', 'FA2T', 'SC1T', 'WSKT'] "
   ]
  },
  {
   "cell_type": "code",
   "execution_count": 3,
   "metadata": {},
   "outputs": [
    {
     "name": "stderr",
     "output_type": "stream",
     "text": [
      "/Users/kanaan/anaconda/lib/python2.7/site-packages/ipykernel_launcher.py:9: DeprecationWarning: \n",
      ".ix is deprecated. Please use\n",
      ".loc for label based indexing or\n",
      ".iloc for positional indexing\n",
      "\n",
      "See the documentation here:\n",
      "http://pandas.pydata.org/pandas-docs/stable/indexing.html#ix-indexer-is-deprecated\n",
      "  if __name__ == '__main__':\n",
      "/Users/kanaan/anaconda/lib/python2.7/site-packages/ipykernel_launcher.py:23: DeprecationWarning: \n",
      ".ix is deprecated. Please use\n",
      ".loc for label based indexing or\n",
      ".iloc for positional indexing\n",
      "\n",
      "See the documentation here:\n",
      "http://pandas.pydata.org/pandas-docs/stable/indexing.html#ix-indexer-is-deprecated\n"
     ]
    }
   ],
   "source": [
    "def get_dfs(popname,drop):\n",
    "    df_qsm = pd.read_csv(os.path.join(pheno_dir, 'df_raw_%s.csv'%popname),index_col = 0).sort_values('Age')\n",
    "    df_cln = pd.read_csv(os.path.join(clinical_dir, 'clinical_%s.csv'%popname), index_col=0)\n",
    "    df_cln.columns = ['CLN_' + str(col) for col in df_cln.columns]   \n",
    "        \n",
    "    \n",
    "    if popname == 'controls':\n",
    "        for subject in df_cln.index:\n",
    "            df_cln.ix[subject, 'Diagnosis'] = 'HC'\n",
    "            \n",
    "    if popname == 'patients':\n",
    "        for subject in df_cln.index:\n",
    "            adhd    = df_cln.loc[subject]['CLN_Diag_ADHD'].astype(int)\n",
    "            ocd     = df_cln.loc[subject]['CLN_Diag_OCD'].astype(int)\n",
    "            depr    = df_cln.loc[subject]['CLN_Diag_Depression'].astype(int)\n",
    "            anx     = df_cln.loc[subject]['CLN_Diag_Anxiety'].astype(int)\n",
    "\n",
    "            if ocd == 1 and adhd == 1:\n",
    "                df_cln.ix[subject, 'Diagnosis'] = 'GTS_OCD_ADHD'\n",
    "            elif ocd == 1  and adhd == 0:\n",
    "                df_cln.ix[subject, 'Diagnosis'] = 'GTS_OCD'\n",
    "            elif ocd == 0 and adhd == 1:\n",
    "                df_cln.ix[subject, 'Diagnosis'] = 'GTS_ADHD'\n",
    "            elif ocd == 0and adhd == 0:\n",
    "                df_cln.ix[subject, 'Diagnosis'] = 'GTS'\n",
    "    \n",
    "    \n",
    "    def get_mrs_df(vox, popname):\n",
    "        df_mrs = pd.read_csv(os.path.join(mrs_dir, 'moco_df_%s_%s_a.csv'%(vox, popname)),index_col = 0)\n",
    "        df_mrs.columns = ['%s_'%vox + str(col) for col in df_mrs.columns]\n",
    "        return df_mrs \n",
    "    \n",
    "    df = pd.concat([df_qsm, \n",
    "                    df_cln, \n",
    "                    get_mrs_df('STR', popname),\n",
    "                    get_mrs_df('THA', popname),\n",
    "                    get_mrs_df('ACC', popname)], axis=1, join_axes=[df_qsm.index]).drop(drop,axis=0)\n",
    "    \n",
    "    df.sort_values('Age').to_csv(os.path.join(pheno_dir, 'df_%s_qc.csv'%popname))\n",
    "    return df\n",
    "\n",
    "df_controls = get_dfs('controls',qc_outliers_c)\n",
    "df_patients = get_dfs('patients',qc_outliers_p)\n"
   ]
  },
  {
   "cell_type": "code",
   "execution_count": 4,
   "metadata": {},
   "outputs": [
    {
     "name": "stdout",
     "output_type": "stream",
     "text": [
      "Total Controls =  26\n",
      "Total Patients =  23\n"
     ]
    }
   ],
   "source": [
    "print 'Total Controls = ', len(df_controls.index)\n",
    "print 'Total Patients = ', len(df_patients)"
   ]
  },
  {
   "cell_type": "code",
   "execution_count": null,
   "metadata": {
    "collapsed": true
   },
   "outputs": [],
   "source": []
  },
  {
   "cell_type": "code",
   "execution_count": 5,
   "metadata": {},
   "outputs": [
    {
     "name": "stdout",
     "output_type": "stream",
     "text": [
      "--------------- Gender ---------------\n",
      "         Male Female\n",
      "Controls   17      9\n",
      "Patients   18      5\n",
      "\n",
      "FISCHER EXACT TEST: Odds Ratio= 0.52 P-Value= 0.36\n",
      "\n",
      "--------------- Age ---------------\n",
      "Controls Age =  37.92 ± 11.82\n",
      "Patients Age =  36.65 ± 10.78\n",
      "T-TEST(47) = Ttest_indResult(statistic=0.38332677492299855, pvalue=0.703205927944135)\n"
     ]
    },
    {
     "name": "stderr",
     "output_type": "stream",
     "text": [
      "/Users/kanaan/anaconda/lib/python2.7/site-packages/ipykernel_launcher.py:32: DeprecationWarning: \n",
      ".ix is deprecated. Please use\n",
      ".loc for label based indexing or\n",
      ".iloc for positional indexing\n",
      "\n",
      "See the documentation here:\n",
      "http://pandas.pydata.org/pandas-docs/stable/indexing.html#ix-indexer-is-deprecated\n"
     ]
    }
   ],
   "source": [
    "def cohen_d(df1,df2, metabolite):\n",
    "        # Cohens D \n",
    "        from numpy import mean, std # version >= 1.7.1 && <= 1.9.1\n",
    "        from math import sqrt\n",
    "        import sys\n",
    "        x = df1[metabolite].dropna(axis=0)\n",
    "        y = df2[metabolite].dropna(axis=0)\n",
    "        return (mean(x) - mean(y)) / sqrt((std(x, ddof=1) ** 2 + std(y, ddof=1) ** 2) / 2.0)\n",
    "\n",
    "def get_gender_len(df):    \n",
    "    males   = [subject for subject in df.index if df.loc[subject]['Gender'] == 0]\n",
    "    females = [subject for subject in df.index if df.loc[subject]['Gender'] == 1]\n",
    "    return len(males), len(females)\n",
    "\n",
    "def reject_outliers(data, m=3):\n",
    "    return data[abs(data - np.mean(data)) < m * np.std(data)]\n",
    "\n",
    "def grubbs_outliers(df, measure, alpha = 0.15):\n",
    "    from outliers import smirnov_grubbs as grubbs\n",
    "    return [str(i) for i in df.index if i not in grubbs.test(df[measure], alpha).index] \n",
    "    \n",
    "    \n",
    "def get_gender_len(df):    \n",
    "    males   = [subject for subject in df.index if df.loc[subject]['Gender'] == 0]\n",
    "    females = [subject for subject in df.index if df.loc[subject]['Gender'] == 1]\n",
    "    return len(males), len(females)\n",
    "\n",
    "def get_gender_age_stats(df1, df2):\n",
    "    \n",
    "    gender = pd.DataFrame(index =['Controls', 'Patients'], columns = ['Male', 'Female'])\n",
    "\n",
    "    gender.ix['Controls'][0] = get_gender_len(df1)[0]\n",
    "    gender.ix['Controls'][1] = get_gender_len(df1)[1]\n",
    "    gender.ix['Patients'][0] = get_gender_len(df2)[0]\n",
    "    gender.ix['Patients'][1] = get_gender_len(df2)[1]\n",
    "\n",
    "    print '--------------- Gender ---------------'\n",
    "    print gender\n",
    "    print ''\n",
    "    print 'FISCHER EXACT TEST:', 'Odds Ratio=',np.round(fisher_exact(gender)[0],2), 'P-Value=',np.round(fisher_exact(gender)[1],2)\n",
    "    print ''\n",
    "    print '--------------- Age ---------------'\n",
    "    print 'Controls Age = ', np.round(np.mean(df1.Age),2), '±', np.round(np.std(df1.Age),2)\n",
    "    print 'Patients Age = ', np.round(np.mean(df2.Age),2), '±', np.round(np.std(df2.Age),2)\n",
    "    print 'T-TEST(%s) ='%(len(df1.index)+len(df2.index)-2), ttest_ind(df1.Age.dropna(), df2.Age.dropna()) \n",
    "    \n",
    "get_gender_age_stats(df_controls, df_patients)"
   ]
  },
  {
   "cell_type": "code",
   "execution_count": 6,
   "metadata": {},
   "outputs": [
    {
     "data": {
      "text/plain": [
       "47"
      ]
     },
     "execution_count": 6,
     "metadata": {},
     "output_type": "execute_result"
    }
   ],
   "source": [
    "26+23-2"
   ]
  },
  {
   "cell_type": "code",
   "execution_count": 7,
   "metadata": {},
   "outputs": [
    {
     "name": "stderr",
     "output_type": "stream",
     "text": [
      "/Users/kanaan/anaconda/lib/python2.7/site-packages/matplotlib/axes/_axes.py:6462: UserWarning: The 'normed' kwarg is deprecated, and has been replaced by the 'density' kwarg.\n",
      "  warnings.warn(\"The 'normed' kwarg is deprecated, and has been \"\n"
     ]
    },
    {
     "data": {
      "text/plain": [
       "<matplotlib.axes._subplots.AxesSubplot at 0x1196ff0d0>"
      ]
     },
     "execution_count": 7,
     "metadata": {},
     "output_type": "execute_result"
    },
    {
     "data": {
      "image/png": "[encoded data removed]",
      "text/plain": [
       "<Figure size 432x288 with 1 Axes>"
      ]
     },
     "metadata": {},
     "output_type": "display_data"
    }
   ],
   "source": [
    "sns.distplot(df_controls.Age, color='b', rug=1 )\n",
    "sns.distplot(df_patients.Age, color='r', rug=1 )\n"
   ]
  },
  {
   "cell_type": "code",
   "execution_count": 8,
   "metadata": {},
   "outputs": [
    {
     "data": {
      "text/plain": [
       "<matplotlib.axes._subplots.AxesSubplot at 0x1199f8510>"
      ]
     },
     "execution_count": 8,
     "metadata": {},
     "output_type": "execute_result"
    },
    {
     "data": {
      "image/png": "[encoded data removed]",
      "text/plain": [
       "<Figure size 432x288 with 1 Axes>"
      ]
     },
     "metadata": {},
     "output_type": "display_data"
    }
   ],
   "source": [
    "sns.distplot(df_patients.Age, color='r', rug=1 )\n",
    "sns.distplot(df_controls.Age, color='b', rug=1 )\n"
   ]
  },
  {
   "cell_type": "code",
   "execution_count": null,
   "metadata": {
    "collapsed": true
   },
   "outputs": [],
   "source": []
  },
  {
   "cell_type": "code",
   "execution_count": null,
   "metadata": {
    "collapsed": true
   },
   "outputs": [],
   "source": []
  },
  {
   "cell_type": "code",
   "execution_count": 9,
   "metadata": {},
   "outputs": [
    {
     "name": "stdout",
     "output_type": "stream",
     "text": [
      "######################################\n",
      "YGTSS_Total_Tic_Score\n",
      "controls = 0.0 0.0\n",
      "patients = 19.9130434783 8.64222718616\n",
      "t46= -10.807 p= 0.0\n",
      "######################################\n",
      "YGTSS_Total_Score_incl_Impairment\n",
      "controls = 0.0 0.0\n",
      "patients = 41.8260869565 17.3371984445\n",
      "t46= -11.316 p= 0.0\n",
      "######################################\n",
      "YGTSS_Motoric_Score\n",
      "controls = 0.0 0.0\n",
      "patients = 12.9565217391 4.14391393302\n",
      "t46= -14.665 p= 0.0\n",
      "######################################\n",
      "YGTSS_Vocal_Score\n",
      "controls = 0.0 0.0\n",
      "patients = 6.95652173913 5.90856607978\n",
      "t46= -5.522 p= 2e-05\n",
      "######################################\n",
      "RVTRS\n",
      "controls = 0.0 0.0\n",
      "patients = 8.08695652174 4.51964834606\n",
      "t46= -8.393 p= 0.0\n",
      "######################################\n",
      "puts\n",
      "controls = 0.0 0.0\n",
      "patients = 18.9130434783 5.83030347095\n",
      "t46= -15.215 p= 0.0\n",
      "######################################\n",
      "YBOCS_Totalscore_Items_1to10\n",
      "controls = 0.0 0.0\n",
      "patients = 1.39130434783 3.3066353638\n",
      "t46= -1.974 p= 0.06112\n",
      "######################################\n",
      "OCIR_total_score\n",
      "controls = 5.73913043478 5.96524274301\n",
      "patients = 14.2173913043 12.4514937876\n",
      "t46= -2.88 p= 0.00708\n",
      "######################################\n",
      "DSM4_ADHD_Score\n",
      "controls = 1.17391304348 1.92584648612\n",
      "patients = 6.69565217391 5.24557604586\n",
      "t46= -4.635 p= 8e-05\n",
      "######################################\n",
      "BDI12\n",
      "controls = 1.78260869565 3.37454050642\n",
      "patients = 13.2608695652 12.1448410636\n",
      "t46= -4.271 p= 0.00024\n",
      "######################################\n",
      "BAI\n",
      "controls = 2.73913043478 3.28656542417\n",
      "patients = 13.3043478261 13.1758500513\n",
      "t46= -3.649 p= 0.00123\n",
      "######################################\n",
      "MADRS\n",
      "controls = 0.565217391304 0.770436745507\n",
      "patients = 7.95652173913 8.34306929691\n",
      "t46= -4.138 p= 0.00042\n"
     ]
    }
   ],
   "source": [
    "cln_metrics = ['CLN_YGTSS_Total_Tic_Score',\n",
    "               'CLN_YGTSS_Total_Score_incl_Impairment',\n",
    "               'CLN_YGTSS_Motoric_Score',\n",
    "               'CLN_YGTSS_Vocal_Score',#, \n",
    "               'CLN_RVTRS',\n",
    "               'CLN_puts',\n",
    "               'CLN_YBOCS_Totalscore_Items_1to10', \n",
    "               'CLN_OCIR_total_score',\n",
    "               'CLN_DSM4_ADHD_Score',\n",
    "               'CLN_BDI12', \n",
    "               'CLN_BAI', \n",
    "               'CLN_MADRS',\n",
    "              ]\n",
    "\n",
    "for cln in cln_metrics:\n",
    "    \n",
    "    print '######################################'\n",
    "    print cln[4:]\n",
    "    C= df_controls[cln].dropna()\n",
    "    P= df_patients[cln].dropna()\n",
    "    ttest = ttest_ind(C,P, equal_var=0)\n",
    "    print 'controls =', np.mean(C), np.std(C)\n",
    "    print 'patients =', np.mean(P), np.std(P)\n",
    "    print  't%s='%len(C+P-2),np.round(ttest[0],3) , 'p=',np.round(ttest[1],5)"
   ]
  },
  {
   "cell_type": "code",
   "execution_count": 10,
   "metadata": {},
   "outputs": [
    {
     "name": "stdout",
     "output_type": "stream",
     "text": [
      "Ttest_indResult(statistic=2.841376898389472, pvalue=0.009727435781744419)\n",
      "controls = 196.204444444 151.255514839\n",
      "patients = 85.5593333333 48.8708658223\n",
      "t31= 2.841 p= 0.00973\n"
     ]
    }
   ],
   "source": [
    "C = df_controls.CLN_Ferritin.dropna()\n",
    "P = df_patients.CLN_Ferritin.drop(['SA5U'],axis =0).dropna()\n",
    "ttest = ttest_ind(C,P, equal_var=0)\n",
    "#ttest = mannwhitneyu(C,P)\n",
    "print ttest\n",
    "print 'controls =', np.mean(C), np.std(C)\n",
    "print 'patients =', np.mean(P), np.std(P)\n",
    "print  't%s='%(len(C)+len(P)-2),np.round(ttest[0],3) , 'p=',np.round(ttest[1],5)"
   ]
  },
  {
   "cell_type": "code",
   "execution_count": 11,
   "metadata": {},
   "outputs": [
    {
     "name": "stdout",
     "output_type": "stream",
     "text": [
      "MannwhitneyuResult(statistic=109.0, pvalue=0.07966690840717433)\n",
      "controls = 0.429513049584 0.173956428129\n",
      "patients = 0.351586830379 0.140486436186\n",
      "t35= 109.0 p= 0.07967\n"
     ]
    }
   ],
   "source": [
    "C = df_controls.STR_Gln_Glu.drop(['STQT', 'RMNT'],axis=0).dropna()\n",
    "P = df_patients.STR_Gln_Glu.drop(['SBQP'],axis=0).dropna()\n",
    "ttest = mannwhitneyu(C,P)\n",
    "print ttest\n",
    "print 'controls =', np.mean(C), np.std(C)\n",
    "print 'patients =', np.mean(P), np.std(P)\n",
    "print  't%s='%len(C+P-2),np.round(ttest[0],3) , 'p=',np.round(ttest[1],5)"
   ]
  },
  {
   "cell_type": "code",
   "execution_count": 12,
   "metadata": {},
   "outputs": [
    {
     "name": "stdout",
     "output_type": "stream",
     "text": [
      "MannwhitneyuResult(statistic=149.0, pvalue=0.1275703129052515)\n",
      "controls = 0.495933241138 0.143204821551\n",
      "patients = 0.447706292633 0.146394848492\n",
      "t39= 149.0 p= 0.12757\n"
     ]
    }
   ],
   "source": [
    "C = df_controls.THA_Gln_Glu.dropna()\n",
    "P = df_patients.THA_Gln_Glu.drop(['TT3P'],axis=0).dropna()\n",
    "ttest = mannwhitneyu(C,P)\n",
    "print ttest\n",
    "print 'controls =', np.mean(C), np.std(C)\n",
    "print 'patients =', np.mean(P), np.std(P)\n",
    "print  't%s='%len(C+P-2),np.round(ttest[0],3) , 'p=',np.round(ttest[1],5)"
   ]
  },
  {
   "cell_type": "code",
   "execution_count": null,
   "metadata": {
    "collapsed": true
   },
   "outputs": [],
   "source": []
  },
  {
   "cell_type": "code",
   "execution_count": null,
   "metadata": {
    "collapsed": true
   },
   "outputs": [],
   "source": []
  },
  {
   "cell_type": "code",
   "execution_count": 13,
   "metadata": {},
   "outputs": [
    {
     "name": "stderr",
     "output_type": "stream",
     "text": [
      "/Users/kanaan/anaconda/lib/python2.7/site-packages/sklearn/utils/validation.py:475: DataConversionWarning: Data with input dtype int64 was converted to float64 by the scale function.\n",
      "  warnings.warn(msg, DataConversionWarning)\n",
      "/Users/kanaan/anaconda/lib/python2.7/site-packages/ipykernel_launcher.py:32: DeprecationWarning: \n",
      ".ix is deprecated. Please use\n",
      ".loc for label based indexing or\n",
      ".iloc for positional indexing\n",
      "\n",
      "See the documentation here:\n",
      "http://pandas.pydata.org/pandas-docs/stable/indexing.html#ix-indexer-is-deprecated\n"
     ]
    },
    {
     "data": {
      "text/html": [
       "<div>\n",
       "<style>\n",
       "    .dataframe thead tr:only-child th {\n",
       "        text-align: right;\n",
       "    }\n",
       "\n",
       "    .dataframe thead th {\n",
       "        text-align: left;\n",
       "    }\n",
       "\n",
       "    .dataframe tbody tr th {\n",
       "        vertical-align: top;\n",
       "    }\n",
       "</style>\n",
       "<table border=\"1\" class=\"dataframe\">\n",
       "  <thead>\n",
       "    <tr style=\"text-align: right;\">\n",
       "      <th></th>\n",
       "      <th>Controls</th>\n",
       "      <th>Patients</th>\n",
       "      <th>DOF</th>\n",
       "      <th>t_val</th>\n",
       "      <th>p_val</th>\n",
       "    </tr>\n",
       "  </thead>\n",
       "  <tbody>\n",
       "    <tr>\n",
       "      <th>CLN_YGTSS_Motoric_Score</th>\n",
       "      <td>0.0±0.0</td>\n",
       "      <td>12.96±4.14</td>\n",
       "      <td>44</td>\n",
       "      <td>-14.67</td>\n",
       "      <td>0</td>\n",
       "    </tr>\n",
       "    <tr>\n",
       "      <th>CLN_YGTSS_Vocal_Score</th>\n",
       "      <td>0.0±0.0</td>\n",
       "      <td>6.96±5.91</td>\n",
       "      <td>44</td>\n",
       "      <td>-5.52</td>\n",
       "      <td>2e-06</td>\n",
       "    </tr>\n",
       "    <tr>\n",
       "      <th>CLN_RVTRS</th>\n",
       "      <td>0.0±0.0</td>\n",
       "      <td>8.09±4.52</td>\n",
       "      <td>44</td>\n",
       "      <td>-8.39</td>\n",
       "      <td>0</td>\n",
       "    </tr>\n",
       "    <tr>\n",
       "      <th>CLN_puts</th>\n",
       "      <td>0.0±0.0</td>\n",
       "      <td>18.91±5.83</td>\n",
       "      <td>44</td>\n",
       "      <td>-15.22</td>\n",
       "      <td>0</td>\n",
       "    </tr>\n",
       "    <tr>\n",
       "      <th>CLN_qol_score</th>\n",
       "      <td>0.0±0.0</td>\n",
       "      <td>29.7±20.75</td>\n",
       "      <td>44</td>\n",
       "      <td>-6.71</td>\n",
       "      <td>0</td>\n",
       "    </tr>\n",
       "    <tr>\n",
       "      <th>CLN_OCIR_total_score</th>\n",
       "      <td>5.74±5.97</td>\n",
       "      <td>14.22±12.45</td>\n",
       "      <td>44</td>\n",
       "      <td>-2.88</td>\n",
       "      <td>0.006118</td>\n",
       "    </tr>\n",
       "    <tr>\n",
       "      <th>CLN_YBOCS_Totalscore_Items_1to10</th>\n",
       "      <td>0.0±0.0</td>\n",
       "      <td>1.39±3.31</td>\n",
       "      <td>44</td>\n",
       "      <td>-1.97</td>\n",
       "      <td>0.054734</td>\n",
       "    </tr>\n",
       "    <tr>\n",
       "      <th>CLN_DSM4_ADHD_Score</th>\n",
       "      <td>1.17±1.93</td>\n",
       "      <td>6.7±5.25</td>\n",
       "      <td>44</td>\n",
       "      <td>-4.63</td>\n",
       "      <td>3.2e-05</td>\n",
       "    </tr>\n",
       "    <tr>\n",
       "      <th>CLN_CAARS_Score_ADHS_Symptoms_Total_Cat_G_T_Score</th>\n",
       "      <td>39.27±7.53</td>\n",
       "      <td>50.24±12.16</td>\n",
       "      <td>41</td>\n",
       "      <td>-3.49</td>\n",
       "      <td>0.001174</td>\n",
       "    </tr>\n",
       "    <tr>\n",
       "      <th>CLN_BDI12</th>\n",
       "      <td>1.78±3.37</td>\n",
       "      <td>13.26±12.14</td>\n",
       "      <td>44</td>\n",
       "      <td>-4.27</td>\n",
       "      <td>0.000102</td>\n",
       "    </tr>\n",
       "    <tr>\n",
       "      <th>CLN_MADRS</th>\n",
       "      <td>0.57±0.77</td>\n",
       "      <td>7.96±8.34</td>\n",
       "      <td>44</td>\n",
       "      <td>-4.14</td>\n",
       "      <td>0.000156</td>\n",
       "    </tr>\n",
       "    <tr>\n",
       "      <th>CLN_BAI</th>\n",
       "      <td>2.74±3.29</td>\n",
       "      <td>13.3±13.18</td>\n",
       "      <td>44</td>\n",
       "      <td>-3.65</td>\n",
       "      <td>0.000694</td>\n",
       "    </tr>\n",
       "    <tr>\n",
       "      <th>GTS_PURE</th>\n",
       "      <td>NaN</td>\n",
       "      <td>14</td>\n",
       "      <td>NaN</td>\n",
       "      <td>NaN</td>\n",
       "      <td>NaN</td>\n",
       "    </tr>\n",
       "    <tr>\n",
       "      <th>GTS_OCD</th>\n",
       "      <td>NaN</td>\n",
       "      <td>3</td>\n",
       "      <td>NaN</td>\n",
       "      <td>NaN</td>\n",
       "      <td>NaN</td>\n",
       "    </tr>\n",
       "    <tr>\n",
       "      <th>GTS_ADHD</th>\n",
       "      <td>NaN</td>\n",
       "      <td>5</td>\n",
       "      <td>NaN</td>\n",
       "      <td>NaN</td>\n",
       "      <td>NaN</td>\n",
       "    </tr>\n",
       "    <tr>\n",
       "      <th>GTS_OCD_ADHD</th>\n",
       "      <td>NaN</td>\n",
       "      <td>1</td>\n",
       "      <td>NaN</td>\n",
       "      <td>NaN</td>\n",
       "      <td>NaN</td>\n",
       "    </tr>\n",
       "  </tbody>\n",
       "</table>\n",
       "</div>"
      ],
      "text/plain": [
       "                                                     Controls     Patients  \\\n",
       "CLN_YGTSS_Motoric_Score                               0.0±0.0   12.96±4.14   \n",
       "CLN_YGTSS_Vocal_Score                                 0.0±0.0    6.96±5.91   \n",
       "CLN_RVTRS                                             0.0±0.0    8.09±4.52   \n",
       "CLN_puts                                              0.0±0.0   18.91±5.83   \n",
       "CLN_qol_score                                         0.0±0.0   29.7±20.75   \n",
       "CLN_OCIR_total_score                                5.74±5.97  14.22±12.45   \n",
       "CLN_YBOCS_Totalscore_Items_1to10                      0.0±0.0    1.39±3.31   \n",
       "CLN_DSM4_ADHD_Score                                 1.17±1.93     6.7±5.25   \n",
       "CLN_CAARS_Score_ADHS_Symptoms_Total_Cat_G_T_Score  39.27±7.53  50.24±12.16   \n",
       "CLN_BDI12                                           1.78±3.37  13.26±12.14   \n",
       "CLN_MADRS                                           0.57±0.77    7.96±8.34   \n",
       "CLN_BAI                                             2.74±3.29   13.3±13.18   \n",
       "GTS_PURE                                                  NaN           14   \n",
       "GTS_OCD                                                   NaN            3   \n",
       "GTS_ADHD                                                  NaN            5   \n",
       "GTS_OCD_ADHD                                              NaN            1   \n",
       "\n",
       "                                                   DOF  t_val     p_val  \n",
       "CLN_YGTSS_Motoric_Score                             44 -14.67         0  \n",
       "CLN_YGTSS_Vocal_Score                               44  -5.52     2e-06  \n",
       "CLN_RVTRS                                           44  -8.39         0  \n",
       "CLN_puts                                            44 -15.22         0  \n",
       "CLN_qol_score                                       44  -6.71         0  \n",
       "CLN_OCIR_total_score                                44  -2.88  0.006118  \n",
       "CLN_YBOCS_Totalscore_Items_1to10                    44  -1.97  0.054734  \n",
       "CLN_DSM4_ADHD_Score                                 44  -4.63   3.2e-05  \n",
       "CLN_CAARS_Score_ADHS_Symptoms_Total_Cat_G_T_Score   41  -3.49  0.001174  \n",
       "CLN_BDI12                                           44  -4.27  0.000102  \n",
       "CLN_MADRS                                           44  -4.14  0.000156  \n",
       "CLN_BAI                                             44  -3.65  0.000694  \n",
       "GTS_PURE                                           NaN    NaN       NaN  \n",
       "GTS_OCD                                            NaN    NaN       NaN  \n",
       "GTS_ADHD                                           NaN    NaN       NaN  \n",
       "GTS_OCD_ADHD                                       NaN    NaN       NaN  "
      ]
     },
     "execution_count": 13,
     "metadata": {},
     "output_type": "execute_result"
    }
   ],
   "source": [
    "def make_bsl_demographic_table(dfc,dfp):\n",
    "    cols = [#'N',\n",
    "            #'Gender', \n",
    "            'CLN_YGTSS_Motoric_Score',\n",
    "            'CLN_YGTSS_Vocal_Score',#, \n",
    "            'CLN_RVTRS',\n",
    "            'CLN_puts',\n",
    "            'CLN_qol_score', \n",
    "            'CLN_OCIR_total_score',\n",
    "            'CLN_YBOCS_Totalscore_Items_1to10', \n",
    "            'CLN_DSM4_ADHD_Score',\n",
    "            'CLN_CAARS_Score_ADHS_Symptoms_Total_Cat_G_T_Score',\n",
    "            'CLN_BDI12', \n",
    "            'CLN_MADRS',\n",
    "            'CLN_BAI', \n",
    "            #'STR_Gln_Glu',  'THA_Gln_Glu', 'ACC_Gln_Glu', \n",
    "            'GTS_PURE', 'GTS_OCD','GTS_ADHD','GTS_OCD_ADHD'\n",
    "            ]\n",
    "    \n",
    "    rows = [#'N' ,\n",
    "            'Controls', 'Patients', 'DOF','t_val', 'p_val' #'Levene', 'KSC','KSP','D',\n",
    "           ]\n",
    "    dfs= pd.DataFrame(index = rows, columns=cols)\n",
    "    \n",
    "    for col in cols[:-4]:\n",
    "        \n",
    "        t_val, p_val = ttest_ind(dfc[col].dropna(), dfp[col].dropna())\n",
    "        lvn          = levene(dfc[col].dropna(), dfp[col].dropna())\n",
    "        ksc          = kstest(preprocessing.scale(dfc[col].dropna()), 'norm')\n",
    "        ksp          = kstest(preprocessing.scale(dfp[col].dropna()), 'norm')\n",
    "        #dfs.ix['N'][col]        = len(dfc.index), len(dfp.index)\n",
    "        dfs.ix['Controls'][col] = '%s±%s' %(np.round(np.mean(dfc[col].dropna()),2), np.round(np.std(dfc[col].dropna()),2)  )\n",
    "        dfs.ix['Patients'][col] = '%s±%s' %(np.round(np.mean(dfp[col].dropna()),2), np.round(np.std(dfp[col].dropna()),2)  )\n",
    "        dfs.ix['DOF'][col]      =  len(dfc[col].dropna()) + len(dfp[col].dropna()) - 2\n",
    "        dfs.ix['t_val'][col]    = np.round(t_val,2)\n",
    "        dfs.ix['p_val'][col]    = np.round(p_val,6)\n",
    "        #dfs.ix['D'][col]        = np.round(cohen_d(dfc,dfp, col),2)\n",
    "        #dfs.ix['Levene'][col]   = np.round(lvn[1],2)\n",
    "        #dfs.ix['KSC'][col]      = np.round(ksc[1],2)\n",
    "        #dfs.ix['KSP'][col]      = np.round(ksp[1],2)\n",
    "    \n",
    "    dfs.ix['Patients']['GTS_PURE']  = len([subject for subject in dfp.index if dfp.loc[subject]['Diagnosis'] == 'GTS'])\n",
    "    dfs.ix['Patients']['GTS_OCD']  = len([subject for subject in dfp.index if dfp.loc[subject]['Diagnosis'] == 'GTS_OCD'])  \n",
    "    dfs.ix['Patients']['GTS_ADHD']  = len([subject for subject in dfp.index if dfp.loc[subject]['Diagnosis'] == 'GTS_ADHD'])\n",
    "    dfs.ix['Patients']['GTS_OCD_ADHD']  = len([subject for subject in dfp.index if dfp.loc[subject]['Diagnosis'] == 'GTS_OCD_ADHD'])\n",
    "    return dfs.T\n",
    "\n",
    "make_bsl_demographic_table(df_controls, df_patients)"
   ]
  },
  {
   "cell_type": "code",
   "execution_count": 14,
   "metadata": {},
   "outputs": [
    {
     "data": {
      "text/plain": [
       "47"
      ]
     },
     "execution_count": 14,
     "metadata": {},
     "output_type": "execute_result"
    }
   ],
   "source": [
    "26+23-2"
   ]
  },
  {
   "cell_type": "code",
   "execution_count": 15,
   "metadata": {},
   "outputs": [
    {
     "data": {
      "text/plain": [
       "12.956521739130435"
      ]
     },
     "execution_count": 15,
     "metadata": {},
     "output_type": "execute_result"
    }
   ],
   "source": [
    "np.mean(df_patients.CLN_YGTSS_Motoric_Score)"
   ]
  },
  {
   "cell_type": "code",
   "execution_count": 16,
   "metadata": {},
   "outputs": [
    {
     "data": {
      "text/plain": [
       "SMVX    0.0\n",
       "SS1X    0.0\n",
       "STQT    0.0\n",
       "HM1X    0.0\n",
       "TR4T    0.0\n",
       "WSKT    NaN\n",
       "FA2T    NaN\n",
       "SC1T    NaN\n",
       "GSNT    0.0\n",
       "PAHT    0.0\n",
       "LL5T    0.0\n",
       "RJJT    0.0\n",
       "KO4T    0.0\n",
       "HM2X    0.0\n",
       "SDCT    0.0\n",
       "MJBT    0.0\n",
       "EC9T    0.0\n",
       "RA7T    0.0\n",
       "GHAT    0.0\n",
       "PU2T    0.0\n",
       "TJ5T    0.0\n",
       "BH5T    0.0\n",
       "LMIT    0.0\n",
       "GSAT    0.0\n",
       "TV1T    0.0\n",
       "RMNT    0.0\n",
       "Name: CLN_YGTSS_Motoric_Score, dtype: float64"
      ]
     },
     "execution_count": 16,
     "metadata": {},
     "output_type": "execute_result"
    }
   ],
   "source": [
    "df_controls.CLN_YGTSS_Motoric_Score"
   ]
  },
  {
   "cell_type": "code",
   "execution_count": null,
   "metadata": {
    "collapsed": true
   },
   "outputs": [],
   "source": []
  },
  {
   "cell_type": "code",
   "execution_count": null,
   "metadata": {
    "collapsed": true
   },
   "outputs": [],
   "source": []
  },
  {
   "cell_type": "code",
   "execution_count": null,
   "metadata": {
    "collapsed": true
   },
   "outputs": [],
   "source": []
  },
  {
   "cell_type": "code",
   "execution_count": null,
   "metadata": {
    "collapsed": true
   },
   "outputs": [],
   "source": []
  },
  {
   "cell_type": "code",
   "execution_count": null,
   "metadata": {
    "collapsed": true
   },
   "outputs": [],
   "source": []
  },
  {
   "cell_type": "code",
   "execution_count": null,
   "metadata": {
    "collapsed": true
   },
   "outputs": [],
   "source": []
  },
  {
   "cell_type": "code",
   "execution_count": null,
   "metadata": {
    "collapsed": true
   },
   "outputs": [],
   "source": []
  },
  {
   "cell_type": "code",
   "execution_count": null,
   "metadata": {
    "collapsed": true
   },
   "outputs": [],
   "source": []
  },
  {
   "cell_type": "code",
   "execution_count": null,
   "metadata": {
    "collapsed": true
   },
   "outputs": [],
   "source": []
  }
 ],
 "metadata": {
  "kernelspec": {
   "display_name": "Python 2",
   "language": "python",
   "name": "python2"
  },
  "language_info": {
   "codemirror_mode": {
    "name": "ipython",
    "version": 2
   },
   "file_extension": ".py",
   "mimetype": "text/x-python",
   "name": "python",
   "nbconvert_exporter": "python",
   "pygments_lexer": "ipython2",
   "version": "2.7.13"
  }
 },
 "nbformat": 4,
 "nbformat_minor": 2
}
