{
 "cells": [
  {
   "cell_type": "code",
   "execution_count": 3,
   "metadata": {},
   "outputs": [],
   "source": [
    "%matplotlib inline\n",
    "import os \n",
    "import numpy as np\n",
    "from numpy import mean, std\n",
    "import pandas as pd\n",
    "import seaborn as sns\n",
    "import matplotlib.pyplot as plt\n",
    "from scipy.stats import ttest_rel, ttest_ind, mannwhitneyu, wilcoxon, spearmanr,pearsonr, fisher_exact,kstest\n",
    "from scipy.stats import ks_2samp, kstest, anderson, anderson_ksamp, levene\n",
    "from statsmodels.sandbox.stats.multicomp import fdrcorrection0\n",
    "from sklearn import preprocessing\n",
    "import statsmodels.api as sm\n",
    "pd.options.display.max_columns = 999\n",
    "import statsmodels.formula.api as smf\n",
    "import scipy.stats as ss \n",
    "import math \n",
    "from outliers import smirnov_grubbs as grubbs\n",
    "sns.set_style('white')\n",
    "\n",
    "workspace_dir  = '/Users/kanaaax/Google Drive/TS-EUROTRAIN/RESULTS_QSMv3/dataframes'\n",
    "pheno_dir      = os.path.join(workspace_dir, 'phenotypic')\n",
    "clinical_dir   = os.path.join(workspace_dir, 'DF_clinical')\n",
    "save_fig_dir        = '/Users/kanaaax/Google Drive/TS-EUROTRAIN/Papers/2016_QSM_paper/Figures_python_v2'\n",
    "\n",
    "dpi = 300"
   ]
  },
  {
   "cell_type": "markdown",
   "metadata": {},
   "source": [
    "# Get QSM QC dataframes "
   ]
  },
  {
   "cell_type": "code",
   "execution_count": 4,
   "metadata": {},
   "outputs": [
    {
     "name": "stderr",
     "output_type": "stream",
     "text": [
      "/Users/kanaaax/anaconda2/lib/python2.7/site-packages/ipykernel_launcher.py:13: FutureWarning: Sorting because non-concatenation axis is not aligned. A future version\n",
      "of pandas will change to not sort by default.\n",
      "\n",
      "To accept the future behavior, pass 'sort=False'.\n",
      "\n",
      "To retain the current behavior and silence the warning, pass 'sort=True'.\n",
      "\n",
      "  del sys.path[0]\n"
     ]
    }
   ],
   "source": [
    "def get_df(popname):\n",
    "    df = pd.read_csv(os.path.join(pheno_dir, 'df_%s_qc.csv'%popname),index_col = 0)\n",
    "    return df \n",
    "\n",
    "controls = get_df('controls')\n",
    "patients = get_df('patients')\n",
    "\n",
    "# Subjects beyond normal serum ferritin range and 3SDs\n",
    "drop_c = ['RJJT'] \n",
    "drop_p = ['SA5U'] \n",
    "\n",
    "#concatenate dataframes\n",
    "df_all = pd.concat([controls, patients], axis =0).drop(drop_p + drop_c, axis = 0)"
   ]
  },
  {
   "cell_type": "markdown",
   "metadata": {},
   "source": [
    "# Define fitting forumula and plotting functions"
   ]
  },
  {
   "cell_type": "code",
   "execution_count": 5,
   "metadata": {},
   "outputs": [],
   "source": [
    "def sortdf(df,m):\n",
    "    return df.sort(m)[m]\n",
    " \n",
    "def plot_partial_correlation(data, x, y,xlim = None, ylim = None, regressors = None, color = None, annotate = 0, fig_name = None, \n",
    "                             dpi = 100, labels = True, jitter = None,fit_reg=True, scatter=1,\n",
    "                             plot_marg = 1, ci = 95, lstyle='-',lw=2.5, label = None, printp=False):\n",
    "    \n",
    "    regressors_columns = [data[regressor] for regressor in regressors]\n",
    "    df_reg = pd.concat(regressors_columns, axis = 1).dropna(axis=0) \n",
    "    df = pd.concat([df_reg, data[x], data[y]], axis=1).dropna()\n",
    "    \n",
    "    # inititlize grid and plot regression and margins \n",
    "    grid = sns.JointGrid(x, y, data=df,xlim=xlim, ylim=ylim)#, size=size, ratio=ratio, space=space, #) \n",
    "    \n",
    "    if plot_marg:\n",
    "        grid.plot_marginals(sns.distplot, color = color, hist=False, kde = True, rug = 0, kde_kws={'shade':True})  \n",
    "    \n",
    "    grid.plot_joint(sns.regplot, fit_reg=fit_reg, scatter= scatter, color = color, x_partial = df[regressors], y_jitter = jitter, \n",
    "                    ci = ci, line_kws={'linestyle': lstyle, 'lw':lw}, scatter_kws={\"s\": 25})\n",
    "    if labels:\n",
    "        grid.set_axis_labels(x, y, fontsize= 15, weight='bold', color='blue', labelpad=10)\n",
    "    else:\n",
    "        grid.set_axis_labels(None,None)\n",
    "    \n",
    "    ## calculate regression parameters \n",
    "    \n",
    "    formula = [ '%s ~ %s'%(y,x) + ' + %s'%regressor for regressor in regressors][0]\n",
    "    model   = smf.ols(formula=formula, data= df)\n",
    "    result = model.fit() \n",
    "    p_val  = np.round(result.pvalues[1], 7)\n",
    "    pcor   = math.copysign(np.round(np.sqrt(result.rsquared), 3) , result.params[1])\n",
    "    \n",
    "    plt.xticks(fontsize=12, weight='bold')\n",
    "    plt.yticks(fontsize=12, weight='bold')\n",
    "    \n",
    "    if label:\n",
    "        plt.ylabel(y)\n",
    "        plt.xlabel(x)\n",
    "    else:\n",
    "        grid.set_axis_labels()\n",
    "        \n",
    "    if annotate == 1:\n",
    "        annotate = (plt.xlim()[1]*0.6,  plt.ylim()[1]*0.95)\n",
    "        plt.annotate('R=%s, P=%s' %(pcor, p_val), xy = annotate, fontsize = 13,  color='r')\n",
    "    elif annotate == 0:\n",
    "        pass\n",
    "    else:\n",
    "        plt.annotate('R=%s, P=%s' %(pcor, p_val), xy = annotate, fontsize = 13,  color='r')\n",
    "    \n",
    "    \n",
    "    if fig_name:\n",
    "        plt.savefig(os.path.join(save_fig_dir, fig_name), dpi = dpi, bbox_inches='tight', transparent = True)\n",
    "    \n",
    "    if printp:\n",
    "        print pcor, p_val\n",
    "    return result\n",
    "\n",
    "def plot_joint(df,m1,m2, drop = []):\n",
    "    DF  = pd.DataFrame([df[m1] , df[m2]] ).T.dropna()\n",
    "    sns.jointplot(x=m1, y=m2, data=DF.drop(drop, axis = 0), kind = 'reg')"
   ]
  },
  {
   "cell_type": "markdown",
   "metadata": {},
   "source": [
    "# Visualize relationship between serum ferritin and striatal susceptibility "
   ]
  },
  {
   "cell_type": "code",
   "execution_count": 15,
   "metadata": {},
   "outputs": [
    {
     "name": "stderr",
     "output_type": "stream",
     "text": [
      "/Users/kanaaax/anaconda2/lib/python2.7/site-packages/ipykernel_launcher.py:3: FutureWarning: Sorting because non-concatenation axis is not aligned. A future version\n",
      "of pandas will change to not sort by default.\n",
      "\n",
      "To accept the future behavior, pass 'sort=False'.\n",
      "\n",
      "To retain the current behavior and silence the warning, pass 'sort=True'.\n",
      "\n",
      "  This is separate from the ipykernel package so we can avoid doing imports until\n"
     ]
    },
    {
     "name": "stdout",
     "output_type": "stream",
     "text": [
      "0.543 0.0204883\n"
     ]
    },
    {
     "data": {
      "text/plain": [
       "<statsmodels.regression.linear_model.RegressionResultsWrapper at 0x1c23b10dd0>"
      ]
     },
     "execution_count": 15,
     "metadata": {},
     "output_type": "execute_result"
    },
    {
     "data": {
      "image/png": "[encoded data removed]",
      "text/plain": [
       "<Figure size 432x432 with 3 Axes>"
      ]
     },
     "metadata": {
      "needs_background": "light"
     },
     "output_type": "display_data"
    },
    {
     "data": {
      "image/png": "[encoded data removed]",
      "text/plain": [
       "<Figure size 432x432 with 3 Axes>"
      ]
     },
     "metadata": {
      "needs_background": "light"
     },
     "output_type": "display_data"
    },
    {
     "data": {
      "image/png": "[encoded data removed]",
      "text/plain": [
       "<Figure size 432x432 with 3 Axes>"
      ]
     },
     "metadata": {
      "needs_background": "light"
     },
     "output_type": "display_data"
    }
   ],
   "source": [
    "drop_p = ['SA5U']\n",
    "drop_c = ['RJJT']\n",
    "df_all = pd.concat([controls, patients], axis =0).drop(drop_p + drop_c, axis = 0)\n",
    "\n",
    "x = 'CLN_Ferritin'\n",
    "y = 'BG'\n",
    "regressorsx = ['Age', 'Gender', 'QI1_MAG', 'EFC_MAG']\n",
    "xlim  = (-200, 600)\n",
    "ylim  = (-30,90)\n",
    "\n",
    "plot_partial_correlation(controls, x, y, regressors = regressorsx, color = 'b', ci = None,\n",
    "                         labels = False, lstyle='--', lw=0.7, #annotate = (250,80),\n",
    "                         fit_reg=1, scatter=1, plot_marg = 1, dpi = dpi, xlim=xlim,ylim=ylim, label = 0,\n",
    "                         #fig_name = 'corr_chi_fer_controls.png'\n",
    "                        )\n",
    "\n",
    "plot_partial_correlation(patients.drop(drop_p,axis=0), x, y, regressors = regressorsx, color = 'r', ci = None,\n",
    "                         labels = False, lstyle='--', lw=0.7, #annotate = (250,70),\n",
    "                         fit_reg=1, scatter=1, plot_marg = 1, dpi = dpi, xlim=xlim,ylim=ylim, label = 0,\n",
    "                         #fig_name = 'corr_chi_ferr_patients.png'\n",
    "                        )\n",
    "\n",
    "plot_partial_correlation(df_all, x, y, regressors = regressorsx, color = 'g', \n",
    "                         labels = False, printp=1, #annotate = (250,60),\n",
    "                         fit_reg=True, scatter=0, plot_marg = 0, dpi = dpi, xlim=xlim,ylim=ylim, label = 0,\n",
    "                         #fig_name = 'corr_chi_ferr_all.png'\n",
    "                        )\n"
   ]
  },
  {
   "cell_type": "markdown",
   "metadata": {},
   "source": [
    "# Extract QSM and Ferritin data for indepdent sample from \n",
    "# https://www.nature.com/articles/sdata2018308\n"
   ]
  },
  {
   "cell_type": "code",
   "execution_count": 16,
   "metadata": {},
   "outputs": [],
   "source": [
    "lemon = pd.read_csv(os.path.join(pheno_dir, 'df_raw_lemon.csv'), index_col=0)\n",
    "lemon_cln =pd.read_csv(os.path.join(pheno_dir, 'df_lemon_ferritin.csv'),index_col=0)\n",
    "lemon_cln.index = [i.upper() for i in lemon_cln.index]\n",
    "lemon['ferritin'] = lemon_cln.Ergebnis\n",
    "\n",
    "x = 'ferritin'\n",
    "y = 'Caud_Puta'\n",
    "\n",
    "lemon = lemon.drop([i for i in lemon.columns if i not in regressorsx + [x,y]], axis=1).dropna()\n"
   ]
  },
  {
   "cell_type": "code",
   "execution_count": null,
   "metadata": {},
   "outputs": [],
   "source": []
  },
  {
   "cell_type": "code",
   "execution_count": 17,
   "metadata": {},
   "outputs": [
    {
     "ename": "NameError",
     "evalue": "name 'detect_outlier_subjects' is not defined",
     "output_type": "error",
     "traceback": [
      "\u001b[0;31m---------------------------------------------------------------------------\u001b[0m",
      "\u001b[0;31mNameError\u001b[0m                                 Traceback (most recent call last)",
      "\u001b[0;32m<ipython-input-17-03c21e3235db>\u001b[0m in \u001b[0;36m<module>\u001b[0;34m()\u001b[0m\n\u001b[1;32m      1\u001b[0m \u001b[0mnstd\u001b[0m \u001b[0;34m=\u001b[0m \u001b[0;36m2\u001b[0m\u001b[0;34m\u001b[0m\u001b[0m\n\u001b[0;32m----> 2\u001b[0;31m \u001b[0mdrop_ferr\u001b[0m  \u001b[0;34m=\u001b[0m \u001b[0mdetect_outlier_subjects\u001b[0m\u001b[0;34m(\u001b[0m\u001b[0mlemon\u001b[0m\u001b[0;34m,\u001b[0m\u001b[0;34m'ferritin'\u001b[0m\u001b[0;34m,\u001b[0m\u001b[0mm\u001b[0m\u001b[0;34m=\u001b[0m\u001b[0mnstd\u001b[0m\u001b[0;34m)\u001b[0m\u001b[0;34m\u001b[0m\u001b[0m\n\u001b[0m\u001b[1;32m      3\u001b[0m \u001b[0mdrop_chi\u001b[0m   \u001b[0;34m=\u001b[0m \u001b[0mdetect_outlier_subjects\u001b[0m\u001b[0;34m(\u001b[0m\u001b[0mlemon\u001b[0m\u001b[0;34m,\u001b[0m\u001b[0my\u001b[0m\u001b[0;34m,\u001b[0m\u001b[0mm\u001b[0m\u001b[0;34m=\u001b[0m\u001b[0mnstd\u001b[0m\u001b[0;34m)\u001b[0m\u001b[0;34m\u001b[0m\u001b[0m\n\u001b[1;32m      4\u001b[0m \u001b[0mdrop_chibg\u001b[0m \u001b[0;34m=\u001b[0m \u001b[0;34m[\u001b[0m\u001b[0mi\u001b[0m \u001b[0;32mfor\u001b[0m \u001b[0mi\u001b[0m \u001b[0;32min\u001b[0m \u001b[0mlemon\u001b[0m\u001b[0;34m.\u001b[0m\u001b[0mindex\u001b[0m \u001b[0;32mif\u001b[0m \u001b[0mlemon\u001b[0m\u001b[0;34m.\u001b[0m\u001b[0mloc\u001b[0m\u001b[0;34m[\u001b[0m\u001b[0mi\u001b[0m\u001b[0;34m]\u001b[0m\u001b[0;34m[\u001b[0m\u001b[0my\u001b[0m\u001b[0;34m]\u001b[0m \u001b[0;34m<\u001b[0m \u001b[0;34m-\u001b[0m\u001b[0;36m10.\u001b[0m\u001b[0;34m]\u001b[0m\u001b[0;34m\u001b[0m\u001b[0m\n\u001b[1;32m      5\u001b[0m \u001b[0mdrop_ferrx\u001b[0m \u001b[0;34m=\u001b[0m \u001b[0;34m[\u001b[0m\u001b[0mi\u001b[0m \u001b[0;32mfor\u001b[0m \u001b[0mi\u001b[0m \u001b[0;32min\u001b[0m \u001b[0mlemon\u001b[0m\u001b[0;34m.\u001b[0m\u001b[0mindex\u001b[0m \u001b[0;32mif\u001b[0m \u001b[0mlemon\u001b[0m\u001b[0;34m.\u001b[0m\u001b[0mloc\u001b[0m\u001b[0;34m[\u001b[0m\u001b[0mi\u001b[0m\u001b[0;34m]\u001b[0m\u001b[0;34m[\u001b[0m\u001b[0;34m'ferritin'\u001b[0m\u001b[0;34m]\u001b[0m \u001b[0;34m>\u001b[0m \u001b[0;36m400.\u001b[0m\u001b[0;34m]\u001b[0m\u001b[0;34m\u001b[0m\u001b[0m\n",
      "\u001b[0;31mNameError\u001b[0m: name 'detect_outlier_subjects' is not defined"
     ]
    }
   ],
   "source": [
    "nstd = 2\n",
    "drop_ferr  = detect_outlier_subjects(lemon,'ferritin',m=nstd)\n",
    "drop_chi   = detect_outlier_subjects(lemon,y,m=nstd)\n",
    "drop_chibg = [i for i in lemon.index if lemon.loc[i][y] < -10.]\n",
    "drop_ferrx = [i for i in lemon.index if lemon.loc[i]['ferritin'] > 400.]\n",
    "\n",
    "outliers = np.unique(drop_chi\n",
    "                     +drop_ferr\n",
    "                     +drop_chibg\n",
    "                    )\n",
    "\n",
    "df = lemon.drop(outliers)\n",
    "\n",
    "regressorsz = [\"Gender\",'QI1_MAG', 'EFC_MAG']\n",
    "#xlim  = None#(-100, 600)\n",
    "#ylim  = None#(-20,70)\n",
    "\n",
    "plot_partial_correlation(df, x, y, regressors = regressorsz, color = 'g', \n",
    "                         labels = False, printp=1, #annotate = (200,30),\n",
    "                         fit_reg=True, scatter=1, plot_marg = 1, dpi = dpi, xlim=xlim,ylim=ylim, label = 1,\n",
    "                        )"
   ]
  },
  {
   "cell_type": "code",
   "execution_count": null,
   "metadata": {},
   "outputs": [],
   "source": [
    "len(lemon)"
   ]
  },
  {
   "cell_type": "code",
   "execution_count": null,
   "metadata": {},
   "outputs": [],
   "source": []
  },
  {
   "cell_type": "code",
   "execution_count": null,
   "metadata": {},
   "outputs": [],
   "source": []
  },
  {
   "cell_type": "code",
   "execution_count": null,
   "metadata": {},
   "outputs": [],
   "source": []
  },
  {
   "cell_type": "code",
   "execution_count": null,
   "metadata": {},
   "outputs": [],
   "source": []
  },
  {
   "cell_type": "code",
   "execution_count": null,
   "metadata": {},
   "outputs": [],
   "source": []
  }
 ],
 "metadata": {
  "kernelspec": {
   "display_name": "Python 2",
   "language": "python",
   "name": "python2"
  },
  "language_info": {
   "codemirror_mode": {
    "name": "ipython",
    "version": 2
   },
   "file_extension": ".py",
   "mimetype": "text/x-python",
   "name": "python",
   "nbconvert_exporter": "python",
   "pygments_lexer": "ipython2",
   "version": "2.7.16"
  }
 },
 "nbformat": 4,
 "nbformat_minor": 2
}
