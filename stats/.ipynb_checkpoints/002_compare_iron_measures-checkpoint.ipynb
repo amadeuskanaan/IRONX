{
 "cells": [
  {
   "cell_type": "code",
   "execution_count": 49,
   "metadata": {},
   "outputs": [],
   "source": [
    "%matplotlib inline\n",
    "import os, sys\n",
    "import numpy as np\n",
    "import seaborn as sns\n",
    "import pandas as pd\n",
    "import matplotlib.pyplot as plt\n",
    "import warnings\n",
    "\n",
    "pd.options.display.max_columns = 999\n",
    "sns.set_style('white')\n",
    "if not sys.warnoptions:\n",
    "    warnings.simplefilter(\"ignore\")\n",
    "    \n",
    "workspace_dir  = '/Users/kanaaax/Google Drive/TS-EUROTRAIN/RESULTS_QSMv3/Dataframes'\n",
    "pheno_dir      = os.path.join(workspace_dir, 'phenotypic')\n",
    "clinical_dir   = os.path.join(workspace_dir, 'DF_clinical')\n",
    "save_fig_dir        = '/Users/kanaaax/Google Drive/TS-EUROTRAIN/Papers/2016_QSM_paper/Figures_python_v2'"
   ]
  },
  {
   "cell_type": "markdown",
   "metadata": {},
   "source": [
    "#  Grab QSM QC dataframes "
   ]
  },
  {
   "cell_type": "code",
   "execution_count": 70,
   "metadata": {},
   "outputs": [],
   "source": [
    "# qsm dfs\n",
    "def get_df(popname):\n",
    "    df = pd.read_csv(os.path.join(pheno_dir, 'df_%s_qc.csv'%popname),index_col = 0)\n",
    "    return df \n",
    "\n",
    "controls = get_df('controls')\n",
    "patients = get_df('patients')\n",
    "\n",
    "# clinical dfs\n",
    "def return_cln_df(population):\n",
    "    df = pd.read_csv(os.path.join(clinical_dir, 'clinical_%s.csv'%(population)), index_col=0)\n",
    "    return df   \n",
    "\n",
    "controls_cln = return_cln_df('controls')\n",
    "patients_cln = return_cln_df('patients')"
   ]
  },
  {
   "cell_type": "markdown",
   "metadata": {},
   "source": [
    "#  Define stat functions "
   ]
  },
  {
   "cell_type": "code",
   "execution_count": 75,
   "metadata": {},
   "outputs": [],
   "source": [
    "import math \n",
    "import statsmodels.api as sm\n",
    "import scipy.stats as ss \n",
    "import statsmodels.formula.api as smf\n",
    "from numpy import mean, std\n",
    "from scipy.stats import ttest_rel, ttest_ind, mannwhitneyu, wilcoxon, spearmanr,pearsonr, fisher_exact,kstest\n",
    "from scipy.stats import ks_2samp, kstest, anderson, anderson_ksamp, levene\n",
    "from statsmodels.sandbox.stats.multicomp import fdrcorrection0\n",
    "from sklearn import preprocessing\n",
    "from outliers import smirnov_grubbs as grubbs\n",
    "\n",
    "def cohen_d(df1,df2, metabolite):\n",
    "    x = df1[metabolite].dropna(axis=0)\n",
    "    y = df2[metabolite].dropna(axis=0)\n",
    "    return (np.mean(x) - np.mean(y)) / np.sqrt((np.std(x, ddof=1) ** 2 + np.std(y, ddof=1) ** 2) / 2.0)\n",
    "\n",
    "def detect_outlier_subjects(df,measure,m=3):\n",
    "    upper = np.mean(df[measure]) + m * np.std(df[measure])\n",
    "    lower = np.mean(df[measure]) - m * np.std(df[measure])\n",
    "    for subject in df.index:\n",
    "        if df.loc[subject][measure] > upper:\n",
    "            print subject\n",
    "        elif df.loc[subject][measure] < lower:\n",
    "            print subject\n",
    "\n",
    "def reject_outliers(data, m=3):\n",
    "    return data[abs(data - np.mean(data)) < m * np.std(data)]\n",
    "\n",
    "def calc_confidence_95(df1,df2, metabolite):\n",
    "    import numpy as np, statsmodels.stats.api as sms\n",
    "    X1 = df1[metabolite].dropna(axis=0)\n",
    "    X2 = df2[metabolite].dropna(axis=0)\n",
    "    cm = sms.CompareMeans(sms.DescrStatsW(X1), sms.DescrStatsW(X2))\n",
    "    return cm.tconfint_diff(usevar='pooled')\n"
   ]
  },
  {
   "cell_type": "markdown",
   "metadata": {},
   "source": [
    "#  Make stat tables "
   ]
  },
  {
   "cell_type": "code",
   "execution_count": 52,
   "metadata": {},
   "outputs": [],
   "source": [
    "def make_statistical_comparison(df_controls, df_patients, stat, measures):\n",
    "    df_controls['Group'] = 0\n",
    "    df_patients['Group'] = 1\n",
    "    cols = ['N','Controls', 'Patients','Levene','KS', 'KS_C', 'KS_P','D','CI_95', 'Statistic', 'p_val', 'p_fdr', 'sig']\n",
    "    dfs = pd.DataFrame(index= cols, columns=measures)\n",
    "    \n",
    "    df = pd.concat([df_controls, df_patients])\n",
    "    for measure in measures:\n",
    "        if stat == 'MR':\n",
    "            formula = '%s ~ Group + Age + Gender + EFC_MAG + QI1_MAG'%measure\n",
    "            model   = smf.ols(formula=formula, data = df)\n",
    "            fit     = model.fit()\n",
    "            p_val   = np.round(fit.pvalues[1],3)\n",
    "            t_val   = np.round(fit.tvalues[1],3)\n",
    "        \n",
    "        elif stat == 'MW':\n",
    "            t_val, p_val = mannwhitneyu(df_controls[measure].dropna(), df_patients[measure].dropna())\n",
    "            \n",
    "        elif stat == 'TT':\n",
    "            t_val, p_val = ttest_ind(df_controls[measure].dropna(), df_patients[measure].dropna())\n",
    "            \n",
    "        ci95 = calc_confidence_95(df_controls, df_patients, measure)\n",
    "        xval = 1\n",
    "        npr  = 2\n",
    "        dfs.ix['N'][measure] = len(df_controls[measure].dropna()), len(df_patients[measure].dropna())\n",
    "        dfs.ix['Levene'][measure] = np.round(levene(df_controls[measure].dropna(), df_patients[measure].dropna())[1],5)\n",
    "        dfs.ix['KS'][measure] = np.round(ks_2samp((df_controls[measure].dropna()), \n",
    "                                                  (df_patients[measure].dropna()))[1], 5)\n",
    "        dfs.ix['KS_C'][measure] = np.round(kstest((df_controls[measure].dropna()), 'norm')[1],5)\n",
    "        dfs.ix['KS_P'][measure] = np.round(kstest((df_patients[measure].dropna()), 'norm')[1],25)\n",
    "        dfs.ix['D'][measure]    = cohen_d(df_controls, df_patients,measure)\n",
    "        dfs.ix['Controls'][measure] = '%s±%s'%(xval*np.round(np.mean(df_controls[measure]),npr), \n",
    "                                              xval*np.round(np.std(df_controls[measure]), npr))   \n",
    "        dfs.ix['Patients'][measure] = '%s±%s'%(xval*np.round(np.mean(df_patients[measure]),npr), \n",
    "                                              xval*np.round(np.std(df_patients[measure]), npr))   \n",
    "        dfs.ix['D'][measure]    = np.round(cohen_d(df_controls, df_patients,measure),2)\n",
    "        dfs.ix['CI_95'][measure]= '%s to %s'%(np.round(ci95[0],2), np.round(ci95[1],5))\n",
    "        dfs.ix['Statistic'][measure]= np.round(t_val,4)        \n",
    "        dfs.ix['p_val'][measure]    = np.round(p_val,5)\n",
    "        \n",
    "        if p_val < 0.05:\n",
    "            print measure, 'p =', np.round(p_val,3)\n",
    "    \n",
    "    dfs = dfs.T.sort_values('p_val')\n",
    "    dfs['p_fdr'] = fdrcorrection0(dfs.p_val)[1]\n",
    "    dfs['sig'] = fdrcorrection0(dfs.p_val)[0]\n",
    "    return dfs, df "
   ]
  },
  {
   "cell_type": "markdown",
   "metadata": {},
   "source": [
    "# Compare QSM values for combinations of nuclei (Mann Whitney Wilcoxon test)"
   ]
  },
  {
   "cell_type": "code",
   "execution_count": 53,
   "metadata": {},
   "outputs": [
    {
     "name": "stdout",
     "output_type": "stream",
     "text": [
      "BG p = 0.004\n",
      "BS p = 0.011\n",
      "ALL p = 0.006\n"
     ]
    },
    {
     "data": {
      "text/html": [
       "<div>\n",
       "<style scoped>\n",
       "    .dataframe tbody tr th:only-of-type {\n",
       "        vertical-align: middle;\n",
       "    }\n",
       "\n",
       "    .dataframe tbody tr th {\n",
       "        vertical-align: top;\n",
       "    }\n",
       "\n",
       "    .dataframe thead th {\n",
       "        text-align: right;\n",
       "    }\n",
       "</style>\n",
       "<table border=\"1\" class=\"dataframe\">\n",
       "  <thead>\n",
       "    <tr style=\"text-align: right;\">\n",
       "      <th></th>\n",
       "      <th>N</th>\n",
       "      <th>Controls</th>\n",
       "      <th>Patients</th>\n",
       "      <th>Levene</th>\n",
       "      <th>KS</th>\n",
       "      <th>KS_C</th>\n",
       "      <th>KS_P</th>\n",
       "      <th>D</th>\n",
       "      <th>CI_95</th>\n",
       "      <th>Statistic</th>\n",
       "      <th>p_val</th>\n",
       "      <th>p_fdr</th>\n",
       "      <th>sig</th>\n",
       "    </tr>\n",
       "  </thead>\n",
       "  <tbody>\n",
       "    <tr>\n",
       "      <th>BG</th>\n",
       "      <td>(26, 23)</td>\n",
       "      <td>24.74±14.59</td>\n",
       "      <td>13.53±13.2</td>\n",
       "      <td>0.90264</td>\n",
       "      <td>0.0223</td>\n",
       "      <td>0</td>\n",
       "      <td>1.933e-15</td>\n",
       "      <td>0.79</td>\n",
       "      <td>3.01 to 19.41642</td>\n",
       "      <td>167</td>\n",
       "      <td>0.00421</td>\n",
       "      <td>0.008445</td>\n",
       "      <td>True</td>\n",
       "    </tr>\n",
       "    <tr>\n",
       "      <th>ALL</th>\n",
       "      <td>(26, 23)</td>\n",
       "      <td>70.49±18.45</td>\n",
       "      <td>56.65±18.17</td>\n",
       "      <td>0.729</td>\n",
       "      <td>0.00182</td>\n",
       "      <td>0</td>\n",
       "      <td>0</td>\n",
       "      <td>0.74</td>\n",
       "      <td>3.07 to 24.61333</td>\n",
       "      <td>172</td>\n",
       "      <td>0.00563</td>\n",
       "      <td>0.008445</td>\n",
       "      <td>True</td>\n",
       "    </tr>\n",
       "    <tr>\n",
       "      <th>BS</th>\n",
       "      <td>(26, 23)</td>\n",
       "      <td>116.24±25.05</td>\n",
       "      <td>99.77±26.3</td>\n",
       "      <td>0.9297</td>\n",
       "      <td>0.02398</td>\n",
       "      <td>0</td>\n",
       "      <td>0</td>\n",
       "      <td>0.63</td>\n",
       "      <td>1.4 to 31.55438</td>\n",
       "      <td>184</td>\n",
       "      <td>0.0109</td>\n",
       "      <td>0.0109</td>\n",
       "      <td>True</td>\n",
       "    </tr>\n",
       "  </tbody>\n",
       "</table>\n",
       "</div>"
      ],
      "text/plain": [
       "            N      Controls     Patients   Levene       KS KS_C       KS_P  \\\n",
       "BG   (26, 23)   24.74±14.59   13.53±13.2  0.90264   0.0223    0  1.933e-15   \n",
       "ALL  (26, 23)   70.49±18.45  56.65±18.17    0.729  0.00182    0          0   \n",
       "BS   (26, 23)  116.24±25.05   99.77±26.3   0.9297  0.02398    0          0   \n",
       "\n",
       "        D             CI_95 Statistic    p_val     p_fdr   sig  \n",
       "BG   0.79  3.01 to 19.41642       167  0.00421  0.008445  True  \n",
       "ALL  0.74  3.07 to 24.61333       172  0.00563  0.008445  True  \n",
       "BS   0.63   1.4 to 31.55438       184   0.0109    0.0109  True  "
      ]
     },
     "execution_count": 53,
     "metadata": {},
     "output_type": "execute_result"
    }
   ],
   "source": [
    "measures  = ['BG', 'BS', 'ALL']\n",
    "\n",
    "X, XX = make_statistical_comparison(controls, patients, 'MW', measures = measures)\n",
    "X#.drop(['Levene', 'KS', 'KS_C', 'KS_P'],axis = 1)"
   ]
  },
  {
   "cell_type": "markdown",
   "metadata": {},
   "source": [
    "# Compare QSM values for specific nuclei   (Mann Whitney Wilcoxon test)\n"
   ]
  },
  {
   "cell_type": "code",
   "execution_count": 54,
   "metadata": {},
   "outputs": [
    {
     "name": "stdout",
     "output_type": "stream",
     "text": [
      "Caud_Puta p = 0.009\n",
      "Pall p = 0.021\n",
      "SN p = 0.032\n",
      "STN p = 0.003\n",
      "DN p = 0.016\n"
     ]
    },
    {
     "data": {
      "text/html": [
       "<div>\n",
       "<style scoped>\n",
       "    .dataframe tbody tr th:only-of-type {\n",
       "        vertical-align: middle;\n",
       "    }\n",
       "\n",
       "    .dataframe tbody tr th {\n",
       "        vertical-align: top;\n",
       "    }\n",
       "\n",
       "    .dataframe thead th {\n",
       "        text-align: right;\n",
       "    }\n",
       "</style>\n",
       "<table border=\"1\" class=\"dataframe\">\n",
       "  <thead>\n",
       "    <tr style=\"text-align: right;\">\n",
       "      <th></th>\n",
       "      <th>N</th>\n",
       "      <th>Controls</th>\n",
       "      <th>Patients</th>\n",
       "      <th>Levene</th>\n",
       "      <th>KS</th>\n",
       "      <th>KS_C</th>\n",
       "      <th>KS_P</th>\n",
       "      <th>D</th>\n",
       "      <th>CI_95</th>\n",
       "      <th>Statistic</th>\n",
       "      <th>p_val</th>\n",
       "      <th>p_fdr</th>\n",
       "      <th>sig</th>\n",
       "    </tr>\n",
       "  </thead>\n",
       "  <tbody>\n",
       "    <tr>\n",
       "      <th>STN</th>\n",
       "      <td>(26, 23)</td>\n",
       "      <td>69.3±33.16</td>\n",
       "      <td>42.04±31.08</td>\n",
       "      <td>0.70772</td>\n",
       "      <td>0.01997</td>\n",
       "      <td>0</td>\n",
       "      <td>0</td>\n",
       "      <td>0.83</td>\n",
       "      <td>8.33 to 46.19301</td>\n",
       "      <td>159</td>\n",
       "      <td>0.0026</td>\n",
       "      <td>0.0156</td>\n",
       "      <td>True</td>\n",
       "    </tr>\n",
       "    <tr>\n",
       "      <th>Caud_Puta</th>\n",
       "      <td>(26, 23)</td>\n",
       "      <td>17.48±15.65</td>\n",
       "      <td>6.38±13.42</td>\n",
       "      <td>0.66592</td>\n",
       "      <td>0.04969</td>\n",
       "      <td>0</td>\n",
       "      <td>1.05439e-08</td>\n",
       "      <td>0.75</td>\n",
       "      <td>2.5 to 19.72127</td>\n",
       "      <td>180</td>\n",
       "      <td>0.0088</td>\n",
       "      <td>0.0264</td>\n",
       "      <td>True</td>\n",
       "    </tr>\n",
       "    <tr>\n",
       "      <th>DN</th>\n",
       "      <td>(26, 23)</td>\n",
       "      <td>72.13±31.24</td>\n",
       "      <td>51.48±39.37</td>\n",
       "      <td>0.4134</td>\n",
       "      <td>0.0223</td>\n",
       "      <td>0</td>\n",
       "      <td>0</td>\n",
       "      <td>0.57</td>\n",
       "      <td>-0.1 to 41.40103</td>\n",
       "      <td>191</td>\n",
       "      <td>0.01564</td>\n",
       "      <td>0.03128</td>\n",
       "      <td>True</td>\n",
       "    </tr>\n",
       "    <tr>\n",
       "      <th>Pall</th>\n",
       "      <td>(26, 23)</td>\n",
       "      <td>87.58±19.35</td>\n",
       "      <td>75.17±19.9</td>\n",
       "      <td>0.89417</td>\n",
       "      <td>0.20526</td>\n",
       "      <td>0</td>\n",
       "      <td>0</td>\n",
       "      <td>0.62</td>\n",
       "      <td>0.88 to 23.94505</td>\n",
       "      <td>197</td>\n",
       "      <td>0.02101</td>\n",
       "      <td>0.031515</td>\n",
       "      <td>True</td>\n",
       "    </tr>\n",
       "    <tr>\n",
       "      <th>SN</th>\n",
       "      <td>(26, 23)</td>\n",
       "      <td>123.99±24.66</td>\n",
       "      <td>110.04±31.19</td>\n",
       "      <td>0.7203</td>\n",
       "      <td>0.08543</td>\n",
       "      <td>0</td>\n",
       "      <td>0</td>\n",
       "      <td>0.49</td>\n",
       "      <td>-2.47 to 30.35744</td>\n",
       "      <td>206</td>\n",
       "      <td>0.03193</td>\n",
       "      <td>0.038316</td>\n",
       "      <td>True</td>\n",
       "    </tr>\n",
       "    <tr>\n",
       "      <th>RN</th>\n",
       "      <td>(26, 23)</td>\n",
       "      <td>116.32±46.61</td>\n",
       "      <td>97.88±34.5</td>\n",
       "      <td>0.18717</td>\n",
       "      <td>0.14067</td>\n",
       "      <td>0</td>\n",
       "      <td>0</td>\n",
       "      <td>0.44</td>\n",
       "      <td>-5.89 to 42.76204</td>\n",
       "      <td>232</td>\n",
       "      <td>0.09139</td>\n",
       "      <td>0.09139</td>\n",
       "      <td>False</td>\n",
       "    </tr>\n",
       "  </tbody>\n",
       "</table>\n",
       "</div>"
      ],
      "text/plain": [
       "                  N      Controls      Patients   Levene       KS KS_C  \\\n",
       "STN        (26, 23)    69.3±33.16   42.04±31.08  0.70772  0.01997    0   \n",
       "Caud_Puta  (26, 23)   17.48±15.65    6.38±13.42  0.66592  0.04969    0   \n",
       "DN         (26, 23)   72.13±31.24   51.48±39.37   0.4134   0.0223    0   \n",
       "Pall       (26, 23)   87.58±19.35    75.17±19.9  0.89417  0.20526    0   \n",
       "SN         (26, 23)  123.99±24.66  110.04±31.19   0.7203  0.08543    0   \n",
       "RN         (26, 23)  116.32±46.61    97.88±34.5  0.18717  0.14067    0   \n",
       "\n",
       "                  KS_P     D              CI_95 Statistic    p_val     p_fdr  \\\n",
       "STN                  0  0.83   8.33 to 46.19301       159   0.0026    0.0156   \n",
       "Caud_Puta  1.05439e-08  0.75    2.5 to 19.72127       180   0.0088    0.0264   \n",
       "DN                   0  0.57   -0.1 to 41.40103       191  0.01564   0.03128   \n",
       "Pall                 0  0.62   0.88 to 23.94505       197  0.02101  0.031515   \n",
       "SN                   0  0.49  -2.47 to 30.35744       206  0.03193  0.038316   \n",
       "RN                   0  0.44  -5.89 to 42.76204       232  0.09139   0.09139   \n",
       "\n",
       "             sig  \n",
       "STN         True  \n",
       "Caud_Puta   True  \n",
       "DN          True  \n",
       "Pall        True  \n",
       "SN          True  \n",
       "RN         False  "
      ]
     },
     "execution_count": 54,
     "metadata": {},
     "output_type": "execute_result"
    }
   ],
   "source": [
    "measures = [ 'Caud_Puta' ,'Pall', 'RN', 'SN', 'STN', 'DN']\n",
    "\n",
    "X, XX = make_statistical_comparison(controls, patients, 'MW', measures = measures)\n",
    "X#.drop(['Levene', 'KS', 'KS_C', 'KS_P'],axis = 1)"
   ]
  },
  {
   "cell_type": "markdown",
   "metadata": {},
   "source": [
    "# Plot QSM data "
   ]
  },
  {
   "cell_type": "code",
   "execution_count": null,
   "metadata": {},
   "outputs": [],
   "source": []
  },
  {
   "cell_type": "code",
   "execution_count": null,
   "metadata": {},
   "outputs": [],
   "source": []
  },
  {
   "cell_type": "code",
   "execution_count": null,
   "metadata": {},
   "outputs": [],
   "source": []
  },
  {
   "cell_type": "code",
   "execution_count": null,
   "metadata": {},
   "outputs": [],
   "source": []
  },
  {
   "cell_type": "markdown",
   "metadata": {},
   "source": [
    "# Compare Ferritin values for available data between patients and controls "
   ]
  },
  {
   "cell_type": "code",
   "execution_count": 64,
   "metadata": {},
   "outputs": [
    {
     "name": "stdout",
     "output_type": "stream",
     "text": [
      "N= 18 Controls Ferritin =  196.2 ± 151.26\n",
      "N= 15 Patients Ferritin =  85.56 ± 48.87\n",
      "\n",
      "Kolmogrov-Smirnov test of Gaussian Distribution\n",
      "- Controls t-stat/pval= KstestResult(statistic=0.17492958886477183, pvalue=0.5950690687759914)\n",
      "- Patients t-stat/pval=: KstestResult(statistic=0.17409332694649926, pvalue=0.7224905557195884)\n",
      "- Two Sample t-stat/pval Ks_2sampResult(statistic=0.1444444444444445, pvalue=0.9912553407545137)\n",
      "\n",
      "Degrees of freedom = 31\n",
      "\n",
      "Levenes test of equal variance = LeveneResult(statistic=10.867083097226889, pvalue=0.002459306300004549)\n",
      "\n",
      "Welches Test = Ttest_indResult(statistic=2.841376898389472, pvalue=0.009727435781744419)\n"
     ]
    }
   ],
   "source": [
    "##############################################\n",
    "#  Grab Ferritin data from clinical dataframes \n",
    "##############################################\n",
    "\n",
    "Ferr_C = reject_outliers(controls['CLN_Ferritin'].dropna(),3)\n",
    "Ferr_P = reject_outliers(patients['CLN_Ferritin'].dropna(),3)\n",
    "\n",
    "\n",
    "print 'N=',len(Ferr_C), 'Controls Ferritin = ', np.round(np.mean(Ferr_C),2), '±', np.round(np.std(Ferr_C),2)\n",
    "print 'N=',len(Ferr_P), 'Patients Ferritin = ', np.round(np.mean(Ferr_P),2), '±', np.round(np.std(Ferr_P),2)\n",
    "print ''\n",
    "print 'Kolmogrov-Smirnov test of Gaussian Distribution'\n",
    "print '- Controls t-stat/pval=', kstest(preprocessing.scale(Ferr_C), 'norm')\n",
    "print '- Patients t-stat/pval=:', kstest(preprocessing.scale(Ferr_P), 'norm')\n",
    "print '- Two Sample t-stat/pval', ks_2samp(preprocessing.scale(Ferr_C), preprocessing.scale(Ferr_P))\n",
    "print ''\n",
    "print 'Degrees of freedom =',len(Ferr_C+Ferr_P)-2\n",
    "print ''\n",
    "print 'Levenes test of equal variance =',levene(Ferr_C, Ferr_P, center='median')\n",
    "print ''\n",
    "print 'Welches Test =', ttest_ind(Ferr_C, Ferr_P, equal_var = False)\n"
   ]
  },
  {
   "cell_type": "markdown",
   "metadata": {},
   "source": [
    "# plot ferritin data "
   ]
  },
  {
   "cell_type": "code",
   "execution_count": 90,
   "metadata": {},
   "outputs": [
    {
     "data": {
      "text/plain": [
       "(array([  0.,  50., 100., 150., 200., 250., 300.]),\n",
       " <a list of 7 Text yticklabel objects>)"
      ]
     },
     "execution_count": 90,
     "metadata": {},
     "output_type": "execute_result"
    },
    {
     "data": {
      "image/png": "[encoded data removed]",
      "text/plain": [
       "<Figure size 504x576 with 1 Axes>"
      ]
     },
     "metadata": {},
     "output_type": "display_data"
    }
   ],
   "source": [
    "pd.DataFrame(columns=['Ferritin', 'Group'])\n",
    "fc = pd.DataFrame(Ferr_C)\n",
    "fp = pd.DataFrame(Ferr_P)\n",
    "fc['group']   = 'Controls'\n",
    "fp['group']   = 'Patients'\n",
    "FERR =pd.concat([fc,fp])\n",
    "#xpal = [\"#1300ff\", \"#87d6e9\"]\n",
    "xpal =['#b5b8ff','#ffb3b9']\n",
    "xpal= ['#d0cfff', '#fecfd0']\n",
    "\n",
    "fig, ax = plt.subplots(1)\n",
    "fig.set_size_inches([7,8])\n",
    "g = sns.barplot(x=\"group\", y=\"CLN_Ferritin\", data=FERR,  palette=['b', 'r'])\n",
    "g = sns.barplot(x=\"group\", y=\"CLN_Ferritin\", data=FERR,  palette=xpal)\n",
    "plt.xlim(-0.75, 1.75)\n",
    "plt.ylim(0,270)\n",
    "# Finalize the plot\n",
    "sns.despine(bottom=False)\n",
    "#plt.setp(fig.axes, yticks=[])\n",
    "plt.setp(fig.axes, xticks=[])\n",
    "ax.tick_params(axis='y', labelsize=15)\n",
    "plt.tight_layout(h_pad=3)\n",
    "plt.xlabel('')\n",
    "plt.ylabel('')\n",
    "plt.yticks(fontsize=16, weight='bold')\n",
    "#fig.savefig(os.path.join(save_fig_dir,'FERR_comparison.png'), bbox_inches='tight', transparent = 1, dpi = 500)"
   ]
  },
  {
   "cell_type": "code",
   "execution_count": null,
   "metadata": {},
   "outputs": [],
   "source": []
  },
  {
   "cell_type": "code",
   "execution_count": null,
   "metadata": {},
   "outputs": [],
   "source": []
  },
  {
   "cell_type": "code",
   "execution_count": null,
   "metadata": {},
   "outputs": [],
   "source": []
  },
  {
   "cell_type": "code",
   "execution_count": 79,
   "metadata": {},
   "outputs": [],
   "source": []
  },
  {
   "cell_type": "code",
   "execution_count": null,
   "metadata": {},
   "outputs": [],
   "source": []
  }
 ],
 "metadata": {
  "kernelspec": {
   "display_name": "Python 2",
   "language": "python",
   "name": "python2"
  },
  "language_info": {
   "codemirror_mode": {
    "name": "ipython",
    "version": 2
   },
   "file_extension": ".py",
   "mimetype": "text/x-python",
   "name": "python",
   "nbconvert_exporter": "python",
   "pygments_lexer": "ipython2",
   "version": "2.7.16"
  }
 },
 "nbformat": 4,
 "nbformat_minor": 2
}
