{
 "cells": [
  {
   "cell_type": "code",
   "execution_count": null,
   "metadata": {},
   "outputs": [],
   "source": [
    "import pandas as pd \n",
    "import numpy as np \n",
    "from mayavi import mlab\n",
    "import pywavefront"
   ]
  },
  {
   "cell_type": "code",
   "execution_count": null,
   "metadata": {},
   "outputs": [],
   "source": [
    "lines = []\n",
    "with open('/Users/kanaaax/Desktop/STR.obj',\"r\") as f:\n",
    "    while not \"# triangle faces\" in next(f):\n",
    "        pass\n",
    "    for line in f:\n",
    "        lines.append(line)\n",
    "        \n",
    "x = lines[0::4]\n",
    "y = lines[1::4]\n",
    "z = lines[2::4]\n",
    "f = lines[3::4]\n",
    "\n",
    "\n",
    "x = np.array([x[i].split(\" \",2)[1] for i in range(0,len(x)) ], dtype=np.float32)\n",
    "y = np.array([y[i].split(\" \",2)[1] for i in range(0,len(y)) ], dtype=np.float32)\n",
    "z = np.array([z[i].split(\" \",2)[1] for i in range(0,len(z)) ], dtype=np.float32)\n",
    "f = np.array([[k[0:4] for k in f[i].split(\" \",3)[1:]] for i in range(10)], dtype=np.int32)\n",
    "\n"
   ]
  },
  {
   "cell_type": "code",
   "execution_count": null,
   "metadata": {},
   "outputs": [],
   "source": [
    "mesh = mlab.pipeline.triangular_mesh_source(x,y,z,f)"
   ]
  },
  {
   "cell_type": "code",
   "execution_count": null,
   "metadata": {},
   "outputs": [],
   "source": [
    "surf = mlab.pipeline.surface(mesh, opacity=.05,color=(.5,.5,.5))"
   ]
  },
  {
   "cell_type": "code",
   "execution_count": null,
   "metadata": {},
   "outputs": [],
   "source": [
    "mlab.show()\n"
   ]
  },
  {
   "cell_type": "code",
   "execution_count": null,
   "metadata": {},
   "outputs": [],
   "source": []
  },
  {
   "cell_type": "code",
   "execution_count": null,
   "metadata": {},
   "outputs": [],
   "source": []
  },
  {
   "cell_type": "code",
   "execution_count": null,
   "metadata": {},
   "outputs": [],
   "source": []
  },
  {
   "cell_type": "code",
   "execution_count": 13,
   "metadata": {},
   "outputs": [],
   "source": [
    "import numpy as np\n",
    "from mayavi import mlab\n",
    "import os\n",
    "import nibabel as nb\n",
    "import networkx as nx\n",
    "import pandas as pd\n",
    "\n",
    "\n",
    "\n",
    "#pos = [(-40,50,10),(-35,40,30),(-30,40,30)]\n",
    "def constructSurf(surf):\n",
    "    x=surf[0][:,0]\n",
    "    y=surf[0][:,1]\n",
    "    z=surf[0][:,2]\n",
    "    f=surf[1]\n",
    "    mesh = mlab.pipeline.triangular_mesh_source(x, y, z, f)\n",
    "    surf = mlab.pipeline.surface(mesh, opacity=.05,color=(.5,.5,.5))\n",
    "\n",
    "\n",
    "lhsurfName = '/afs/cbs.mpg.de/software/freesurfer/5.3.0/ubuntu-precise-amd64/subjects/fsaverage/surf/lh.pial'\n",
    "rhsurfName = '/afs/cbs.mpg.de/software/freesurfer/5.3.0/ubuntu-precise-amd64/subjects/fsaverage/surf/rh.pial'\n",
    "\n",
    "lhsurfName = '/Applications/freesurfer/subjects/fsaverage/surf/lh.pial'\n",
    "rhsurfName = '/Applications/freesurfer/subjects/fsaverage/surf/rh.pial'\n",
    "\n",
    "lhsurf = nb.freesurfer.read_geometry(lhsurfName)\n",
    "rhsurf = nb.freesurfer.read_geometry(rhsurfName)\n",
    "#m   = np.array([[1,1,0],[1,1,1],[0,1,1]])"
   ]
  },
  {
   "cell_type": "code",
   "execution_count": 14,
   "metadata": {},
   "outputs": [],
   "source": [
    "x=lhsurf[0][:,0]\n",
    "y=lhsurf[0][:,1]\n",
    "z=lhsurf[0][:,2]\n",
    "f=lhsurf[1]"
   ]
  },
  {
   "cell_type": "code",
   "execution_count": 15,
   "metadata": {},
   "outputs": [
    {
     "data": {
      "text/plain": [
       "array([-38.83454895, -16.55412674,  -9.55357552, ..., -34.57094193,\n",
       "       -34.64751053, -35.07868576])"
      ]
     },
     "execution_count": 15,
     "metadata": {},
     "output_type": "execute_result"
    }
   ],
   "source": [
    "x"
   ]
  },
  {
   "cell_type": "code",
   "execution_count": 16,
   "metadata": {},
   "outputs": [
    {
     "data": {
      "text/plain": [
       "array([-19.01935577, -69.25585175,  -8.21880722, ..., -24.75985909,\n",
       "       -24.71244431, -24.7596302 ])"
      ]
     },
     "execution_count": 16,
     "metadata": {},
     "output_type": "execute_result"
    }
   ],
   "source": [
    "y"
   ]
  },
  {
   "cell_type": "code",
   "execution_count": 17,
   "metadata": {},
   "outputs": [
    {
     "data": {
      "text/plain": [
       "array([ 66.90840912,  60.97793579,  46.25186157, ..., -26.42899132,\n",
       "       -25.72299576, -25.22186661])"
      ]
     },
     "execution_count": 17,
     "metadata": {},
     "output_type": "execute_result"
    }
   ],
   "source": [
    "z"
   ]
  },
  {
   "cell_type": "code",
   "execution_count": 18,
   "metadata": {},
   "outputs": [
    {
     "data": {
      "text/plain": [
       "array([[     0,  40964,  40962],\n",
       "       [     0,  40962,  40965],\n",
       "       [     0,  40965,  40967],\n",
       "       ...,\n",
       "       [163841, 160926,  39990],\n",
       "       [163113, 160926, 163841],\n",
       "       [163113,     11, 160926]], dtype=int32)"
      ]
     },
     "execution_count": 18,
     "metadata": {},
     "output_type": "execute_result"
    }
   ],
   "source": [
    "f"
   ]
  },
  {
   "cell_type": "code",
   "execution_count": null,
   "metadata": {},
   "outputs": [],
   "source": []
  },
  {
   "cell_type": "code",
   "execution_count": null,
   "metadata": {},
   "outputs": [],
   "source": []
  },
  {
   "cell_type": "code",
   "execution_count": null,
   "metadata": {},
   "outputs": [],
   "source": []
  }
 ],
 "metadata": {
  "kernelspec": {
   "display_name": "Python 2",
   "language": "python",
   "name": "python2"
  },
  "language_info": {
   "codemirror_mode": {
    "name": "ipython",
    "version": 2
   },
   "file_extension": ".py",
   "mimetype": "text/x-python",
   "name": "python",
   "nbconvert_exporter": "python",
   "pygments_lexer": "ipython2",
   "version": "2.7.16"
  }
 },
 "nbformat": 4,
 "nbformat_minor": 2
}
