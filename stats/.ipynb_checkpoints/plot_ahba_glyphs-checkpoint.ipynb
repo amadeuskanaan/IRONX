{
 "cells": [
  {
   "cell_type": "code",
   "execution_count": null,
   "metadata": {},
   "outputs": [],
   "source": [
    "import numpy as np\n",
    "from mayavi import mlab\n",
    "import os\n",
    "import networkx as nx\n",
    "import pandas as pd\n",
    "import itertools\n",
    "import nibabel as nb \n",
    "\n",
    "package_directory = '/Users/kanaaax/SCR/Github/alleninf/alleninf'\n",
    "ahba_dir  = '/Users/kanaaax/Google Drive/TS-EUROTRAIN/RESULTS_QSMv3/dataframes'\n",
    "mni = pd.read_csv(os.path.join(package_directory, \"data\", \"corrected_mni_coordinates.csv\"), header=0, index_col=0)\n",
    "\n",
    "df_motor  =  pd.read_csv(os.path.join(ahba_dir, 'wells_motor.csv'), index_col = 0)\n",
    "df_limbic =  pd.read_csv(os.path.join(ahba_dir, 'wells_limbic.csv'), index_col = 0)\n",
    "df_exec   =  pd.read_csv(os.path.join(ahba_dir, 'wells_exec.csv'), index_col = 0)\n",
    "df_outlier=  pd.DataFrame(index= [2371, 2379,   159226045, 160091500  ] , columns=df_motor.columns)\n",
    "df_str = pd.concat([df_motor, df_limbic, df_exec, df_outlier])\n",
    "xindex = list(df_str.index)\n",
    "\n",
    "plot_str = 1\n"
   ]
  },
  {
   "cell_type": "code",
   "execution_count": null,
   "metadata": {},
   "outputs": [],
   "source": [
    "df_motor.head()"
   ]
  },
  {
   "cell_type": "markdown",
   "metadata": {},
   "source": [
    "# SAVE AHBA Striatal glyphs"
   ]
  },
  {
   "cell_type": "code",
   "execution_count": null,
   "metadata": {},
   "outputs": [
    {
     "name": "stdout",
     "output_type": "stream",
     "text": [
      "MOTOR\n"
     ]
    }
   ],
   "source": [
    "# PLot STR MOTOR\n",
    "\n",
    "dict_str = {\"MOTOR\" : df_motor, \n",
    "            #\"EXEC\" : df_exec, \"LIMBIC\": df_limbic\n",
    "           }\n",
    "\n",
    "for name in dict_str:\n",
    "    print(name)\n",
    "\n",
    "    xindex = list(dict_str[name].index)\n",
    "    coords  = np.array(mni.drop([i for i in mni.index if i not in xindex]).reindex(xindex))\n",
    "    pos = coords\n",
    "    posxy = {}\n",
    "    for i in range(0,len(pos)):\n",
    "        posxy[i] = pos[i][0:2]\n",
    "\n",
    "    G = nx.Graph(pos=posxy)\n",
    "    xyz = np.array(pos)\n",
    "    mlab.figure(1, bgcolor=(1,1,1))\n",
    "    mlab.clf()\n",
    "    scalars = [1] * len(pos)\n",
    "\n",
    "    ptsPos = mlab.points3d(xyz[:,0], xyz[:,1], xyz[:,2],\n",
    "                           scale_factor=3,\n",
    "                           mode = 'sphere', \n",
    "                           scale_mode = 'scalar',\n",
    "                           resolution = 10)\n",
    "\n",
    "    #ptsPos.module_manager.source.save_output('/Users/kanaaax/SCR/Github/IRON/atlases/AHBA_STR3_%s_glyphs.vtk'%name)\n",
    "    #ptsPos.module_manager.source.save_output('/Users/kanaaax/SCR/Github/IRON/atlases/MAKE_FIRST3/AHBA_STR3_%s_glyphs.vtk'%name)\n",
    "    mlab.view(azimuth=180, elevation=90)\n",
    "    mlab.show()\n",
    "    \n",
    "\n",
    "\n",
    "    \n",
    "    \n",
    "    \n",
    "    \n",
    "    \n",
    "    \n",
    "    \n",
    "    \n",
    "    \n",
    "    import numpy as np\n",
    "from mayavi import mlab\n",
    "import os\n",
    "import networkx as nx\n",
    "import pandas as pd\n",
    "import itertools\n",
    "import nibabel as nb \n",
    "\n",
    "package_directory = '/Users/kanaaax/SCR/Github/alleninf/alleninf'\n",
    "ahba_dir  = '/Users/kanaaax/Google Drive/TS-EUROTRAIN/RESULTS_QSMv3/dataframes'\n",
    "mni = pd.read_csv(os.path.join(package_directory, \"data\", \"corrected_mni_coordinates.csv\"), header=0, index_col=0)\n",
    "\n",
    "df_motor  =  pd.read_csv(os.path.join(ahba_dir, 'wells_motor.csv'), index_col = 0)\n",
    "df_limbic =  pd.read_csv(os.path.join(ahba_dir, 'wells_limbic.csv'), index_col = 0)\n",
    "df_exec   =  pd.read_csv(os.path.join(ahba_dir, 'wells_exec.csv'), index_col = 0)\n",
    "df_outlier=  pd.DataFrame(index= [2371, 2379,   159226045, 160091500  ] , columns=df_motor.columns)\n",
    "df_str = pd.concat([df_motor, df_limbic, df_exec, df_outlier])\n",
    "xindex = list(df_str.index)\n",
    "\n",
    "plot_str = 1\n",
    "\n",
    "if plot_str:\n",
    "    coords  = np.array(mni.drop([i for i in mni.index if i not in xindex]).reindex(xindex))\n",
    "    pos = coords\n",
    "    posxy = {}\n",
    "    for i in range(0,len(pos)):\n",
    "        posxy[i] = pos[i][0:2]\n",
    "\n",
    "    G = nx.Graph(pos=posxy)\n",
    "    xyz = np.array(pos)\n",
    "    mlab.figure(1, bgcolor=(1,1,1))\n",
    "    mlab.clf()\n",
    "    scalars = [1] * len(pos)\n",
    "\n",
    "    ptsPos = mlab.points3d(xyz[:,0], xyz[:,1], xyz[:,2],\n",
    "                           scale_factor=3,\n",
    "                           mode = 'sphere', \n",
    "                           scale_mode = 'scalar',\n",
    "                           resolution = 10)\n",
    "\n",
    "    # color by mask\n",
    "    #c_motor = [1. for i in range(len(df_motor))]\n",
    "    #c_limbic = [0.5 for i in range(len(df_limbic))]\n",
    "    #c_exec = [0 for i in range(len(df_exec))]\n",
    "    #c_out = [0.78 for i in range(len(df_outlier))]\n",
    "    #colors = c_motor + c_limbic + c_exec + c_out\n",
    "    #ptsPos.mlab_source.dataset.point_data.scalars = colors\n",
    "    \n",
    "mlab.view(azimuth=180, elevation=90)\n",
    "mlab.show()\n",
    "\n"
   ]
  },
  {
   "cell_type": "markdown",
   "metadata": {},
   "source": [
    "# PLOT AHBA GLYPHS"
   ]
  },
  {
   "cell_type": "code",
   "execution_count": 7,
   "metadata": {},
   "outputs": [
    {
     "name": "stdout",
     "output_type": "stream",
     "text": [
      "(array([[-38.83454895, -19.01935577,  66.90840912],\n",
      "       [-16.55412674, -69.25585175,  60.97793579],\n",
      "       [ -9.55357552,  -8.21880722,  46.25186157],\n",
      "       ...,\n",
      "       [-34.57094193, -24.75985909, -26.42899132],\n",
      "       [-34.64751053, -24.71244431, -25.72299576],\n",
      "       [-35.07868576, -24.7596302 , -25.22186661]]), array([[     0,  40964,  40962],\n",
      "       [     0,  40962,  40965],\n",
      "       [     0,  40965,  40967],\n",
      "       ...,\n",
      "       [163841, 160926,  39990],\n",
      "       [163113, 160926, 163841],\n",
      "       [163113,     11, 160926]], dtype=int32))\n"
     ]
    }
   ],
   "source": [
    "import numpy as np\n",
    "from mayavi import mlab\n",
    "import os\n",
    "import nibabel as nb\n",
    "import networkx as nx\n",
    "import pandas as pd\n",
    "\n",
    "\n",
    "\n",
    "#pos = [(-40,50,10),(-35,40,30),(-30,40,30)]\n",
    "def constructSurf(surf):\n",
    "    x=surf[0][:,0]\n",
    "    y=surf[0][:,1]\n",
    "    z=surf[0][:,2]\n",
    "    f=surf[1]\n",
    "    mesh = mlab.pipeline.triangular_mesh_source(x, y, z, f)\n",
    "    surf = mlab.pipeline.surface(mesh, opacity=.05,color=(.5,.5,.5))\n",
    "\n",
    "\n",
    "lhsurfName = '/afs/cbs.mpg.de/software/freesurfer/5.3.0/ubuntu-precise-amd64/subjects/fsaverage/surf/lh.pial'\n",
    "rhsurfName = '/afs/cbs.mpg.de/software/freesurfer/5.3.0/ubuntu-precise-amd64/subjects/fsaverage/surf/rh.pial'\n",
    "\n",
    "lhsurfName = '/Applications/freesurfer/subjects/fsaverage/surf/lh.pial'\n",
    "rhsurfName = '/Applications/freesurfer/subjects/fsaverage/surf/rh.pial'\n",
    "\n",
    "lhsurf = nb.freesurfer.read_geometry(lhsurfName)\n",
    "rhsurf = nb.freesurfer.read_geometry(rhsurfName)\n",
    "#m   = np.array([[1,1,0],[1,1,1],[0,1,1]])\n",
    "\n",
    "#power_spec      = '/scr/malta4/SCR/ROI/Power_rois_264_3mm_5mmrad.txt'\n",
    "#power_df    = pd.read_csv(power_spec,sep='\\t', header = None)\n",
    "#power_xyz   = pd.concat([power_df[1], power_df[2], power_df[3]], axis = 1, keys = ['x', 'y', 'z'] )\n",
    "#coords= np.array(power_xyz)\n",
    "#print 'power',coords\n",
    "#pos = power_coords\n",
    "\n",
    "package_directory = '/scr/malta1/Software/anaconda/envs/awesome/lib/python2.7/site-packages/alleninf'\n",
    "package_directory = '/Users/kanaaax/SCR/Github/alleninf/alleninf'\n",
    "\n",
    "mni = pd.read_csv(os.path.join(package_directory, \"data\", \"corrected_mni_coordinates.csv\"), header=0, index_col=0)\n",
    "#mni_sub = pd.read_csv('/Users/kanaan/Google Drive/TS-EUROTRAIN/RESULTS_QSMv3/AUG5/AHBA/AHBA_subcortical.csv',header=0, index_col=0)\n",
    "#mni_sub = pd.read_csv('/Users/kanaan/Google Drive/TS-EUROTRAIN/RESULTS_QSMv3/AUG5/AHBA/AHBA_str.csv',header=0, index_col=0)\n",
    "#mni_sub = pd.read_csv('/Users/kanaan/Desktop/iron_h.csv',header=0, index_col=0)\n",
    "#drop_structs = [i for i in mni.index if i not in mni_sub.index]\n",
    "#mni =mni[~mni.index.isin(drop_structs)]\n",
    "\n",
    "ahba_dir  = '/Users/kanaaax/Google Drive/TS-EUROTRAIN/RESULTS_QSMv3/dataframes'\n",
    "df_motor  =  pd.read_csv(os.path.join(ahba_dir, 'wells_motor.csv'), index_col = 0)\n",
    "df_limbic =  pd.read_csv(os.path.join(ahba_dir, 'wells_limbic.csv'), index_col = 0)\n",
    "df_exec   =  pd.read_csv(os.path.join(ahba_dir, 'wells_exec.csv'), index_col = 0)\n",
    "\n",
    "coords = np.array(mni)\n",
    "#print 'mni', coords\n",
    "\n",
    "pos = coords\n",
    "posxy = {}\n",
    "for i in range(0,len(pos)):\n",
    "    posxy[i] = pos[i][0:2]\n",
    "\n",
    "G = nx.Graph(pos=posxy)\n",
    "xyz = np.array(pos)\n",
    "mlab.figure(1, bgcolor=(1,1,1))\n",
    "mlab.clf()\n",
    "scalars = [1] * len(pos)\n",
    "\n",
    "posxy = {}\n",
    "ptsPos = mlab.points3d(xyz[:,0], xyz[:,1], xyz[:,2],\n",
    "                    scalars,\n",
    "                    scale_factor=2,\n",
    "                    scale_mode='none',\n",
    "                    color=(1,0,0),\n",
    "                    resolution=20)\n",
    "\n",
    "ptsPos.mlab_source.dataset.lines = np.array(G.edges())\n",
    "tubePos = mlab.pipeline.tube(ptsPos, tube_radius=0.5)\n",
    "mlab.pipeline.surface(tubePos, color=(1,0,0))\n",
    "\n",
    "\n",
    "print(lhsurf)\n",
    "constructSurf(lhsurf)\n",
    "constructSurf(rhsurf)\n",
    "mlab.view(azimuth=180, elevation=90)\n",
    "\n",
    "mlab.show()\n"
   ]
  },
  {
   "cell_type": "code",
   "execution_count": 8,
   "metadata": {},
   "outputs": [
    {
     "name": "stderr",
     "output_type": "stream",
     "text": [
      "/Library/Frameworks/Python.framework/Versions/3.7/lib/python3.7/site-packages/ipykernel_launcher.py:17: FutureWarning: Sorting because non-concatenation axis is not aligned. A future version\n",
      "of pandas will change to not sort by default.\n",
      "\n",
      "To accept the future behavior, pass 'sort=False'.\n",
      "\n",
      "To retain the current behavior and silence the warning, pass 'sort=True'.\n",
      "\n"
     ]
    }
   ],
   "source": [
    "import numpy as np\n",
    "from mayavi import mlab\n",
    "import os\n",
    "import networkx as nx\n",
    "import pandas as pd\n",
    "import itertools\n",
    "import nibabel as nb \n",
    "\n",
    "package_directory = '/Users/kanaaax/SCR/Github/alleninf/alleninf'\n",
    "ahba_dir  = '/Users/kanaaax/Google Drive/TS-EUROTRAIN/RESULTS_QSMv3/dataframes'\n",
    "mni = pd.read_csv(os.path.join(package_directory, \"data\", \"corrected_mni_coordinates.csv\"), header=0, index_col=0)\n",
    "\n",
    "df_motor  =  pd.read_csv(os.path.join(ahba_dir, 'wells_motor.csv'), index_col = 0)\n",
    "df_limbic =  pd.read_csv(os.path.join(ahba_dir, 'wells_limbic.csv'), index_col = 0)\n",
    "df_exec   =  pd.read_csv(os.path.join(ahba_dir, 'wells_exec.csv'), index_col = 0)\n",
    "df_outlier=  pd.DataFrame(index= [2371, 2379,   159226045, 160091500  ] , columns=df_motor.columns)\n",
    "df_str = pd.concat([df_motor, df_limbic, df_exec, df_outlier])\n",
    "xindex = list(df_str.index)\n",
    "\n",
    "plot_str = 1\n",
    "\n",
    "if plot_str:\n",
    "    coords  = np.array(mni.drop([i for i in mni.index if i not in xindex]).reindex(xindex))\n",
    "    pos = coords\n",
    "    posxy = {}\n",
    "    for i in range(0,len(pos)):\n",
    "        posxy[i] = pos[i][0:2]\n",
    "\n",
    "    G = nx.Graph(pos=posxy)\n",
    "    xyz = np.array(pos)\n",
    "    mlab.figure(1, bgcolor=(1,1,1))\n",
    "    mlab.clf()\n",
    "    scalars = [1] * len(pos)\n",
    "\n",
    "    ptsPos = mlab.points3d(xyz[:,0], xyz[:,1], xyz[:,2],\n",
    "                           scale_factor=3,\n",
    "                           mode = 'sphere', \n",
    "                           scale_mode = 'scalar',\n",
    "                           resolution = 10)\n",
    "\n",
    "    # color by mask\n",
    "    #c_motor = [1. for i in range(len(df_motor))]\n",
    "    #c_limbic = [0.5 for i in range(len(df_limbic))]\n",
    "    #c_exec = [0 for i in range(len(df_exec))]\n",
    "    #c_out = [0.78 for i in range(len(df_outlier))]\n",
    "    #colors = c_motor + c_limbic + c_exec + c_out\n",
    "    #ptsPos.mlab_source.dataset.point_data.scalars = colors\n",
    "    \n",
    "mlab.view(azimuth=180, elevation=90)\n",
    "mlab.show()\n",
    "\n"
   ]
  },
  {
   "cell_type": "code",
   "execution_count": null,
   "metadata": {},
   "outputs": [],
   "source": []
  },
  {
   "cell_type": "markdown",
   "metadata": {},
   "source": [
    "# COMBINE FSL VTKS"
   ]
  },
  {
   "cell_type": "code",
   "execution_count": 34,
   "metadata": {},
   "outputs": [],
   "source": [
    "from vtk import * \n",
    "import nibabel as nb \n",
    "#def combine_vtk():\n",
    "reader = vtkPolyDataReader()\n",
    "append = vtkAppendPolyData()\n",
    "\n",
    "puta_l = '/Users/kanaax/SCR/Github/GluIRON/atlases/FIRST/MNI-L_Puta_first.vtk'\n",
    "puta_r = '/Users/kanaax/SCR/Github/GluIRON/atlases/FIRST/MNI-R_Puta_first.vtk'\n",
    "caud_l = '/Users/kanaax/SCR/Github/GluIRON/atlases/FIRST/MNI-L_Caud_first.vtk'\n",
    "caud_r = '/Users/kanaax/SCR/Github/GluIRON/atlases/FIRST/MNI-R_Caud_first.vtk'\n",
    "accu_l = '/Users/kanaax/SCR/Github/GluIRON/atlases/FIRST/MNI-L_Accu_first.vtk'\n",
    "accu_r = '/Users/kanaax/SCR/Github/GluIRON/atlases/FIRST/MNI-R_Accu_first.vtk'\n",
    "\n",
    "filenames = [puta_l, puta_r, caud_l, caud_r, accu_l, accu_r]\n",
    "for file in filenames:\n",
    "    reader.SetFileName(file)\n",
    "    reader.Update()\n",
    "    polydata = vtkPolyData()\n",
    "    polydata.ShallowCopy(reader.GetOutput())\n",
    "    append.AddInputData(polydata)\n",
    "\n",
    "append.Update()    \n",
    "\n",
    "writer = vtkPolyDataWriter()\n",
    "writer.SetFileName('/Users/kanaaax/SCR/Github/GluIRON/atlases/FIRST/MNI_STR_COMBINED.vtk')\n",
    "writer.SetInputConnection(append.GetOutputPort())\n",
    "\n",
    "writer.Write()\n",
    "\n",
    "#combine_vtk()"
   ]
  },
  {
   "cell_type": "code",
   "execution_count": 2,
   "metadata": {},
   "outputs": [
    {
     "data": {
      "text/plain": [
       "1"
      ]
     },
     "execution_count": 2,
     "metadata": {},
     "output_type": "execute_result"
    }
   ],
   "source": [
    "from vtk import * \n",
    "import nibabel as nb \n",
    "#def combine_vtk():\n",
    "reader = vtkPolyDataReader()\n",
    "append = vtkAppendPolyData()\n",
    "\n",
    "puta_l = '/Users/kanaaax/SCR/Github/IRON/atlases/MAKE_FIRST3/FIRST_MNI/VTK_STR/MNI_FIRST-L_Puta_first.vtk'\n",
    "puta_r = '/Users/kanaaax/SCR/Github/IRON/atlases/MAKE_FIRST3/FIRST_MNI/VTK_STR/MNI_FIRST-R_Puta_first.vtk'\n",
    "caud_l = '/Users/kanaaax/SCR/Github/IRON/atlases/MAKE_FIRST3/FIRST_MNI/VTK_STR/MNI_FIRST-L_Caud_first.vtk'\n",
    "caud_r = '/Users/kanaaax/SCR/Github/IRON/atlases/MAKE_FIRST3/FIRST_MNI/VTK_STR/MNI_FIRST-R_Caud_first.vtk'\n",
    "accu_l = '/Users/kanaaax/SCR/Github/IRON/atlases/MAKE_FIRST3/FIRST_MNI/VTK_STR/MNI_FIRST-L_Accu_first.vtk'\n",
    "accu_r = '/Users/kanaaax/SCR/Github/IRON/atlases/MAKE_FIRST3/FIRST_MNI/VTK_STR/MNI_FIRST-R_Accu_first.vtk'\n",
    "\n",
    "filenames = [puta_l, puta_r, caud_l, caud_r, accu_l, accu_r]\n",
    "for file in filenames:\n",
    "    reader.SetFileName(file)\n",
    "    reader.Update()\n",
    "    polydata = vtkPolyData()\n",
    "    polydata.ShallowCopy(reader.GetOutput())\n",
    "    append.AddInputData(polydata)\n",
    "\n",
    "append.Update()    \n",
    "\n",
    "writer = vtkPolyDataWriter()\n",
    "writer.SetFileName('/Users/kanaaax/SCR/Github/IRON/atlases/MAKE_FIRST3/FIRST_MNI/VTK_STR/MNIFIRST_STR_COMBINED.vtk')\n",
    "writer.SetInputConnection(append.GetOutputPort())\n",
    "\n",
    "writer.Write()\n",
    "\n",
    "#combine_vtk()"
   ]
  },
  {
   "cell_type": "code",
   "execution_count": 3,
   "metadata": {},
   "outputs": [
    {
     "name": "stdout",
     "output_type": "stream",
     "text": [
      "(array([[-38.83454895, -19.01935577,  66.90840912],\n",
      "       [-16.55412674, -69.25585175,  60.97793579],\n",
      "       [ -9.55357552,  -8.21880722,  46.25186157],\n",
      "       ...,\n",
      "       [-34.57094193, -24.75985909, -26.42899132],\n",
      "       [-34.64751053, -24.71244431, -25.72299576],\n",
      "       [-35.07868576, -24.7596302 , -25.22186661]]), array([[     0,  40964,  40962],\n",
      "       [     0,  40962,  40965],\n",
      "       [     0,  40965,  40967],\n",
      "       ...,\n",
      "       [163841, 160926,  39990],\n",
      "       [163113, 160926, 163841],\n",
      "       [163113,     11, 160926]], dtype=int32))\n"
     ]
    }
   ],
   "source": []
  },
  {
   "cell_type": "code",
   "execution_count": 7,
   "metadata": {},
   "outputs": [],
   "source": [
    "ptsPos.module_manager.source.save_output('output.vtk')"
   ]
  },
  {
   "cell_type": "code",
   "execution_count": 3,
   "metadata": {},
   "outputs": [
    {
     "name": "stdout",
     "output_type": "stream",
     "text": [
      "(array([[-38.83454895, -19.01935577,  66.90840912],\n",
      "       [-16.55412674, -69.25585175,  60.97793579],\n",
      "       [ -9.55357552,  -8.21880722,  46.25186157],\n",
      "       ...,\n",
      "       [-34.57094193, -24.75985909, -26.42899132],\n",
      "       [-34.64751053, -24.71244431, -25.72299576],\n",
      "       [-35.07868576, -24.7596302 , -25.22186661]]), array([[     0,  40964,  40962],\n",
      "       [     0,  40962,  40965],\n",
      "       [     0,  40965,  40967],\n",
      "       ...,\n",
      "       [163841, 160926,  39990],\n",
      "       [163113, 160926, 163841],\n",
      "       [163113,     11, 160926]], dtype=int32))\n"
     ]
    }
   ],
   "source": []
  },
  {
   "cell_type": "code",
   "execution_count": null,
   "metadata": {},
   "outputs": [],
   "source": []
  },
  {
   "cell_type": "code",
   "execution_count": null,
   "metadata": {},
   "outputs": [],
   "source": []
  },
  {
   "cell_type": "code",
   "execution_count": null,
   "metadata": {},
   "outputs": [],
   "source": []
  },
  {
   "cell_type": "code",
   "execution_count": null,
   "metadata": {},
   "outputs": [],
   "source": []
  },
  {
   "cell_type": "code",
   "execution_count": null,
   "metadata": {},
   "outputs": [],
   "source": []
  },
  {
   "cell_type": "code",
   "execution_count": null,
   "metadata": {},
   "outputs": [],
   "source": []
  },
  {
   "cell_type": "code",
   "execution_count": null,
   "metadata": {},
   "outputs": [],
   "source": []
  },
  {
   "cell_type": "code",
   "execution_count": null,
   "metadata": {},
   "outputs": [],
   "source": []
  },
  {
   "cell_type": "code",
   "execution_count": 4,
   "metadata": {},
   "outputs": [
    {
     "name": "stderr",
     "output_type": "stream",
     "text": [
      "/Library/Frameworks/Python.framework/Versions/3.7/lib/python3.7/site-packages/ipykernel_launcher.py:17: FutureWarning: Sorting because non-concatenation axis is not aligned. A future version\n",
      "of pandas will change to not sort by default.\n",
      "\n",
      "To accept the future behavior, pass 'sort=False'.\n",
      "\n",
      "To retain the current behavior and silence the warning, pass 'sort=True'.\n",
      "\n"
     ]
    }
   ],
   "source": []
  },
  {
   "cell_type": "code",
   "execution_count": null,
   "metadata": {},
   "outputs": [],
   "source": []
  },
  {
   "cell_type": "code",
   "execution_count": null,
   "metadata": {},
   "outputs": [],
   "source": []
  },
  {
   "cell_type": "code",
   "execution_count": null,
   "metadata": {},
   "outputs": [],
   "source": []
  }
 ],
 "metadata": {
  "kernelspec": {
   "display_name": "Python 3",
   "language": "python",
   "name": "python3"
  },
  "language_info": {
   "codemirror_mode": {
    "name": "ipython",
    "version": 3
   },
   "file_extension": ".py",
   "mimetype": "text/x-python",
   "name": "python",
   "nbconvert_exporter": "python",
   "pygments_lexer": "ipython3",
   "version": "3.7.3"
  }
 },
 "nbformat": 4,
 "nbformat_minor": 2
}
