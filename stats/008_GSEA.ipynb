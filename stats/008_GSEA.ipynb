{
 "cells": [
  {
   "cell_type": "code",
   "execution_count": 1,
   "metadata": {},
   "outputs": [],
   "source": [
    "%matplotlib inline\n",
    "import os\n",
    "import math \n",
    "import numpy as np\n",
    "import pandas as pd \n",
    "import seaborn as sns\n",
    "import random\n",
    "import matplotlib.pyplot as plt\n",
    "import statsmodels.formula.api as smf\n",
    "from scipy.stats import pearsonr, spearmanr, gaussian_kde\n",
    "from sklearn import preprocessing\n",
    "from sklearn.decomposition import TruncatedSVD, PCA\n",
    "from sklearn.cross_decomposition import PLSRegression\n",
    "from sklearn.preprocessing import scale, StandardScaler\n",
    "from statsmodels.sandbox.stats.multicomp import fdrcorrection0\n",
    "from matplotlib.colors import rgb2hex\n",
    "import warnings\n",
    "sns.set_style('white')\n",
    "pd.options.display.max_rows = 5000\n",
    "pd.options.display.max_columns = 999\n",
    "warnings.filterwarnings('ignore')\n",
    "\n",
    "ahba_dir     = '/Users/kanaaax/Google Drive/TS-EUROTRAIN/RESULTS_QSMv3/dataframes/AHBA/'\n",
    "gsea_dir     = '/Users/kanaaax/Desktop/GSEA'\n",
    "permute_dir  = '/Users/kanaaax/Google Drive/TS-EUROTRAIN/RESULTS_QSMv3/dataframes/permutations'\n",
    "save_fig_dir = '/Users/kanaaax/Google Drive/TS-EUROTRAIN/Papers/2019_QSM_paper/Figures_python_v4'\n",
    "\n",
    "background_genes = pd.read_csv(os.path.join(ahba_dir,'background_gene_list.txt'), sep='\\t').GeneSymbol.values"
   ]
  },
  {
   "cell_type": "code",
   "execution_count": 2,
   "metadata": {},
   "outputs": [],
   "source": [
    "def return_pls(samples,features, nuc):\n",
    "\n",
    "    pls1 = pd.read_csv(os.path.join(ahba_dir, 'ahba_data/stats/%snuc_PLS1_weights_%s_chi_%s.csv'%(nuc,samples,features)), header=None).set_index(0)\n",
    "    pls2 = pd.read_csv(os.path.join(ahba_dir, 'ahba_data/stats/%snuc_PLS2_weights_%s_chi_%s.csv'%(nuc,samples,features)), header=None).set_index(0)\n",
    "    pls3 = pd.read_csv(os.path.join(ahba_dir, 'ahba_data/stats/%snuc_PLS3_weights_%s_chi_%s.csv'%(nuc,samples,features)), header=None).set_index(0)\n",
    "\n",
    "    del pls1.index.name\n",
    "    del pls2.index.name\n",
    "    del pls3.index.name\n",
    "    \n",
    "    \n",
    "    for df in [pls1,pls2,pls3]:\n",
    "        \n",
    "        q1=np.quantile(df[2], 0.05)\n",
    "        q2=np.quantile(df[2], 0.95)\n",
    "        \n",
    "        df['quantiles']      = [i if i < q1 or i > q2 else np.nan for i in df[2]]\n",
    "        df['non_quantiles']  = [np.nan if i < q1 or i > q2 else i for i in df[2]]\n",
    "    \n",
    "    return pls1, pls2, pls3"
   ]
  },
  {
   "cell_type": "code",
   "execution_count": 3,
   "metadata": {},
   "outputs": [],
   "source": [
    "motor_pls1, motor_pls2, motor_pls3     = return_pls('ahba20737', 'STR3_MOTOR_tstat_CP_1mm',  '48')"
   ]
  },
  {
   "cell_type": "code",
   "execution_count": 5,
   "metadata": {},
   "outputs": [],
   "source": []
  },
  {
   "cell_type": "code",
   "execution_count": null,
   "metadata": {},
   "outputs": [],
   "source": []
  },
  {
   "cell_type": "code",
   "execution_count": 12,
   "metadata": {},
   "outputs": [],
   "source": [
    "dfx = motor_pls1.drop([1,'quantiles','non_quantiles'],axis=1)\n",
    "dfx.columns=['rank']\n",
    "dfx.index.name = \"Gene\""
   ]
  },
  {
   "cell_type": "code",
   "execution_count": 16,
   "metadata": {},
   "outputs": [],
   "source": [
    "dfx.to_csv('/Users/kanaaax/Desktop/pls1_motor.rnk', sep='\\t')"
   ]
  },
  {
   "cell_type": "code",
   "execution_count": null,
   "metadata": {},
   "outputs": [],
   "source": []
  }
 ],
 "metadata": {
  "kernelspec": {
   "display_name": "Python 2",
   "language": "python",
   "name": "python2"
  },
  "language_info": {
   "codemirror_mode": {
    "name": "ipython",
    "version": 2
   },
   "file_extension": ".py",
   "mimetype": "text/x-python",
   "name": "python",
   "nbconvert_exporter": "python",
   "pygments_lexer": "ipython2",
   "version": "2.7.16"
  }
 },
 "nbformat": 4,
 "nbformat_minor": 2
}
