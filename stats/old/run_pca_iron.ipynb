{
 "cells": [
  {
   "cell_type": "markdown",
   "metadata": {},
   "source": [
    "# Code to run pca on geneset data extracted from AHBA microarrays"
   ]
  },
  {
   "cell_type": "code",
   "execution_count": 4,
   "metadata": {},
   "outputs": [],
   "source": [
    "#library(devtools)\n",
    "#install_github(\"ggbiplot\", \"vqv\")\n",
    "library(psych)\n",
    "#devtools::install_github(\"kassambara/factoextra\")\n",
    "#library(\"factoextra\")\n",
    "\n",
    "setwd('/Users/kanaaax/Google Drive/TS-EUROTRAIN/Papers/2016_QSM_paper/Figures_python_v2')\n",
    "datadir = '/Users/kanaaax/Google Drive/TS-EUROTRAIN/RESULTS_QSMv3/dataframes/AHBA'\n"
   ]
  },
  {
   "cell_type": "code",
   "execution_count": 5,
   "metadata": {},
   "outputs": [],
   "source": [
    "\n",
    "# loop over genesets \n",
    "for (geneset in c('IRON_SULFUR'))\n",
    "    \n",
    "    # read geneset data \n",
    "    df = read.table(file.path(datadir,paste('AHBA_', geneset, '.csv', sep = \"\")), sep = \",\", header=TRUE, row.names = 1)\n",
    "    \n",
    "    # drop non-gene columns\n",
    "\n",
    "    drops <- c('coords_native', 'donor_names', 'struct_id', 'struct_name', 'top_struct', 'Mean', 'Median', \n",
    "               'corrected_mni_x', 'corrected_mni_y', 'corrected_mni_z', 'SVD1g', 'SVD2g', 'SVD3g', 'SVD1p', 'SVD2p', 'SVD3p')\n",
    "    data = df[ , !(names(df) %in% drops)]\n",
    "    \n",
    "    # Run PCA \n",
    "    PCA = principal(data, nfactors=3)\n",
    "    df_scores   = PCA$scores\n",
    "    df_loadings = PCA$loadings\n",
    "\n",
    "    #colnames(df_scores) = c('PC1', 'PC2', 'PC3') \n",
    "\n",
    "    dfmerge = merge(df, df_scores, by=0, all=TRUE)\n",
    "    row.names(dfmerge) <- dfmerge$Row.names\n",
    "    dfmerge = dfmerge[ , -which(names(dfmerge) %in% c(\"Row.names\"))]\n",
    "    write.csv(dfmerge, file = file.path(datadir, paste('AHBA_', geneset, '_PCA.csv', sep = \"\")))\n",
    "    write.csv(df_loadings, file = file.path(datadir, paste('loadings_', geneset, '.csv', sep = \"\")))\n",
    "\n",
    "\n"
   ]
  },
  {
   "cell_type": "code",
   "execution_count": 6,
   "metadata": {},
   "outputs": [
    {
     "data": {
      "text/plain": [
       "Principal Components Analysis\n",
       "Call: principal(r = data, nfactors = 3)\n",
       "Standardized loadings (pattern matrix) based upon correlation matrix\n",
       "           RC1   RC2   RC3    h2   u2 com\n",
       "ACO1      0.30  0.66  0.16 0.557 0.44 1.5\n",
       "ACO2      0.68 -0.05  0.46 0.680 0.32 1.8\n",
       "BRIP1    -0.05 -0.22 -0.05 0.053 0.95 1.2\n",
       "CDK5RAP1  0.71 -0.04 -0.12 0.517 0.48 1.1\n",
       "CDKAL1   -0.32  0.74  0.37 0.779 0.22 1.9\n",
       "DDX11     0.42  0.63 -0.10 0.585 0.41 1.8\n",
       "DNA2      0.01  0.41  0.02 0.171 0.83 1.0\n",
       "DPYD     -0.07 -0.05  0.74 0.553 0.45 1.0\n",
       "ERCC2     0.16 -0.01  0.35 0.151 0.85 1.4\n",
       "ETFDH     0.46  0.27  0.32 0.389 0.61 2.5\n",
       "IREB2    -0.23  0.41 -0.37 0.361 0.64 2.6\n",
       "ISCA1     0.35 -0.10  0.49 0.371 0.63 1.9\n",
       "ISCA2     0.73  0.09  0.47 0.763 0.24 1.7\n",
       "ISCU      0.39 -0.01  0.62 0.532 0.47 1.7\n",
       "LIAS      0.03  0.36  0.79 0.756 0.24 1.4\n",
       "MOCS1     0.25  0.24  0.56 0.431 0.57 1.8\n",
       "MUTYH     0.41  0.70 -0.29 0.734 0.27 2.0\n",
       "NARFL     0.72  0.17 -0.10 0.554 0.45 1.1\n",
       "NDUFS1    0.37  0.13  0.64 0.566 0.43 1.7\n",
       "NDUFS2    0.91 -0.03  0.10 0.846 0.15 1.0\n",
       "NDUFS7    0.26  0.39  0.57 0.547 0.45 2.2\n",
       "NDUFS8    0.76 -0.04  0.33 0.682 0.32 1.4\n",
       "NDUFV1    0.87 -0.01  0.25 0.813 0.19 1.2\n",
       "NFU1      0.57  0.16  0.46 0.561 0.44 2.1\n",
       "NTHL1     0.83  0.00  0.09 0.697 0.30 1.0\n",
       "NUBP1     0.71  0.39  0.19 0.694 0.31 1.7\n",
       "NUBP2     0.67  0.39  0.24 0.657 0.34 1.9\n",
       "NUBPL     0.50 -0.36  0.19 0.418 0.58 2.2\n",
       "POLA1    -0.05  0.78  0.14 0.631 0.37 1.1\n",
       "POLD1     0.23  0.83  0.01 0.745 0.26 1.2\n",
       "POLE      0.00  0.32 -0.63 0.499 0.50 1.5\n",
       "PPAT      0.23 -0.24  0.02 0.114 0.89 2.0\n",
       "PRIM2     0.15  0.54 -0.05 0.316 0.68 1.2\n",
       "REV3L    -0.01  0.80 -0.31 0.741 0.26 1.3\n",
       "RSAD1     0.52  0.54 -0.41 0.723 0.28 2.9\n",
       "RSAD2    -0.32 -0.18  0.70 0.633 0.37 1.6\n",
       "RTEL1     0.51  0.23 -0.26 0.377 0.62 1.9\n",
       "SDHB      0.89  0.03  0.17 0.830 0.17 1.1\n",
       "TYW1      0.44  0.25  0.18 0.290 0.71 1.9\n",
       "TYW1B    -0.20  0.61  0.07 0.411 0.59 1.2\n",
       "\n",
       "                       RC1  RC2  RC3\n",
       "SS loadings           9.56 6.40 5.77\n",
       "Proportion Var        0.24 0.16 0.14\n",
       "Cumulative Var        0.24 0.40 0.54\n",
       "Proportion Explained  0.44 0.29 0.27\n",
       "Cumulative Proportion 0.44 0.73 1.00\n",
       "\n",
       "Mean item complexity =  1.6\n",
       "Test of the hypothesis that 3 components are sufficient.\n",
       "\n",
       "The root mean square of the residuals (RMSR) is  0.08 \n",
       " with the empirical chi square  33414.79  with prob <  0 \n",
       "\n",
       "Fit based upon off diagonal values = 0.94"
      ]
     },
     "metadata": {},
     "output_type": "display_data"
    }
   ],
   "source": [
    "PCA"
   ]
  },
  {
   "cell_type": "code",
   "execution_count": null,
   "metadata": {},
   "outputs": [],
   "source": []
  }
 ],
 "metadata": {
  "kernelspec": {
   "display_name": "R",
   "language": "R",
   "name": "ir"
  },
  "language_info": {
   "codemirror_mode": "r",
   "file_extension": ".r",
   "mimetype": "text/x-r-source",
   "name": "R",
   "pygments_lexer": "r",
   "version": "3.6.0"
  }
 },
 "nbformat": 4,
 "nbformat_minor": 2
}
