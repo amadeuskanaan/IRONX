{
 "cells": [
  {
   "cell_type": "code",
   "execution_count": 1,
   "metadata": {},
   "outputs": [],
   "source": [
    "%matplotlib inline\n",
    "import os\n",
    "import math \n",
    "import numpy as np\n",
    "import pandas as pd \n",
    "import seaborn as sns\n",
    "import random\n",
    "import matplotlib.pyplot as plt\n",
    "import statsmodels.formula.api as smf\n",
    "from scipy.stats import pearsonr, spearmanr, gaussian_kde\n",
    "from sklearn.decomposition import TruncatedSVD, PCA\n",
    "from sklearn.preprocessing import scale\n",
    "from statsmodels.sandbox.stats.multicomp import fdrcorrection0\n",
    "from matplotlib.colors import rgb2hex\n",
    "import warnings\n",
    "sns.set_style('white')\n",
    "pd.options.display.max_rows = 2000\n",
    "pd.options.display.max_columns = 999\n",
    "warnings.filterwarnings('ignore')\n",
    "\n",
    "ahba_dir     = '/Users/kanaaax/Google Drive/TS-EUROTRAIN/RESULTS_QSMv3/dataframes/AHBA/'\n",
    "gsea_dir     = '/Users/kanaaax/Desktop/GSEA'\n",
    "permute_dir  = '/Users/kanaaax/Google Drive/TS-EUROTRAIN/RESULTS_QSMv3/dataframes/permutations'\n",
    "save_fig_dir = '/Users/kanaaax/Google Drive/TS-EUROTRAIN/Papers/2016_QSM_paper/Figures_python_v4'\n",
    "\n",
    "# wells outside the striatal masks \n",
    "wells = [2371,       # AHBA claustrum, right\n",
    "         2379,       # AHBA claustrum, left\n",
    "         159226045,  # AHBA striatum -- out of mask\n",
    "         160091500   # AHBA septal nuclei, left\n",
    "         ] \n",
    "#housekeeping\n",
    "drop_strings = ['coords_native', 'donor_names', 'struct_id', 'struct_name', 'top_struct', 'Mean', 'Median', 'PC1', 'PC2','PC3', ]\n"
   ]
  },
  {
   "cell_type": "code",
   "execution_count": 2,
   "metadata": {},
   "outputs": [],
   "source": [
    "###########################################\n",
    "# Read QSM stat maps#\n",
    "##########################################\n",
    "\n",
    "df_MNI = pd.read_csv(os.path.join(ahba_dir,'QSM_TSTATS/MNI_NIFTI_VALUES_permute_10K_OCT2.csv'), index_col = 0 )"
   ]
  },
  {
   "cell_type": "code",
   "execution_count": 3,
   "metadata": {},
   "outputs": [],
   "source": [
    "###########################################\n",
    "# Read expression values of AHBA database  \n",
    "###########################################\n",
    "\n",
    "AHBA = pd.read_csv(os.path.join(ahba_dir, 'ahba_data', 'AHBA_20737.csv'), index_col = 0)"
   ]
  },
  {
   "cell_type": "code",
   "execution_count": 4,
   "metadata": {},
   "outputs": [],
   "source": [
    "############################################\n",
    "# Concatenate geneset expression dataframes \n",
    "############################################\n",
    "\n",
    "def return_expression_df(geneset):\n",
    "    df = pd.read_csv(os.path.join(ahba_dir, 'AHBA_%s.csv'%geneset),index_col=0)\n",
    "    gs = [i for i in df.columns if i not in drop_strings]\n",
    "    return df, gs \n",
    "\n",
    "IRON_H,  GS_IRON_H   = return_expression_df('IRON_HOMEOSTASIS_PCA')\n",
    "IRON_D,  GS_IRON_D   = return_expression_df('IRON_D_PCA')\n",
    "IRON_T2, GS_IRON_T2  = return_expression_df('IRON_TRANSPORT2_PCA')\n",
    "FERRITIN,GS_FERRITIN = return_expression_df('FERRITIN_PCA')\n",
    "\n",
    "genesets = {'IRON_H'  : GS_IRON_H,'IRON_D'  : GS_IRON_D,'IRON_T2' : GS_IRON_T2,'FERRITIN': GS_FERRITIN}\n",
    "\n",
    "def concat_dfs(measure):\n",
    "    df  = pd.DataFrame(index = IRON_H.index, columns = ['IRON', 'IRON_D', 'IRON_T2', 'FERRITIN', 'top_struct', 'struct'])\n",
    "    xval = 1\n",
    "    df['top_struct']        = IRON_H.top_struct\n",
    "    df['struct']            = IRON_H.struct_name\n",
    "    df['IRON_H']            = IRON_H[measure] * xval\n",
    "    df['IRON_D']            = IRON_D[measure]\n",
    "    df['IRON_T2']           = IRON_T2[measure] * xval\n",
    "    df['FERRITIN']          = FERRITIN[measure] * xval    \n",
    "    df['FERRITIN']          = FERRITIN[measure] * xval    \n",
    "    dfc = pd.concat([df_MNI, df], axis = 1)\n",
    "    return dfc\n",
    "\n",
    "df_PC1   = concat_dfs('RC1')\n",
    "df_MU    = concat_dfs('Mean')\n",
    "df_MD    = concat_dfs('Median')\n",
    "\n",
    "dfs = {'df_PC1': df_PC1, 'df_MU':df_MU, 'df_MD':df_MD}"
   ]
  },
  {
   "cell_type": "code",
   "execution_count": null,
   "metadata": {},
   "outputs": [],
   "source": []
  },
  {
   "cell_type": "code",
   "execution_count": 5,
   "metadata": {},
   "outputs": [],
   "source": [
    "GOALL = 'gseaftp.broadinstitute.org://pub/gsea/gene_sets_final/c5.all.v6.2.symbols.gmt'\n",
    "GOBP  = 'gseaftp.broadinstitute.org://pub/gsea/gene_sets_final/c5.bp.v6.2.symbols.gmt'\n",
    "GOMF  = 'gseaftp.broadinstitute.org://pub/gsea/gene_sets_final/c5.cc.v6.2.symbols.gmt'\n",
    "GOCC  = 'gseaftp.broadinstitute.org://pub/gsea/gene_sets_final/c5.mf.v6.2.symbols.gmt'\n",
    "            \n",
    "GOALLREACTOME = 'gseaftp.broadinstitute.org://pub/gsea/gene_sets_final/c2.cp.reactome.v6.2.symbols.gmt,gseaftp.broadinstitute.org://pub/gsea/gene_sets_final/c5.all.v6.2.symbols.gmt'\n",
    "GOBPREACTOME  = 'gseaftp.broadinstitute.org://pub/gsea/gene_sets_final/c2.cp.reactome.v6.2.symbols.gmt,gseaftp.broadinstitute.org://pub/gsea/gene_sets_final/c5.bp.v6.2.symbols.gmt'\n",
    "GOALLKEGG     ='gseaftp.broadinstitute.org://pub/gsea/gene_sets_final/c2.cp.kegg.v6.2.symbols.gmt,gseaftp.broadinstitute.org://pub/gsea/gene_sets_final/c5.all.v6.2.symbols.gmt'\n",
    "GOALLREACTKEGG= 'gseaftp.broadinstitute.org://pub/gsea/gene_sets_final/c2.cp.kegg.v6.2.symbols.gmt,gseaftp.broadinstitute.org://pub/gsea/gene_sets_final/c2.cp.reactome.v6.2.symbols.gmt,gseaftp.broadinstitute.org://pub/gsea/gene_sets_final/c5.all.v6.2.symbols.gmt'\n",
    "\n",
    "CURATEDALL = 'gseaftp.broadinstitute.org://pub/gsea/gene_sets_final/c2.all.v6.2.symbols.gmt'\n",
    "CANONICAL  = 'gseaftp.broadinstitute.org://pub/gsea/gene_sets_final/c2.cp.v6.2.symbols.gmt' \n",
    "CHEMGEN    = 'gseaftp.broadinstitute.org://pub/gsea/gene_sets_final/c2.cgp.v6.2.symbols.gmt'\n",
    "BIOCARTA   = 'gseaftp.broadinstitute.org://pub/gsea/gene_sets_final/c2.cp.biocarta.v6.2.symbols.gmt'\n",
    "KEGG       = 'gseaftp.broadinstitute.org://pub/gsea/gene_sets_final/c2.cp.kegg.v6.2.symbols.gmt'\n",
    "REACTOME   = 'gseaftp.broadinstitute.org://pub/gsea/gene_sets_final/c2.cp.reactome.v6.2.symbols.gmt'\n",
    "HALLMARK   = 'gseaftp.broadinstitute.org://pub/gsea/gene_sets_final/h.all.v6.2.symbols.gmt' \n",
    "\n"
   ]
  },
  {
   "cell_type": "code",
   "execution_count": 6,
   "metadata": {},
   "outputs": [],
   "source": [
    "\n",
    "def make_geneset_enrichment_stats(nucleus, gset, gset_name, gset_size, fname, corr_type='pearson'):\n",
    "\n",
    "    ################################\n",
    "    # This code runs a Geneset enrichment analysis \n",
    "    # Gene Set Enrichment Analysis (GSEA) is a computational method \n",
    "    # that determines whether an a priori defined set of genes shows statistically \n",
    "    # significant, concordant differences between two biological states (e.g. phenotypes). \n",
    "    # https://software.broadinstitute.org/gsea/index.jsp\n",
    "    \n",
    "    ################################\n",
    "    # Create preranked table \n",
    "    # This is a 2x20737 matrix with gene names for col1 and R-values for col2\n",
    "    # R-Values represent the association between gene-expression leves and t-statistical susceptibility difference \n",
    "    \n",
    "    print 'Running gene set enrichment analysis for %s nucleus with %s and size %s and %s correlation' %(fname, gset_name, gset_size, corr_type)\n",
    "    \n",
    "    rank_file   = os.path.join(gsea_dir, 'GSEA_%s_%s.rnk'%(fname,corr_type))\n",
    "    \n",
    "    if not os.path.isfile(rank_file):\n",
    "        print '.....creating rank file'\n",
    "        GENES = AHBA.columns[:-28]\n",
    "        df_GSEA = pd.DataFrame(index = ['r_val'], columns =GENES)#.T\n",
    "\n",
    "        df_chi  = df_MNI.drop([i for i in df_MNI.columns if i not in ['STR_tstat_CP_1mm']],axis=1)\n",
    "        df_chi  = pd.DataFrame(dfs[\"df_MU\"][nucleus].drop(wells,axis=0).dropna())\n",
    "\n",
    "        for gene in GENES:\n",
    "            #print gene\n",
    "            df_chigen = pd.DataFrame(index = df_chi.index)\n",
    "            df_chigen['GEN'] = AHBA[gene]\n",
    "            df_chigen['chi'] = df_chi[nucleus]\n",
    "\n",
    "            # make correlations \n",
    "            if corr_type == 'pearson':\n",
    "                pearson  = pearsonr(df_chigen['chi'], df_chigen['GEN'])\n",
    "                df_GSEA.loc[\"r_val\"][gene] =  pearson[0]\n",
    "            elif corr_type == 'spearman':\n",
    "                spearman  = spearmanr(df_chigen['chi'], df_chigen['GEN'])\n",
    "                df_GSEA.loc[\"r_val\"][gene] =  spearman[0]\n",
    "\n",
    "        df_GSEA = df_GSEA.T.sort_values(\"r_val\", ascending=False)\n",
    "        df_GSEA.index.name = \"Gene\"\n",
    "        df_GSEA.to_csv(rank_file, sep='\\t')\n",
    "    \n",
    "    ###############################\n",
    "    # Run gsea-3.0.jar\n",
    "    \n",
    "    outfname = '%s_%s_%s' %(fname, gset_name, gset_size )\n",
    "    logfile  = os.path.join(gsea_dir, 'log_%s.txt'%outfname)\n",
    "    \n",
    "    outfolder = [i for i in os.listdir(gsea_dir) if outfname in i ]\n",
    "    \n",
    "    if outfolder:\n",
    "        print '.....file made:', outfolder[0]\n",
    "    \n",
    "    else:\n",
    "        print '..... runing gsea-3.0.jar'\n",
    "        gsea_cmd = ' '.join(['java -Xmx512m',\n",
    "                    '-cp ~/Desktop/gsea-3.0.jar xtools.gsea.GseaPreranked', \n",
    "                    '-gmx ' + gset,\n",
    "                    '-norm meandiv -nperm 1000', \n",
    "                    '-rnk '+ rank_file,\n",
    "                    '-scoring_scheme weighted',\n",
    "                    '-rpt_label ' + outfname,\n",
    "                    '-create_svgs false',\n",
    "                    '-make_sets true',\n",
    "                    '-plot_top_x 1000', \n",
    "                    '-rnd_seed timestamp',\n",
    "                    '-set_max %s'%gset_size, \n",
    "                    '-set_min 15',\n",
    "                    '-zip_report false',\n",
    "                    '-out ' + gsea_dir, \n",
    "                    '-gui false',\n",
    "                    '> ' + logfile \n",
    "                  ])\n",
    "\n",
    "        print '..... %s' %gsea_cmd\n",
    "        os.system(gsea_cmd)\n"
   ]
  },
  {
   "cell_type": "code",
   "execution_count": 9,
   "metadata": {},
   "outputs": [
    {
     "name": "stdout",
     "output_type": "stream",
     "text": [
      "Running gene set enrichment analysis for STR_sp nucleus with GOALLREACTKEGG and size 500 and spearman correlation\n",
      ".....creating rank file\n",
      "..... runing gsea-3.0.jar\n",
      "..... java -Xmx512m -cp ~/Desktop/gsea-3.0.jar xtools.gsea.GseaPreranked -gmx gseaftp.broadinstitute.org://pub/gsea/gene_sets_final/c2.cp.kegg.v6.2.symbols.gmt,gseaftp.broadinstitute.org://pub/gsea/gene_sets_final/c2.cp.reactome.v6.2.symbols.gmt,gseaftp.broadinstitute.org://pub/gsea/gene_sets_final/c5.all.v6.2.symbols.gmt -norm meandiv -nperm 1000 -rnk /Users/kanaaax/Desktop/GSEA/GSEA_STR_sp_spearman.rnk -scoring_scheme weighted -rpt_label STR_sp_GOALLREACTKEGG_500 -create_svgs false -make_sets true -plot_top_x 1000 -rnd_seed timestamp -set_max 500 -set_min 15 -zip_report false -out /Users/kanaaax/Desktop/GSEA -gui false > /Users/kanaaax/Desktop/GSEA/log_STR_sp_GOALLREACTKEGG_500.txt\n",
      "Running gene set enrichment analysis for STR_sp nucleus with GOALLREACTKEGG and size 500 and spearman correlation\n",
      ".....file made: STR_sp_GOALLREACTKEGG_500.GseaPreranked.1559858355968\n",
      "Running gene set enrichment analysis for STR_sp nucleus with HALLMARK and size 500 and spearman correlation\n",
      "..... runing gsea-3.0.jar\n",
      "..... java -Xmx512m -cp ~/Desktop/gsea-3.0.jar xtools.gsea.GseaPreranked -gmx gseaftp.broadinstitute.org://pub/gsea/gene_sets_final/h.all.v6.2.symbols.gmt -norm meandiv -nperm 1000 -rnk /Users/kanaaax/Desktop/GSEA/GSEA_STR_sp_spearman.rnk -scoring_scheme weighted -rpt_label STR_sp_HALLMARK_500 -create_svgs false -make_sets true -plot_top_x 1000 -rnd_seed timestamp -set_max 500 -set_min 15 -zip_report false -out /Users/kanaaax/Desktop/GSEA -gui false > /Users/kanaaax/Desktop/GSEA/log_STR_sp_HALLMARK_500.txt\n"
     ]
    }
   ],
   "source": [
    "nuc = ['STR_tstat_CP_1mm']\n",
    "\n",
    "for size in [500]:\n",
    "    #make_geneset_enrichment_stats(nuc, GOALL, 'GO_all' , gset_size=size, fname = 'STR', corr_type='pearson')\n",
    "    #make_geneset_enrichment_stats(nuc, KEGG, 'KEGG' , gset_size=size, fname = 'STR', corr_type='pearson')\n",
    "    #make_geneset_enrichment_stats(nuc, REACTOME, 'REACTOME' , gset_size=size, fname = 'STR', corr_type='pearson')\n",
    "    #make_geneset_enrichment_stats(nuc, GOALLREACTOME, 'GOALLREACTOME' , gset_size=size, fname = 'STR', corr_type='pearson')\n",
    "    #make_geneset_enrichment_stats(nuc, GOALLKEGG, 'GOALLKEGG' , gset_size=size, fname = 'STR', corr_type='pearson')\n",
    "    make_geneset_enrichment_stats(nuc, GOALLREACTKEGG, 'GOALLREACTKEGG' , gset_size=size, fname = 'STR_sp', corr_type='spearman')\n",
    "    make_geneset_enrichment_stats(nuc, GOALLREACTKEGG, 'GOALLREACTKEGG' , gset_size=size, fname = 'STR_sp', corr_type='spearman')\n",
    "    make_geneset_enrichment_stats(nuc, HALLMARK, 'HALLMARK' , gset_size=size, fname = 'STR_sp', corr_type='spearman')\n"
   ]
  },
  {
   "cell_type": "code",
   "execution_count": 12,
   "metadata": {},
   "outputs": [
    {
     "name": "stdout",
     "output_type": "stream",
     "text": [
      "Running gene set enrichment analysis for STR3_MOTOR nucleus with GO_all and size 500 and pearson correlation\n",
      ".....file made: STR3_MOTOR_GO_all_500.GseaPreranked.1559598104489\n",
      "Running gene set enrichment analysis for STR3_MOTOR nucleus with KEGG and size 500 and pearson correlation\n",
      ".....file made: STR3_MOTOR_KEGG_500.GseaPreranked.1559598647928\n",
      "Running gene set enrichment analysis for STR3_MOTOR nucleus with REACTOME and size 500 and pearson correlation\n",
      ".....file made: STR3_MOTOR_REACTOME_500.GseaPreranked.1559598676629\n",
      "Running gene set enrichment analysis for STR3_MOTOR_plt nucleus with GOALLREACTOME and size 500 and pearson correlation\n",
      ".....creating rank file\n",
      "..... runing gsea-3.0.jar\n",
      "..... java -Xmx512m -cp ~/Desktop/gsea-3.0.jar xtools.gsea.GseaPreranked -gmx gseaftp.broadinstitute.org://pub/gsea/gene_sets_final/c2.cp.reactome.v6.2.symbols.gmt,gseaftp.broadinstitute.org://pub/gsea/gene_sets_final/c5.all.v6.2.symbols.gmt -norm meandiv -nperm 1000 -rnk /Users/kanaaax/Desktop/GSEA/GSEA_STR3_MOTOR_plt_pearson.rnk -scoring_scheme weighted -rpt_label STR3_MOTOR_plt_GOALLREACTOME_500 -create_svgs false -make_sets true -plot_top_x 1000 -rnd_seed timestamp -set_max 500 -set_min 15 -zip_report false -out /Users/kanaaax/Desktop/GSEA -gui false > /Users/kanaaax/Desktop/GSEA/log_STR3_MOTOR_plt_GOALLREACTOME_500.txt\n",
      "Running gene set enrichment analysis for STR3_MOTOR nucleus with GOALLKEGG and size 500 and pearson correlation\n",
      ".....file made: log_STR3_MOTOR_GOALLKEGG_500.txt\n",
      "Running gene set enrichment analysis for STR3_MOTOR nucleus with GOALLREACTKEGG and size 500 and pearson correlation\n",
      ".....file made: log_STR3_MOTOR_GOALLREACTKEGG_500.txt\n",
      "Running gene set enrichment analysis for STR3_MOTOR nucleus with HALLMARK and size 500 and pearson correlation\n",
      ".....file made: STR3_MOTOR_HALLMARK_500.GseaPreranked.1559603519788\n"
     ]
    }
   ],
   "source": [
    "nuc = ['STR3_MOTOR_tstat_CP_1mm']\n",
    "\n",
    "for size in [500]:\n",
    "    #make_geneset_enrichment_stats(nuc, GOALL, 'GO_all' , gset_size=size, fname = 'STR3_MOTOR', corr_type='pearson')\n",
    "    #make_geneset_enrichment_stats(nuc, KEGG, 'KEGG' , gset_size=size, fname = 'STR3_MOTOR', corr_type='pearson')\n",
    "    #make_geneset_enrichment_stats(nuc, REACTOME, 'REACTOME' , gset_size=size, fname = 'STR3_MOTOR', corr_type='pearson')\n",
    "    #make_geneset_enrichment_stats(nuc, GOALLREACTOME, 'GOALLREACTOME' , gset_size=size, fname = 'STR3_MOTOR_plt', corr_type='pearson')\n",
    "    #make_geneset_enrichment_stats(nuc, GOALLKEGG, 'GOALLKEGG' , gset_size=size, fname = 'STR3_MOTOR', corr_type='pearson')\n",
    "    make_geneset_enrichment_stats(nuc, GOALLREACTKEGG, 'GOALLREACTKEGG' , gset_size=size, fname = 'STR3_MOTOR', corr_type='spearman')\n",
    "    make_geneset_enrichment_stats(nuc, HALLMARK, 'HALLMARK' , gset_size=size, fname = 'STR3_MOTOR', corr_type='spearman')\n",
    "    make_geneset_enrichment_stats(nuc, GOALLREACTKEGG, 'GOALLREACTKEGG' , gset_size=size, fname = 'STR3_MOTOR_spr', corr_type='spearman')\n",
    "    make_geneset_enrichment_stats(nuc, HALLMARK, 'HALLMARK' , gset_size=size, fname = 'STR3_MOTOR_spr', corr_type='spearman')\n",
    "    "
   ]
  },
  {
   "cell_type": "code",
   "execution_count": 10,
   "metadata": {},
   "outputs": [
    {
     "ename": "SyntaxError",
     "evalue": "invalid syntax (<ipython-input-10-14840d89c641>, line 7)",
     "output_type": "error",
     "traceback": [
      "\u001b[0;36m  File \u001b[0;32m\"<ipython-input-10-14840d89c641>\"\u001b[0;36m, line \u001b[0;32m7\u001b[0m\n\u001b[0;31m    make_geneset_enrichment_stats(nuc, G®†OALLREACTOME, 'GOALLREACTOME' , gset_size=size, fname = 'STR3_EXEC', corr_type='pearson')\u001b[0m\n\u001b[0m                                        ^\u001b[0m\n\u001b[0;31mSyntaxError\u001b[0m\u001b[0;31m:\u001b[0m invalid syntax\n"
     ]
    }
   ],
   "source": [
    "nuc = ['STR3_EXEC_tstat_CP_1mm']\n",
    "\n",
    "for size in [500]:\n",
    "    make_geneset_enrichment_stats(nuc, GOALL, 'GO_all' , gset_size=size, fname = 'STR3_EXEC', corr_type='pearson')\n",
    "    make_geneset_enrichment_stats(nuc, KEGG, 'KEGG' , gset_size=size, fname = 'STR3_EXEC', corr_type='pearson')\n",
    "    make_geneset_enrichment_stats(nuc, REACTOME, 'REACTOME' , gset_size=size, fname = 'STR3_EXEC', corr_type='pearson')\n",
    "    make_geneset_enrichment_stats(nuc, G®†OALLREACTOME, 'GOALLREACTOME' , gset_size=size, fname = 'STR3_EXEC', corr_type='pearson')\n",
    "    make_geneset_enrichment_stats(nuc, GOALLKEGG, 'GOALLKEGG' , gset_size=size, fname = 'STR3_EXEC', corr_type='pearson')\n",
    "    make_geneset_enrichment_stats(nuc, GOALLREACTKEGG, 'GOALLREACTKEGG' , gset_size=size, fname = 'STR3_EXEC', corr_type='pearson')\n",
    "    make_geneset_enrichment_stats(nuc, HALLMARK, 'HALLMARK' , gset_size=size, fname = 'STR3_EXEC', corr_type='pearson')\n"
   ]
  },
  {
   "cell_type": "code",
   "execution_count": null,
   "metadata": {},
   "outputs": [],
   "source": [
    "nuc = ['STR3_LIMBIC_tstat_CP_1mm']\n",
    "\n",
    "for size in [500]:\n",
    "    make_geneset_enrichment_stats(nuc, GOALL, 'GO_all' , gset_size=size, fname = 'STR3_LIMBIC', corr_type='pearson')\n",
    "    make_geneset_enrichment_stats(nuc, KEGG, 'KEGG' , gset_size=size, fname = 'STR3_LIMBIC', corr_type='pearson')\n",
    "    make_geneset_enrichment_stats(nuc, REACTOME, 'REACTOME' , gset_size=size, fname = 'STR3_LIMBIC', corr_type='pearson')\n",
    "    make_geneset_enrichment_stats(nuc, GOALLREACTOME, 'GOALLREACTOME' , gset_size=size, fname = 'STR3_LIMBIC', corr_type='pearson')\n",
    "    make_geneset_enrichment_stats(nuc, GOALLKEGG, 'GOALLKEGG' , gset_size=size, fname = 'STR3_LIMBIC', corr_type='pearson')\n",
    "    make_geneset_enrichment_stats(nuc, GOALLREACTKEGG, 'GOALLREACTKEGG' , gset_size=size, fname = 'STR3_MOTOR', corr_type='pearson')\n",
    "    make_geneset_enrichment_stats(nuc, HALLMARK, 'HALLMARK' , gset_size=size, fname = 'STR3_LIMBIC', corr_type='pearson')\n"
   ]
  },
  {
   "cell_type": "code",
   "execution_count": null,
   "metadata": {},
   "outputs": [],
   "source": []
  },
  {
   "cell_type": "code",
   "execution_count": null,
   "metadata": {},
   "outputs": [],
   "source": []
  },
  {
   "cell_type": "code",
   "execution_count": null,
   "metadata": {},
   "outputs": [],
   "source": [
    "nuc = ['GM_0.0_tstat_CP_1mm']\n",
    "\n",
    "for size in [500]:\n",
    "    make_geneset_enrichment_stats(nuc, GOALL, 'GO_all' , gset_size=size, fname = 'GM_0.0', corr_type='pearson')\n",
    "    make_geneset_enrichment_stats(nuc, KEGG, 'KEGG' , gset_size=size, fname = 'GM_0.0', corr_type='pearson')\n",
    "    make_geneset_enrichment_stats(nuc, REACTOME, 'REACTOME' , gset_size=size, fname = 'GM_0.0', corr_type='pearson')\n",
    "    make_geneset_enrichment_stats(nuc, GOALLREACTOME, 'GOALLREACTOME' , gset_size=size, fname = 'GM', corr_type='pearson')\n",
    "    make_geneset_enrichment_stats(nuc, GOALLKEGG, 'GOALLKEGG' , gset_size=size, fname = 'GM_0.0', corr_type='pearson')\n",
    "    make_geneset_enrichment_stats(nuc, GOALLREACTKEGG, 'GOALLREACTKEGG' , gset_size=size, fname = 'GM_0.0', corr_type='pearson')\n",
    "    make_geneset_enrichment_stats(nuc, HALLMARK, 'HALLMARK' , gset_size=size, fname = 'GM_0.0', corr_type='pearson')\n"
   ]
  },
  {
   "cell_type": "code",
   "execution_count": null,
   "metadata": {},
   "outputs": [],
   "source": [
    "fname = \n",
    "\n",
    "gsea_result = os.path.join(gsea_dir, )"
   ]
  },
  {
   "cell_type": "code",
   "execution_count": 13,
   "metadata": {},
   "outputs": [
    {
     "ename": "ImportError",
     "evalue": "cannot import name TemporaryDirectory",
     "output_type": "error",
     "traceback": [
      "\u001b[0;31m---------------------------------------------------------------------------\u001b[0m",
      "\u001b[0;31mImportError\u001b[0m                               Traceback (most recent call last)",
      "\u001b[0;32m<ipython-input-13-7928f3c2e751>\u001b[0m in \u001b[0;36m<module>\u001b[0;34m()\u001b[0m\n\u001b[0;32m----> 1\u001b[0;31m \u001b[0;32mimport\u001b[0m \u001b[0mgseapy\u001b[0m\u001b[0;34m\u001b[0m\u001b[0m\n\u001b[0m",
      "\u001b[0;32m/Users/kanaaax/anaconda2/lib/python2.7/site-packages/gseapy/__init__.py\u001b[0m in \u001b[0;36m<module>\u001b[0;34m()\u001b[0m\n\u001b[1;32m      1\u001b[0m \u001b[0;31m#\u001b[0m\u001b[0;34m\u001b[0m\u001b[0;34m\u001b[0m\u001b[0m\n\u001b[0;32m----> 2\u001b[0;31m \u001b[0;32mfrom\u001b[0m \u001b[0;34m.\u001b[0m\u001b[0mgsea\u001b[0m \u001b[0;32mimport\u001b[0m \u001b[0mreplot\u001b[0m\u001b[0;34m,\u001b[0m \u001b[0mprerank\u001b[0m\u001b[0;34m,\u001b[0m \u001b[0mgsea\u001b[0m\u001b[0;34m,\u001b[0m \u001b[0mssgsea\u001b[0m\u001b[0;34m\u001b[0m\u001b[0m\n\u001b[0m\u001b[1;32m      3\u001b[0m \u001b[0;32mfrom\u001b[0m \u001b[0;34m.\u001b[0m\u001b[0menrichr\u001b[0m \u001b[0;32mimport\u001b[0m \u001b[0menrichr\u001b[0m\u001b[0;34m\u001b[0m\u001b[0m\n\u001b[1;32m      4\u001b[0m \u001b[0;32mfrom\u001b[0m \u001b[0;34m.\u001b[0m\u001b[0mparser\u001b[0m \u001b[0;32mimport\u001b[0m \u001b[0mget_library_name\u001b[0m\u001b[0;34m\u001b[0m\u001b[0m\n\u001b[1;32m      5\u001b[0m \u001b[0;32mfrom\u001b[0m \u001b[0;34m.\u001b[0m\u001b[0mplot\u001b[0m \u001b[0;32mimport\u001b[0m \u001b[0mdotplot\u001b[0m\u001b[0;34m,\u001b[0m \u001b[0mbarplot\u001b[0m\u001b[0;34m,\u001b[0m \u001b[0mheatmap\u001b[0m\u001b[0;34m,\u001b[0m \u001b[0mgseaplot\u001b[0m\u001b[0;34m\u001b[0m\u001b[0m\n",
      "\u001b[0;32m/Users/kanaaax/anaconda2/lib/python2.7/site-packages/gseapy/gsea.py\u001b[0m in \u001b[0;36m<module>\u001b[0;34m()\u001b[0m\n\u001b[1;32m      5\u001b[0m \u001b[0;32mfrom\u001b[0m \u001b[0mcollections\u001b[0m \u001b[0;32mimport\u001b[0m \u001b[0mOrderedDict\u001b[0m\u001b[0;34m\u001b[0m\u001b[0m\n\u001b[1;32m      6\u001b[0m \u001b[0;32mfrom\u001b[0m \u001b[0mmultiprocessing\u001b[0m \u001b[0;32mimport\u001b[0m \u001b[0mPool\u001b[0m\u001b[0;34m,\u001b[0m \u001b[0mcpu_count\u001b[0m\u001b[0;34m\u001b[0m\u001b[0m\n\u001b[0;32m----> 7\u001b[0;31m \u001b[0;32mfrom\u001b[0m \u001b[0mtempfile\u001b[0m \u001b[0;32mimport\u001b[0m \u001b[0mTemporaryDirectory\u001b[0m\u001b[0;34m\u001b[0m\u001b[0m\n\u001b[0m\u001b[1;32m      8\u001b[0m \u001b[0;32mfrom\u001b[0m \u001b[0mnumpy\u001b[0m \u001b[0;32mimport\u001b[0m \u001b[0mlog\u001b[0m\u001b[0;34m,\u001b[0m \u001b[0mexp\u001b[0m\u001b[0;34m\u001b[0m\u001b[0m\n\u001b[1;32m      9\u001b[0m \u001b[0;32mimport\u001b[0m \u001b[0mnumpy\u001b[0m \u001b[0;32mas\u001b[0m \u001b[0mnp\u001b[0m\u001b[0;34m\u001b[0m\u001b[0m\n",
      "\u001b[0;31mImportError\u001b[0m: cannot import name TemporaryDirectory"
     ]
    }
   ],
   "source": [
    "import gseapy"
   ]
  },
  {
   "cell_type": "code",
   "execution_count": null,
   "metadata": {},
   "outputs": [],
   "source": []
  },
  {
   "cell_type": "code",
   "execution_count": null,
   "metadata": {},
   "outputs": [],
   "source": []
  }
 ],
 "metadata": {
  "kernelspec": {
   "display_name": "Python 2",
   "language": "python",
   "name": "python2"
  },
  "language_info": {
   "codemirror_mode": {
    "name": "ipython",
    "version": 2
   },
   "file_extension": ".py",
   "mimetype": "text/x-python",
   "name": "python",
   "nbconvert_exporter": "python",
   "pygments_lexer": "ipython2",
   "version": "2.7.16"
  }
 },
 "nbformat": 4,
 "nbformat_minor": 2
}
