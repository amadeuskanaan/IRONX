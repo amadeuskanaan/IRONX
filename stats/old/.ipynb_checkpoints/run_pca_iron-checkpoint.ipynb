{
 "cells": [
  {
   "cell_type": "markdown",
   "metadata": {},
   "source": [
    "# Code to run pca on geneset data extracted from AHBA microarrays"
   ]
  },
  {
   "cell_type": "code",
   "execution_count": 41,
   "metadata": {},
   "outputs": [],
   "source": [
    "#library(devtools)\n",
    "#install_github(\"ggbiplot\", \"vqv\")\n",
    "library(psych)\n",
    "#devtools::install_github(\"kassambara/factoextra\")\n",
    "#library(\"factoextra\")\n",
    "\n",
    "setwd('/Users/kanaaax/Google Drive/TS-EUROTRAIN/Papers/2016_QSM_paper/Figures_python_v2')\n",
    "datadir = '/Users/kanaaax/Google Drive/TS-EUROTRAIN/RESULTS_QSMv3/dataframes/AHBA'\n"
   ]
  },
  {
   "cell_type": "code",
   "execution_count": 51,
   "metadata": {},
   "outputs": [],
   "source": [
    "\n",
    "# loop over genesets \n",
    "for (geneset in c('IROND'))\n",
    "    \n",
    "    # read geneset data \n",
    "    df = read.table(file.path(datadir,paste('AHBA_', geneset, '.csv', sep = \"\")), sep = \",\", header=TRUE, row.names = 1)\n",
    "    \n",
    "    # drop non-gene columns\n",
    "\n",
    "    drops <- c('coords_native', 'donor_names', 'struct_id', 'struct_name', 'top_struct', 'Mean', 'Median', \n",
    "               'corrected_mni_x', 'corrected_mni_y', 'corrected_mni_z', 'SVD1g', 'SVD2g', 'SVD3g', 'SVD1p', 'SVD2p', 'SVD3p')\n",
    "    data = df[ , !(names(df) %in% drops)]\n",
    "    \n",
    "    # Run PCA \n",
    "    PCA = principal(data, nfactors=3)\n",
    "    df_scores   = PCA$scores\n",
    "    df_loadings = PCA$loadings\n",
    "\n",
    "    #colnames(df_scores) = c('PC1', 'PC2', 'PC3') \n",
    "\n",
    "    dfmerge = merge(df, df_scores, by=0, all=TRUE)\n",
    "    row.names(dfmerge) <- dfmerge$Row.names\n",
    "    dfmerge = dfmerge[ , -which(names(dfmerge) %in% c(\"Row.names\"))]\n",
    "    write.csv(dfmerge, file = file.path(datadir, paste('AHBA_', geneset, '_PCA.csv', sep = \"\")))\n",
    "    write.csv(df_loadings, file = file.path(datadir, paste('loadings_', geneset, '.csv', sep = \"\")))\n",
    "\n",
    "\n"
   ]
  },
  {
   "cell_type": "code",
   "execution_count": 50,
   "metadata": {},
   "outputs": [
    {
     "data": {
      "text/plain": [
       "Principal Components Analysis\n",
       "Call: principal(r = data, nfactors = 3)\n",
       "Standardized loadings (pattern matrix) based upon correlation matrix\n",
       "          RC1  RC2   RC3   h2    u2 com\n",
       "FTH1     0.95 0.04 -0.01 0.90 0.100 1.0\n",
       "FTH1P14  0.24 0.68  0.30 0.61 0.392 1.6\n",
       "FTH1P20  0.95 0.15  0.01 0.92 0.083 1.0\n",
       "FTHL17   0.81 0.14 -0.08 0.68 0.324 1.1\n",
       "FTL      0.89 0.01 -0.06 0.80 0.201 1.0\n",
       "FTLP17  -0.11 0.15  0.96 0.95 0.046 1.1\n",
       "FTMT    -0.01 0.90 -0.02 0.82 0.184 1.0\n",
       "\n",
       "                       RC1  RC2  RC3\n",
       "SS loadings           3.30 1.34 1.02\n",
       "Proportion Var        0.47 0.19 0.15\n",
       "Cumulative Var        0.47 0.66 0.81\n",
       "Proportion Explained  0.58 0.24 0.18\n",
       "Cumulative Proportion 0.58 0.82 1.00\n",
       "\n",
       "Mean item complexity =  1.1\n",
       "Test of the hypothesis that 3 components are sufficient.\n",
       "\n",
       "The root mean square of the residuals (RMSR) is  0.08 \n",
       " with the empirical chi square  1081.6  with prob <  3.6e-234 \n",
       "\n",
       "Fit based upon off diagonal values = 0.96"
      ]
     },
     "metadata": {},
     "output_type": "display_data"
    }
   ],
   "source": [
    "PCA"
   ]
  },
  {
   "cell_type": "code",
   "execution_count": null,
   "metadata": {},
   "outputs": [],
   "source": []
  }
 ],
 "metadata": {
  "kernelspec": {
   "display_name": "R",
   "language": "R",
   "name": "ir"
  },
  "language_info": {
   "codemirror_mode": "r",
   "file_extension": ".r",
   "mimetype": "text/x-r-source",
   "name": "R",
   "pygments_lexer": "r",
   "version": "3.6.0"
  }
 },
 "nbformat": 4,
 "nbformat_minor": 2
}
