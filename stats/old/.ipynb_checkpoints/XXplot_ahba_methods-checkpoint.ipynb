{
 "cells": [
  {
   "cell_type": "code",
   "execution_count": 227,
   "metadata": {},
   "outputs": [
    {
     "data": {
      "image/png": "[encoded data removed]",
      "text/plain": [
       "<Figure size 432x288 with 1 Axes>"
      ]
     },
     "metadata": {
      "needs_background": "light"
     },
     "output_type": "display_data"
    }
   ],
   "source": [
    "import os \n",
    "import pandas as pd \n",
    "import seaborn as sns \n",
    "from sklearn.preprocessing import scale\n",
    "import matplotlib.pyplot as plt \n",
    "from matplotlib import colors\n",
    "import numpy as np\n",
    "\n",
    "datadir = '/Users/kanaaax/Google Drive/TS-EUROTRAIN/RESULTS_QSMv3/dataframes/AHBA/ahba_data/'\n",
    "\n",
    "from matplotlib import colors\n",
    "import seaborn as sns \n",
    "from sklearn.preprocessing import scale\n",
    "import matplotlib.pyplot as plt \n",
    "from matplotlib import colors\n",
    "\n",
    "cmap_drysdale = colors.ListedColormap(['#00ffff', '#00afff','#0000ff', '#260000', '#530000','#fe0000', '#ff6a00',\n",
    "                                           '#ffff00'])\n",
    "\n",
    "cmap_ted = colors.ListedColormap(['#00ffff', '#00afff','#0000ff', '#260000', '#530000','#fe0000', '#ff6a00',\n",
    "                                      '#ffff00', '#ffffff'])\n",
    "\n",
    "cmap_rdbu = colors.ListedColormap(['#d73027', '#fc8d59', '#fee090', '#e0f3f8', '#91bfdb', '#4575b4'][::-1])\n",
    "\n",
    "first = int((128*2)-np.round(255*(1.-0.50)))\n",
    "second = (256-first)\n",
    "colors2 = plt.cm.viridis(np.linspace(0.2, .98, first))\n",
    "colors3 = plt.cm.YlOrRd(np.linspace(0.3, 0.8, second))\n",
    "colors4 = plt.cm.PuBu(np.linspace(0., 0.25, second))\n",
    "cols = np.vstack((colors2,colors3))\n",
    "cmap_gradient = colors.LinearSegmentedColormap.from_list('my_colormap', cols)\n",
    "\n",
    "num = 256\n",
    "gradient = range(num)\n",
    "for x in range(5):\n",
    "    gradient = np.vstack((gradient, gradient))\n",
    "\n",
    "fig, ax = plt.subplots(nrows=1)\n",
    "ax.imshow(gradient, cmap=cmap_gradient, interpolation='nearest')\n",
    "ax.set_axis_off()\n",
    "fig.tight_layout()\n",
    "\n",
    "plt.show()"
   ]
  },
  {
   "cell_type": "code",
   "execution_count": null,
   "metadata": {},
   "outputs": [],
   "source": [
    "# Read AHBA \n",
    "ahba    = pd.read_csv(os.path.join(datadir,'AHBA_20737.csv'), index_col=0)\n",
    "ahba20267_chi = pd.read_csv(os.path.join(datadir,'index/AHBA_20267_index_STR3_MOTOR_tstat_CP_1mm.csv'), index_col=0)\n"
   ]
  },
  {
   "cell_type": "code",
   "execution_count": null,
   "metadata": {},
   "outputs": [],
   "source": [
    "ahba_dir     = '/Users/kanaaax/Google Drive/TS-EUROTRAIN/RESULTS_QSMv3/dataframes/AHBA/'\n",
    "MNI = pd.read_csv(os.path.join(ahba_dir,'QSM_TSTATS/MNI_NIFTI_VALUES_permute_10K_OCT2.csv'), index_col = 0 )\n",
    "MNI_STR3M = MNI['STR3_MOTOR_tstat_CP_1mm'].drop([i for i in MNI.index if i not in ahba20267_chi.index],axis =0)\n",
    "\n",
    "#ahba = pd.concat([ahba,MNI_STR3M],axis=1)"
   ]
  },
  {
   "cell_type": "code",
   "execution_count": null,
   "metadata": {},
   "outputs": [],
   "source": [
    "ahba.loc[14169]['STR3_MOTOR_tstat_CP_1mm']"
   ]
  },
  {
   "cell_type": "code",
   "execution_count": null,
   "metadata": {},
   "outputs": [],
   "source": [
    "glist = ['GABRB2', 'GABRG2', 'GABRA2', 'GABRA4', 'GABRA3', 'GABRA1', 'GABRA6','STR3_MOTOR_tstat_CP_1mm', \n",
    "         'donor','Ontology_4'\n",
    "        ]\n",
    "\n",
    "#glist = ['HTR4', 'HTR6', 'HTR2B', 'HTR2C', 'HTR1B', 'HTR1D', 'GRN4', 'DRD2', 'GABRA3','STR3_MOTOR_tstat_CP_1mm', \n",
    "#         'donor','Ontology_4'\n",
    "#        ]\n",
    "\n",
    "#glist = ['CCR5', 'OPRD1', 'HTR1D', 'GPR183', 'TAS2R9', 'TAS2R7', 'HTR1F', 'SSTR1', 'TAS3R9', 'GRM6', 'GRM7', 'NPY', 'SST', 'FRP3', 'STR3_MOTOR_tstat_CP_1mm', \n",
    "#         'donor','Ontology_4'\n",
    "#        ]\n",
    "\n",
    "df = ahba.drop([i for i in ahba.columns if i not in glist],axis=1)\n",
    "\n",
    "\n",
    "outx = [5058,14161,14169, 13994, 13594]\n",
    "outx = []\n",
    "df['ind'] = ['%s_%s_%s'%(df.loc[i]['donor'], i,df.loc[i]['Ontology_4']) for i in df.index]\n",
    "df = df.drop([i for i in df.index if i not in ahba20267_chi.index]).drop([i for i in df.index if i in outx],axis=0)\n",
    "df = df.set_index('ind').drop([i for i in df.columns if i in ['donor', 'Ontology_4']], axis = 1)\n",
    "del df.index.name"
   ]
  },
  {
   "cell_type": "code",
   "execution_count": null,
   "metadata": {},
   "outputs": [],
   "source": [
    "df_PLOT  = df.T#.iloc[:40].T\n",
    "df_SCALE = (df_PLOT - df_PLOT.mean())/df_PLOT.std()\n",
    "\n",
    "vmin = -3\n",
    "vmax = 3\n",
    "\n",
    "cmap = cmap_gradient\n",
    "f, ax = plt.subplots(figsize=(11, 9))\n",
    "sns.heatmap(df_SCALE, cmap=cmap,vmin=vmin,vmax=vmax, linewidths=.005, square=False)\n",
    "sns.clustermap(df_SCALE,cmap=cmap,vmin=vmin,vmax=vmax, row_cluster=True,col_cluster=True,linewidths=.005)\n",
    "\n"
   ]
  },
  {
   "cell_type": "code",
   "execution_count": null,
   "metadata": {},
   "outputs": [],
   "source": []
  },
  {
   "cell_type": "code",
   "execution_count": null,
   "metadata": {},
   "outputs": [],
   "source": []
  },
  {
   "cell_type": "code",
   "execution_count": null,
   "metadata": {},
   "outputs": [],
   "source": []
  },
  {
   "cell_type": "code",
   "execution_count": null,
   "metadata": {},
   "outputs": [],
   "source": []
  }
 ],
 "metadata": {
  "kernelspec": {
   "display_name": "Python 2",
   "language": "python",
   "name": "python2"
  },
  "language_info": {
   "codemirror_mode": {
    "name": "ipython",
    "version": 2
   },
   "file_extension": ".py",
   "mimetype": "text/x-python",
   "name": "python",
   "nbconvert_exporter": "python",
   "pygments_lexer": "ipython2",
   "version": "2.7.16"
  }
 },
 "nbformat": 4,
 "nbformat_minor": 2
}
