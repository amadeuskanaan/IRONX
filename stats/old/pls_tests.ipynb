{
 "cells": [
  {
   "cell_type": "code",
   "execution_count": null,
   "metadata": {},
   "outputs": [],
   "source": [
    "%matplotlib inline\n",
    "import os\n",
    "import math \n",
    "import numpy as np\n",
    "import pandas as pd \n",
    "import seaborn as sns\n",
    "import random\n",
    "import matplotlib.pyplot as plt\n",
    "import statsmodels.formula.api as smf\n",
    "from scipy.stats import pearsonr, spearmanr, gaussian_kde\n",
    "from sklearn.decomposition import TruncatedSVD, PCA\n",
    "from sklearn.cross_decomposition import PLSRegression\n",
    "from sklearn.preprocessing import scale, StandardScaler\n",
    "from statsmodels.sandbox.stats.multicomp import fdrcorrection0\n",
    "from matplotlib.colors import rgb2hex\n",
    "import warnings\n",
    "sns.set_style('white')\n",
    "pd.options.display.max_rows = 2000\n",
    "pd.options.display.max_columns = 999\n",
    "warnings.filterwarnings('ignore')\n",
    "\n",
    "ahba_dir     = '/Users/kanaaax/Google Drive/TS-EUROTRAIN/RESULTS_QSMv3/dataframes/AHBA/'\n",
    "gsea_dir     = '/Users/kanaaax/Desktop/GSEA'\n",
    "permute_dir  = '/Users/kanaaax/Google Drive/TS-EUROTRAIN/RESULTS_QSMv3/dataframes/permutations'\n",
    "save_fig_dir = '/Users/kanaaax/Google Drive/TS-EUROTRAIN/Papers/2016_QSM_paper/Figures_python_v4'\n",
    "\n",
    "# wells outside the striatal masks \n",
    "wells = [#2371,       # AHBA claustrum, right\n",
    "         #2379,       # AHBA claustrum, left\n",
    "         #159226045,  # AHBA striatum -- out of mask\n",
    "         #160091500   # AHBA septal nuclei, left\n",
    "         ] \n",
    "#housekeeping\n",
    "drop_strings = ['coords_native', 'donor_names', 'struct_id', 'struct_name', 'top_struct', 'Mean', 'Median', 'PC1', 'PC2','PC3', ]\n"
   ]
  },
  {
   "cell_type": "code",
   "execution_count": null,
   "metadata": {},
   "outputs": [],
   "source": [
    "pls1 = pd.read_csv('/Users/kanaaax/Desktop/PLS1_geneWeights2.csv', header=None)\n",
    "pls2 = pd.read_csv('/Users/kanaaax/Desktop/PLS2_geneWeights2.csv', header=None)\n",
    "\n",
    "boot=pls1\n",
    "\n",
    "#fig = plt.figure(figsize=(8, 6))\n",
    "#ax = fig.add_subplot(111)\n",
    "#sns.set_style(\"white\")\n",
    "g = sns.distplot(boot, color='b', hist=1, bins = 30,)\n",
    "\n",
    "#q1=np.percentile(boot, 5)\n",
    "#q2=np.percentile(boot, 95)\n",
    "#plt.axvline(q1, color='k', linestyle='-.', linewidth=1)\n",
    "#plt.axvline(q2, color='k', linestyle='-.', linewidth=1)\n",
    "\n",
    "#sns.despine(left=1)\n",
    "print q1,q2\n",
    "#histtype : {'bar', 'barstacked', 'step', 'stepfilled'}, optional\n"
   ]
  },
  {
   "cell_type": "markdown",
   "metadata": {},
   "source": [
    "\n",
    "PLS analysis is based on extracting the common information between the two data blocks by finding a correlation matrix and linear combinations of variables in both data blocks that have maximum covariance with one another. \n",
    "\n",
    "PLS analysis first calculates a mean-centered matrix using matrices X and Y. Then, singular value decomposition (SVD) is applied on the mean-centered matrix. The outcome of PLS analysis is a set of latent variables that are in fact linear combinations of initial variables of the two data blocks that maximally covary with the corresponding contrasts. More specifically, each latent variable consists of a set of singular values that describe the effect size, as well as a set of singular vectors, or weights, that define the contribution of each initial variable to the latent variables.\n",
    "\n",
    "Finally, the statistical significance of a latent variable is defined by a p-value calculated from permutation test. In addition, bootstrapping is used to assess the reliability of each original variable (e.g. a source at a time point) that contributes to the latent variable. Bootstrap ratios are calculated for each original variable for this purpose. Bootstrap ratio is the ratio of the weights to the standard errors estimated from bootstrapping. Therefore, the larger the magnitude of a bootstrap ratio, the larger the weight (i.e. contribution to the latent variable) and the smaller the standard error (i.e. higher stability) (McIntosh and Lobaugh, 2004, Mišić et al., 2016). Bootstrap ratio can be equivalent to a z-score if we have an approximately normal bootstrap distribution (Efron and Tibshirani, 1986).\n",
    "\n",
    "PLS analysis was explained in general in this section. However, this tutorial assumes that the users are already familiar with basics of PLS analysis. If PLS is new to you or if you want to read more about PLS and its applications in details, please refer to the articles introduced in “References” section.\n",
    "\n",
    "\n",
    "\n",
    "\n",
    "\n"
   ]
  },
  {
   "cell_type": "markdown",
   "metadata": {},
   "source": [
    "### Cortical patterning of abnormal morphometric similarity in psychosis is associated with brain expression of schizophrenia-related genes. - Proc Natl Acad Sci 2019: 201820754. Morgan SE, Seidlitz J, Whitaker KJ, Romero-Garcia R, Clifton NE, Scarpazza C, et al. \n",
    "\n",
    "\n",
    "Transcriptomic Analysis. \n",
    "\n",
    "We used the AHBA transcriptomic dataset with gene expression measurements in six post mortem adult brains (36) (human.brain-map.org) ages 24–57 y. Each tissue sample was assigned to an anatomical structure using the AHBA MRI data for each donor (37). Sam- ples were pooled between bilaterally homologous cortical areas. Regional expression levels for each gene were compiled to form a 308×20, 647 regional transcription matrix (37). Since the AHBA only includes data for the right hemisphere for two subjects, in our analyses relating gene expression to MRI data, we only consider intrahemispheric left hemisphere edges (38). \n",
    "\n",
    "We used PLS to relate the regional morphometric similarity case–control differences (t statistics from the 152 cortical regions in the left hemisphere calculated from intrahemispheric edges only) to the post mortem gene expression measurements for all 20, 647 genes. PLS uses the gene expression measurements (the predictor variables) to predict the regional morphome- tric similarity case-control t statistics from all three datasets (the response variables). The first PLS component (PLS1) is the linear combination of the weighted gene expression scores that have a cortical expression map that is most strongly correlated with the map of case–control morphometric similarity differences. The statistical significance of the variance explained by PLS1 was tested by permuting the response variables 1,000 times. The error in estimating each gene’s PLS1 weight was assessed by bootstrap- ping (resampling with replacement of the 308 cortical regions), and the ratio of the weight of each gene to its bootstrap SE was used to calculate the Z scores and, hence, rank the genes according to their contribution to PLS1 (6). \n",
    "\n",
    "We constructed PPI networks from the genes with PLS1 weights Z>3 and Z<−3 (all FDR<0.05) using STRING version 10.5 (14). Our key results were robust to changing these thresholds to Z>4 and Z<−4 (all FDR<0.01) (SI Appendix, section S8.3). We used DAVID (39, 40) to calculate enrichments of KEGG pathways and GO enrichments of biological processes for genes with Z>3 or Z<−3 using a background gene list of 15,745 brain-expressed genes (SI Appendix, section S8.3) (38).\n",
    "\n",
    "We used a resampling procedure to test for enrichment of PLS-derived\n",
    "gene sets by genes previously associated with schizophrenia by transcrip- tional data (15). The median rank of each risk gene set in the PLS gene list was compared with the median rank of 10,000 randomly selected brain-expressed gene sets (3)."
   ]
  },
  {
   "cell_type": "code",
   "execution_count": 2,
   "metadata": {},
   "outputs": [],
   "source": [
    "###########################################\n",
    "# Read QSM stat maps\n",
    "##########################################\n",
    "MNI = pd.read_csv(os.path.join(ahba_dir,'QSM_TSTATS/MNI_NIFTI_VALUES_permute_10K_OCT2.csv'), index_col = 0 )"
   ]
  },
  {
   "cell_type": "code",
   "execution_count": 3,
   "metadata": {},
   "outputs": [],
   "source": [
    "###########################################\n",
    "# Read expression values of AHBA database  \n",
    "###########################################\n",
    "#AHBA = pd.read_csv(os.path.join(ahba_dir, 'ahba_data', 'AHBA_20737.csv'), index_col = 0)\n",
    "AHBA_REANNOT = pd.read_csv(os.path.join(ahba_dir, 'ahba_data', 'AHBA_reannot.csv'), index_col = 0)"
   ]
  },
  {
   "cell_type": "code",
   "execution_count": 2,
   "metadata": {},
   "outputs": [
    {
     "ename": "NameError",
     "evalue": "name 'MNI' is not defined",
     "output_type": "error",
     "traceback": [
      "\u001b[0;31m---------------------------------------------------------------------------\u001b[0m",
      "\u001b[0;31mNameError\u001b[0m                                 Traceback (most recent call last)",
      "\u001b[0;32m<ipython-input-2-40985aba68ff>\u001b[0m in \u001b[0;36m<module>\u001b[0;34m()\u001b[0m\n\u001b[1;32m      3\u001b[0m \u001b[0;34m\u001b[0m\u001b[0m\n\u001b[1;32m      4\u001b[0m \u001b[0;31m# create qsm t-stat dataframe\u001b[0m\u001b[0;34m\u001b[0m\u001b[0;34m\u001b[0m\u001b[0m\n\u001b[0;32m----> 5\u001b[0;31m \u001b[0mchi\u001b[0m \u001b[0;34m=\u001b[0m \u001b[0mpd\u001b[0m\u001b[0;34m.\u001b[0m\u001b[0mDataFrame\u001b[0m\u001b[0;34m(\u001b[0m\u001b[0mMNI\u001b[0m\u001b[0;34m[\u001b[0m\u001b[0mnucleus\u001b[0m\u001b[0;34m]\u001b[0m\u001b[0;34m.\u001b[0m\u001b[0mdrop\u001b[0m\u001b[0;34m(\u001b[0m\u001b[0mwells\u001b[0m\u001b[0;34m,\u001b[0m \u001b[0maxis\u001b[0m \u001b[0;34m=\u001b[0m\u001b[0;36m0\u001b[0m\u001b[0;34m)\u001b[0m\u001b[0;34m)\u001b[0m\u001b[0;34m.\u001b[0m\u001b[0mdropna\u001b[0m\u001b[0;34m(\u001b[0m\u001b[0;34m)\u001b[0m\u001b[0;34m.\u001b[0m\u001b[0msort_index\u001b[0m\u001b[0;34m(\u001b[0m\u001b[0;34m)\u001b[0m\u001b[0;34m\u001b[0m\u001b[0m\n\u001b[0m\u001b[1;32m      6\u001b[0m \u001b[0;34m\u001b[0m\u001b[0m\n\u001b[1;32m      7\u001b[0m \u001b[0;31m# Create AHBA dataframe\u001b[0m\u001b[0;34m\u001b[0m\u001b[0;34m\u001b[0m\u001b[0m\n",
      "\u001b[0;31mNameError\u001b[0m: name 'MNI' is not defined"
     ]
    }
   ],
   "source": [
    "nucleus = 'STR3_MOTOR_tstat_CP_1mm'\n",
    "\n",
    "\n",
    "# create qsm t-stat dataframe\n",
    "chi = pd.DataFrame(MNI[nucleus].drop(wells, axis =0)).dropna().sort_index()\n",
    "\n",
    "# Create AHBA dataframe \n",
    "genes = AHBA_REANNOT.columns[:-13]\n",
    "ahba  = AHBA_REANNOT.drop([i for i in AHBA_REANNOT.index if i not in chi.index], axis=0).sort_index()\n",
    "ahba  = ahba.drop([i for i in ahba.columns if i not in genes], axis=1)\n",
    "\n",
    "background_genes = pd.read_csv(os.path.join(ahba_dir,'background_gene_list.txt'), sep='\\t').GeneSymbol.values\n",
    "AHBA_BACK = ahba.drop([i for i in ahba.columns if i not in background_genes], axis = 1 )\n",
    "AHBA_BACK = AHBA_BACK.drop([i for i in AHBA_BACK.index if i not in MNI.STR3_MOTOR_tstat_CP_1mm.dropna()],axis =0)\n"
   ]
  },
  {
   "cell_type": "code",
   "execution_count": 3,
   "metadata": {},
   "outputs": [
    {
     "ename": "NameError",
     "evalue": "name 'ahba' is not defined",
     "output_type": "error",
     "traceback": [
      "\u001b[0;31m---------------------------------------------------------------------------\u001b[0m",
      "\u001b[0;31mNameError\u001b[0m                                 Traceback (most recent call last)",
      "\u001b[0;32m<ipython-input-3-d3a109319e75>\u001b[0m in \u001b[0;36m<module>\u001b[0;34m()\u001b[0m\n\u001b[0;32m----> 1\u001b[0;31m \u001b[0;32mprint\u001b[0m \u001b[0mahba\u001b[0m\u001b[0;34m.\u001b[0m\u001b[0mshape\u001b[0m\u001b[0;34m\u001b[0m\u001b[0m\n\u001b[0m\u001b[1;32m      2\u001b[0m \u001b[0;32mprint\u001b[0m \u001b[0mchi\u001b[0m\u001b[0;34m.\u001b[0m\u001b[0mshape\u001b[0m\u001b[0;34m\u001b[0m\u001b[0m\n",
      "\u001b[0;31mNameError\u001b[0m: name 'ahba' is not defined"
     ]
    }
   ],
   "source": [
    "print ahba.shape\n",
    "print chi.shape"
   ]
  },
  {
   "cell_type": "code",
   "execution_count": 6,
   "metadata": {},
   "outputs": [],
   "source": [
    "pls1 = pd.read_csv('/Users/kanaaax/Desktop/PLS1_geneWeights2.csv', header=None)\n",
    "pls2 = pd.read_csv('/Users/kanaaax/Desktop/PLS2_geneWeights2.csv', header=None)\n",
    "\n",
    "boot=pls1\n",
    "\n",
    "#fig = plt.figure(figsize=(8, 6))\n",
    "#ax = fig.add_subplot(111)\n",
    "#sns.set_style(\"white\")\n",
    "g = sns.distplot(boot, color='b', hist=1, bins = 30, norm_hist=1, kde_kws={'linewidth': 0},\n",
    "                hist_kws={\"histtype\": \"barstacked\", \"linewidth\": 0.3,\n",
    "                          \"alpha\": 1, \"color\": \"#FA966B\"})\n",
    "\n",
    "#q1=np.percentile(boot, 5)\n",
    "#q2=np.percentile(boot, 95)\n",
    "#plt.axvline(q1, color='k', linestyle='-.', linewidth=1)\n",
    "#plt.axvline(q2, color='k', linestyle='-.', linewidth=1)\n",
    "\n",
    "#sns.despine(left=1)\n",
    "print q1,q2\n",
    "#histtype : {'bar', 'barstacked', 'step', 'stepfilled'}, optional\n"
   ]
  },
  {
   "cell_type": "code",
   "execution_count": null,
   "metadata": {},
   "outputs": [],
   "source": []
  },
  {
   "cell_type": "code",
   "execution_count": null,
   "metadata": {},
   "outputs": [],
   "source": []
  },
  {
   "cell_type": "code",
   "execution_count": null,
   "metadata": {},
   "outputs": [],
   "source": [
    "z5  = [pls1.loc[i][0] for i in pls1.index if pls1.loc[i][2]  < np.percentile(pls1, 5) ]\n",
    "z95 = [pls1.loc[i][0] for i in pls1.index if pls1.loc[i][2] > np.percentile(pls2, 95)]\n",
    "\n",
    "print len(z5)\n",
    "print len(z95)"
   ]
  },
  {
   "cell_type": "code",
   "execution_count": null,
   "metadata": {},
   "outputs": [],
   "source": []
  },
  {
   "cell_type": "code",
   "execution_count": null,
   "metadata": {},
   "outputs": [],
   "source": [
    "for i in z95:\n",
    "    print i"
   ]
  },
  {
   "cell_type": "code",
   "execution_count": null,
   "metadata": {},
   "outputs": [],
   "source": [
    "pls1rnk=pls1.set_index(0).drop([1],axis=1)\n",
    "pls1rnk\n",
    "pls1rnk.to_csv('/Users/kanaaax/Desktop/pls1rnk.rnk', sep='\\t')"
   ]
  },
  {
   "cell_type": "code",
   "execution_count": null,
   "metadata": {},
   "outputs": [],
   "source": [
    "pls2rnk=pls2.set_index(0).drop([1],axis=1)\n",
    "pls2rnk.to_csv('/Users/kanaaax/Desktop/pls2rnk.rnk', sep='\\t')"
   ]
  },
  {
   "cell_type": "code",
   "execution_count": null,
   "metadata": {},
   "outputs": [],
   "source": []
  }
 ],
 "metadata": {
  "kernelspec": {
   "display_name": "Python 2",
   "language": "python",
   "name": "python2"
  },
  "language_info": {
   "codemirror_mode": {
    "name": "ipython",
    "version": 2
   },
   "file_extension": ".py",
   "mimetype": "text/x-python",
   "name": "python",
   "nbconvert_exporter": "python",
   "pygments_lexer": "ipython2",
   "version": "2.7.16"
  }
 },
 "nbformat": 4,
 "nbformat_minor": 2
}
